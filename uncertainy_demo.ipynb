{
 "cells": [
  {
   "cell_type": "markdown",
   "id": "2d3ad78fe71283d0",
   "metadata": {
    "collapsed": false
   },
   "source": [
    "# Inplementation of Internal State-based Uncertainty Estimation"
   ]
  },
  {
   "cell_type": "markdown",
   "id": "b278c24516568ba0",
   "metadata": {
    "collapsed": false
   },
   "source": [
    "1. 数据集预处理：将不同格式的数据集处理成input+gt的格式，方便判断模型的correctness，这一部分的采用固定不可调整的prompt，即Context: Question: Options: Answer:格式\n",
    "2. 生成回复，为每个模型确定一个prompt，一个max_new_tokens数，然后生成回复\n",
    "3. 计算回复部分的correctness指标，判断模型的回复是否正确\n",
    "4. 计算uncertainty指标，包括PE, LN-PE, SAR, Ours\n",
    "5. 计算AUROC，绘制AUROC/Correctness-Threshold曲线"
   ]
  },
  {
   "cell_type": "code",
   "execution_count": 1,
   "id": "initial_id",
   "metadata": {
    "ExecuteTime": {
     "end_time": "2024-04-04T10:18:33.284363Z",
     "start_time": "2024-04-04T10:18:33.275065Z"
    },
    "collapsed": true,
    "jupyter": {
     "outputs_hidden": true
    }
   },
   "outputs": [
    {
     "name": "stderr",
     "output_type": "stream",
     "text": [
      "/mnt/petrelfs/guoyiqiu/miniconda3/envs/mi/lib/python3.9/site-packages/torch/cuda/__init__.py:611: UserWarning: Can't initialize NVML\n",
      "  warnings.warn(\"Can't initialize NVML\")\n"
     ]
    }
   ],
   "source": [
    "from utils import *\n",
    "\n",
    "datasets.disable_caching()\n",
    "torch.set_grad_enabled(False)\n",
    "\n",
    "# Eval Result Config\n",
    "model_names = [\n",
    "    \"vicuna-7b-v1.1\",\n",
    "    \"vicuna-13b-v1.1\",\n",
    "    \"vicuna-33b-v1.3\",\n",
    "]\n",
    "\n",
    "dst_names = [\n",
    "    \"sciq\",\n",
    "    \"coqa\",\n",
    "    \"triviaqa\",\n",
    "    \"medmcqa\",\n",
    "    \"MedQA-USMLE-4-options\",\n",
    "]\n",
    "\n",
    "c_metrics = [\n",
    "    'rougel',\n",
    "    'sentsim',\n",
    "    'include'\n",
    "]\n",
    "\n",
    "dst_types = [\n",
    "    \"short\",\n",
    "    \"long\",\n",
    "]\n",
    "\n",
    "acc_map = {\n",
    "    \"vicuna-7b-v1.1\": {\n",
    "        \"sciq\": 0.60,\n",
    "        \"coqa\": 0.8,\n",
    "        \"triviaqa\": 0.55,\n",
    "        \"medmcqa\": 0.30,\n",
    "        \"MedQA-USMLE-4-options\": 0.30\n",
    "    },\n",
    "    \"vicuna-13b-v1.1\": {\n",
    "        \"sciq\": 0.0,\n",
    "        \"coqa\": 0.0,\n",
    "        \"triviaqa\": 0.0,\n",
    "        \"medmcqa\": 0.0,\n",
    "        \"MedQA-USMLE-4-options\": 0.0\n",
    "    },\n",
    "    \"vicuna-33b-v1.3\": {\n",
    "        \"sciq\": 0.0,\n",
    "        \"coqa\": 0.0,\n",
    "        \"triviaqa\": 0.0,\n",
    "        \"medmcqa\": 0.0,\n",
    "        \"MedQA-USMLE-4-options\": 0.0\n",
    "    }\n",
    "}\n",
    "\n",
    "model_names_alias = {\n",
    "    \"vicuna-7b-v1.1\": \"Vicuna-7B\",\n",
    "    \"vicuna-13b-v1.1\": \"Vicuna-13B\",\n",
    "    \"vicuna-33b-v1.3\": \"Vicuna-33B\"\n",
    "}\n",
    "\n",
    "dst_names_alias = {\n",
    "    \"sciq\": \"SciQ\",\n",
    "    \"coqa\": \"CoQA\",\n",
    "    \"triviaqa\": \"TriviaQA\",\n",
    "    \"medmcqa\": \"MedMCQA\",\n",
    "    \"MedQA-USMLE-4-options\": \"MedQA\"\n",
    "}\n",
    "\n",
    "u_metric_alias = {\n",
    "    \"u_score_pe\": \"PE\",\n",
    "    \"u_score_ln_pe\": \"LN-PE\",\n",
    "    \"u_score_token_sar\": \"TokenSAR\",\n",
    "    \"u_score_sent_sar\": \"SentSAR\",\n",
    "    \"u_score_sar\": \"SAR\",\n",
    "    \"u_score_ls\": \"LS\",\n",
    "    \"u_score_se\": \"SE\",\n",
    "    \"u_score_ours_mean_soft_rougel\": \"Ours(MSRL)\",\n",
    "    \"u_score_ours_last_soft_rougel\": \"Ours(LSRL)\",\n",
    "    \"u_score_ours_mean_soft_include\": \"Ours(MSIN)\",\n",
    "    \"u_score_ours_last_soft_include\": \"Ours(LSIN)\",\n",
    "    \"u_score_ours_mean_soft_sentsim\": \"Ours(MSSI)\",\n",
    "    \"u_score_ours_last_soft_sentsim\": \"Ours(LSSI)\"\n",
    "\n",
    "}\n",
    "\n",
    "\n",
    "def get_cached_result_path(model_name, dst_name, dst_type, dst_split):\n",
    "    return f\"cached_results/{model_name}/{dst_type}/{dst_name}_{dst_split}\"\n",
    "\n",
    "\n",
    "def get_eval_main_result_path(model_name, dst_name, dst_type):\n",
    "    return f\"eval_results/{model_name}/{dst_name}_{dst_type}\"\n",
    "\n",
    "\n",
    "def get_eval_cross_result_path(model_name, train_dst_name, train_dst_type, test_dst_name, test_dst_type, c_metric):\n",
    "    return f\"cross_eval_results/{model_name}/{c_metric}/v_c_{train_dst_name}_{train_dst_type}_mean_soft_best.pth/{test_dst_name}_{test_dst_type}\"\n",
    "\n",
    "\n",
    "def get_c_th_by_acc(test_dst, c_metric, acc):\n",
    "    sorted_c_scores = sorted(list(test_dst[c_metric]), reverse=True)\n",
    "    c_th = sorted_c_scores[int(len(sorted_c_scores) * acc)]\n",
    "    return c_th\n",
    "\n",
    "\n",
    "def show_dst_case(test_dst):\n",
    "    print(test_dst.column_names)\n",
    "    for i in range(0, 10):\n",
    "        for k in ['washed_answer', 'gt', 'options', 'include']:\n",
    "            print(f\"{k}: {test_dst[i][k]}\")\n",
    "        print()\n",
    "\n",
    "\n",
    "def get_acc_by_c_th(test_dst, c_metric, c_th):\n",
    "    return sum([1 if s > c_th else 0 for s in test_dst[c_metric]]) / len(test_dst)"
   ]
  },
  {
   "cell_type": "code",
   "execution_count": 4,
   "id": "cbcb7d017f0b9170",
   "metadata": {
    "ExecuteTime": {
     "end_time": "2024-04-04T08:02:46.586316Z",
     "start_time": "2024-04-04T08:02:39.962342Z"
    },
    "collapsed": false
   },
   "outputs": [
    {
     "name": "stdout",
     "output_type": "stream",
     "text": [
      "20000\n"
     ]
    },
    {
     "data": {
      "application/vnd.jupyter.widget-view+json": {
       "model_id": "565c96f914fe430fbcb0482ce4d80a74",
       "version_major": 2,
       "version_minor": 0
      },
      "text/plain": [
       "Saving the dataset (0/1 shards):   0%|          | 0/20000 [00:00<?, ? examples/s]"
      ]
     },
     "metadata": {},
     "output_type": "display_data"
    },
    {
     "name": "stdout",
     "output_type": "stream",
     "text": [
      "Save Merged Dataset to cached_results/vicuna-7b-v1.1/merged/all_train\n",
      "1000\n"
     ]
    },
    {
     "data": {
      "application/vnd.jupyter.widget-view+json": {
       "model_id": "8673d919d5294bc78b9538c14f39d245",
       "version_major": 2,
       "version_minor": 0
      },
      "text/plain": [
       "Saving the dataset (0/1 shards):   0%|          | 0/1000 [00:00<?, ? examples/s]"
      ]
     },
     "metadata": {},
     "output_type": "display_data"
    },
    {
     "name": "stdout",
     "output_type": "stream",
     "text": [
      "Save Merged Dataset to cached_results/vicuna-7b-v1.1/merged/all_validation\n"
     ]
    }
   ],
   "source": [
    "# Merge Train Dataset\n",
    "model_name = 'vicuna-7b-v1.1'\n",
    "train_size_per_dataset = 2000\n",
    "val_size_per_dataset = 100\n",
    "\n",
    "\n",
    "def merge_dst(model_name, dst_names, dst_types, dst_split, data_size):\n",
    "    all_dst = [Dataset.load_from_disk(get_cached_result_path(model_name, dst_name, dst_type, dst_split)) for dst_name in dst_names for dst_type in dst_types]\n",
    "\n",
    "    all_columns = ['dst_template', 'question', 'input', 'gt', 'options', 'answer', 'output']\n",
    "\n",
    "    def fill_missing_columns(dst: Dataset):\n",
    "        for column in dst.column_names:\n",
    "            if column not in all_columns:\n",
    "                dst = dst.remove_columns(column)\n",
    "        if 'options' not in dst.column_names:\n",
    "            dst = dst.add_column('options', [['#####'] for i in range(len(dst))])\n",
    "        return dst\n",
    "\n",
    "    all_dst = [dst if len(dst) <= data_size else dst.select(range(data_size)) for dst in all_dst]\n",
    "    all_dst = [fill_missing_columns(dst) for dst in all_dst]\n",
    "    merged_dst = datasets.concatenate_datasets(all_dst)\n",
    "    print(len(merged_dst))\n",
    "    save_path = get_cached_result_path(model_name, 'all', 'merged', dst_split)\n",
    "    os.makedirs(save_path, exist_ok=True)\n",
    "    merged_dst.save_to_disk(save_path)\n",
    "    print(f\"Save Merged Dataset to {save_path}\")\n",
    "\n",
    "\n",
    "# merge_dst(model_name, dst_names, dst_types, 'train', train_size_per_dataset)\n",
    "# merge_dst(model_name, dst_names, dst_types, 'validation', val_size_per_dataset)"
   ]
  },
  {
   "cell_type": "code",
   "execution_count": 45,
   "id": "61e02693",
   "metadata": {
    "ExecuteTime": {
     "end_time": "2024-04-04T10:20:23.147537Z",
     "start_time": "2024-04-04T10:20:22.160301Z"
    }
   },
   "outputs": [
    {
     "name": "stdout",
     "output_type": "stream",
     "text": [
      "Correctness Metric: include Threshold: 0.3 AUROC Results\n",
      "Short Prompt Main Result:\n"
     ]
    },
    {
     "data": {
      "text/html": [
       "<div>\n",
       "<style scoped>\n",
       "    .dataframe tbody tr th:only-of-type {\n",
       "        vertical-align: middle;\n",
       "    }\n",
       "\n",
       "    .dataframe tbody tr th {\n",
       "        vertical-align: top;\n",
       "    }\n",
       "\n",
       "    .dataframe thead th {\n",
       "        text-align: right;\n",
       "    }\n",
       "</style>\n",
       "<table border=\"1\" class=\"dataframe\">\n",
       "  <thead>\n",
       "    <tr style=\"text-align: right;\">\n",
       "      <th></th>\n",
       "      <th></th>\n",
       "      <th>ACC</th>\n",
       "      <th>PE</th>\n",
       "      <th>LN-PE</th>\n",
       "      <th>TokenSAR</th>\n",
       "      <th>SentSAR</th>\n",
       "      <th>SAR</th>\n",
       "      <th>LS</th>\n",
       "      <th>SE</th>\n",
       "      <th>Ours(MSIN)</th>\n",
       "      <th>Ours(LSIN)</th>\n",
       "    </tr>\n",
       "    <tr>\n",
       "      <th>Model</th>\n",
       "      <th>Dataset</th>\n",
       "      <th></th>\n",
       "      <th></th>\n",
       "      <th></th>\n",
       "      <th></th>\n",
       "      <th></th>\n",
       "      <th></th>\n",
       "      <th></th>\n",
       "      <th></th>\n",
       "      <th></th>\n",
       "      <th></th>\n",
       "    </tr>\n",
       "  </thead>\n",
       "  <tbody>\n",
       "    <tr>\n",
       "      <th rowspan=\"5\" valign=\"top\">Vicuna-7B</th>\n",
       "      <th>SciQ</th>\n",
       "      <td>64.9</td>\n",
       "      <td>29.391262</td>\n",
       "      <td>41.410191</td>\n",
       "      <td>44.585797</td>\n",
       "      <td>30.682751</td>\n",
       "      <td>37.240506</td>\n",
       "      <td>65.970219</td>\n",
       "      <td>29.431648</td>\n",
       "      <td>77.883134</td>\n",
       "      <td>76.292697</td>\n",
       "    </tr>\n",
       "    <tr>\n",
       "      <th>CoQA</th>\n",
       "      <td>68.2</td>\n",
       "      <td>35.083642</td>\n",
       "      <td>47.118169</td>\n",
       "      <td>48.082775</td>\n",
       "      <td>33.491949</td>\n",
       "      <td>43.827809</td>\n",
       "      <td>60.846751</td>\n",
       "      <td>43.827809</td>\n",
       "      <td>67.980782</td>\n",
       "      <td>62.625648</td>\n",
       "    </tr>\n",
       "    <tr>\n",
       "      <th>TriviaQA</th>\n",
       "      <td>36.3</td>\n",
       "      <td>25.849908</td>\n",
       "      <td>27.537181</td>\n",
       "      <td>27.638811</td>\n",
       "      <td>25.951970</td>\n",
       "      <td>26.458390</td>\n",
       "      <td>69.045889</td>\n",
       "      <td>26.082792</td>\n",
       "      <td>69.028374</td>\n",
       "      <td>66.081105</td>\n",
       "    </tr>\n",
       "    <tr>\n",
       "      <th>MedMCQA</th>\n",
       "      <td>19.0</td>\n",
       "      <td>36.008122</td>\n",
       "      <td>48.321637</td>\n",
       "      <td>50.280052</td>\n",
       "      <td>35.152697</td>\n",
       "      <td>46.276803</td>\n",
       "      <td>57.399610</td>\n",
       "      <td>38.456790</td>\n",
       "      <td>69.538012</td>\n",
       "      <td>64.716374</td>\n",
       "    </tr>\n",
       "    <tr>\n",
       "      <th>MedQA</th>\n",
       "      <td>22.8</td>\n",
       "      <td>46.921303</td>\n",
       "      <td>49.607422</td>\n",
       "      <td>49.439256</td>\n",
       "      <td>44.972616</td>\n",
       "      <td>48.660917</td>\n",
       "      <td>49.752863</td>\n",
       "      <td>48.099036</td>\n",
       "      <td>63.744489</td>\n",
       "      <td>54.267510</td>\n",
       "    </tr>\n",
       "    <tr>\n",
       "      <th rowspan=\"5\" valign=\"top\">Vicuna-13B</th>\n",
       "      <th>SciQ</th>\n",
       "      <td>0.0</td>\n",
       "      <td>0.000000</td>\n",
       "      <td>0.000000</td>\n",
       "      <td>0.000000</td>\n",
       "      <td>0.000000</td>\n",
       "      <td>0.000000</td>\n",
       "      <td>0.000000</td>\n",
       "      <td>0.000000</td>\n",
       "      <td>0.000000</td>\n",
       "      <td>0.000000</td>\n",
       "    </tr>\n",
       "    <tr>\n",
       "      <th>CoQA</th>\n",
       "      <td>0.0</td>\n",
       "      <td>0.000000</td>\n",
       "      <td>0.000000</td>\n",
       "      <td>0.000000</td>\n",
       "      <td>0.000000</td>\n",
       "      <td>0.000000</td>\n",
       "      <td>0.000000</td>\n",
       "      <td>0.000000</td>\n",
       "      <td>0.000000</td>\n",
       "      <td>0.000000</td>\n",
       "    </tr>\n",
       "    <tr>\n",
       "      <th>TriviaQA</th>\n",
       "      <td>0.0</td>\n",
       "      <td>0.000000</td>\n",
       "      <td>0.000000</td>\n",
       "      <td>0.000000</td>\n",
       "      <td>0.000000</td>\n",
       "      <td>0.000000</td>\n",
       "      <td>0.000000</td>\n",
       "      <td>0.000000</td>\n",
       "      <td>0.000000</td>\n",
       "      <td>0.000000</td>\n",
       "    </tr>\n",
       "    <tr>\n",
       "      <th>MedMCQA</th>\n",
       "      <td>0.0</td>\n",
       "      <td>0.000000</td>\n",
       "      <td>0.000000</td>\n",
       "      <td>0.000000</td>\n",
       "      <td>0.000000</td>\n",
       "      <td>0.000000</td>\n",
       "      <td>0.000000</td>\n",
       "      <td>0.000000</td>\n",
       "      <td>0.000000</td>\n",
       "      <td>0.000000</td>\n",
       "    </tr>\n",
       "    <tr>\n",
       "      <th>MedQA</th>\n",
       "      <td>0.0</td>\n",
       "      <td>0.000000</td>\n",
       "      <td>0.000000</td>\n",
       "      <td>0.000000</td>\n",
       "      <td>0.000000</td>\n",
       "      <td>0.000000</td>\n",
       "      <td>0.000000</td>\n",
       "      <td>0.000000</td>\n",
       "      <td>0.000000</td>\n",
       "      <td>0.000000</td>\n",
       "    </tr>\n",
       "    <tr>\n",
       "      <th rowspan=\"5\" valign=\"top\">Vicuna-33B</th>\n",
       "      <th>SciQ</th>\n",
       "      <td>0.0</td>\n",
       "      <td>0.000000</td>\n",
       "      <td>0.000000</td>\n",
       "      <td>0.000000</td>\n",
       "      <td>0.000000</td>\n",
       "      <td>0.000000</td>\n",
       "      <td>0.000000</td>\n",
       "      <td>0.000000</td>\n",
       "      <td>0.000000</td>\n",
       "      <td>0.000000</td>\n",
       "    </tr>\n",
       "    <tr>\n",
       "      <th>CoQA</th>\n",
       "      <td>0.0</td>\n",
       "      <td>0.000000</td>\n",
       "      <td>0.000000</td>\n",
       "      <td>0.000000</td>\n",
       "      <td>0.000000</td>\n",
       "      <td>0.000000</td>\n",
       "      <td>0.000000</td>\n",
       "      <td>0.000000</td>\n",
       "      <td>0.000000</td>\n",
       "      <td>0.000000</td>\n",
       "    </tr>\n",
       "    <tr>\n",
       "      <th>TriviaQA</th>\n",
       "      <td>0.0</td>\n",
       "      <td>0.000000</td>\n",
       "      <td>0.000000</td>\n",
       "      <td>0.000000</td>\n",
       "      <td>0.000000</td>\n",
       "      <td>0.000000</td>\n",
       "      <td>0.000000</td>\n",
       "      <td>0.000000</td>\n",
       "      <td>0.000000</td>\n",
       "      <td>0.000000</td>\n",
       "    </tr>\n",
       "    <tr>\n",
       "      <th>MedMCQA</th>\n",
       "      <td>0.0</td>\n",
       "      <td>0.000000</td>\n",
       "      <td>0.000000</td>\n",
       "      <td>0.000000</td>\n",
       "      <td>0.000000</td>\n",
       "      <td>0.000000</td>\n",
       "      <td>0.000000</td>\n",
       "      <td>0.000000</td>\n",
       "      <td>0.000000</td>\n",
       "      <td>0.000000</td>\n",
       "    </tr>\n",
       "    <tr>\n",
       "      <th>MedQA</th>\n",
       "      <td>0.0</td>\n",
       "      <td>0.000000</td>\n",
       "      <td>0.000000</td>\n",
       "      <td>0.000000</td>\n",
       "      <td>0.000000</td>\n",
       "      <td>0.000000</td>\n",
       "      <td>0.000000</td>\n",
       "      <td>0.000000</td>\n",
       "      <td>0.000000</td>\n",
       "      <td>0.000000</td>\n",
       "    </tr>\n",
       "  </tbody>\n",
       "</table>\n",
       "</div>"
      ],
      "text/plain": [
       "                      ACC         PE      LN-PE   TokenSAR    SentSAR  \\\n",
       "Model      Dataset                                                      \n",
       "Vicuna-7B  SciQ      64.9  29.391262  41.410191  44.585797  30.682751   \n",
       "           CoQA      68.2  35.083642  47.118169  48.082775  33.491949   \n",
       "           TriviaQA  36.3  25.849908  27.537181  27.638811  25.951970   \n",
       "           MedMCQA   19.0  36.008122  48.321637  50.280052  35.152697   \n",
       "           MedQA     22.8  46.921303  49.607422  49.439256  44.972616   \n",
       "Vicuna-13B SciQ       0.0   0.000000   0.000000   0.000000   0.000000   \n",
       "           CoQA       0.0   0.000000   0.000000   0.000000   0.000000   \n",
       "           TriviaQA   0.0   0.000000   0.000000   0.000000   0.000000   \n",
       "           MedMCQA    0.0   0.000000   0.000000   0.000000   0.000000   \n",
       "           MedQA      0.0   0.000000   0.000000   0.000000   0.000000   \n",
       "Vicuna-33B SciQ       0.0   0.000000   0.000000   0.000000   0.000000   \n",
       "           CoQA       0.0   0.000000   0.000000   0.000000   0.000000   \n",
       "           TriviaQA   0.0   0.000000   0.000000   0.000000   0.000000   \n",
       "           MedMCQA    0.0   0.000000   0.000000   0.000000   0.000000   \n",
       "           MedQA      0.0   0.000000   0.000000   0.000000   0.000000   \n",
       "\n",
       "                           SAR         LS         SE  Ours(MSIN)  Ours(LSIN)  \n",
       "Model      Dataset                                                            \n",
       "Vicuna-7B  SciQ      37.240506  65.970219  29.431648   77.883134   76.292697  \n",
       "           CoQA      43.827809  60.846751  43.827809   67.980782   62.625648  \n",
       "           TriviaQA  26.458390  69.045889  26.082792   69.028374   66.081105  \n",
       "           MedMCQA   46.276803  57.399610  38.456790   69.538012   64.716374  \n",
       "           MedQA     48.660917  49.752863  48.099036   63.744489   54.267510  \n",
       "Vicuna-13B SciQ       0.000000   0.000000   0.000000    0.000000    0.000000  \n",
       "           CoQA       0.000000   0.000000   0.000000    0.000000    0.000000  \n",
       "           TriviaQA   0.000000   0.000000   0.000000    0.000000    0.000000  \n",
       "           MedMCQA    0.000000   0.000000   0.000000    0.000000    0.000000  \n",
       "           MedQA      0.000000   0.000000   0.000000    0.000000    0.000000  \n",
       "Vicuna-33B SciQ       0.000000   0.000000   0.000000    0.000000    0.000000  \n",
       "           CoQA       0.000000   0.000000   0.000000    0.000000    0.000000  \n",
       "           TriviaQA   0.000000   0.000000   0.000000    0.000000    0.000000  \n",
       "           MedMCQA    0.000000   0.000000   0.000000    0.000000    0.000000  \n",
       "           MedQA      0.000000   0.000000   0.000000    0.000000    0.000000  "
      ]
     },
     "metadata": {},
     "output_type": "display_data"
    },
    {
     "name": "stdout",
     "output_type": "stream",
     "text": [
      "Long Prompt Main Result:\n"
     ]
    },
    {
     "data": {
      "text/html": [
       "<div>\n",
       "<style scoped>\n",
       "    .dataframe tbody tr th:only-of-type {\n",
       "        vertical-align: middle;\n",
       "    }\n",
       "\n",
       "    .dataframe tbody tr th {\n",
       "        vertical-align: top;\n",
       "    }\n",
       "\n",
       "    .dataframe thead th {\n",
       "        text-align: right;\n",
       "    }\n",
       "</style>\n",
       "<table border=\"1\" class=\"dataframe\">\n",
       "  <thead>\n",
       "    <tr style=\"text-align: right;\">\n",
       "      <th></th>\n",
       "      <th></th>\n",
       "      <th>ACC</th>\n",
       "      <th>PE</th>\n",
       "      <th>LN-PE</th>\n",
       "      <th>TokenSAR</th>\n",
       "      <th>SentSAR</th>\n",
       "      <th>SAR</th>\n",
       "      <th>LS</th>\n",
       "      <th>SE</th>\n",
       "      <th>Ours(MSIN)</th>\n",
       "      <th>Ours(LSIN)</th>\n",
       "    </tr>\n",
       "    <tr>\n",
       "      <th>Model</th>\n",
       "      <th>Dataset</th>\n",
       "      <th></th>\n",
       "      <th></th>\n",
       "      <th></th>\n",
       "      <th></th>\n",
       "      <th></th>\n",
       "      <th></th>\n",
       "      <th></th>\n",
       "      <th></th>\n",
       "      <th></th>\n",
       "      <th></th>\n",
       "    </tr>\n",
       "  </thead>\n",
       "  <tbody>\n",
       "    <tr>\n",
       "      <th rowspan=\"5\" valign=\"top\">Vicuna-7B</th>\n",
       "      <th>SciQ</th>\n",
       "      <td>66.4</td>\n",
       "      <td>35.535894</td>\n",
       "      <td>47.704210</td>\n",
       "      <td>43.572953</td>\n",
       "      <td>36.383929</td>\n",
       "      <td>39.945048</td>\n",
       "      <td>61.079810</td>\n",
       "      <td>61.724129</td>\n",
       "      <td>74.628873</td>\n",
       "      <td>76.556001</td>\n",
       "    </tr>\n",
       "    <tr>\n",
       "      <th>CoQA</th>\n",
       "      <td>63.2</td>\n",
       "      <td>40.189873</td>\n",
       "      <td>48.161461</td>\n",
       "      <td>48.768575</td>\n",
       "      <td>40.066043</td>\n",
       "      <td>48.073748</td>\n",
       "      <td>57.899353</td>\n",
       "      <td>59.589983</td>\n",
       "      <td>72.203495</td>\n",
       "      <td>67.323370</td>\n",
       "    </tr>\n",
       "    <tr>\n",
       "      <th>TriviaQA</th>\n",
       "      <td>31.0</td>\n",
       "      <td>32.229547</td>\n",
       "      <td>56.373072</td>\n",
       "      <td>57.310893</td>\n",
       "      <td>34.487611</td>\n",
       "      <td>48.880318</td>\n",
       "      <td>71.531089</td>\n",
       "      <td>57.240767</td>\n",
       "      <td>77.067321</td>\n",
       "      <td>77.943198</td>\n",
       "    </tr>\n",
       "    <tr>\n",
       "      <th>MedMCQA</th>\n",
       "      <td>18.2</td>\n",
       "      <td>38.280179</td>\n",
       "      <td>47.716220</td>\n",
       "      <td>46.256616</td>\n",
       "      <td>38.862543</td>\n",
       "      <td>43.508692</td>\n",
       "      <td>63.210323</td>\n",
       "      <td>60.729063</td>\n",
       "      <td>69.064859</td>\n",
       "      <td>64.900656</td>\n",
       "    </tr>\n",
       "    <tr>\n",
       "      <th>MedQA</th>\n",
       "      <td>21.5</td>\n",
       "      <td>36.254777</td>\n",
       "      <td>47.194786</td>\n",
       "      <td>45.922678</td>\n",
       "      <td>36.793364</td>\n",
       "      <td>39.849800</td>\n",
       "      <td>62.509850</td>\n",
       "      <td>61.588505</td>\n",
       "      <td>73.482151</td>\n",
       "      <td>68.652348</td>\n",
       "    </tr>\n",
       "    <tr>\n",
       "      <th rowspan=\"5\" valign=\"top\">Vicuna-13B</th>\n",
       "      <th>SciQ</th>\n",
       "      <td>0.0</td>\n",
       "      <td>0.000000</td>\n",
       "      <td>0.000000</td>\n",
       "      <td>0.000000</td>\n",
       "      <td>0.000000</td>\n",
       "      <td>0.000000</td>\n",
       "      <td>0.000000</td>\n",
       "      <td>0.000000</td>\n",
       "      <td>0.000000</td>\n",
       "      <td>0.000000</td>\n",
       "    </tr>\n",
       "    <tr>\n",
       "      <th>CoQA</th>\n",
       "      <td>0.0</td>\n",
       "      <td>0.000000</td>\n",
       "      <td>0.000000</td>\n",
       "      <td>0.000000</td>\n",
       "      <td>0.000000</td>\n",
       "      <td>0.000000</td>\n",
       "      <td>0.000000</td>\n",
       "      <td>0.000000</td>\n",
       "      <td>0.000000</td>\n",
       "      <td>0.000000</td>\n",
       "    </tr>\n",
       "    <tr>\n",
       "      <th>TriviaQA</th>\n",
       "      <td>0.0</td>\n",
       "      <td>0.000000</td>\n",
       "      <td>0.000000</td>\n",
       "      <td>0.000000</td>\n",
       "      <td>0.000000</td>\n",
       "      <td>0.000000</td>\n",
       "      <td>0.000000</td>\n",
       "      <td>0.000000</td>\n",
       "      <td>0.000000</td>\n",
       "      <td>0.000000</td>\n",
       "    </tr>\n",
       "    <tr>\n",
       "      <th>MedMCQA</th>\n",
       "      <td>0.0</td>\n",
       "      <td>0.000000</td>\n",
       "      <td>0.000000</td>\n",
       "      <td>0.000000</td>\n",
       "      <td>0.000000</td>\n",
       "      <td>0.000000</td>\n",
       "      <td>0.000000</td>\n",
       "      <td>0.000000</td>\n",
       "      <td>0.000000</td>\n",
       "      <td>0.000000</td>\n",
       "    </tr>\n",
       "    <tr>\n",
       "      <th>MedQA</th>\n",
       "      <td>0.0</td>\n",
       "      <td>0.000000</td>\n",
       "      <td>0.000000</td>\n",
       "      <td>0.000000</td>\n",
       "      <td>0.000000</td>\n",
       "      <td>0.000000</td>\n",
       "      <td>0.000000</td>\n",
       "      <td>0.000000</td>\n",
       "      <td>0.000000</td>\n",
       "      <td>0.000000</td>\n",
       "    </tr>\n",
       "    <tr>\n",
       "      <th rowspan=\"5\" valign=\"top\">Vicuna-33B</th>\n",
       "      <th>SciQ</th>\n",
       "      <td>0.0</td>\n",
       "      <td>0.000000</td>\n",
       "      <td>0.000000</td>\n",
       "      <td>0.000000</td>\n",
       "      <td>0.000000</td>\n",
       "      <td>0.000000</td>\n",
       "      <td>0.000000</td>\n",
       "      <td>0.000000</td>\n",
       "      <td>0.000000</td>\n",
       "      <td>0.000000</td>\n",
       "    </tr>\n",
       "    <tr>\n",
       "      <th>CoQA</th>\n",
       "      <td>0.0</td>\n",
       "      <td>0.000000</td>\n",
       "      <td>0.000000</td>\n",
       "      <td>0.000000</td>\n",
       "      <td>0.000000</td>\n",
       "      <td>0.000000</td>\n",
       "      <td>0.000000</td>\n",
       "      <td>0.000000</td>\n",
       "      <td>0.000000</td>\n",
       "      <td>0.000000</td>\n",
       "    </tr>\n",
       "    <tr>\n",
       "      <th>TriviaQA</th>\n",
       "      <td>0.0</td>\n",
       "      <td>0.000000</td>\n",
       "      <td>0.000000</td>\n",
       "      <td>0.000000</td>\n",
       "      <td>0.000000</td>\n",
       "      <td>0.000000</td>\n",
       "      <td>0.000000</td>\n",
       "      <td>0.000000</td>\n",
       "      <td>0.000000</td>\n",
       "      <td>0.000000</td>\n",
       "    </tr>\n",
       "    <tr>\n",
       "      <th>MedMCQA</th>\n",
       "      <td>0.0</td>\n",
       "      <td>0.000000</td>\n",
       "      <td>0.000000</td>\n",
       "      <td>0.000000</td>\n",
       "      <td>0.000000</td>\n",
       "      <td>0.000000</td>\n",
       "      <td>0.000000</td>\n",
       "      <td>0.000000</td>\n",
       "      <td>0.000000</td>\n",
       "      <td>0.000000</td>\n",
       "    </tr>\n",
       "    <tr>\n",
       "      <th>MedQA</th>\n",
       "      <td>0.0</td>\n",
       "      <td>0.000000</td>\n",
       "      <td>0.000000</td>\n",
       "      <td>0.000000</td>\n",
       "      <td>0.000000</td>\n",
       "      <td>0.000000</td>\n",
       "      <td>0.000000</td>\n",
       "      <td>0.000000</td>\n",
       "      <td>0.000000</td>\n",
       "      <td>0.000000</td>\n",
       "    </tr>\n",
       "  </tbody>\n",
       "</table>\n",
       "</div>"
      ],
      "text/plain": [
       "                      ACC         PE      LN-PE   TokenSAR    SentSAR  \\\n",
       "Model      Dataset                                                      \n",
       "Vicuna-7B  SciQ      66.4  35.535894  47.704210  43.572953  36.383929   \n",
       "           CoQA      63.2  40.189873  48.161461  48.768575  40.066043   \n",
       "           TriviaQA  31.0  32.229547  56.373072  57.310893  34.487611   \n",
       "           MedMCQA   18.2  38.280179  47.716220  46.256616  38.862543   \n",
       "           MedQA     21.5  36.254777  47.194786  45.922678  36.793364   \n",
       "Vicuna-13B SciQ       0.0   0.000000   0.000000   0.000000   0.000000   \n",
       "           CoQA       0.0   0.000000   0.000000   0.000000   0.000000   \n",
       "           TriviaQA   0.0   0.000000   0.000000   0.000000   0.000000   \n",
       "           MedMCQA    0.0   0.000000   0.000000   0.000000   0.000000   \n",
       "           MedQA      0.0   0.000000   0.000000   0.000000   0.000000   \n",
       "Vicuna-33B SciQ       0.0   0.000000   0.000000   0.000000   0.000000   \n",
       "           CoQA       0.0   0.000000   0.000000   0.000000   0.000000   \n",
       "           TriviaQA   0.0   0.000000   0.000000   0.000000   0.000000   \n",
       "           MedMCQA    0.0   0.000000   0.000000   0.000000   0.000000   \n",
       "           MedQA      0.0   0.000000   0.000000   0.000000   0.000000   \n",
       "\n",
       "                           SAR         LS         SE  Ours(MSIN)  Ours(LSIN)  \n",
       "Model      Dataset                                                            \n",
       "Vicuna-7B  SciQ      39.945048  61.079810  61.724129   74.628873   76.556001  \n",
       "           CoQA      48.073748  57.899353  59.589983   72.203495   67.323370  \n",
       "           TriviaQA  48.880318  71.531089  57.240767   77.067321   77.943198  \n",
       "           MedMCQA   43.508692  63.210323  60.729063   69.064859   64.900656  \n",
       "           MedQA     39.849800  62.509850  61.588505   73.482151   68.652348  \n",
       "Vicuna-13B SciQ       0.000000   0.000000   0.000000    0.000000    0.000000  \n",
       "           CoQA       0.000000   0.000000   0.000000    0.000000    0.000000  \n",
       "           TriviaQA   0.000000   0.000000   0.000000    0.000000    0.000000  \n",
       "           MedMCQA    0.000000   0.000000   0.000000    0.000000    0.000000  \n",
       "           MedQA      0.000000   0.000000   0.000000    0.000000    0.000000  \n",
       "Vicuna-33B SciQ       0.000000   0.000000   0.000000    0.000000    0.000000  \n",
       "           CoQA       0.000000   0.000000   0.000000    0.000000    0.000000  \n",
       "           TriviaQA   0.000000   0.000000   0.000000    0.000000    0.000000  \n",
       "           MedMCQA    0.000000   0.000000   0.000000    0.000000    0.000000  \n",
       "           MedQA      0.000000   0.000000   0.000000    0.000000    0.000000  "
      ]
     },
     "metadata": {},
     "output_type": "display_data"
    }
   ],
   "source": [
    "# Main Results: Get Main Results\n",
    "\n",
    "c_metric = 'include'\n",
    "c_th = 0.3\n",
    "\n",
    "model_names_index = [model_names_alias[name] for name in model_names for i in range(len(dst_names))]\n",
    "dst_names_index = [dst_names_alias[name] for name in dst_names] * len(model_names)\n",
    "multi_index = pd.MultiIndex.from_tuples(zip(model_names_index, dst_names_index), names=['Model', 'Dataset'])\n",
    "columns = ['ACC'] + [alias for u_metric, alias in u_metric_alias.items() if (c_metric in u_metric) or 'ours' not in u_metric]\n",
    "main_results_short = pd.DataFrame(columns=columns, index=multi_index).astype(float)\n",
    "main_results_long = deepcopy(main_results_short)\n",
    "\n",
    "for model_name in model_names:\n",
    "    for dst_name in dst_names:\n",
    "        for dst_type in dst_types:\n",
    "            new_row = {k: 0. for k in main_results_short.columns}\n",
    "            result_path = get_eval_main_result_path(model_name, dst_name, dst_type)\n",
    "            if os.path.exists(result_path):\n",
    "                test_dst = Dataset.load_from_disk(result_path)\n",
    "                new_row['ACC'] = get_acc_by_c_th(test_dst, c_metric, c_th) * 100\n",
    "                for u_metric, u_metric_name in u_metric_alias.items():\n",
    "                    if u_metric_name in columns and u_metric in test_dst.column_names:\n",
    "                        new_row[u_metric_name] = get_auroc(test_dst, u_metric, c_metric, c_th) * 100\n",
    "            result = main_results_short if dst_type == 'short' else main_results_long\n",
    "            result.loc[(model_names_alias[model_name], dst_names_alias[dst_name])] = new_row\n",
    "\n",
    "print(f\"Correctness Metric: {c_metric} Threshold: {c_th} AUROC Results\")\n",
    "print(\"Short Prompt Main Result:\")\n",
    "display(main_results_short)\n",
    "\n",
    "print(\"Long Prompt Main Result:\")\n",
    "display(main_results_long)\n",
    "\n",
    "# print(main_results_short.to_latex(index=True, float_format=\"%.2f\"))\n",
    "# print(main_results_long.to_latex(index=True, float_format=\"%.2f\"))"
   ]
  },
  {
   "cell_type": "code",
   "execution_count": 42,
   "id": "635415cfed8278ee",
   "metadata": {
    "ExecuteTime": {
     "end_time": "2024-04-04T10:19:06.580719Z",
     "start_time": "2024-04-04T10:18:52.006043Z"
    },
    "collapsed": false
   },
   "outputs": [
    {
     "data": {
      "application/vnd.plotly.v1+json": {
       "config": {
        "plotlyServerURL": "https://plot.ly"
       },
       "data": [
        {
         "colorscale": [
          [
           0,
           "#000004"
          ],
          [
           0.1111111111111111,
           "#1b0c41"
          ],
          [
           0.2222222222222222,
           "#4a0c6b"
          ],
          [
           0.3333333333333333,
           "#781c6d"
          ],
          [
           0.4444444444444444,
           "#a52c60"
          ],
          [
           0.5555555555555556,
           "#cf4446"
          ],
          [
           0.6666666666666666,
           "#ed6925"
          ],
          [
           0.7777777777777778,
           "#fb9b06"
          ],
          [
           0.8888888888888888,
           "#f7d13d"
          ],
          [
           1,
           "#fcffa4"
          ]
         ],
         "type": "heatmap",
         "x": [
          "SciQ-short",
          "CoQA-short",
          "TriviaQA-short",
          "MedMCQA-short",
          "MedQA-short",
          "SciQ-long",
          "CoQA-long",
          "TriviaQA-long",
          "MedMCQA-long",
          "MedQA-long"
         ],
         "y": [
          "SciQ-short",
          "CoQA-short",
          "TriviaQA-short",
          "MedMCQA-short",
          "MedQA-short",
          "SciQ-long",
          "CoQA-long",
          "TriviaQA-long",
          "MedMCQA-long",
          "MedQA-long"
         ],
         "z": [
          [
           75.73804473876953,
           65.02816009521484,
           71.90023040771484,
           64.40787506103516,
           59.25816345214844,
           66.20683288574219,
           62.824684143066406,
           68.04354095458984,
           55.86416244506836,
           58.10736846923828
          ],
          [
           63.45838165283203,
           61.43971633911133,
           60.32018280029297,
           58.14751434326172,
           57.037200927734375,
           63.98863983154297,
           59.85355758666992,
           58.32918167114258,
           62.558326721191406,
           60.92144775390625
          ],
          [
           59.806644439697266,
           59.9919548034668,
           68.97972106933594,
           59.95260238647461,
           58.37452697753906,
           56.30624771118164,
           53.7644157409668,
           58.44285583496094,
           57.96324920654297,
           58.48307418823242
          ],
          [
           63.335609436035156,
           60.84080505371094,
           62.59064483642578,
           62.39993667602539,
           59.05588150024414,
           60.07829666137695,
           60.93502426147461,
           59.10688781738281,
           60.14360046386719,
           60.404483795166016
          ],
          [
           52.383872985839844,
           44.251373291015625,
           52.34467315673828,
           46.51792907714844,
           44.9226188659668,
           44.71610641479492,
           47.61697769165039,
           50.21049118041992,
           48.60609436035156,
           45.07601547241211
          ],
          [
           69.31139373779297,
           65.4517593383789,
           63.86326599121094,
           66.30069732666016,
           64.31888580322266,
           67.32756805419922,
           65.39371490478516,
           59.23986053466797,
           64.3668441772461,
           67.11668395996094
          ],
          [
           61.99005889892578,
           58.69135284423828,
           58.06962203979492,
           58.59246063232422,
           54.11134338378906,
           60.07756423950195,
           62.06487274169922,
           57.89505386352539,
           60.426700592041016,
           57.1004753112793
          ],
          [
           68.28144073486328,
           68.35904693603516,
           72.22463989257812,
           65.88849639892578,
           63.13440704345703,
           68.90135955810547,
           66.8153305053711,
           69.38055419921875,
           67.00678253173828,
           65.9125747680664
          ],
          [
           65.16161346435547,
           61.442073822021484,
           61.6761589050293,
           61.499839782714844,
           57.98785400390625,
           61.7181396484375,
           58.9688720703125,
           55.53178405761719,
           59.4494743347168,
           61.648956298828125
          ],
          [
           67.49459075927734,
           67.08487701416016,
           54.96193313598633,
           61.76862716674805,
           59.43978500366211,
           68.44200897216797,
           62.61176300048828,
           58.715450286865234,
           64.10013580322266,
           66.79544067382812
          ]
         ]
        }
       ],
       "layout": {
        "annotations": [
         {
          "font": {
           "color": "white"
          },
          "showarrow": false,
          "text": "75.74",
          "x": 0,
          "y": 0
         },
         {
          "font": {
           "color": "white"
          },
          "showarrow": false,
          "text": "63.46",
          "x": 0,
          "y": 1
         },
         {
          "font": {
           "color": "white"
          },
          "showarrow": false,
          "text": "59.81",
          "x": 0,
          "y": 2
         },
         {
          "font": {
           "color": "white"
          },
          "showarrow": false,
          "text": "63.34",
          "x": 0,
          "y": 3
         },
         {
          "font": {
           "color": "white"
          },
          "showarrow": false,
          "text": "52.38",
          "x": 0,
          "y": 4
         },
         {
          "font": {
           "color": "white"
          },
          "showarrow": false,
          "text": "69.31",
          "x": 0,
          "y": 5
         },
         {
          "font": {
           "color": "white"
          },
          "showarrow": false,
          "text": "61.99",
          "x": 0,
          "y": 6
         },
         {
          "font": {
           "color": "white"
          },
          "showarrow": false,
          "text": "68.28",
          "x": 0,
          "y": 7
         },
         {
          "font": {
           "color": "white"
          },
          "showarrow": false,
          "text": "65.16",
          "x": 0,
          "y": 8
         },
         {
          "font": {
           "color": "white"
          },
          "showarrow": false,
          "text": "67.49",
          "x": 0,
          "y": 9
         },
         {
          "font": {
           "color": "white"
          },
          "showarrow": false,
          "text": "65.03",
          "x": 1,
          "y": 0
         },
         {
          "font": {
           "color": "white"
          },
          "showarrow": false,
          "text": "61.44",
          "x": 1,
          "y": 1
         },
         {
          "font": {
           "color": "white"
          },
          "showarrow": false,
          "text": "59.99",
          "x": 1,
          "y": 2
         },
         {
          "font": {
           "color": "white"
          },
          "showarrow": false,
          "text": "60.84",
          "x": 1,
          "y": 3
         },
         {
          "font": {
           "color": "white"
          },
          "showarrow": false,
          "text": "44.25",
          "x": 1,
          "y": 4
         },
         {
          "font": {
           "color": "white"
          },
          "showarrow": false,
          "text": "65.45",
          "x": 1,
          "y": 5
         },
         {
          "font": {
           "color": "white"
          },
          "showarrow": false,
          "text": "58.69",
          "x": 1,
          "y": 6
         },
         {
          "font": {
           "color": "white"
          },
          "showarrow": false,
          "text": "68.36",
          "x": 1,
          "y": 7
         },
         {
          "font": {
           "color": "white"
          },
          "showarrow": false,
          "text": "61.44",
          "x": 1,
          "y": 8
         },
         {
          "font": {
           "color": "white"
          },
          "showarrow": false,
          "text": "67.08",
          "x": 1,
          "y": 9
         },
         {
          "font": {
           "color": "white"
          },
          "showarrow": false,
          "text": "71.90",
          "x": 2,
          "y": 0
         },
         {
          "font": {
           "color": "white"
          },
          "showarrow": false,
          "text": "60.32",
          "x": 2,
          "y": 1
         },
         {
          "font": {
           "color": "white"
          },
          "showarrow": false,
          "text": "68.98",
          "x": 2,
          "y": 2
         },
         {
          "font": {
           "color": "white"
          },
          "showarrow": false,
          "text": "62.59",
          "x": 2,
          "y": 3
         },
         {
          "font": {
           "color": "white"
          },
          "showarrow": false,
          "text": "52.34",
          "x": 2,
          "y": 4
         },
         {
          "font": {
           "color": "white"
          },
          "showarrow": false,
          "text": "63.86",
          "x": 2,
          "y": 5
         },
         {
          "font": {
           "color": "white"
          },
          "showarrow": false,
          "text": "58.07",
          "x": 2,
          "y": 6
         },
         {
          "font": {
           "color": "white"
          },
          "showarrow": false,
          "text": "72.22",
          "x": 2,
          "y": 7
         },
         {
          "font": {
           "color": "white"
          },
          "showarrow": false,
          "text": "61.68",
          "x": 2,
          "y": 8
         },
         {
          "font": {
           "color": "white"
          },
          "showarrow": false,
          "text": "54.96",
          "x": 2,
          "y": 9
         },
         {
          "font": {
           "color": "white"
          },
          "showarrow": false,
          "text": "64.41",
          "x": 3,
          "y": 0
         },
         {
          "font": {
           "color": "white"
          },
          "showarrow": false,
          "text": "58.15",
          "x": 3,
          "y": 1
         },
         {
          "font": {
           "color": "white"
          },
          "showarrow": false,
          "text": "59.95",
          "x": 3,
          "y": 2
         },
         {
          "font": {
           "color": "white"
          },
          "showarrow": false,
          "text": "62.40",
          "x": 3,
          "y": 3
         },
         {
          "font": {
           "color": "white"
          },
          "showarrow": false,
          "text": "46.52",
          "x": 3,
          "y": 4
         },
         {
          "font": {
           "color": "white"
          },
          "showarrow": false,
          "text": "66.30",
          "x": 3,
          "y": 5
         },
         {
          "font": {
           "color": "white"
          },
          "showarrow": false,
          "text": "58.59",
          "x": 3,
          "y": 6
         },
         {
          "font": {
           "color": "white"
          },
          "showarrow": false,
          "text": "65.89",
          "x": 3,
          "y": 7
         },
         {
          "font": {
           "color": "white"
          },
          "showarrow": false,
          "text": "61.50",
          "x": 3,
          "y": 8
         },
         {
          "font": {
           "color": "white"
          },
          "showarrow": false,
          "text": "61.77",
          "x": 3,
          "y": 9
         },
         {
          "font": {
           "color": "white"
          },
          "showarrow": false,
          "text": "59.26",
          "x": 4,
          "y": 0
         },
         {
          "font": {
           "color": "white"
          },
          "showarrow": false,
          "text": "57.04",
          "x": 4,
          "y": 1
         },
         {
          "font": {
           "color": "white"
          },
          "showarrow": false,
          "text": "58.37",
          "x": 4,
          "y": 2
         },
         {
          "font": {
           "color": "white"
          },
          "showarrow": false,
          "text": "59.06",
          "x": 4,
          "y": 3
         },
         {
          "font": {
           "color": "white"
          },
          "showarrow": false,
          "text": "44.92",
          "x": 4,
          "y": 4
         },
         {
          "font": {
           "color": "white"
          },
          "showarrow": false,
          "text": "64.32",
          "x": 4,
          "y": 5
         },
         {
          "font": {
           "color": "white"
          },
          "showarrow": false,
          "text": "54.11",
          "x": 4,
          "y": 6
         },
         {
          "font": {
           "color": "white"
          },
          "showarrow": false,
          "text": "63.13",
          "x": 4,
          "y": 7
         },
         {
          "font": {
           "color": "white"
          },
          "showarrow": false,
          "text": "57.99",
          "x": 4,
          "y": 8
         },
         {
          "font": {
           "color": "white"
          },
          "showarrow": false,
          "text": "59.44",
          "x": 4,
          "y": 9
         },
         {
          "font": {
           "color": "white"
          },
          "showarrow": false,
          "text": "66.21",
          "x": 5,
          "y": 0
         },
         {
          "font": {
           "color": "white"
          },
          "showarrow": false,
          "text": "63.99",
          "x": 5,
          "y": 1
         },
         {
          "font": {
           "color": "white"
          },
          "showarrow": false,
          "text": "56.31",
          "x": 5,
          "y": 2
         },
         {
          "font": {
           "color": "white"
          },
          "showarrow": false,
          "text": "60.08",
          "x": 5,
          "y": 3
         },
         {
          "font": {
           "color": "white"
          },
          "showarrow": false,
          "text": "44.72",
          "x": 5,
          "y": 4
         },
         {
          "font": {
           "color": "white"
          },
          "showarrow": false,
          "text": "67.33",
          "x": 5,
          "y": 5
         },
         {
          "font": {
           "color": "white"
          },
          "showarrow": false,
          "text": "60.08",
          "x": 5,
          "y": 6
         },
         {
          "font": {
           "color": "white"
          },
          "showarrow": false,
          "text": "68.90",
          "x": 5,
          "y": 7
         },
         {
          "font": {
           "color": "white"
          },
          "showarrow": false,
          "text": "61.72",
          "x": 5,
          "y": 8
         },
         {
          "font": {
           "color": "white"
          },
          "showarrow": false,
          "text": "68.44",
          "x": 5,
          "y": 9
         },
         {
          "font": {
           "color": "white"
          },
          "showarrow": false,
          "text": "62.82",
          "x": 6,
          "y": 0
         },
         {
          "font": {
           "color": "white"
          },
          "showarrow": false,
          "text": "59.85",
          "x": 6,
          "y": 1
         },
         {
          "font": {
           "color": "white"
          },
          "showarrow": false,
          "text": "53.76",
          "x": 6,
          "y": 2
         },
         {
          "font": {
           "color": "white"
          },
          "showarrow": false,
          "text": "60.94",
          "x": 6,
          "y": 3
         },
         {
          "font": {
           "color": "white"
          },
          "showarrow": false,
          "text": "47.62",
          "x": 6,
          "y": 4
         },
         {
          "font": {
           "color": "white"
          },
          "showarrow": false,
          "text": "65.39",
          "x": 6,
          "y": 5
         },
         {
          "font": {
           "color": "white"
          },
          "showarrow": false,
          "text": "62.06",
          "x": 6,
          "y": 6
         },
         {
          "font": {
           "color": "white"
          },
          "showarrow": false,
          "text": "66.82",
          "x": 6,
          "y": 7
         },
         {
          "font": {
           "color": "white"
          },
          "showarrow": false,
          "text": "58.97",
          "x": 6,
          "y": 8
         },
         {
          "font": {
           "color": "white"
          },
          "showarrow": false,
          "text": "62.61",
          "x": 6,
          "y": 9
         },
         {
          "font": {
           "color": "white"
          },
          "showarrow": false,
          "text": "68.04",
          "x": 7,
          "y": 0
         },
         {
          "font": {
           "color": "white"
          },
          "showarrow": false,
          "text": "58.33",
          "x": 7,
          "y": 1
         },
         {
          "font": {
           "color": "white"
          },
          "showarrow": false,
          "text": "58.44",
          "x": 7,
          "y": 2
         },
         {
          "font": {
           "color": "white"
          },
          "showarrow": false,
          "text": "59.11",
          "x": 7,
          "y": 3
         },
         {
          "font": {
           "color": "white"
          },
          "showarrow": false,
          "text": "50.21",
          "x": 7,
          "y": 4
         },
         {
          "font": {
           "color": "white"
          },
          "showarrow": false,
          "text": "59.24",
          "x": 7,
          "y": 5
         },
         {
          "font": {
           "color": "white"
          },
          "showarrow": false,
          "text": "57.90",
          "x": 7,
          "y": 6
         },
         {
          "font": {
           "color": "white"
          },
          "showarrow": false,
          "text": "69.38",
          "x": 7,
          "y": 7
         },
         {
          "font": {
           "color": "white"
          },
          "showarrow": false,
          "text": "55.53",
          "x": 7,
          "y": 8
         },
         {
          "font": {
           "color": "white"
          },
          "showarrow": false,
          "text": "58.72",
          "x": 7,
          "y": 9
         },
         {
          "font": {
           "color": "white"
          },
          "showarrow": false,
          "text": "55.86",
          "x": 8,
          "y": 0
         },
         {
          "font": {
           "color": "white"
          },
          "showarrow": false,
          "text": "62.56",
          "x": 8,
          "y": 1
         },
         {
          "font": {
           "color": "white"
          },
          "showarrow": false,
          "text": "57.96",
          "x": 8,
          "y": 2
         },
         {
          "font": {
           "color": "white"
          },
          "showarrow": false,
          "text": "60.14",
          "x": 8,
          "y": 3
         },
         {
          "font": {
           "color": "white"
          },
          "showarrow": false,
          "text": "48.61",
          "x": 8,
          "y": 4
         },
         {
          "font": {
           "color": "white"
          },
          "showarrow": false,
          "text": "64.37",
          "x": 8,
          "y": 5
         },
         {
          "font": {
           "color": "white"
          },
          "showarrow": false,
          "text": "60.43",
          "x": 8,
          "y": 6
         },
         {
          "font": {
           "color": "white"
          },
          "showarrow": false,
          "text": "67.01",
          "x": 8,
          "y": 7
         },
         {
          "font": {
           "color": "white"
          },
          "showarrow": false,
          "text": "59.45",
          "x": 8,
          "y": 8
         },
         {
          "font": {
           "color": "white"
          },
          "showarrow": false,
          "text": "64.10",
          "x": 8,
          "y": 9
         },
         {
          "font": {
           "color": "white"
          },
          "showarrow": false,
          "text": "58.11",
          "x": 9,
          "y": 0
         },
         {
          "font": {
           "color": "white"
          },
          "showarrow": false,
          "text": "60.92",
          "x": 9,
          "y": 1
         },
         {
          "font": {
           "color": "white"
          },
          "showarrow": false,
          "text": "58.48",
          "x": 9,
          "y": 2
         },
         {
          "font": {
           "color": "white"
          },
          "showarrow": false,
          "text": "60.40",
          "x": 9,
          "y": 3
         },
         {
          "font": {
           "color": "white"
          },
          "showarrow": false,
          "text": "45.08",
          "x": 9,
          "y": 4
         },
         {
          "font": {
           "color": "white"
          },
          "showarrow": false,
          "text": "67.12",
          "x": 9,
          "y": 5
         },
         {
          "font": {
           "color": "white"
          },
          "showarrow": false,
          "text": "57.10",
          "x": 9,
          "y": 6
         },
         {
          "font": {
           "color": "white"
          },
          "showarrow": false,
          "text": "65.91",
          "x": 9,
          "y": 7
         },
         {
          "font": {
           "color": "white"
          },
          "showarrow": false,
          "text": "61.65",
          "x": 9,
          "y": 8
         },
         {
          "font": {
           "color": "white"
          },
          "showarrow": false,
          "text": "66.80",
          "x": 9,
          "y": 9
         }
        ],
        "height": 1000,
        "template": {
         "data": {
          "bar": [
           {
            "error_x": {
             "color": "#2a3f5f"
            },
            "error_y": {
             "color": "#2a3f5f"
            },
            "marker": {
             "line": {
              "color": "#E5ECF6",
              "width": 0.5
             },
             "pattern": {
              "fillmode": "overlay",
              "size": 10,
              "solidity": 0.2
             }
            },
            "type": "bar"
           }
          ],
          "barpolar": [
           {
            "marker": {
             "line": {
              "color": "#E5ECF6",
              "width": 0.5
             },
             "pattern": {
              "fillmode": "overlay",
              "size": 10,
              "solidity": 0.2
             }
            },
            "type": "barpolar"
           }
          ],
          "carpet": [
           {
            "aaxis": {
             "endlinecolor": "#2a3f5f",
             "gridcolor": "white",
             "linecolor": "white",
             "minorgridcolor": "white",
             "startlinecolor": "#2a3f5f"
            },
            "baxis": {
             "endlinecolor": "#2a3f5f",
             "gridcolor": "white",
             "linecolor": "white",
             "minorgridcolor": "white",
             "startlinecolor": "#2a3f5f"
            },
            "type": "carpet"
           }
          ],
          "choropleth": [
           {
            "colorbar": {
             "outlinewidth": 0,
             "ticks": ""
            },
            "type": "choropleth"
           }
          ],
          "contour": [
           {
            "colorbar": {
             "outlinewidth": 0,
             "ticks": ""
            },
            "colorscale": [
             [
              0,
              "#0d0887"
             ],
             [
              0.1111111111111111,
              "#46039f"
             ],
             [
              0.2222222222222222,
              "#7201a8"
             ],
             [
              0.3333333333333333,
              "#9c179e"
             ],
             [
              0.4444444444444444,
              "#bd3786"
             ],
             [
              0.5555555555555556,
              "#d8576b"
             ],
             [
              0.6666666666666666,
              "#ed7953"
             ],
             [
              0.7777777777777778,
              "#fb9f3a"
             ],
             [
              0.8888888888888888,
              "#fdca26"
             ],
             [
              1,
              "#f0f921"
             ]
            ],
            "type": "contour"
           }
          ],
          "contourcarpet": [
           {
            "colorbar": {
             "outlinewidth": 0,
             "ticks": ""
            },
            "type": "contourcarpet"
           }
          ],
          "heatmap": [
           {
            "colorbar": {
             "outlinewidth": 0,
             "ticks": ""
            },
            "colorscale": [
             [
              0,
              "#0d0887"
             ],
             [
              0.1111111111111111,
              "#46039f"
             ],
             [
              0.2222222222222222,
              "#7201a8"
             ],
             [
              0.3333333333333333,
              "#9c179e"
             ],
             [
              0.4444444444444444,
              "#bd3786"
             ],
             [
              0.5555555555555556,
              "#d8576b"
             ],
             [
              0.6666666666666666,
              "#ed7953"
             ],
             [
              0.7777777777777778,
              "#fb9f3a"
             ],
             [
              0.8888888888888888,
              "#fdca26"
             ],
             [
              1,
              "#f0f921"
             ]
            ],
            "type": "heatmap"
           }
          ],
          "heatmapgl": [
           {
            "colorbar": {
             "outlinewidth": 0,
             "ticks": ""
            },
            "colorscale": [
             [
              0,
              "#0d0887"
             ],
             [
              0.1111111111111111,
              "#46039f"
             ],
             [
              0.2222222222222222,
              "#7201a8"
             ],
             [
              0.3333333333333333,
              "#9c179e"
             ],
             [
              0.4444444444444444,
              "#bd3786"
             ],
             [
              0.5555555555555556,
              "#d8576b"
             ],
             [
              0.6666666666666666,
              "#ed7953"
             ],
             [
              0.7777777777777778,
              "#fb9f3a"
             ],
             [
              0.8888888888888888,
              "#fdca26"
             ],
             [
              1,
              "#f0f921"
             ]
            ],
            "type": "heatmapgl"
           }
          ],
          "histogram": [
           {
            "marker": {
             "pattern": {
              "fillmode": "overlay",
              "size": 10,
              "solidity": 0.2
             }
            },
            "type": "histogram"
           }
          ],
          "histogram2d": [
           {
            "colorbar": {
             "outlinewidth": 0,
             "ticks": ""
            },
            "colorscale": [
             [
              0,
              "#0d0887"
             ],
             [
              0.1111111111111111,
              "#46039f"
             ],
             [
              0.2222222222222222,
              "#7201a8"
             ],
             [
              0.3333333333333333,
              "#9c179e"
             ],
             [
              0.4444444444444444,
              "#bd3786"
             ],
             [
              0.5555555555555556,
              "#d8576b"
             ],
             [
              0.6666666666666666,
              "#ed7953"
             ],
             [
              0.7777777777777778,
              "#fb9f3a"
             ],
             [
              0.8888888888888888,
              "#fdca26"
             ],
             [
              1,
              "#f0f921"
             ]
            ],
            "type": "histogram2d"
           }
          ],
          "histogram2dcontour": [
           {
            "colorbar": {
             "outlinewidth": 0,
             "ticks": ""
            },
            "colorscale": [
             [
              0,
              "#0d0887"
             ],
             [
              0.1111111111111111,
              "#46039f"
             ],
             [
              0.2222222222222222,
              "#7201a8"
             ],
             [
              0.3333333333333333,
              "#9c179e"
             ],
             [
              0.4444444444444444,
              "#bd3786"
             ],
             [
              0.5555555555555556,
              "#d8576b"
             ],
             [
              0.6666666666666666,
              "#ed7953"
             ],
             [
              0.7777777777777778,
              "#fb9f3a"
             ],
             [
              0.8888888888888888,
              "#fdca26"
             ],
             [
              1,
              "#f0f921"
             ]
            ],
            "type": "histogram2dcontour"
           }
          ],
          "mesh3d": [
           {
            "colorbar": {
             "outlinewidth": 0,
             "ticks": ""
            },
            "type": "mesh3d"
           }
          ],
          "parcoords": [
           {
            "line": {
             "colorbar": {
              "outlinewidth": 0,
              "ticks": ""
             }
            },
            "type": "parcoords"
           }
          ],
          "pie": [
           {
            "automargin": true,
            "type": "pie"
           }
          ],
          "scatter": [
           {
            "fillpattern": {
             "fillmode": "overlay",
             "size": 10,
             "solidity": 0.2
            },
            "type": "scatter"
           }
          ],
          "scatter3d": [
           {
            "line": {
             "colorbar": {
              "outlinewidth": 0,
              "ticks": ""
             }
            },
            "marker": {
             "colorbar": {
              "outlinewidth": 0,
              "ticks": ""
             }
            },
            "type": "scatter3d"
           }
          ],
          "scattercarpet": [
           {
            "marker": {
             "colorbar": {
              "outlinewidth": 0,
              "ticks": ""
             }
            },
            "type": "scattercarpet"
           }
          ],
          "scattergeo": [
           {
            "marker": {
             "colorbar": {
              "outlinewidth": 0,
              "ticks": ""
             }
            },
            "type": "scattergeo"
           }
          ],
          "scattergl": [
           {
            "marker": {
             "colorbar": {
              "outlinewidth": 0,
              "ticks": ""
             }
            },
            "type": "scattergl"
           }
          ],
          "scattermapbox": [
           {
            "marker": {
             "colorbar": {
              "outlinewidth": 0,
              "ticks": ""
             }
            },
            "type": "scattermapbox"
           }
          ],
          "scatterpolar": [
           {
            "marker": {
             "colorbar": {
              "outlinewidth": 0,
              "ticks": ""
             }
            },
            "type": "scatterpolar"
           }
          ],
          "scatterpolargl": [
           {
            "marker": {
             "colorbar": {
              "outlinewidth": 0,
              "ticks": ""
             }
            },
            "type": "scatterpolargl"
           }
          ],
          "scatterternary": [
           {
            "marker": {
             "colorbar": {
              "outlinewidth": 0,
              "ticks": ""
             }
            },
            "type": "scatterternary"
           }
          ],
          "surface": [
           {
            "colorbar": {
             "outlinewidth": 0,
             "ticks": ""
            },
            "colorscale": [
             [
              0,
              "#0d0887"
             ],
             [
              0.1111111111111111,
              "#46039f"
             ],
             [
              0.2222222222222222,
              "#7201a8"
             ],
             [
              0.3333333333333333,
              "#9c179e"
             ],
             [
              0.4444444444444444,
              "#bd3786"
             ],
             [
              0.5555555555555556,
              "#d8576b"
             ],
             [
              0.6666666666666666,
              "#ed7953"
             ],
             [
              0.7777777777777778,
              "#fb9f3a"
             ],
             [
              0.8888888888888888,
              "#fdca26"
             ],
             [
              1,
              "#f0f921"
             ]
            ],
            "type": "surface"
           }
          ],
          "table": [
           {
            "cells": {
             "fill": {
              "color": "#EBF0F8"
             },
             "line": {
              "color": "white"
             }
            },
            "header": {
             "fill": {
              "color": "#C8D4E3"
             },
             "line": {
              "color": "white"
             }
            },
            "type": "table"
           }
          ]
         },
         "layout": {
          "annotationdefaults": {
           "arrowcolor": "#2a3f5f",
           "arrowhead": 0,
           "arrowwidth": 1
          },
          "autotypenumbers": "strict",
          "coloraxis": {
           "colorbar": {
            "outlinewidth": 0,
            "ticks": ""
           }
          },
          "colorscale": {
           "diverging": [
            [
             0,
             "#8e0152"
            ],
            [
             0.1,
             "#c51b7d"
            ],
            [
             0.2,
             "#de77ae"
            ],
            [
             0.3,
             "#f1b6da"
            ],
            [
             0.4,
             "#fde0ef"
            ],
            [
             0.5,
             "#f7f7f7"
            ],
            [
             0.6,
             "#e6f5d0"
            ],
            [
             0.7,
             "#b8e186"
            ],
            [
             0.8,
             "#7fbc41"
            ],
            [
             0.9,
             "#4d9221"
            ],
            [
             1,
             "#276419"
            ]
           ],
           "sequential": [
            [
             0,
             "#0d0887"
            ],
            [
             0.1111111111111111,
             "#46039f"
            ],
            [
             0.2222222222222222,
             "#7201a8"
            ],
            [
             0.3333333333333333,
             "#9c179e"
            ],
            [
             0.4444444444444444,
             "#bd3786"
            ],
            [
             0.5555555555555556,
             "#d8576b"
            ],
            [
             0.6666666666666666,
             "#ed7953"
            ],
            [
             0.7777777777777778,
             "#fb9f3a"
            ],
            [
             0.8888888888888888,
             "#fdca26"
            ],
            [
             1,
             "#f0f921"
            ]
           ],
           "sequentialminus": [
            [
             0,
             "#0d0887"
            ],
            [
             0.1111111111111111,
             "#46039f"
            ],
            [
             0.2222222222222222,
             "#7201a8"
            ],
            [
             0.3333333333333333,
             "#9c179e"
            ],
            [
             0.4444444444444444,
             "#bd3786"
            ],
            [
             0.5555555555555556,
             "#d8576b"
            ],
            [
             0.6666666666666666,
             "#ed7953"
            ],
            [
             0.7777777777777778,
             "#fb9f3a"
            ],
            [
             0.8888888888888888,
             "#fdca26"
            ],
            [
             1,
             "#f0f921"
            ]
           ]
          },
          "colorway": [
           "#636efa",
           "#EF553B",
           "#00cc96",
           "#ab63fa",
           "#FFA15A",
           "#19d3f3",
           "#FF6692",
           "#B6E880",
           "#FF97FF",
           "#FECB52"
          ],
          "font": {
           "color": "#2a3f5f"
          },
          "geo": {
           "bgcolor": "white",
           "lakecolor": "white",
           "landcolor": "#E5ECF6",
           "showlakes": true,
           "showland": true,
           "subunitcolor": "white"
          },
          "hoverlabel": {
           "align": "left"
          },
          "hovermode": "closest",
          "mapbox": {
           "style": "light"
          },
          "paper_bgcolor": "white",
          "plot_bgcolor": "#E5ECF6",
          "polar": {
           "angularaxis": {
            "gridcolor": "white",
            "linecolor": "white",
            "ticks": ""
           },
           "bgcolor": "#E5ECF6",
           "radialaxis": {
            "gridcolor": "white",
            "linecolor": "white",
            "ticks": ""
           }
          },
          "scene": {
           "xaxis": {
            "backgroundcolor": "#E5ECF6",
            "gridcolor": "white",
            "gridwidth": 2,
            "linecolor": "white",
            "showbackground": true,
            "ticks": "",
            "zerolinecolor": "white"
           },
           "yaxis": {
            "backgroundcolor": "#E5ECF6",
            "gridcolor": "white",
            "gridwidth": 2,
            "linecolor": "white",
            "showbackground": true,
            "ticks": "",
            "zerolinecolor": "white"
           },
           "zaxis": {
            "backgroundcolor": "#E5ECF6",
            "gridcolor": "white",
            "gridwidth": 2,
            "linecolor": "white",
            "showbackground": true,
            "ticks": "",
            "zerolinecolor": "white"
           }
          },
          "shapedefaults": {
           "line": {
            "color": "#2a3f5f"
           }
          },
          "ternary": {
           "aaxis": {
            "gridcolor": "white",
            "linecolor": "white",
            "ticks": ""
           },
           "baxis": {
            "gridcolor": "white",
            "linecolor": "white",
            "ticks": ""
           },
           "bgcolor": "#E5ECF6",
           "caxis": {
            "gridcolor": "white",
            "linecolor": "white",
            "ticks": ""
           }
          },
          "title": {
           "x": 0.05
          },
          "xaxis": {
           "automargin": true,
           "gridcolor": "white",
           "linecolor": "white",
           "ticks": "",
           "title": {
            "standoff": 15
           },
           "zerolinecolor": "white",
           "zerolinewidth": 2
          },
          "yaxis": {
           "automargin": true,
           "gridcolor": "white",
           "linecolor": "white",
           "ticks": "",
           "title": {
            "standoff": 15
           },
           "zerolinecolor": "white",
           "zerolinewidth": 2
          }
         }
        },
        "title": {
         "text": "Model: Vicuna-7B Correctness Metric: include Method: u_score_ours_mean_soft_rougel Cross Eval Results"
        },
        "width": 1000,
        "xaxis": {
         "title": {
          "text": "Train Dataset"
         }
        },
        "yaxis": {
         "title": {
          "text": "Test Dataset"
         }
        }
       }
      },
      "text/html": [
       "<div>                            <div id=\"2a0bae6a-24b6-49ed-8bbb-f55074c1328d\" class=\"plotly-graph-div\" style=\"height:1000px; width:1000px;\"></div>            <script type=\"text/javascript\">                require([\"plotly\"], function(Plotly) {                    window.PLOTLYENV=window.PLOTLYENV || {};                                    if (document.getElementById(\"2a0bae6a-24b6-49ed-8bbb-f55074c1328d\")) {                    Plotly.newPlot(                        \"2a0bae6a-24b6-49ed-8bbb-f55074c1328d\",                        [{\"colorscale\":[[0.0,\"#000004\"],[0.1111111111111111,\"#1b0c41\"],[0.2222222222222222,\"#4a0c6b\"],[0.3333333333333333,\"#781c6d\"],[0.4444444444444444,\"#a52c60\"],[0.5555555555555556,\"#cf4446\"],[0.6666666666666666,\"#ed6925\"],[0.7777777777777778,\"#fb9b06\"],[0.8888888888888888,\"#f7d13d\"],[1.0,\"#fcffa4\"]],\"x\":[\"SciQ-short\",\"CoQA-short\",\"TriviaQA-short\",\"MedMCQA-short\",\"MedQA-short\",\"SciQ-long\",\"CoQA-long\",\"TriviaQA-long\",\"MedMCQA-long\",\"MedQA-long\"],\"y\":[\"SciQ-short\",\"CoQA-short\",\"TriviaQA-short\",\"MedMCQA-short\",\"MedQA-short\",\"SciQ-long\",\"CoQA-long\",\"TriviaQA-long\",\"MedMCQA-long\",\"MedQA-long\"],\"z\":[[75.73804473876953,65.02816009521484,71.90023040771484,64.40787506103516,59.25816345214844,66.20683288574219,62.824684143066406,68.04354095458984,55.86416244506836,58.10736846923828],[63.45838165283203,61.43971633911133,60.32018280029297,58.14751434326172,57.037200927734375,63.98863983154297,59.85355758666992,58.32918167114258,62.558326721191406,60.92144775390625],[59.806644439697266,59.9919548034668,68.97972106933594,59.95260238647461,58.37452697753906,56.30624771118164,53.7644157409668,58.44285583496094,57.96324920654297,58.48307418823242],[63.335609436035156,60.84080505371094,62.59064483642578,62.39993667602539,59.05588150024414,60.07829666137695,60.93502426147461,59.10688781738281,60.14360046386719,60.404483795166016],[52.383872985839844,44.251373291015625,52.34467315673828,46.51792907714844,44.9226188659668,44.71610641479492,47.61697769165039,50.21049118041992,48.60609436035156,45.07601547241211],[69.31139373779297,65.4517593383789,63.86326599121094,66.30069732666016,64.31888580322266,67.32756805419922,65.39371490478516,59.23986053466797,64.3668441772461,67.11668395996094],[61.99005889892578,58.69135284423828,58.06962203979492,58.59246063232422,54.11134338378906,60.07756423950195,62.06487274169922,57.89505386352539,60.426700592041016,57.1004753112793],[68.28144073486328,68.35904693603516,72.22463989257812,65.88849639892578,63.13440704345703,68.90135955810547,66.8153305053711,69.38055419921875,67.00678253173828,65.9125747680664],[65.16161346435547,61.442073822021484,61.6761589050293,61.499839782714844,57.98785400390625,61.7181396484375,58.9688720703125,55.53178405761719,59.4494743347168,61.648956298828125],[67.49459075927734,67.08487701416016,54.96193313598633,61.76862716674805,59.43978500366211,68.44200897216797,62.61176300048828,58.715450286865234,64.10013580322266,66.79544067382812]],\"type\":\"heatmap\"}],                        {\"template\":{\"data\":{\"histogram2dcontour\":[{\"type\":\"histogram2dcontour\",\"colorbar\":{\"outlinewidth\":0,\"ticks\":\"\"},\"colorscale\":[[0.0,\"#0d0887\"],[0.1111111111111111,\"#46039f\"],[0.2222222222222222,\"#7201a8\"],[0.3333333333333333,\"#9c179e\"],[0.4444444444444444,\"#bd3786\"],[0.5555555555555556,\"#d8576b\"],[0.6666666666666666,\"#ed7953\"],[0.7777777777777778,\"#fb9f3a\"],[0.8888888888888888,\"#fdca26\"],[1.0,\"#f0f921\"]]}],\"choropleth\":[{\"type\":\"choropleth\",\"colorbar\":{\"outlinewidth\":0,\"ticks\":\"\"}}],\"histogram2d\":[{\"type\":\"histogram2d\",\"colorbar\":{\"outlinewidth\":0,\"ticks\":\"\"},\"colorscale\":[[0.0,\"#0d0887\"],[0.1111111111111111,\"#46039f\"],[0.2222222222222222,\"#7201a8\"],[0.3333333333333333,\"#9c179e\"],[0.4444444444444444,\"#bd3786\"],[0.5555555555555556,\"#d8576b\"],[0.6666666666666666,\"#ed7953\"],[0.7777777777777778,\"#fb9f3a\"],[0.8888888888888888,\"#fdca26\"],[1.0,\"#f0f921\"]]}],\"heatmap\":[{\"type\":\"heatmap\",\"colorbar\":{\"outlinewidth\":0,\"ticks\":\"\"},\"colorscale\":[[0.0,\"#0d0887\"],[0.1111111111111111,\"#46039f\"],[0.2222222222222222,\"#7201a8\"],[0.3333333333333333,\"#9c179e\"],[0.4444444444444444,\"#bd3786\"],[0.5555555555555556,\"#d8576b\"],[0.6666666666666666,\"#ed7953\"],[0.7777777777777778,\"#fb9f3a\"],[0.8888888888888888,\"#fdca26\"],[1.0,\"#f0f921\"]]}],\"heatmapgl\":[{\"type\":\"heatmapgl\",\"colorbar\":{\"outlinewidth\":0,\"ticks\":\"\"},\"colorscale\":[[0.0,\"#0d0887\"],[0.1111111111111111,\"#46039f\"],[0.2222222222222222,\"#7201a8\"],[0.3333333333333333,\"#9c179e\"],[0.4444444444444444,\"#bd3786\"],[0.5555555555555556,\"#d8576b\"],[0.6666666666666666,\"#ed7953\"],[0.7777777777777778,\"#fb9f3a\"],[0.8888888888888888,\"#fdca26\"],[1.0,\"#f0f921\"]]}],\"contourcarpet\":[{\"type\":\"contourcarpet\",\"colorbar\":{\"outlinewidth\":0,\"ticks\":\"\"}}],\"contour\":[{\"type\":\"contour\",\"colorbar\":{\"outlinewidth\":0,\"ticks\":\"\"},\"colorscale\":[[0.0,\"#0d0887\"],[0.1111111111111111,\"#46039f\"],[0.2222222222222222,\"#7201a8\"],[0.3333333333333333,\"#9c179e\"],[0.4444444444444444,\"#bd3786\"],[0.5555555555555556,\"#d8576b\"],[0.6666666666666666,\"#ed7953\"],[0.7777777777777778,\"#fb9f3a\"],[0.8888888888888888,\"#fdca26\"],[1.0,\"#f0f921\"]]}],\"surface\":[{\"type\":\"surface\",\"colorbar\":{\"outlinewidth\":0,\"ticks\":\"\"},\"colorscale\":[[0.0,\"#0d0887\"],[0.1111111111111111,\"#46039f\"],[0.2222222222222222,\"#7201a8\"],[0.3333333333333333,\"#9c179e\"],[0.4444444444444444,\"#bd3786\"],[0.5555555555555556,\"#d8576b\"],[0.6666666666666666,\"#ed7953\"],[0.7777777777777778,\"#fb9f3a\"],[0.8888888888888888,\"#fdca26\"],[1.0,\"#f0f921\"]]}],\"mesh3d\":[{\"type\":\"mesh3d\",\"colorbar\":{\"outlinewidth\":0,\"ticks\":\"\"}}],\"scatter\":[{\"fillpattern\":{\"fillmode\":\"overlay\",\"size\":10,\"solidity\":0.2},\"type\":\"scatter\"}],\"parcoords\":[{\"type\":\"parcoords\",\"line\":{\"colorbar\":{\"outlinewidth\":0,\"ticks\":\"\"}}}],\"scatterpolargl\":[{\"type\":\"scatterpolargl\",\"marker\":{\"colorbar\":{\"outlinewidth\":0,\"ticks\":\"\"}}}],\"bar\":[{\"error_x\":{\"color\":\"#2a3f5f\"},\"error_y\":{\"color\":\"#2a3f5f\"},\"marker\":{\"line\":{\"color\":\"#E5ECF6\",\"width\":0.5},\"pattern\":{\"fillmode\":\"overlay\",\"size\":10,\"solidity\":0.2}},\"type\":\"bar\"}],\"scattergeo\":[{\"type\":\"scattergeo\",\"marker\":{\"colorbar\":{\"outlinewidth\":0,\"ticks\":\"\"}}}],\"scatterpolar\":[{\"type\":\"scatterpolar\",\"marker\":{\"colorbar\":{\"outlinewidth\":0,\"ticks\":\"\"}}}],\"histogram\":[{\"marker\":{\"pattern\":{\"fillmode\":\"overlay\",\"size\":10,\"solidity\":0.2}},\"type\":\"histogram\"}],\"scattergl\":[{\"type\":\"scattergl\",\"marker\":{\"colorbar\":{\"outlinewidth\":0,\"ticks\":\"\"}}}],\"scatter3d\":[{\"type\":\"scatter3d\",\"line\":{\"colorbar\":{\"outlinewidth\":0,\"ticks\":\"\"}},\"marker\":{\"colorbar\":{\"outlinewidth\":0,\"ticks\":\"\"}}}],\"scattermapbox\":[{\"type\":\"scattermapbox\",\"marker\":{\"colorbar\":{\"outlinewidth\":0,\"ticks\":\"\"}}}],\"scatterternary\":[{\"type\":\"scatterternary\",\"marker\":{\"colorbar\":{\"outlinewidth\":0,\"ticks\":\"\"}}}],\"scattercarpet\":[{\"type\":\"scattercarpet\",\"marker\":{\"colorbar\":{\"outlinewidth\":0,\"ticks\":\"\"}}}],\"carpet\":[{\"aaxis\":{\"endlinecolor\":\"#2a3f5f\",\"gridcolor\":\"white\",\"linecolor\":\"white\",\"minorgridcolor\":\"white\",\"startlinecolor\":\"#2a3f5f\"},\"baxis\":{\"endlinecolor\":\"#2a3f5f\",\"gridcolor\":\"white\",\"linecolor\":\"white\",\"minorgridcolor\":\"white\",\"startlinecolor\":\"#2a3f5f\"},\"type\":\"carpet\"}],\"table\":[{\"cells\":{\"fill\":{\"color\":\"#EBF0F8\"},\"line\":{\"color\":\"white\"}},\"header\":{\"fill\":{\"color\":\"#C8D4E3\"},\"line\":{\"color\":\"white\"}},\"type\":\"table\"}],\"barpolar\":[{\"marker\":{\"line\":{\"color\":\"#E5ECF6\",\"width\":0.5},\"pattern\":{\"fillmode\":\"overlay\",\"size\":10,\"solidity\":0.2}},\"type\":\"barpolar\"}],\"pie\":[{\"automargin\":true,\"type\":\"pie\"}]},\"layout\":{\"autotypenumbers\":\"strict\",\"colorway\":[\"#636efa\",\"#EF553B\",\"#00cc96\",\"#ab63fa\",\"#FFA15A\",\"#19d3f3\",\"#FF6692\",\"#B6E880\",\"#FF97FF\",\"#FECB52\"],\"font\":{\"color\":\"#2a3f5f\"},\"hovermode\":\"closest\",\"hoverlabel\":{\"align\":\"left\"},\"paper_bgcolor\":\"white\",\"plot_bgcolor\":\"#E5ECF6\",\"polar\":{\"bgcolor\":\"#E5ECF6\",\"angularaxis\":{\"gridcolor\":\"white\",\"linecolor\":\"white\",\"ticks\":\"\"},\"radialaxis\":{\"gridcolor\":\"white\",\"linecolor\":\"white\",\"ticks\":\"\"}},\"ternary\":{\"bgcolor\":\"#E5ECF6\",\"aaxis\":{\"gridcolor\":\"white\",\"linecolor\":\"white\",\"ticks\":\"\"},\"baxis\":{\"gridcolor\":\"white\",\"linecolor\":\"white\",\"ticks\":\"\"},\"caxis\":{\"gridcolor\":\"white\",\"linecolor\":\"white\",\"ticks\":\"\"}},\"coloraxis\":{\"colorbar\":{\"outlinewidth\":0,\"ticks\":\"\"}},\"colorscale\":{\"sequential\":[[0.0,\"#0d0887\"],[0.1111111111111111,\"#46039f\"],[0.2222222222222222,\"#7201a8\"],[0.3333333333333333,\"#9c179e\"],[0.4444444444444444,\"#bd3786\"],[0.5555555555555556,\"#d8576b\"],[0.6666666666666666,\"#ed7953\"],[0.7777777777777778,\"#fb9f3a\"],[0.8888888888888888,\"#fdca26\"],[1.0,\"#f0f921\"]],\"sequentialminus\":[[0.0,\"#0d0887\"],[0.1111111111111111,\"#46039f\"],[0.2222222222222222,\"#7201a8\"],[0.3333333333333333,\"#9c179e\"],[0.4444444444444444,\"#bd3786\"],[0.5555555555555556,\"#d8576b\"],[0.6666666666666666,\"#ed7953\"],[0.7777777777777778,\"#fb9f3a\"],[0.8888888888888888,\"#fdca26\"],[1.0,\"#f0f921\"]],\"diverging\":[[0,\"#8e0152\"],[0.1,\"#c51b7d\"],[0.2,\"#de77ae\"],[0.3,\"#f1b6da\"],[0.4,\"#fde0ef\"],[0.5,\"#f7f7f7\"],[0.6,\"#e6f5d0\"],[0.7,\"#b8e186\"],[0.8,\"#7fbc41\"],[0.9,\"#4d9221\"],[1,\"#276419\"]]},\"xaxis\":{\"gridcolor\":\"white\",\"linecolor\":\"white\",\"ticks\":\"\",\"title\":{\"standoff\":15},\"zerolinecolor\":\"white\",\"automargin\":true,\"zerolinewidth\":2},\"yaxis\":{\"gridcolor\":\"white\",\"linecolor\":\"white\",\"ticks\":\"\",\"title\":{\"standoff\":15},\"zerolinecolor\":\"white\",\"automargin\":true,\"zerolinewidth\":2},\"scene\":{\"xaxis\":{\"backgroundcolor\":\"#E5ECF6\",\"gridcolor\":\"white\",\"linecolor\":\"white\",\"showbackground\":true,\"ticks\":\"\",\"zerolinecolor\":\"white\",\"gridwidth\":2},\"yaxis\":{\"backgroundcolor\":\"#E5ECF6\",\"gridcolor\":\"white\",\"linecolor\":\"white\",\"showbackground\":true,\"ticks\":\"\",\"zerolinecolor\":\"white\",\"gridwidth\":2},\"zaxis\":{\"backgroundcolor\":\"#E5ECF6\",\"gridcolor\":\"white\",\"linecolor\":\"white\",\"showbackground\":true,\"ticks\":\"\",\"zerolinecolor\":\"white\",\"gridwidth\":2}},\"shapedefaults\":{\"line\":{\"color\":\"#2a3f5f\"}},\"annotationdefaults\":{\"arrowcolor\":\"#2a3f5f\",\"arrowhead\":0,\"arrowwidth\":1},\"geo\":{\"bgcolor\":\"white\",\"landcolor\":\"#E5ECF6\",\"subunitcolor\":\"white\",\"showland\":true,\"showlakes\":true,\"lakecolor\":\"white\"},\"title\":{\"x\":0.05},\"mapbox\":{\"style\":\"light\"}}},\"title\":{\"text\":\"Model: Vicuna-7B Correctness Metric: include Method: u_score_ours_mean_soft_rougel Cross Eval Results\"},\"xaxis\":{\"title\":{\"text\":\"Train Dataset\"}},\"yaxis\":{\"title\":{\"text\":\"Test Dataset\"}},\"width\":1000,\"height\":1000,\"annotations\":[{\"font\":{\"color\":\"white\"},\"showarrow\":false,\"text\":\"75.74\",\"x\":0,\"y\":0},{\"font\":{\"color\":\"white\"},\"showarrow\":false,\"text\":\"63.46\",\"x\":0,\"y\":1},{\"font\":{\"color\":\"white\"},\"showarrow\":false,\"text\":\"59.81\",\"x\":0,\"y\":2},{\"font\":{\"color\":\"white\"},\"showarrow\":false,\"text\":\"63.34\",\"x\":0,\"y\":3},{\"font\":{\"color\":\"white\"},\"showarrow\":false,\"text\":\"52.38\",\"x\":0,\"y\":4},{\"font\":{\"color\":\"white\"},\"showarrow\":false,\"text\":\"69.31\",\"x\":0,\"y\":5},{\"font\":{\"color\":\"white\"},\"showarrow\":false,\"text\":\"61.99\",\"x\":0,\"y\":6},{\"font\":{\"color\":\"white\"},\"showarrow\":false,\"text\":\"68.28\",\"x\":0,\"y\":7},{\"font\":{\"color\":\"white\"},\"showarrow\":false,\"text\":\"65.16\",\"x\":0,\"y\":8},{\"font\":{\"color\":\"white\"},\"showarrow\":false,\"text\":\"67.49\",\"x\":0,\"y\":9},{\"font\":{\"color\":\"white\"},\"showarrow\":false,\"text\":\"65.03\",\"x\":1,\"y\":0},{\"font\":{\"color\":\"white\"},\"showarrow\":false,\"text\":\"61.44\",\"x\":1,\"y\":1},{\"font\":{\"color\":\"white\"},\"showarrow\":false,\"text\":\"59.99\",\"x\":1,\"y\":2},{\"font\":{\"color\":\"white\"},\"showarrow\":false,\"text\":\"60.84\",\"x\":1,\"y\":3},{\"font\":{\"color\":\"white\"},\"showarrow\":false,\"text\":\"44.25\",\"x\":1,\"y\":4},{\"font\":{\"color\":\"white\"},\"showarrow\":false,\"text\":\"65.45\",\"x\":1,\"y\":5},{\"font\":{\"color\":\"white\"},\"showarrow\":false,\"text\":\"58.69\",\"x\":1,\"y\":6},{\"font\":{\"color\":\"white\"},\"showarrow\":false,\"text\":\"68.36\",\"x\":1,\"y\":7},{\"font\":{\"color\":\"white\"},\"showarrow\":false,\"text\":\"61.44\",\"x\":1,\"y\":8},{\"font\":{\"color\":\"white\"},\"showarrow\":false,\"text\":\"67.08\",\"x\":1,\"y\":9},{\"font\":{\"color\":\"white\"},\"showarrow\":false,\"text\":\"71.90\",\"x\":2,\"y\":0},{\"font\":{\"color\":\"white\"},\"showarrow\":false,\"text\":\"60.32\",\"x\":2,\"y\":1},{\"font\":{\"color\":\"white\"},\"showarrow\":false,\"text\":\"68.98\",\"x\":2,\"y\":2},{\"font\":{\"color\":\"white\"},\"showarrow\":false,\"text\":\"62.59\",\"x\":2,\"y\":3},{\"font\":{\"color\":\"white\"},\"showarrow\":false,\"text\":\"52.34\",\"x\":2,\"y\":4},{\"font\":{\"color\":\"white\"},\"showarrow\":false,\"text\":\"63.86\",\"x\":2,\"y\":5},{\"font\":{\"color\":\"white\"},\"showarrow\":false,\"text\":\"58.07\",\"x\":2,\"y\":6},{\"font\":{\"color\":\"white\"},\"showarrow\":false,\"text\":\"72.22\",\"x\":2,\"y\":7},{\"font\":{\"color\":\"white\"},\"showarrow\":false,\"text\":\"61.68\",\"x\":2,\"y\":8},{\"font\":{\"color\":\"white\"},\"showarrow\":false,\"text\":\"54.96\",\"x\":2,\"y\":9},{\"font\":{\"color\":\"white\"},\"showarrow\":false,\"text\":\"64.41\",\"x\":3,\"y\":0},{\"font\":{\"color\":\"white\"},\"showarrow\":false,\"text\":\"58.15\",\"x\":3,\"y\":1},{\"font\":{\"color\":\"white\"},\"showarrow\":false,\"text\":\"59.95\",\"x\":3,\"y\":2},{\"font\":{\"color\":\"white\"},\"showarrow\":false,\"text\":\"62.40\",\"x\":3,\"y\":3},{\"font\":{\"color\":\"white\"},\"showarrow\":false,\"text\":\"46.52\",\"x\":3,\"y\":4},{\"font\":{\"color\":\"white\"},\"showarrow\":false,\"text\":\"66.30\",\"x\":3,\"y\":5},{\"font\":{\"color\":\"white\"},\"showarrow\":false,\"text\":\"58.59\",\"x\":3,\"y\":6},{\"font\":{\"color\":\"white\"},\"showarrow\":false,\"text\":\"65.89\",\"x\":3,\"y\":7},{\"font\":{\"color\":\"white\"},\"showarrow\":false,\"text\":\"61.50\",\"x\":3,\"y\":8},{\"font\":{\"color\":\"white\"},\"showarrow\":false,\"text\":\"61.77\",\"x\":3,\"y\":9},{\"font\":{\"color\":\"white\"},\"showarrow\":false,\"text\":\"59.26\",\"x\":4,\"y\":0},{\"font\":{\"color\":\"white\"},\"showarrow\":false,\"text\":\"57.04\",\"x\":4,\"y\":1},{\"font\":{\"color\":\"white\"},\"showarrow\":false,\"text\":\"58.37\",\"x\":4,\"y\":2},{\"font\":{\"color\":\"white\"},\"showarrow\":false,\"text\":\"59.06\",\"x\":4,\"y\":3},{\"font\":{\"color\":\"white\"},\"showarrow\":false,\"text\":\"44.92\",\"x\":4,\"y\":4},{\"font\":{\"color\":\"white\"},\"showarrow\":false,\"text\":\"64.32\",\"x\":4,\"y\":5},{\"font\":{\"color\":\"white\"},\"showarrow\":false,\"text\":\"54.11\",\"x\":4,\"y\":6},{\"font\":{\"color\":\"white\"},\"showarrow\":false,\"text\":\"63.13\",\"x\":4,\"y\":7},{\"font\":{\"color\":\"white\"},\"showarrow\":false,\"text\":\"57.99\",\"x\":4,\"y\":8},{\"font\":{\"color\":\"white\"},\"showarrow\":false,\"text\":\"59.44\",\"x\":4,\"y\":9},{\"font\":{\"color\":\"white\"},\"showarrow\":false,\"text\":\"66.21\",\"x\":5,\"y\":0},{\"font\":{\"color\":\"white\"},\"showarrow\":false,\"text\":\"63.99\",\"x\":5,\"y\":1},{\"font\":{\"color\":\"white\"},\"showarrow\":false,\"text\":\"56.31\",\"x\":5,\"y\":2},{\"font\":{\"color\":\"white\"},\"showarrow\":false,\"text\":\"60.08\",\"x\":5,\"y\":3},{\"font\":{\"color\":\"white\"},\"showarrow\":false,\"text\":\"44.72\",\"x\":5,\"y\":4},{\"font\":{\"color\":\"white\"},\"showarrow\":false,\"text\":\"67.33\",\"x\":5,\"y\":5},{\"font\":{\"color\":\"white\"},\"showarrow\":false,\"text\":\"60.08\",\"x\":5,\"y\":6},{\"font\":{\"color\":\"white\"},\"showarrow\":false,\"text\":\"68.90\",\"x\":5,\"y\":7},{\"font\":{\"color\":\"white\"},\"showarrow\":false,\"text\":\"61.72\",\"x\":5,\"y\":8},{\"font\":{\"color\":\"white\"},\"showarrow\":false,\"text\":\"68.44\",\"x\":5,\"y\":9},{\"font\":{\"color\":\"white\"},\"showarrow\":false,\"text\":\"62.82\",\"x\":6,\"y\":0},{\"font\":{\"color\":\"white\"},\"showarrow\":false,\"text\":\"59.85\",\"x\":6,\"y\":1},{\"font\":{\"color\":\"white\"},\"showarrow\":false,\"text\":\"53.76\",\"x\":6,\"y\":2},{\"font\":{\"color\":\"white\"},\"showarrow\":false,\"text\":\"60.94\",\"x\":6,\"y\":3},{\"font\":{\"color\":\"white\"},\"showarrow\":false,\"text\":\"47.62\",\"x\":6,\"y\":4},{\"font\":{\"color\":\"white\"},\"showarrow\":false,\"text\":\"65.39\",\"x\":6,\"y\":5},{\"font\":{\"color\":\"white\"},\"showarrow\":false,\"text\":\"62.06\",\"x\":6,\"y\":6},{\"font\":{\"color\":\"white\"},\"showarrow\":false,\"text\":\"66.82\",\"x\":6,\"y\":7},{\"font\":{\"color\":\"white\"},\"showarrow\":false,\"text\":\"58.97\",\"x\":6,\"y\":8},{\"font\":{\"color\":\"white\"},\"showarrow\":false,\"text\":\"62.61\",\"x\":6,\"y\":9},{\"font\":{\"color\":\"white\"},\"showarrow\":false,\"text\":\"68.04\",\"x\":7,\"y\":0},{\"font\":{\"color\":\"white\"},\"showarrow\":false,\"text\":\"58.33\",\"x\":7,\"y\":1},{\"font\":{\"color\":\"white\"},\"showarrow\":false,\"text\":\"58.44\",\"x\":7,\"y\":2},{\"font\":{\"color\":\"white\"},\"showarrow\":false,\"text\":\"59.11\",\"x\":7,\"y\":3},{\"font\":{\"color\":\"white\"},\"showarrow\":false,\"text\":\"50.21\",\"x\":7,\"y\":4},{\"font\":{\"color\":\"white\"},\"showarrow\":false,\"text\":\"59.24\",\"x\":7,\"y\":5},{\"font\":{\"color\":\"white\"},\"showarrow\":false,\"text\":\"57.90\",\"x\":7,\"y\":6},{\"font\":{\"color\":\"white\"},\"showarrow\":false,\"text\":\"69.38\",\"x\":7,\"y\":7},{\"font\":{\"color\":\"white\"},\"showarrow\":false,\"text\":\"55.53\",\"x\":7,\"y\":8},{\"font\":{\"color\":\"white\"},\"showarrow\":false,\"text\":\"58.72\",\"x\":7,\"y\":9},{\"font\":{\"color\":\"white\"},\"showarrow\":false,\"text\":\"55.86\",\"x\":8,\"y\":0},{\"font\":{\"color\":\"white\"},\"showarrow\":false,\"text\":\"62.56\",\"x\":8,\"y\":1},{\"font\":{\"color\":\"white\"},\"showarrow\":false,\"text\":\"57.96\",\"x\":8,\"y\":2},{\"font\":{\"color\":\"white\"},\"showarrow\":false,\"text\":\"60.14\",\"x\":8,\"y\":3},{\"font\":{\"color\":\"white\"},\"showarrow\":false,\"text\":\"48.61\",\"x\":8,\"y\":4},{\"font\":{\"color\":\"white\"},\"showarrow\":false,\"text\":\"64.37\",\"x\":8,\"y\":5},{\"font\":{\"color\":\"white\"},\"showarrow\":false,\"text\":\"60.43\",\"x\":8,\"y\":6},{\"font\":{\"color\":\"white\"},\"showarrow\":false,\"text\":\"67.01\",\"x\":8,\"y\":7},{\"font\":{\"color\":\"white\"},\"showarrow\":false,\"text\":\"59.45\",\"x\":8,\"y\":8},{\"font\":{\"color\":\"white\"},\"showarrow\":false,\"text\":\"64.10\",\"x\":8,\"y\":9},{\"font\":{\"color\":\"white\"},\"showarrow\":false,\"text\":\"58.11\",\"x\":9,\"y\":0},{\"font\":{\"color\":\"white\"},\"showarrow\":false,\"text\":\"60.92\",\"x\":9,\"y\":1},{\"font\":{\"color\":\"white\"},\"showarrow\":false,\"text\":\"58.48\",\"x\":9,\"y\":2},{\"font\":{\"color\":\"white\"},\"showarrow\":false,\"text\":\"60.40\",\"x\":9,\"y\":3},{\"font\":{\"color\":\"white\"},\"showarrow\":false,\"text\":\"45.08\",\"x\":9,\"y\":4},{\"font\":{\"color\":\"white\"},\"showarrow\":false,\"text\":\"67.12\",\"x\":9,\"y\":5},{\"font\":{\"color\":\"white\"},\"showarrow\":false,\"text\":\"57.10\",\"x\":9,\"y\":6},{\"font\":{\"color\":\"white\"},\"showarrow\":false,\"text\":\"65.91\",\"x\":9,\"y\":7},{\"font\":{\"color\":\"white\"},\"showarrow\":false,\"text\":\"61.65\",\"x\":9,\"y\":8},{\"font\":{\"color\":\"white\"},\"showarrow\":false,\"text\":\"66.80\",\"x\":9,\"y\":9}]},                        {\"responsive\": true}                    ).then(function(){\n",
       "                            \n",
       "var gd = document.getElementById('2a0bae6a-24b6-49ed-8bbb-f55074c1328d');\n",
       "var x = new MutationObserver(function (mutations, observer) {{\n",
       "        var display = window.getComputedStyle(gd).display;\n",
       "        if (!display || display === 'none') {{\n",
       "            console.log([gd, 'removed!']);\n",
       "            Plotly.purge(gd);\n",
       "            observer.disconnect();\n",
       "        }}\n",
       "}});\n",
       "\n",
       "// Listen for the removal of the full notebook cells\n",
       "var notebookContainer = gd.closest('#notebook-container');\n",
       "if (notebookContainer) {{\n",
       "    x.observe(notebookContainer, {childList: true});\n",
       "}}\n",
       "\n",
       "// Listen for the clearing of the current output cell\n",
       "var outputEl = gd.closest('.output');\n",
       "if (outputEl) {{\n",
       "    x.observe(outputEl, {childList: true});\n",
       "}}\n",
       "\n",
       "                        })                };                });            </script>        </div>"
      ]
     },
     "metadata": {},
     "output_type": "display_data"
    },
    {
     "name": "stdout",
     "output_type": "stream",
     "text": [
      "Overall Average Drop: -3.00\n",
      "Short Average Drop: -3.00\n",
      "Long Average Drop: -1.92\n",
      "Cross Dst Average Drop: -2.46\n",
      "Cross Prompt Average Drop: 61.09\n",
      "Train Dst:SciQ-short Average Drop: -11.04\n",
      "Train Dst:CoQA-short Average Drop: -0.18\n",
      "Train Dst:TriviaQA-short Average Drop: -6.29\n",
      "Train Dst:MedMCQA-short Average Drop: -1.85\n",
      "Train Dst:MedQA-short Average Drop: 12.84\n",
      "Train Dst:SciQ-long Average Drop: -5.55\n",
      "Train Dst:CoQA-long Average Drop: -1.98\n",
      "Train Dst:TriviaQA-long Average Drop: -9.89\n",
      "Train Dst:MedMCQA-long Average Drop: 0.60\n",
      "Train Dst:MedQA-long Average Drop: -6.64\n"
     ]
    },
    {
     "data": {
      "application/vnd.plotly.v1+json": {
       "config": {
        "plotlyServerURL": "https://plot.ly"
       },
       "data": [
        {
         "colorscale": [
          [
           0,
           "#000004"
          ],
          [
           0.1111111111111111,
           "#1b0c41"
          ],
          [
           0.2222222222222222,
           "#4a0c6b"
          ],
          [
           0.3333333333333333,
           "#781c6d"
          ],
          [
           0.4444444444444444,
           "#a52c60"
          ],
          [
           0.5555555555555556,
           "#cf4446"
          ],
          [
           0.6666666666666666,
           "#ed6925"
          ],
          [
           0.7777777777777778,
           "#fb9b06"
          ],
          [
           0.8888888888888888,
           "#f7d13d"
          ],
          [
           1,
           "#fcffa4"
          ]
         ],
         "type": "heatmap",
         "x": [
          "SciQ-short",
          "CoQA-short",
          "TriviaQA-short",
          "MedMCQA-short",
          "MedQA-short",
          "SciQ-long",
          "CoQA-long",
          "TriviaQA-long",
          "MedMCQA-long",
          "MedQA-long"
         ],
         "y": [
          "SciQ-short",
          "CoQA-short",
          "TriviaQA-short",
          "MedMCQA-short",
          "MedQA-short",
          "SciQ-long",
          "CoQA-long",
          "TriviaQA-long",
          "MedMCQA-long",
          "MedQA-long"
         ],
         "z": [
          [
           77.88313293457031,
           63.05448913574219,
           66.3211898803711,
           67.2048568725586,
           68.86224365234375,
           73.81419372558594,
           55.015167236328125,
           61.30755615234375,
           64.23974609375,
           66.32513427734375
          ],
          [
           61.918331146240234,
           67.98078155517578,
           59.06416702270508,
           56.533687591552734,
           52.15330505371094,
           62.79071807861328,
           68.71484375,
           59.383243560791016,
           55.83928298950195,
           63.95820617675781
          ],
          [
           56.41847229003906,
           62.73445129394531,
           69.02837371826172,
           52.332298278808594,
           58.06488037109375,
           60.89927291870117,
           61.1044807434082,
           67.07231903076172,
           56.92597579956055,
           56.81829071044922
          ],
          [
           68.58966827392578,
           63.751461029052734,
           56.56465148925781,
           69.53800964355469,
           64.32748413085938,
           63.78070068359375,
           59.088043212890625,
           51.188758850097656,
           65.33592987060547,
           60.520469665527344
          ],
          [
           62.44716262817383,
           49.26483917236328,
           53.56785583496094,
           61.74665832519531,
           63.74448776245117,
           53.03154373168945,
           50.181800842285156,
           49.61480712890625,
           53.98088836669922,
           49.89432907104492
          ],
          [
           67.1263198852539,
           69.84769439697266,
           59.043766021728516,
           55.99742889404297,
           55.00148010253906,
           74.62887573242188,
           67.02725982666016,
           59.438873291015625,
           69.19598388671875,
           66.6832504272461
          ],
          [
           56.36351013183594,
           63.98424530029297,
           55.704803466796875,
           53.929039001464844,
           52.151554107666016,
           61.86623001098633,
           72.2034912109375,
           59.33114242553711,
           60.185916900634766,
           56.77885818481445
          ],
          [
           68.68373107910156,
           71.89387512207031,
           73.77442932128906,
           65.47405242919922,
           50.4887809753418,
           69.7961654663086,
           74.5334243774414,
           77.06732177734375,
           69.68606567382812,
           63.36792755126953
          ],
          [
           60.32537078857422,
           67.3587417602539,
           57.711116790771484,
           56.05671691894531,
           48.227046966552734,
           68.73773956298828,
           65.24188232421875,
           57.36250305175781,
           69.06485748291016,
           64.36531066894531
          ],
          [
           63.344688415527344,
           68.42719268798828,
           51.36690902709961,
           55.92682647705078,
           51.73514938354492,
           69.969482421875,
           62.799583435058594,
           55.820472717285156,
           67.96385955810547,
           73.48214721679688
          ]
         ]
        }
       ],
       "layout": {
        "annotations": [
         {
          "font": {
           "color": "white"
          },
          "showarrow": false,
          "text": "77.88",
          "x": 0,
          "y": 0
         },
         {
          "font": {
           "color": "white"
          },
          "showarrow": false,
          "text": "61.92",
          "x": 0,
          "y": 1
         },
         {
          "font": {
           "color": "white"
          },
          "showarrow": false,
          "text": "56.42",
          "x": 0,
          "y": 2
         },
         {
          "font": {
           "color": "white"
          },
          "showarrow": false,
          "text": "68.59",
          "x": 0,
          "y": 3
         },
         {
          "font": {
           "color": "white"
          },
          "showarrow": false,
          "text": "62.45",
          "x": 0,
          "y": 4
         },
         {
          "font": {
           "color": "white"
          },
          "showarrow": false,
          "text": "67.13",
          "x": 0,
          "y": 5
         },
         {
          "font": {
           "color": "white"
          },
          "showarrow": false,
          "text": "56.36",
          "x": 0,
          "y": 6
         },
         {
          "font": {
           "color": "white"
          },
          "showarrow": false,
          "text": "68.68",
          "x": 0,
          "y": 7
         },
         {
          "font": {
           "color": "white"
          },
          "showarrow": false,
          "text": "60.33",
          "x": 0,
          "y": 8
         },
         {
          "font": {
           "color": "white"
          },
          "showarrow": false,
          "text": "63.34",
          "x": 0,
          "y": 9
         },
         {
          "font": {
           "color": "white"
          },
          "showarrow": false,
          "text": "63.05",
          "x": 1,
          "y": 0
         },
         {
          "font": {
           "color": "white"
          },
          "showarrow": false,
          "text": "67.98",
          "x": 1,
          "y": 1
         },
         {
          "font": {
           "color": "white"
          },
          "showarrow": false,
          "text": "62.73",
          "x": 1,
          "y": 2
         },
         {
          "font": {
           "color": "white"
          },
          "showarrow": false,
          "text": "63.75",
          "x": 1,
          "y": 3
         },
         {
          "font": {
           "color": "white"
          },
          "showarrow": false,
          "text": "49.26",
          "x": 1,
          "y": 4
         },
         {
          "font": {
           "color": "white"
          },
          "showarrow": false,
          "text": "69.85",
          "x": 1,
          "y": 5
         },
         {
          "font": {
           "color": "white"
          },
          "showarrow": false,
          "text": "63.98",
          "x": 1,
          "y": 6
         },
         {
          "font": {
           "color": "white"
          },
          "showarrow": false,
          "text": "71.89",
          "x": 1,
          "y": 7
         },
         {
          "font": {
           "color": "white"
          },
          "showarrow": false,
          "text": "67.36",
          "x": 1,
          "y": 8
         },
         {
          "font": {
           "color": "white"
          },
          "showarrow": false,
          "text": "68.43",
          "x": 1,
          "y": 9
         },
         {
          "font": {
           "color": "white"
          },
          "showarrow": false,
          "text": "66.32",
          "x": 2,
          "y": 0
         },
         {
          "font": {
           "color": "white"
          },
          "showarrow": false,
          "text": "59.06",
          "x": 2,
          "y": 1
         },
         {
          "font": {
           "color": "white"
          },
          "showarrow": false,
          "text": "69.03",
          "x": 2,
          "y": 2
         },
         {
          "font": {
           "color": "white"
          },
          "showarrow": false,
          "text": "56.56",
          "x": 2,
          "y": 3
         },
         {
          "font": {
           "color": "white"
          },
          "showarrow": false,
          "text": "53.57",
          "x": 2,
          "y": 4
         },
         {
          "font": {
           "color": "white"
          },
          "showarrow": false,
          "text": "59.04",
          "x": 2,
          "y": 5
         },
         {
          "font": {
           "color": "white"
          },
          "showarrow": false,
          "text": "55.70",
          "x": 2,
          "y": 6
         },
         {
          "font": {
           "color": "white"
          },
          "showarrow": false,
          "text": "73.77",
          "x": 2,
          "y": 7
         },
         {
          "font": {
           "color": "white"
          },
          "showarrow": false,
          "text": "57.71",
          "x": 2,
          "y": 8
         },
         {
          "font": {
           "color": "white"
          },
          "showarrow": false,
          "text": "51.37",
          "x": 2,
          "y": 9
         },
         {
          "font": {
           "color": "white"
          },
          "showarrow": false,
          "text": "67.20",
          "x": 3,
          "y": 0
         },
         {
          "font": {
           "color": "white"
          },
          "showarrow": false,
          "text": "56.53",
          "x": 3,
          "y": 1
         },
         {
          "font": {
           "color": "white"
          },
          "showarrow": false,
          "text": "52.33",
          "x": 3,
          "y": 2
         },
         {
          "font": {
           "color": "white"
          },
          "showarrow": false,
          "text": "69.54",
          "x": 3,
          "y": 3
         },
         {
          "font": {
           "color": "white"
          },
          "showarrow": false,
          "text": "61.75",
          "x": 3,
          "y": 4
         },
         {
          "font": {
           "color": "white"
          },
          "showarrow": false,
          "text": "56.00",
          "x": 3,
          "y": 5
         },
         {
          "font": {
           "color": "white"
          },
          "showarrow": false,
          "text": "53.93",
          "x": 3,
          "y": 6
         },
         {
          "font": {
           "color": "white"
          },
          "showarrow": false,
          "text": "65.47",
          "x": 3,
          "y": 7
         },
         {
          "font": {
           "color": "white"
          },
          "showarrow": false,
          "text": "56.06",
          "x": 3,
          "y": 8
         },
         {
          "font": {
           "color": "white"
          },
          "showarrow": false,
          "text": "55.93",
          "x": 3,
          "y": 9
         },
         {
          "font": {
           "color": "white"
          },
          "showarrow": false,
          "text": "68.86",
          "x": 4,
          "y": 0
         },
         {
          "font": {
           "color": "white"
          },
          "showarrow": false,
          "text": "52.15",
          "x": 4,
          "y": 1
         },
         {
          "font": {
           "color": "white"
          },
          "showarrow": false,
          "text": "58.06",
          "x": 4,
          "y": 2
         },
         {
          "font": {
           "color": "white"
          },
          "showarrow": false,
          "text": "64.33",
          "x": 4,
          "y": 3
         },
         {
          "font": {
           "color": "white"
          },
          "showarrow": false,
          "text": "63.74",
          "x": 4,
          "y": 4
         },
         {
          "font": {
           "color": "white"
          },
          "showarrow": false,
          "text": "55.00",
          "x": 4,
          "y": 5
         },
         {
          "font": {
           "color": "white"
          },
          "showarrow": false,
          "text": "52.15",
          "x": 4,
          "y": 6
         },
         {
          "font": {
           "color": "white"
          },
          "showarrow": false,
          "text": "50.49",
          "x": 4,
          "y": 7
         },
         {
          "font": {
           "color": "white"
          },
          "showarrow": false,
          "text": "48.23",
          "x": 4,
          "y": 8
         },
         {
          "font": {
           "color": "white"
          },
          "showarrow": false,
          "text": "51.74",
          "x": 4,
          "y": 9
         },
         {
          "font": {
           "color": "white"
          },
          "showarrow": false,
          "text": "73.81",
          "x": 5,
          "y": 0
         },
         {
          "font": {
           "color": "white"
          },
          "showarrow": false,
          "text": "62.79",
          "x": 5,
          "y": 1
         },
         {
          "font": {
           "color": "white"
          },
          "showarrow": false,
          "text": "60.90",
          "x": 5,
          "y": 2
         },
         {
          "font": {
           "color": "white"
          },
          "showarrow": false,
          "text": "63.78",
          "x": 5,
          "y": 3
         },
         {
          "font": {
           "color": "white"
          },
          "showarrow": false,
          "text": "53.03",
          "x": 5,
          "y": 4
         },
         {
          "font": {
           "color": "white"
          },
          "showarrow": false,
          "text": "74.63",
          "x": 5,
          "y": 5
         },
         {
          "font": {
           "color": "white"
          },
          "showarrow": false,
          "text": "61.87",
          "x": 5,
          "y": 6
         },
         {
          "font": {
           "color": "white"
          },
          "showarrow": false,
          "text": "69.80",
          "x": 5,
          "y": 7
         },
         {
          "font": {
           "color": "white"
          },
          "showarrow": false,
          "text": "68.74",
          "x": 5,
          "y": 8
         },
         {
          "font": {
           "color": "white"
          },
          "showarrow": false,
          "text": "69.97",
          "x": 5,
          "y": 9
         },
         {
          "font": {
           "color": "white"
          },
          "showarrow": false,
          "text": "55.02",
          "x": 6,
          "y": 0
         },
         {
          "font": {
           "color": "white"
          },
          "showarrow": false,
          "text": "68.71",
          "x": 6,
          "y": 1
         },
         {
          "font": {
           "color": "white"
          },
          "showarrow": false,
          "text": "61.10",
          "x": 6,
          "y": 2
         },
         {
          "font": {
           "color": "white"
          },
          "showarrow": false,
          "text": "59.09",
          "x": 6,
          "y": 3
         },
         {
          "font": {
           "color": "white"
          },
          "showarrow": false,
          "text": "50.18",
          "x": 6,
          "y": 4
         },
         {
          "font": {
           "color": "white"
          },
          "showarrow": false,
          "text": "67.03",
          "x": 6,
          "y": 5
         },
         {
          "font": {
           "color": "white"
          },
          "showarrow": false,
          "text": "72.20",
          "x": 6,
          "y": 6
         },
         {
          "font": {
           "color": "white"
          },
          "showarrow": false,
          "text": "74.53",
          "x": 6,
          "y": 7
         },
         {
          "font": {
           "color": "white"
          },
          "showarrow": false,
          "text": "65.24",
          "x": 6,
          "y": 8
         },
         {
          "font": {
           "color": "white"
          },
          "showarrow": false,
          "text": "62.80",
          "x": 6,
          "y": 9
         },
         {
          "font": {
           "color": "white"
          },
          "showarrow": false,
          "text": "61.31",
          "x": 7,
          "y": 0
         },
         {
          "font": {
           "color": "white"
          },
          "showarrow": false,
          "text": "59.38",
          "x": 7,
          "y": 1
         },
         {
          "font": {
           "color": "white"
          },
          "showarrow": false,
          "text": "67.07",
          "x": 7,
          "y": 2
         },
         {
          "font": {
           "color": "white"
          },
          "showarrow": false,
          "text": "51.19",
          "x": 7,
          "y": 3
         },
         {
          "font": {
           "color": "white"
          },
          "showarrow": false,
          "text": "49.61",
          "x": 7,
          "y": 4
         },
         {
          "font": {
           "color": "white"
          },
          "showarrow": false,
          "text": "59.44",
          "x": 7,
          "y": 5
         },
         {
          "font": {
           "color": "white"
          },
          "showarrow": false,
          "text": "59.33",
          "x": 7,
          "y": 6
         },
         {
          "font": {
           "color": "white"
          },
          "showarrow": false,
          "text": "77.07",
          "x": 7,
          "y": 7
         },
         {
          "font": {
           "color": "white"
          },
          "showarrow": false,
          "text": "57.36",
          "x": 7,
          "y": 8
         },
         {
          "font": {
           "color": "white"
          },
          "showarrow": false,
          "text": "55.82",
          "x": 7,
          "y": 9
         },
         {
          "font": {
           "color": "white"
          },
          "showarrow": false,
          "text": "64.24",
          "x": 8,
          "y": 0
         },
         {
          "font": {
           "color": "white"
          },
          "showarrow": false,
          "text": "55.84",
          "x": 8,
          "y": 1
         },
         {
          "font": {
           "color": "white"
          },
          "showarrow": false,
          "text": "56.93",
          "x": 8,
          "y": 2
         },
         {
          "font": {
           "color": "white"
          },
          "showarrow": false,
          "text": "65.34",
          "x": 8,
          "y": 3
         },
         {
          "font": {
           "color": "white"
          },
          "showarrow": false,
          "text": "53.98",
          "x": 8,
          "y": 4
         },
         {
          "font": {
           "color": "white"
          },
          "showarrow": false,
          "text": "69.20",
          "x": 8,
          "y": 5
         },
         {
          "font": {
           "color": "white"
          },
          "showarrow": false,
          "text": "60.19",
          "x": 8,
          "y": 6
         },
         {
          "font": {
           "color": "white"
          },
          "showarrow": false,
          "text": "69.69",
          "x": 8,
          "y": 7
         },
         {
          "font": {
           "color": "white"
          },
          "showarrow": false,
          "text": "69.06",
          "x": 8,
          "y": 8
         },
         {
          "font": {
           "color": "white"
          },
          "showarrow": false,
          "text": "67.96",
          "x": 8,
          "y": 9
         },
         {
          "font": {
           "color": "white"
          },
          "showarrow": false,
          "text": "66.33",
          "x": 9,
          "y": 0
         },
         {
          "font": {
           "color": "white"
          },
          "showarrow": false,
          "text": "63.96",
          "x": 9,
          "y": 1
         },
         {
          "font": {
           "color": "white"
          },
          "showarrow": false,
          "text": "56.82",
          "x": 9,
          "y": 2
         },
         {
          "font": {
           "color": "white"
          },
          "showarrow": false,
          "text": "60.52",
          "x": 9,
          "y": 3
         },
         {
          "font": {
           "color": "white"
          },
          "showarrow": false,
          "text": "49.89",
          "x": 9,
          "y": 4
         },
         {
          "font": {
           "color": "white"
          },
          "showarrow": false,
          "text": "66.68",
          "x": 9,
          "y": 5
         },
         {
          "font": {
           "color": "white"
          },
          "showarrow": false,
          "text": "56.78",
          "x": 9,
          "y": 6
         },
         {
          "font": {
           "color": "white"
          },
          "showarrow": false,
          "text": "63.37",
          "x": 9,
          "y": 7
         },
         {
          "font": {
           "color": "white"
          },
          "showarrow": false,
          "text": "64.37",
          "x": 9,
          "y": 8
         },
         {
          "font": {
           "color": "white"
          },
          "showarrow": false,
          "text": "73.48",
          "x": 9,
          "y": 9
         }
        ],
        "height": 1000,
        "template": {
         "data": {
          "bar": [
           {
            "error_x": {
             "color": "#2a3f5f"
            },
            "error_y": {
             "color": "#2a3f5f"
            },
            "marker": {
             "line": {
              "color": "#E5ECF6",
              "width": 0.5
             },
             "pattern": {
              "fillmode": "overlay",
              "size": 10,
              "solidity": 0.2
             }
            },
            "type": "bar"
           }
          ],
          "barpolar": [
           {
            "marker": {
             "line": {
              "color": "#E5ECF6",
              "width": 0.5
             },
             "pattern": {
              "fillmode": "overlay",
              "size": 10,
              "solidity": 0.2
             }
            },
            "type": "barpolar"
           }
          ],
          "carpet": [
           {
            "aaxis": {
             "endlinecolor": "#2a3f5f",
             "gridcolor": "white",
             "linecolor": "white",
             "minorgridcolor": "white",
             "startlinecolor": "#2a3f5f"
            },
            "baxis": {
             "endlinecolor": "#2a3f5f",
             "gridcolor": "white",
             "linecolor": "white",
             "minorgridcolor": "white",
             "startlinecolor": "#2a3f5f"
            },
            "type": "carpet"
           }
          ],
          "choropleth": [
           {
            "colorbar": {
             "outlinewidth": 0,
             "ticks": ""
            },
            "type": "choropleth"
           }
          ],
          "contour": [
           {
            "colorbar": {
             "outlinewidth": 0,
             "ticks": ""
            },
            "colorscale": [
             [
              0,
              "#0d0887"
             ],
             [
              0.1111111111111111,
              "#46039f"
             ],
             [
              0.2222222222222222,
              "#7201a8"
             ],
             [
              0.3333333333333333,
              "#9c179e"
             ],
             [
              0.4444444444444444,
              "#bd3786"
             ],
             [
              0.5555555555555556,
              "#d8576b"
             ],
             [
              0.6666666666666666,
              "#ed7953"
             ],
             [
              0.7777777777777778,
              "#fb9f3a"
             ],
             [
              0.8888888888888888,
              "#fdca26"
             ],
             [
              1,
              "#f0f921"
             ]
            ],
            "type": "contour"
           }
          ],
          "contourcarpet": [
           {
            "colorbar": {
             "outlinewidth": 0,
             "ticks": ""
            },
            "type": "contourcarpet"
           }
          ],
          "heatmap": [
           {
            "colorbar": {
             "outlinewidth": 0,
             "ticks": ""
            },
            "colorscale": [
             [
              0,
              "#0d0887"
             ],
             [
              0.1111111111111111,
              "#46039f"
             ],
             [
              0.2222222222222222,
              "#7201a8"
             ],
             [
              0.3333333333333333,
              "#9c179e"
             ],
             [
              0.4444444444444444,
              "#bd3786"
             ],
             [
              0.5555555555555556,
              "#d8576b"
             ],
             [
              0.6666666666666666,
              "#ed7953"
             ],
             [
              0.7777777777777778,
              "#fb9f3a"
             ],
             [
              0.8888888888888888,
              "#fdca26"
             ],
             [
              1,
              "#f0f921"
             ]
            ],
            "type": "heatmap"
           }
          ],
          "heatmapgl": [
           {
            "colorbar": {
             "outlinewidth": 0,
             "ticks": ""
            },
            "colorscale": [
             [
              0,
              "#0d0887"
             ],
             [
              0.1111111111111111,
              "#46039f"
             ],
             [
              0.2222222222222222,
              "#7201a8"
             ],
             [
              0.3333333333333333,
              "#9c179e"
             ],
             [
              0.4444444444444444,
              "#bd3786"
             ],
             [
              0.5555555555555556,
              "#d8576b"
             ],
             [
              0.6666666666666666,
              "#ed7953"
             ],
             [
              0.7777777777777778,
              "#fb9f3a"
             ],
             [
              0.8888888888888888,
              "#fdca26"
             ],
             [
              1,
              "#f0f921"
             ]
            ],
            "type": "heatmapgl"
           }
          ],
          "histogram": [
           {
            "marker": {
             "pattern": {
              "fillmode": "overlay",
              "size": 10,
              "solidity": 0.2
             }
            },
            "type": "histogram"
           }
          ],
          "histogram2d": [
           {
            "colorbar": {
             "outlinewidth": 0,
             "ticks": ""
            },
            "colorscale": [
             [
              0,
              "#0d0887"
             ],
             [
              0.1111111111111111,
              "#46039f"
             ],
             [
              0.2222222222222222,
              "#7201a8"
             ],
             [
              0.3333333333333333,
              "#9c179e"
             ],
             [
              0.4444444444444444,
              "#bd3786"
             ],
             [
              0.5555555555555556,
              "#d8576b"
             ],
             [
              0.6666666666666666,
              "#ed7953"
             ],
             [
              0.7777777777777778,
              "#fb9f3a"
             ],
             [
              0.8888888888888888,
              "#fdca26"
             ],
             [
              1,
              "#f0f921"
             ]
            ],
            "type": "histogram2d"
           }
          ],
          "histogram2dcontour": [
           {
            "colorbar": {
             "outlinewidth": 0,
             "ticks": ""
            },
            "colorscale": [
             [
              0,
              "#0d0887"
             ],
             [
              0.1111111111111111,
              "#46039f"
             ],
             [
              0.2222222222222222,
              "#7201a8"
             ],
             [
              0.3333333333333333,
              "#9c179e"
             ],
             [
              0.4444444444444444,
              "#bd3786"
             ],
             [
              0.5555555555555556,
              "#d8576b"
             ],
             [
              0.6666666666666666,
              "#ed7953"
             ],
             [
              0.7777777777777778,
              "#fb9f3a"
             ],
             [
              0.8888888888888888,
              "#fdca26"
             ],
             [
              1,
              "#f0f921"
             ]
            ],
            "type": "histogram2dcontour"
           }
          ],
          "mesh3d": [
           {
            "colorbar": {
             "outlinewidth": 0,
             "ticks": ""
            },
            "type": "mesh3d"
           }
          ],
          "parcoords": [
           {
            "line": {
             "colorbar": {
              "outlinewidth": 0,
              "ticks": ""
             }
            },
            "type": "parcoords"
           }
          ],
          "pie": [
           {
            "automargin": true,
            "type": "pie"
           }
          ],
          "scatter": [
           {
            "fillpattern": {
             "fillmode": "overlay",
             "size": 10,
             "solidity": 0.2
            },
            "type": "scatter"
           }
          ],
          "scatter3d": [
           {
            "line": {
             "colorbar": {
              "outlinewidth": 0,
              "ticks": ""
             }
            },
            "marker": {
             "colorbar": {
              "outlinewidth": 0,
              "ticks": ""
             }
            },
            "type": "scatter3d"
           }
          ],
          "scattercarpet": [
           {
            "marker": {
             "colorbar": {
              "outlinewidth": 0,
              "ticks": ""
             }
            },
            "type": "scattercarpet"
           }
          ],
          "scattergeo": [
           {
            "marker": {
             "colorbar": {
              "outlinewidth": 0,
              "ticks": ""
             }
            },
            "type": "scattergeo"
           }
          ],
          "scattergl": [
           {
            "marker": {
             "colorbar": {
              "outlinewidth": 0,
              "ticks": ""
             }
            },
            "type": "scattergl"
           }
          ],
          "scattermapbox": [
           {
            "marker": {
             "colorbar": {
              "outlinewidth": 0,
              "ticks": ""
             }
            },
            "type": "scattermapbox"
           }
          ],
          "scatterpolar": [
           {
            "marker": {
             "colorbar": {
              "outlinewidth": 0,
              "ticks": ""
             }
            },
            "type": "scatterpolar"
           }
          ],
          "scatterpolargl": [
           {
            "marker": {
             "colorbar": {
              "outlinewidth": 0,
              "ticks": ""
             }
            },
            "type": "scatterpolargl"
           }
          ],
          "scatterternary": [
           {
            "marker": {
             "colorbar": {
              "outlinewidth": 0,
              "ticks": ""
             }
            },
            "type": "scatterternary"
           }
          ],
          "surface": [
           {
            "colorbar": {
             "outlinewidth": 0,
             "ticks": ""
            },
            "colorscale": [
             [
              0,
              "#0d0887"
             ],
             [
              0.1111111111111111,
              "#46039f"
             ],
             [
              0.2222222222222222,
              "#7201a8"
             ],
             [
              0.3333333333333333,
              "#9c179e"
             ],
             [
              0.4444444444444444,
              "#bd3786"
             ],
             [
              0.5555555555555556,
              "#d8576b"
             ],
             [
              0.6666666666666666,
              "#ed7953"
             ],
             [
              0.7777777777777778,
              "#fb9f3a"
             ],
             [
              0.8888888888888888,
              "#fdca26"
             ],
             [
              1,
              "#f0f921"
             ]
            ],
            "type": "surface"
           }
          ],
          "table": [
           {
            "cells": {
             "fill": {
              "color": "#EBF0F8"
             },
             "line": {
              "color": "white"
             }
            },
            "header": {
             "fill": {
              "color": "#C8D4E3"
             },
             "line": {
              "color": "white"
             }
            },
            "type": "table"
           }
          ]
         },
         "layout": {
          "annotationdefaults": {
           "arrowcolor": "#2a3f5f",
           "arrowhead": 0,
           "arrowwidth": 1
          },
          "autotypenumbers": "strict",
          "coloraxis": {
           "colorbar": {
            "outlinewidth": 0,
            "ticks": ""
           }
          },
          "colorscale": {
           "diverging": [
            [
             0,
             "#8e0152"
            ],
            [
             0.1,
             "#c51b7d"
            ],
            [
             0.2,
             "#de77ae"
            ],
            [
             0.3,
             "#f1b6da"
            ],
            [
             0.4,
             "#fde0ef"
            ],
            [
             0.5,
             "#f7f7f7"
            ],
            [
             0.6,
             "#e6f5d0"
            ],
            [
             0.7,
             "#b8e186"
            ],
            [
             0.8,
             "#7fbc41"
            ],
            [
             0.9,
             "#4d9221"
            ],
            [
             1,
             "#276419"
            ]
           ],
           "sequential": [
            [
             0,
             "#0d0887"
            ],
            [
             0.1111111111111111,
             "#46039f"
            ],
            [
             0.2222222222222222,
             "#7201a8"
            ],
            [
             0.3333333333333333,
             "#9c179e"
            ],
            [
             0.4444444444444444,
             "#bd3786"
            ],
            [
             0.5555555555555556,
             "#d8576b"
            ],
            [
             0.6666666666666666,
             "#ed7953"
            ],
            [
             0.7777777777777778,
             "#fb9f3a"
            ],
            [
             0.8888888888888888,
             "#fdca26"
            ],
            [
             1,
             "#f0f921"
            ]
           ],
           "sequentialminus": [
            [
             0,
             "#0d0887"
            ],
            [
             0.1111111111111111,
             "#46039f"
            ],
            [
             0.2222222222222222,
             "#7201a8"
            ],
            [
             0.3333333333333333,
             "#9c179e"
            ],
            [
             0.4444444444444444,
             "#bd3786"
            ],
            [
             0.5555555555555556,
             "#d8576b"
            ],
            [
             0.6666666666666666,
             "#ed7953"
            ],
            [
             0.7777777777777778,
             "#fb9f3a"
            ],
            [
             0.8888888888888888,
             "#fdca26"
            ],
            [
             1,
             "#f0f921"
            ]
           ]
          },
          "colorway": [
           "#636efa",
           "#EF553B",
           "#00cc96",
           "#ab63fa",
           "#FFA15A",
           "#19d3f3",
           "#FF6692",
           "#B6E880",
           "#FF97FF",
           "#FECB52"
          ],
          "font": {
           "color": "#2a3f5f"
          },
          "geo": {
           "bgcolor": "white",
           "lakecolor": "white",
           "landcolor": "#E5ECF6",
           "showlakes": true,
           "showland": true,
           "subunitcolor": "white"
          },
          "hoverlabel": {
           "align": "left"
          },
          "hovermode": "closest",
          "mapbox": {
           "style": "light"
          },
          "paper_bgcolor": "white",
          "plot_bgcolor": "#E5ECF6",
          "polar": {
           "angularaxis": {
            "gridcolor": "white",
            "linecolor": "white",
            "ticks": ""
           },
           "bgcolor": "#E5ECF6",
           "radialaxis": {
            "gridcolor": "white",
            "linecolor": "white",
            "ticks": ""
           }
          },
          "scene": {
           "xaxis": {
            "backgroundcolor": "#E5ECF6",
            "gridcolor": "white",
            "gridwidth": 2,
            "linecolor": "white",
            "showbackground": true,
            "ticks": "",
            "zerolinecolor": "white"
           },
           "yaxis": {
            "backgroundcolor": "#E5ECF6",
            "gridcolor": "white",
            "gridwidth": 2,
            "linecolor": "white",
            "showbackground": true,
            "ticks": "",
            "zerolinecolor": "white"
           },
           "zaxis": {
            "backgroundcolor": "#E5ECF6",
            "gridcolor": "white",
            "gridwidth": 2,
            "linecolor": "white",
            "showbackground": true,
            "ticks": "",
            "zerolinecolor": "white"
           }
          },
          "shapedefaults": {
           "line": {
            "color": "#2a3f5f"
           }
          },
          "ternary": {
           "aaxis": {
            "gridcolor": "white",
            "linecolor": "white",
            "ticks": ""
           },
           "baxis": {
            "gridcolor": "white",
            "linecolor": "white",
            "ticks": ""
           },
           "bgcolor": "#E5ECF6",
           "caxis": {
            "gridcolor": "white",
            "linecolor": "white",
            "ticks": ""
           }
          },
          "title": {
           "x": 0.05
          },
          "xaxis": {
           "automargin": true,
           "gridcolor": "white",
           "linecolor": "white",
           "ticks": "",
           "title": {
            "standoff": 15
           },
           "zerolinecolor": "white",
           "zerolinewidth": 2
          },
          "yaxis": {
           "automargin": true,
           "gridcolor": "white",
           "linecolor": "white",
           "ticks": "",
           "title": {
            "standoff": 15
           },
           "zerolinecolor": "white",
           "zerolinewidth": 2
          }
         }
        },
        "title": {
         "text": "Model: Vicuna-7B Correctness Metric: include Method: u_score_ours_mean_soft_include Cross Eval Results"
        },
        "width": 1000,
        "xaxis": {
         "title": {
          "text": "Train Dataset"
         }
        },
        "yaxis": {
         "title": {
          "text": "Test Dataset"
         }
        }
       }
      },
      "text/html": [
       "<div>                            <div id=\"8a6ed8fc-a7fb-4caf-bdce-3fe28da7d848\" class=\"plotly-graph-div\" style=\"height:1000px; width:1000px;\"></div>            <script type=\"text/javascript\">                require([\"plotly\"], function(Plotly) {                    window.PLOTLYENV=window.PLOTLYENV || {};                                    if (document.getElementById(\"8a6ed8fc-a7fb-4caf-bdce-3fe28da7d848\")) {                    Plotly.newPlot(                        \"8a6ed8fc-a7fb-4caf-bdce-3fe28da7d848\",                        [{\"colorscale\":[[0.0,\"#000004\"],[0.1111111111111111,\"#1b0c41\"],[0.2222222222222222,\"#4a0c6b\"],[0.3333333333333333,\"#781c6d\"],[0.4444444444444444,\"#a52c60\"],[0.5555555555555556,\"#cf4446\"],[0.6666666666666666,\"#ed6925\"],[0.7777777777777778,\"#fb9b06\"],[0.8888888888888888,\"#f7d13d\"],[1.0,\"#fcffa4\"]],\"x\":[\"SciQ-short\",\"CoQA-short\",\"TriviaQA-short\",\"MedMCQA-short\",\"MedQA-short\",\"SciQ-long\",\"CoQA-long\",\"TriviaQA-long\",\"MedMCQA-long\",\"MedQA-long\"],\"y\":[\"SciQ-short\",\"CoQA-short\",\"TriviaQA-short\",\"MedMCQA-short\",\"MedQA-short\",\"SciQ-long\",\"CoQA-long\",\"TriviaQA-long\",\"MedMCQA-long\",\"MedQA-long\"],\"z\":[[77.88313293457031,63.05448913574219,66.3211898803711,67.2048568725586,68.86224365234375,73.81419372558594,55.015167236328125,61.30755615234375,64.23974609375,66.32513427734375],[61.918331146240234,67.98078155517578,59.06416702270508,56.533687591552734,52.15330505371094,62.79071807861328,68.71484375,59.383243560791016,55.83928298950195,63.95820617675781],[56.41847229003906,62.73445129394531,69.02837371826172,52.332298278808594,58.06488037109375,60.89927291870117,61.1044807434082,67.07231903076172,56.92597579956055,56.81829071044922],[68.58966827392578,63.751461029052734,56.56465148925781,69.53800964355469,64.32748413085938,63.78070068359375,59.088043212890625,51.188758850097656,65.33592987060547,60.520469665527344],[62.44716262817383,49.26483917236328,53.56785583496094,61.74665832519531,63.74448776245117,53.03154373168945,50.181800842285156,49.61480712890625,53.98088836669922,49.89432907104492],[67.1263198852539,69.84769439697266,59.043766021728516,55.99742889404297,55.00148010253906,74.62887573242188,67.02725982666016,59.438873291015625,69.19598388671875,66.6832504272461],[56.36351013183594,63.98424530029297,55.704803466796875,53.929039001464844,52.151554107666016,61.86623001098633,72.2034912109375,59.33114242553711,60.185916900634766,56.77885818481445],[68.68373107910156,71.89387512207031,73.77442932128906,65.47405242919922,50.4887809753418,69.7961654663086,74.5334243774414,77.06732177734375,69.68606567382812,63.36792755126953],[60.32537078857422,67.3587417602539,57.711116790771484,56.05671691894531,48.227046966552734,68.73773956298828,65.24188232421875,57.36250305175781,69.06485748291016,64.36531066894531],[63.344688415527344,68.42719268798828,51.36690902709961,55.92682647705078,51.73514938354492,69.969482421875,62.799583435058594,55.820472717285156,67.96385955810547,73.48214721679688]],\"type\":\"heatmap\"}],                        {\"template\":{\"data\":{\"histogram2dcontour\":[{\"type\":\"histogram2dcontour\",\"colorbar\":{\"outlinewidth\":0,\"ticks\":\"\"},\"colorscale\":[[0.0,\"#0d0887\"],[0.1111111111111111,\"#46039f\"],[0.2222222222222222,\"#7201a8\"],[0.3333333333333333,\"#9c179e\"],[0.4444444444444444,\"#bd3786\"],[0.5555555555555556,\"#d8576b\"],[0.6666666666666666,\"#ed7953\"],[0.7777777777777778,\"#fb9f3a\"],[0.8888888888888888,\"#fdca26\"],[1.0,\"#f0f921\"]]}],\"choropleth\":[{\"type\":\"choropleth\",\"colorbar\":{\"outlinewidth\":0,\"ticks\":\"\"}}],\"histogram2d\":[{\"type\":\"histogram2d\",\"colorbar\":{\"outlinewidth\":0,\"ticks\":\"\"},\"colorscale\":[[0.0,\"#0d0887\"],[0.1111111111111111,\"#46039f\"],[0.2222222222222222,\"#7201a8\"],[0.3333333333333333,\"#9c179e\"],[0.4444444444444444,\"#bd3786\"],[0.5555555555555556,\"#d8576b\"],[0.6666666666666666,\"#ed7953\"],[0.7777777777777778,\"#fb9f3a\"],[0.8888888888888888,\"#fdca26\"],[1.0,\"#f0f921\"]]}],\"heatmap\":[{\"type\":\"heatmap\",\"colorbar\":{\"outlinewidth\":0,\"ticks\":\"\"},\"colorscale\":[[0.0,\"#0d0887\"],[0.1111111111111111,\"#46039f\"],[0.2222222222222222,\"#7201a8\"],[0.3333333333333333,\"#9c179e\"],[0.4444444444444444,\"#bd3786\"],[0.5555555555555556,\"#d8576b\"],[0.6666666666666666,\"#ed7953\"],[0.7777777777777778,\"#fb9f3a\"],[0.8888888888888888,\"#fdca26\"],[1.0,\"#f0f921\"]]}],\"heatmapgl\":[{\"type\":\"heatmapgl\",\"colorbar\":{\"outlinewidth\":0,\"ticks\":\"\"},\"colorscale\":[[0.0,\"#0d0887\"],[0.1111111111111111,\"#46039f\"],[0.2222222222222222,\"#7201a8\"],[0.3333333333333333,\"#9c179e\"],[0.4444444444444444,\"#bd3786\"],[0.5555555555555556,\"#d8576b\"],[0.6666666666666666,\"#ed7953\"],[0.7777777777777778,\"#fb9f3a\"],[0.8888888888888888,\"#fdca26\"],[1.0,\"#f0f921\"]]}],\"contourcarpet\":[{\"type\":\"contourcarpet\",\"colorbar\":{\"outlinewidth\":0,\"ticks\":\"\"}}],\"contour\":[{\"type\":\"contour\",\"colorbar\":{\"outlinewidth\":0,\"ticks\":\"\"},\"colorscale\":[[0.0,\"#0d0887\"],[0.1111111111111111,\"#46039f\"],[0.2222222222222222,\"#7201a8\"],[0.3333333333333333,\"#9c179e\"],[0.4444444444444444,\"#bd3786\"],[0.5555555555555556,\"#d8576b\"],[0.6666666666666666,\"#ed7953\"],[0.7777777777777778,\"#fb9f3a\"],[0.8888888888888888,\"#fdca26\"],[1.0,\"#f0f921\"]]}],\"surface\":[{\"type\":\"surface\",\"colorbar\":{\"outlinewidth\":0,\"ticks\":\"\"},\"colorscale\":[[0.0,\"#0d0887\"],[0.1111111111111111,\"#46039f\"],[0.2222222222222222,\"#7201a8\"],[0.3333333333333333,\"#9c179e\"],[0.4444444444444444,\"#bd3786\"],[0.5555555555555556,\"#d8576b\"],[0.6666666666666666,\"#ed7953\"],[0.7777777777777778,\"#fb9f3a\"],[0.8888888888888888,\"#fdca26\"],[1.0,\"#f0f921\"]]}],\"mesh3d\":[{\"type\":\"mesh3d\",\"colorbar\":{\"outlinewidth\":0,\"ticks\":\"\"}}],\"scatter\":[{\"fillpattern\":{\"fillmode\":\"overlay\",\"size\":10,\"solidity\":0.2},\"type\":\"scatter\"}],\"parcoords\":[{\"type\":\"parcoords\",\"line\":{\"colorbar\":{\"outlinewidth\":0,\"ticks\":\"\"}}}],\"scatterpolargl\":[{\"type\":\"scatterpolargl\",\"marker\":{\"colorbar\":{\"outlinewidth\":0,\"ticks\":\"\"}}}],\"bar\":[{\"error_x\":{\"color\":\"#2a3f5f\"},\"error_y\":{\"color\":\"#2a3f5f\"},\"marker\":{\"line\":{\"color\":\"#E5ECF6\",\"width\":0.5},\"pattern\":{\"fillmode\":\"overlay\",\"size\":10,\"solidity\":0.2}},\"type\":\"bar\"}],\"scattergeo\":[{\"type\":\"scattergeo\",\"marker\":{\"colorbar\":{\"outlinewidth\":0,\"ticks\":\"\"}}}],\"scatterpolar\":[{\"type\":\"scatterpolar\",\"marker\":{\"colorbar\":{\"outlinewidth\":0,\"ticks\":\"\"}}}],\"histogram\":[{\"marker\":{\"pattern\":{\"fillmode\":\"overlay\",\"size\":10,\"solidity\":0.2}},\"type\":\"histogram\"}],\"scattergl\":[{\"type\":\"scattergl\",\"marker\":{\"colorbar\":{\"outlinewidth\":0,\"ticks\":\"\"}}}],\"scatter3d\":[{\"type\":\"scatter3d\",\"line\":{\"colorbar\":{\"outlinewidth\":0,\"ticks\":\"\"}},\"marker\":{\"colorbar\":{\"outlinewidth\":0,\"ticks\":\"\"}}}],\"scattermapbox\":[{\"type\":\"scattermapbox\",\"marker\":{\"colorbar\":{\"outlinewidth\":0,\"ticks\":\"\"}}}],\"scatterternary\":[{\"type\":\"scatterternary\",\"marker\":{\"colorbar\":{\"outlinewidth\":0,\"ticks\":\"\"}}}],\"scattercarpet\":[{\"type\":\"scattercarpet\",\"marker\":{\"colorbar\":{\"outlinewidth\":0,\"ticks\":\"\"}}}],\"carpet\":[{\"aaxis\":{\"endlinecolor\":\"#2a3f5f\",\"gridcolor\":\"white\",\"linecolor\":\"white\",\"minorgridcolor\":\"white\",\"startlinecolor\":\"#2a3f5f\"},\"baxis\":{\"endlinecolor\":\"#2a3f5f\",\"gridcolor\":\"white\",\"linecolor\":\"white\",\"minorgridcolor\":\"white\",\"startlinecolor\":\"#2a3f5f\"},\"type\":\"carpet\"}],\"table\":[{\"cells\":{\"fill\":{\"color\":\"#EBF0F8\"},\"line\":{\"color\":\"white\"}},\"header\":{\"fill\":{\"color\":\"#C8D4E3\"},\"line\":{\"color\":\"white\"}},\"type\":\"table\"}],\"barpolar\":[{\"marker\":{\"line\":{\"color\":\"#E5ECF6\",\"width\":0.5},\"pattern\":{\"fillmode\":\"overlay\",\"size\":10,\"solidity\":0.2}},\"type\":\"barpolar\"}],\"pie\":[{\"automargin\":true,\"type\":\"pie\"}]},\"layout\":{\"autotypenumbers\":\"strict\",\"colorway\":[\"#636efa\",\"#EF553B\",\"#00cc96\",\"#ab63fa\",\"#FFA15A\",\"#19d3f3\",\"#FF6692\",\"#B6E880\",\"#FF97FF\",\"#FECB52\"],\"font\":{\"color\":\"#2a3f5f\"},\"hovermode\":\"closest\",\"hoverlabel\":{\"align\":\"left\"},\"paper_bgcolor\":\"white\",\"plot_bgcolor\":\"#E5ECF6\",\"polar\":{\"bgcolor\":\"#E5ECF6\",\"angularaxis\":{\"gridcolor\":\"white\",\"linecolor\":\"white\",\"ticks\":\"\"},\"radialaxis\":{\"gridcolor\":\"white\",\"linecolor\":\"white\",\"ticks\":\"\"}},\"ternary\":{\"bgcolor\":\"#E5ECF6\",\"aaxis\":{\"gridcolor\":\"white\",\"linecolor\":\"white\",\"ticks\":\"\"},\"baxis\":{\"gridcolor\":\"white\",\"linecolor\":\"white\",\"ticks\":\"\"},\"caxis\":{\"gridcolor\":\"white\",\"linecolor\":\"white\",\"ticks\":\"\"}},\"coloraxis\":{\"colorbar\":{\"outlinewidth\":0,\"ticks\":\"\"}},\"colorscale\":{\"sequential\":[[0.0,\"#0d0887\"],[0.1111111111111111,\"#46039f\"],[0.2222222222222222,\"#7201a8\"],[0.3333333333333333,\"#9c179e\"],[0.4444444444444444,\"#bd3786\"],[0.5555555555555556,\"#d8576b\"],[0.6666666666666666,\"#ed7953\"],[0.7777777777777778,\"#fb9f3a\"],[0.8888888888888888,\"#fdca26\"],[1.0,\"#f0f921\"]],\"sequentialminus\":[[0.0,\"#0d0887\"],[0.1111111111111111,\"#46039f\"],[0.2222222222222222,\"#7201a8\"],[0.3333333333333333,\"#9c179e\"],[0.4444444444444444,\"#bd3786\"],[0.5555555555555556,\"#d8576b\"],[0.6666666666666666,\"#ed7953\"],[0.7777777777777778,\"#fb9f3a\"],[0.8888888888888888,\"#fdca26\"],[1.0,\"#f0f921\"]],\"diverging\":[[0,\"#8e0152\"],[0.1,\"#c51b7d\"],[0.2,\"#de77ae\"],[0.3,\"#f1b6da\"],[0.4,\"#fde0ef\"],[0.5,\"#f7f7f7\"],[0.6,\"#e6f5d0\"],[0.7,\"#b8e186\"],[0.8,\"#7fbc41\"],[0.9,\"#4d9221\"],[1,\"#276419\"]]},\"xaxis\":{\"gridcolor\":\"white\",\"linecolor\":\"white\",\"ticks\":\"\",\"title\":{\"standoff\":15},\"zerolinecolor\":\"white\",\"automargin\":true,\"zerolinewidth\":2},\"yaxis\":{\"gridcolor\":\"white\",\"linecolor\":\"white\",\"ticks\":\"\",\"title\":{\"standoff\":15},\"zerolinecolor\":\"white\",\"automargin\":true,\"zerolinewidth\":2},\"scene\":{\"xaxis\":{\"backgroundcolor\":\"#E5ECF6\",\"gridcolor\":\"white\",\"linecolor\":\"white\",\"showbackground\":true,\"ticks\":\"\",\"zerolinecolor\":\"white\",\"gridwidth\":2},\"yaxis\":{\"backgroundcolor\":\"#E5ECF6\",\"gridcolor\":\"white\",\"linecolor\":\"white\",\"showbackground\":true,\"ticks\":\"\",\"zerolinecolor\":\"white\",\"gridwidth\":2},\"zaxis\":{\"backgroundcolor\":\"#E5ECF6\",\"gridcolor\":\"white\",\"linecolor\":\"white\",\"showbackground\":true,\"ticks\":\"\",\"zerolinecolor\":\"white\",\"gridwidth\":2}},\"shapedefaults\":{\"line\":{\"color\":\"#2a3f5f\"}},\"annotationdefaults\":{\"arrowcolor\":\"#2a3f5f\",\"arrowhead\":0,\"arrowwidth\":1},\"geo\":{\"bgcolor\":\"white\",\"landcolor\":\"#E5ECF6\",\"subunitcolor\":\"white\",\"showland\":true,\"showlakes\":true,\"lakecolor\":\"white\"},\"title\":{\"x\":0.05},\"mapbox\":{\"style\":\"light\"}}},\"title\":{\"text\":\"Model: Vicuna-7B Correctness Metric: include Method: u_score_ours_mean_soft_include Cross Eval Results\"},\"xaxis\":{\"title\":{\"text\":\"Train Dataset\"}},\"yaxis\":{\"title\":{\"text\":\"Test Dataset\"}},\"width\":1000,\"height\":1000,\"annotations\":[{\"font\":{\"color\":\"white\"},\"showarrow\":false,\"text\":\"77.88\",\"x\":0,\"y\":0},{\"font\":{\"color\":\"white\"},\"showarrow\":false,\"text\":\"61.92\",\"x\":0,\"y\":1},{\"font\":{\"color\":\"white\"},\"showarrow\":false,\"text\":\"56.42\",\"x\":0,\"y\":2},{\"font\":{\"color\":\"white\"},\"showarrow\":false,\"text\":\"68.59\",\"x\":0,\"y\":3},{\"font\":{\"color\":\"white\"},\"showarrow\":false,\"text\":\"62.45\",\"x\":0,\"y\":4},{\"font\":{\"color\":\"white\"},\"showarrow\":false,\"text\":\"67.13\",\"x\":0,\"y\":5},{\"font\":{\"color\":\"white\"},\"showarrow\":false,\"text\":\"56.36\",\"x\":0,\"y\":6},{\"font\":{\"color\":\"white\"},\"showarrow\":false,\"text\":\"68.68\",\"x\":0,\"y\":7},{\"font\":{\"color\":\"white\"},\"showarrow\":false,\"text\":\"60.33\",\"x\":0,\"y\":8},{\"font\":{\"color\":\"white\"},\"showarrow\":false,\"text\":\"63.34\",\"x\":0,\"y\":9},{\"font\":{\"color\":\"white\"},\"showarrow\":false,\"text\":\"63.05\",\"x\":1,\"y\":0},{\"font\":{\"color\":\"white\"},\"showarrow\":false,\"text\":\"67.98\",\"x\":1,\"y\":1},{\"font\":{\"color\":\"white\"},\"showarrow\":false,\"text\":\"62.73\",\"x\":1,\"y\":2},{\"font\":{\"color\":\"white\"},\"showarrow\":false,\"text\":\"63.75\",\"x\":1,\"y\":3},{\"font\":{\"color\":\"white\"},\"showarrow\":false,\"text\":\"49.26\",\"x\":1,\"y\":4},{\"font\":{\"color\":\"white\"},\"showarrow\":false,\"text\":\"69.85\",\"x\":1,\"y\":5},{\"font\":{\"color\":\"white\"},\"showarrow\":false,\"text\":\"63.98\",\"x\":1,\"y\":6},{\"font\":{\"color\":\"white\"},\"showarrow\":false,\"text\":\"71.89\",\"x\":1,\"y\":7},{\"font\":{\"color\":\"white\"},\"showarrow\":false,\"text\":\"67.36\",\"x\":1,\"y\":8},{\"font\":{\"color\":\"white\"},\"showarrow\":false,\"text\":\"68.43\",\"x\":1,\"y\":9},{\"font\":{\"color\":\"white\"},\"showarrow\":false,\"text\":\"66.32\",\"x\":2,\"y\":0},{\"font\":{\"color\":\"white\"},\"showarrow\":false,\"text\":\"59.06\",\"x\":2,\"y\":1},{\"font\":{\"color\":\"white\"},\"showarrow\":false,\"text\":\"69.03\",\"x\":2,\"y\":2},{\"font\":{\"color\":\"white\"},\"showarrow\":false,\"text\":\"56.56\",\"x\":2,\"y\":3},{\"font\":{\"color\":\"white\"},\"showarrow\":false,\"text\":\"53.57\",\"x\":2,\"y\":4},{\"font\":{\"color\":\"white\"},\"showarrow\":false,\"text\":\"59.04\",\"x\":2,\"y\":5},{\"font\":{\"color\":\"white\"},\"showarrow\":false,\"text\":\"55.70\",\"x\":2,\"y\":6},{\"font\":{\"color\":\"white\"},\"showarrow\":false,\"text\":\"73.77\",\"x\":2,\"y\":7},{\"font\":{\"color\":\"white\"},\"showarrow\":false,\"text\":\"57.71\",\"x\":2,\"y\":8},{\"font\":{\"color\":\"white\"},\"showarrow\":false,\"text\":\"51.37\",\"x\":2,\"y\":9},{\"font\":{\"color\":\"white\"},\"showarrow\":false,\"text\":\"67.20\",\"x\":3,\"y\":0},{\"font\":{\"color\":\"white\"},\"showarrow\":false,\"text\":\"56.53\",\"x\":3,\"y\":1},{\"font\":{\"color\":\"white\"},\"showarrow\":false,\"text\":\"52.33\",\"x\":3,\"y\":2},{\"font\":{\"color\":\"white\"},\"showarrow\":false,\"text\":\"69.54\",\"x\":3,\"y\":3},{\"font\":{\"color\":\"white\"},\"showarrow\":false,\"text\":\"61.75\",\"x\":3,\"y\":4},{\"font\":{\"color\":\"white\"},\"showarrow\":false,\"text\":\"56.00\",\"x\":3,\"y\":5},{\"font\":{\"color\":\"white\"},\"showarrow\":false,\"text\":\"53.93\",\"x\":3,\"y\":6},{\"font\":{\"color\":\"white\"},\"showarrow\":false,\"text\":\"65.47\",\"x\":3,\"y\":7},{\"font\":{\"color\":\"white\"},\"showarrow\":false,\"text\":\"56.06\",\"x\":3,\"y\":8},{\"font\":{\"color\":\"white\"},\"showarrow\":false,\"text\":\"55.93\",\"x\":3,\"y\":9},{\"font\":{\"color\":\"white\"},\"showarrow\":false,\"text\":\"68.86\",\"x\":4,\"y\":0},{\"font\":{\"color\":\"white\"},\"showarrow\":false,\"text\":\"52.15\",\"x\":4,\"y\":1},{\"font\":{\"color\":\"white\"},\"showarrow\":false,\"text\":\"58.06\",\"x\":4,\"y\":2},{\"font\":{\"color\":\"white\"},\"showarrow\":false,\"text\":\"64.33\",\"x\":4,\"y\":3},{\"font\":{\"color\":\"white\"},\"showarrow\":false,\"text\":\"63.74\",\"x\":4,\"y\":4},{\"font\":{\"color\":\"white\"},\"showarrow\":false,\"text\":\"55.00\",\"x\":4,\"y\":5},{\"font\":{\"color\":\"white\"},\"showarrow\":false,\"text\":\"52.15\",\"x\":4,\"y\":6},{\"font\":{\"color\":\"white\"},\"showarrow\":false,\"text\":\"50.49\",\"x\":4,\"y\":7},{\"font\":{\"color\":\"white\"},\"showarrow\":false,\"text\":\"48.23\",\"x\":4,\"y\":8},{\"font\":{\"color\":\"white\"},\"showarrow\":false,\"text\":\"51.74\",\"x\":4,\"y\":9},{\"font\":{\"color\":\"white\"},\"showarrow\":false,\"text\":\"73.81\",\"x\":5,\"y\":0},{\"font\":{\"color\":\"white\"},\"showarrow\":false,\"text\":\"62.79\",\"x\":5,\"y\":1},{\"font\":{\"color\":\"white\"},\"showarrow\":false,\"text\":\"60.90\",\"x\":5,\"y\":2},{\"font\":{\"color\":\"white\"},\"showarrow\":false,\"text\":\"63.78\",\"x\":5,\"y\":3},{\"font\":{\"color\":\"white\"},\"showarrow\":false,\"text\":\"53.03\",\"x\":5,\"y\":4},{\"font\":{\"color\":\"white\"},\"showarrow\":false,\"text\":\"74.63\",\"x\":5,\"y\":5},{\"font\":{\"color\":\"white\"},\"showarrow\":false,\"text\":\"61.87\",\"x\":5,\"y\":6},{\"font\":{\"color\":\"white\"},\"showarrow\":false,\"text\":\"69.80\",\"x\":5,\"y\":7},{\"font\":{\"color\":\"white\"},\"showarrow\":false,\"text\":\"68.74\",\"x\":5,\"y\":8},{\"font\":{\"color\":\"white\"},\"showarrow\":false,\"text\":\"69.97\",\"x\":5,\"y\":9},{\"font\":{\"color\":\"white\"},\"showarrow\":false,\"text\":\"55.02\",\"x\":6,\"y\":0},{\"font\":{\"color\":\"white\"},\"showarrow\":false,\"text\":\"68.71\",\"x\":6,\"y\":1},{\"font\":{\"color\":\"white\"},\"showarrow\":false,\"text\":\"61.10\",\"x\":6,\"y\":2},{\"font\":{\"color\":\"white\"},\"showarrow\":false,\"text\":\"59.09\",\"x\":6,\"y\":3},{\"font\":{\"color\":\"white\"},\"showarrow\":false,\"text\":\"50.18\",\"x\":6,\"y\":4},{\"font\":{\"color\":\"white\"},\"showarrow\":false,\"text\":\"67.03\",\"x\":6,\"y\":5},{\"font\":{\"color\":\"white\"},\"showarrow\":false,\"text\":\"72.20\",\"x\":6,\"y\":6},{\"font\":{\"color\":\"white\"},\"showarrow\":false,\"text\":\"74.53\",\"x\":6,\"y\":7},{\"font\":{\"color\":\"white\"},\"showarrow\":false,\"text\":\"65.24\",\"x\":6,\"y\":8},{\"font\":{\"color\":\"white\"},\"showarrow\":false,\"text\":\"62.80\",\"x\":6,\"y\":9},{\"font\":{\"color\":\"white\"},\"showarrow\":false,\"text\":\"61.31\",\"x\":7,\"y\":0},{\"font\":{\"color\":\"white\"},\"showarrow\":false,\"text\":\"59.38\",\"x\":7,\"y\":1},{\"font\":{\"color\":\"white\"},\"showarrow\":false,\"text\":\"67.07\",\"x\":7,\"y\":2},{\"font\":{\"color\":\"white\"},\"showarrow\":false,\"text\":\"51.19\",\"x\":7,\"y\":3},{\"font\":{\"color\":\"white\"},\"showarrow\":false,\"text\":\"49.61\",\"x\":7,\"y\":4},{\"font\":{\"color\":\"white\"},\"showarrow\":false,\"text\":\"59.44\",\"x\":7,\"y\":5},{\"font\":{\"color\":\"white\"},\"showarrow\":false,\"text\":\"59.33\",\"x\":7,\"y\":6},{\"font\":{\"color\":\"white\"},\"showarrow\":false,\"text\":\"77.07\",\"x\":7,\"y\":7},{\"font\":{\"color\":\"white\"},\"showarrow\":false,\"text\":\"57.36\",\"x\":7,\"y\":8},{\"font\":{\"color\":\"white\"},\"showarrow\":false,\"text\":\"55.82\",\"x\":7,\"y\":9},{\"font\":{\"color\":\"white\"},\"showarrow\":false,\"text\":\"64.24\",\"x\":8,\"y\":0},{\"font\":{\"color\":\"white\"},\"showarrow\":false,\"text\":\"55.84\",\"x\":8,\"y\":1},{\"font\":{\"color\":\"white\"},\"showarrow\":false,\"text\":\"56.93\",\"x\":8,\"y\":2},{\"font\":{\"color\":\"white\"},\"showarrow\":false,\"text\":\"65.34\",\"x\":8,\"y\":3},{\"font\":{\"color\":\"white\"},\"showarrow\":false,\"text\":\"53.98\",\"x\":8,\"y\":4},{\"font\":{\"color\":\"white\"},\"showarrow\":false,\"text\":\"69.20\",\"x\":8,\"y\":5},{\"font\":{\"color\":\"white\"},\"showarrow\":false,\"text\":\"60.19\",\"x\":8,\"y\":6},{\"font\":{\"color\":\"white\"},\"showarrow\":false,\"text\":\"69.69\",\"x\":8,\"y\":7},{\"font\":{\"color\":\"white\"},\"showarrow\":false,\"text\":\"69.06\",\"x\":8,\"y\":8},{\"font\":{\"color\":\"white\"},\"showarrow\":false,\"text\":\"67.96\",\"x\":8,\"y\":9},{\"font\":{\"color\":\"white\"},\"showarrow\":false,\"text\":\"66.33\",\"x\":9,\"y\":0},{\"font\":{\"color\":\"white\"},\"showarrow\":false,\"text\":\"63.96\",\"x\":9,\"y\":1},{\"font\":{\"color\":\"white\"},\"showarrow\":false,\"text\":\"56.82\",\"x\":9,\"y\":2},{\"font\":{\"color\":\"white\"},\"showarrow\":false,\"text\":\"60.52\",\"x\":9,\"y\":3},{\"font\":{\"color\":\"white\"},\"showarrow\":false,\"text\":\"49.89\",\"x\":9,\"y\":4},{\"font\":{\"color\":\"white\"},\"showarrow\":false,\"text\":\"66.68\",\"x\":9,\"y\":5},{\"font\":{\"color\":\"white\"},\"showarrow\":false,\"text\":\"56.78\",\"x\":9,\"y\":6},{\"font\":{\"color\":\"white\"},\"showarrow\":false,\"text\":\"63.37\",\"x\":9,\"y\":7},{\"font\":{\"color\":\"white\"},\"showarrow\":false,\"text\":\"64.37\",\"x\":9,\"y\":8},{\"font\":{\"color\":\"white\"},\"showarrow\":false,\"text\":\"73.48\",\"x\":9,\"y\":9}]},                        {\"responsive\": true}                    ).then(function(){\n",
       "                            \n",
       "var gd = document.getElementById('8a6ed8fc-a7fb-4caf-bdce-3fe28da7d848');\n",
       "var x = new MutationObserver(function (mutations, observer) {{\n",
       "        var display = window.getComputedStyle(gd).display;\n",
       "        if (!display || display === 'none') {{\n",
       "            console.log([gd, 'removed!']);\n",
       "            Plotly.purge(gd);\n",
       "            observer.disconnect();\n",
       "        }}\n",
       "}});\n",
       "\n",
       "// Listen for the removal of the full notebook cells\n",
       "var notebookContainer = gd.closest('#notebook-container');\n",
       "if (notebookContainer) {{\n",
       "    x.observe(notebookContainer, {childList: true});\n",
       "}}\n",
       "\n",
       "// Listen for the clearing of the current output cell\n",
       "var outputEl = gd.closest('.output');\n",
       "if (outputEl) {{\n",
       "    x.observe(outputEl, {childList: true});\n",
       "}}\n",
       "\n",
       "                        })                };                });            </script>        </div>"
      ]
     },
     "metadata": {},
     "output_type": "display_data"
    },
    {
     "name": "stdout",
     "output_type": "stream",
     "text": [
      "Overall Average Drop: -9.46\n",
      "Short Average Drop: -7.51\n",
      "Long Average Drop: -7.03\n",
      "Cross Dst Average Drop: -7.27\n",
      "Cross Prompt Average Drop: 63.75\n",
      "Train Dst:SciQ-short Average Drop: -13.57\n",
      "Train Dst:CoQA-short Average Drop: -3.15\n",
      "Train Dst:TriviaQA-short Average Drop: -8.81\n",
      "Train Dst:MedMCQA-short Average Drop: -10.06\n",
      "Train Dst:MedQA-short Average Drop: -7.27\n",
      "Train Dst:SciQ-long Average Drop: -8.70\n",
      "Train Dst:CoQA-long Average Drop: -8.61\n",
      "Train Dst:TriviaQA-long Average Drop: -17.31\n",
      "Train Dst:MedMCQA-long Average Drop: -5.82\n",
      "Train Dst:MedQA-long Average Drop: -11.26\n"
     ]
    }
   ],
   "source": [
    "# Generalization1: Cross Dataset and Cross Prompt Evaluation\n",
    "model_name = 'vicuna-7b-v1.1'\n",
    "\n",
    "\n",
    "def plot_cross_dst_matrix(model_name, u_metric, c_metric, c_th):\n",
    "    fig_index = [(name, type) for type in dst_types for name in dst_names]\n",
    "    fig_axis = list(map(lambda idx: f\"{dst_names_alias[idx[0]]}-{idx[1]}\", fig_index))\n",
    "    cross_eval_matrix = torch.zeros(len(dst_types) * len(dst_names), len(dst_types) * len(dst_names))\n",
    "    fig = go.Figure()\n",
    "    annotations = []\n",
    "\n",
    "    for i, (train_dst_name, train_dst_type) in enumerate(fig_index):\n",
    "        for j, (test_dst_name, test_dst_type) in enumerate(fig_index):\n",
    "            result_path = get_eval_cross_result_path(model_name, train_dst_name, train_dst_type, test_dst_name, test_dst_type, u_metric.split(\"_\")[-1])\n",
    "            if os.path.exists(f\"{result_path}/dataset_info.json\"):\n",
    "                cross_eval_result = Dataset.load_from_disk(result_path)\n",
    "                cross_eval_matrix[j][i] = get_auroc(cross_eval_result, u_metric, c_metric, c_th) * 100\n",
    "                annotations.append(dict(\n",
    "                    x=i,\n",
    "                    y=j,\n",
    "                    text=f\"{cross_eval_matrix[j][i].item():.2f}\",\n",
    "                    showarrow=False,\n",
    "                    font=dict(\n",
    "                        color='white'\n",
    "                    )\n",
    "                ))\n",
    "    fig.add_trace(go.Heatmap(z=cross_eval_matrix, x=fig_axis, y=fig_axis, colorscale='Inferno'))\n",
    "    fig.update_layout(\n",
    "        title_text=f\"Model: {model_names_alias[model_name]} Correctness Metric: {c_metric} Method: {u_metric} Cross Eval Results\",\n",
    "        xaxis_title=\"Train Dataset\",\n",
    "        yaxis_title=\"Test Dataset\",\n",
    "        width=1000,\n",
    "        height=1000,\n",
    "        annotations=annotations\n",
    "    )\n",
    "    fig.show()\n",
    "    overall_average_drop = cross_eval_matrix.mean().item() - cross_eval_matrix.diag().mean().item()\n",
    "    short_average_drop = cross_eval_matrix[:5, :5].mean().item() - cross_eval_matrix[:5, :5].diag().mean().item()\n",
    "    long_average_drop = cross_eval_matrix[5:, 5:].mean().item() - cross_eval_matrix[5:, 5:].diag().mean().item()\n",
    "    cross_dst_average_drop = (short_average_drop + long_average_drop) / 2\n",
    "    cross_prompt_average_drop = 0\n",
    "    for i in range(len(cross_eval_matrix)):\n",
    "        cross_prompt_average_drop += cross_eval_matrix[i][(i + len(cross_eval_matrix) // 2) % len(cross_eval_matrix)].item()\n",
    "    cross_prompt_average_drop /= len(cross_eval_matrix)\n",
    "    print(f\"Overall Average Drop: {overall_average_drop:.2f}\")\n",
    "    print(f\"Short Average Drop: {short_average_drop:.2f}\")\n",
    "    print(f\"Long Average Drop: {long_average_drop:.2f}\")\n",
    "    print(f\"Cross Dst Average Drop: {cross_dst_average_drop:.2f}\")\n",
    "    print(f\"Cross Prompt Average Drop: {cross_prompt_average_drop:.2f}\")\n",
    "    for i in range(len(cross_eval_matrix)):\n",
    "        dst_drop = cross_eval_matrix[:, i].mean().item() - cross_eval_matrix[i, i].item()\n",
    "        print(f\"Train Dst:{fig_axis[i]} Average Drop: {dst_drop:.2f}\")\n",
    "\n",
    "\n",
    "plot_cross_dst_matrix(model_name, u_metric='u_score_ours_mean_soft_rougel', c_metric='include', c_th=0.3)\n",
    "plot_cross_dst_matrix(model_name, u_metric='u_score_ours_mean_soft_include', c_metric='include', c_th=0.3)"
   ]
  },
  {
   "cell_type": "code",
   "execution_count": 52,
   "id": "e4ae1f8fbb39774e",
   "metadata": {
    "ExecuteTime": {
     "end_time": "2024-04-04T10:26:06.637057Z",
     "start_time": "2024-04-04T10:26:04.495683Z"
    },
    "collapsed": false
   },
   "outputs": [
    {
     "name": "stdout",
     "output_type": "stream",
     "text": [
      "['rougel', 'rougel', 'rougel', 'rougel', 'rougel', 'sentsim', 'sentsim', 'sentsim', 'sentsim', 'sentsim', 'include', 'include', 'include', 'include', 'include']\n",
      "['SciQ', 'CoQA', 'TriviaQA', 'MedMCQA', 'MedQA', 'SciQ', 'CoQA', 'TriviaQA', 'MedMCQA', 'MedQA', 'SciQ', 'CoQA', 'TriviaQA', 'MedMCQA', 'MedQA']\n",
      "['ACC', 'Ours(MSRL)', 'Ours(LSRL)', 'Ours(MSIN)', 'Ours(LSIN)', 'Ours(MSSI)', 'Ours(LSSI)']\n",
      "Short Prompt Cross Correctness Metric Result:\n"
     ]
    },
    {
     "data": {
      "text/html": [
       "<div>\n",
       "<style scoped>\n",
       "    .dataframe tbody tr th:only-of-type {\n",
       "        vertical-align: middle;\n",
       "    }\n",
       "\n",
       "    .dataframe tbody tr th {\n",
       "        vertical-align: top;\n",
       "    }\n",
       "\n",
       "    .dataframe thead th {\n",
       "        text-align: right;\n",
       "    }\n",
       "</style>\n",
       "<table border=\"1\" class=\"dataframe\">\n",
       "  <thead>\n",
       "    <tr style=\"text-align: right;\">\n",
       "      <th></th>\n",
       "      <th></th>\n",
       "      <th>ACC</th>\n",
       "      <th>Ours(MSRL)</th>\n",
       "      <th>Ours(LSRL)</th>\n",
       "      <th>Ours(MSIN)</th>\n",
       "      <th>Ours(LSIN)</th>\n",
       "      <th>Ours(MSSI)</th>\n",
       "      <th>Ours(LSSI)</th>\n",
       "    </tr>\n",
       "    <tr>\n",
       "      <th>Correctness Metric</th>\n",
       "      <th>Dataset</th>\n",
       "      <th></th>\n",
       "      <th></th>\n",
       "      <th></th>\n",
       "      <th></th>\n",
       "      <th></th>\n",
       "      <th></th>\n",
       "      <th></th>\n",
       "    </tr>\n",
       "  </thead>\n",
       "  <tbody>\n",
       "    <tr>\n",
       "      <th rowspan=\"5\" valign=\"top\">rougel</th>\n",
       "      <th>SciQ</th>\n",
       "      <td>66.6</td>\n",
       "      <td>86.126171</td>\n",
       "      <td>83.728714</td>\n",
       "      <td>82.099540</td>\n",
       "      <td>77.029050</td>\n",
       "      <td>0.0</td>\n",
       "      <td>0.0</td>\n",
       "    </tr>\n",
       "    <tr>\n",
       "      <th>CoQA</th>\n",
       "      <td>52.2</td>\n",
       "      <td>83.330929</td>\n",
       "      <td>81.749467</td>\n",
       "      <td>74.311066</td>\n",
       "      <td>74.858526</td>\n",
       "      <td>0.0</td>\n",
       "      <td>0.0</td>\n",
       "    </tr>\n",
       "    <tr>\n",
       "      <th>TriviaQA</th>\n",
       "      <td>52.9</td>\n",
       "      <td>72.515743</td>\n",
       "      <td>70.878836</td>\n",
       "      <td>67.235781</td>\n",
       "      <td>61.874546</td>\n",
       "      <td>0.0</td>\n",
       "      <td>0.0</td>\n",
       "    </tr>\n",
       "    <tr>\n",
       "      <th>MedMCQA</th>\n",
       "      <td>25.1</td>\n",
       "      <td>88.772547</td>\n",
       "      <td>85.187687</td>\n",
       "      <td>68.545311</td>\n",
       "      <td>74.425396</td>\n",
       "      <td>0.0</td>\n",
       "      <td>0.0</td>\n",
       "    </tr>\n",
       "    <tr>\n",
       "      <th>MedQA</th>\n",
       "      <td>4.9</td>\n",
       "      <td>92.167214</td>\n",
       "      <td>76.766669</td>\n",
       "      <td>52.975386</td>\n",
       "      <td>59.774888</td>\n",
       "      <td>0.0</td>\n",
       "      <td>0.0</td>\n",
       "    </tr>\n",
       "    <tr>\n",
       "      <th rowspan=\"5\" valign=\"top\">sentsim</th>\n",
       "      <th>SciQ</th>\n",
       "      <td>93.8</td>\n",
       "      <td>75.540787</td>\n",
       "      <td>71.948724</td>\n",
       "      <td>69.774400</td>\n",
       "      <td>66.438545</td>\n",
       "      <td>0.0</td>\n",
       "      <td>0.0</td>\n",
       "    </tr>\n",
       "    <tr>\n",
       "      <th>CoQA</th>\n",
       "      <td>82.6</td>\n",
       "      <td>80.527956</td>\n",
       "      <td>80.657371</td>\n",
       "      <td>68.230776</td>\n",
       "      <td>67.227464</td>\n",
       "      <td>0.0</td>\n",
       "      <td>0.0</td>\n",
       "    </tr>\n",
       "    <tr>\n",
       "      <th>TriviaQA</th>\n",
       "      <td>83.1</td>\n",
       "      <td>76.876081</td>\n",
       "      <td>77.903574</td>\n",
       "      <td>73.306916</td>\n",
       "      <td>69.411275</td>\n",
       "      <td>0.0</td>\n",
       "      <td>0.0</td>\n",
       "    </tr>\n",
       "    <tr>\n",
       "      <th>MedMCQA</th>\n",
       "      <td>76.6</td>\n",
       "      <td>59.919997</td>\n",
       "      <td>56.319319</td>\n",
       "      <td>45.250887</td>\n",
       "      <td>51.403115</td>\n",
       "      <td>0.0</td>\n",
       "      <td>0.0</td>\n",
       "    </tr>\n",
       "    <tr>\n",
       "      <th>MedQA</th>\n",
       "      <td>72.4</td>\n",
       "      <td>62.827788</td>\n",
       "      <td>50.571253</td>\n",
       "      <td>41.695442</td>\n",
       "      <td>50.636810</td>\n",
       "      <td>0.0</td>\n",
       "      <td>0.0</td>\n",
       "    </tr>\n",
       "    <tr>\n",
       "      <th rowspan=\"5\" valign=\"top\">include</th>\n",
       "      <th>SciQ</th>\n",
       "      <td>64.9</td>\n",
       "      <td>75.738041</td>\n",
       "      <td>72.440178</td>\n",
       "      <td>77.883134</td>\n",
       "      <td>76.292697</td>\n",
       "      <td>0.0</td>\n",
       "      <td>0.0</td>\n",
       "    </tr>\n",
       "    <tr>\n",
       "      <th>CoQA</th>\n",
       "      <td>68.2</td>\n",
       "      <td>61.439717</td>\n",
       "      <td>60.035228</td>\n",
       "      <td>67.980782</td>\n",
       "      <td>62.625648</td>\n",
       "      <td>0.0</td>\n",
       "      <td>0.0</td>\n",
       "    </tr>\n",
       "    <tr>\n",
       "      <th>TriviaQA</th>\n",
       "      <td>36.3</td>\n",
       "      <td>68.979722</td>\n",
       "      <td>69.297369</td>\n",
       "      <td>69.028374</td>\n",
       "      <td>66.081105</td>\n",
       "      <td>0.0</td>\n",
       "      <td>0.0</td>\n",
       "    </tr>\n",
       "    <tr>\n",
       "      <th>MedMCQA</th>\n",
       "      <td>19.0</td>\n",
       "      <td>62.399935</td>\n",
       "      <td>65.441520</td>\n",
       "      <td>69.538012</td>\n",
       "      <td>64.716374</td>\n",
       "      <td>0.0</td>\n",
       "      <td>0.0</td>\n",
       "    </tr>\n",
       "    <tr>\n",
       "      <th>MedQA</th>\n",
       "      <td>22.8</td>\n",
       "      <td>44.922621</td>\n",
       "      <td>50.461038</td>\n",
       "      <td>63.744489</td>\n",
       "      <td>54.267510</td>\n",
       "      <td>0.0</td>\n",
       "      <td>0.0</td>\n",
       "    </tr>\n",
       "  </tbody>\n",
       "</table>\n",
       "</div>"
      ],
      "text/plain": [
       "                              ACC  Ours(MSRL)  Ours(LSRL)  Ours(MSIN)  \\\n",
       "Correctness Metric Dataset                                              \n",
       "rougel             SciQ      66.6   86.126171   83.728714   82.099540   \n",
       "                   CoQA      52.2   83.330929   81.749467   74.311066   \n",
       "                   TriviaQA  52.9   72.515743   70.878836   67.235781   \n",
       "                   MedMCQA   25.1   88.772547   85.187687   68.545311   \n",
       "                   MedQA      4.9   92.167214   76.766669   52.975386   \n",
       "sentsim            SciQ      93.8   75.540787   71.948724   69.774400   \n",
       "                   CoQA      82.6   80.527956   80.657371   68.230776   \n",
       "                   TriviaQA  83.1   76.876081   77.903574   73.306916   \n",
       "                   MedMCQA   76.6   59.919997   56.319319   45.250887   \n",
       "                   MedQA     72.4   62.827788   50.571253   41.695442   \n",
       "include            SciQ      64.9   75.738041   72.440178   77.883134   \n",
       "                   CoQA      68.2   61.439717   60.035228   67.980782   \n",
       "                   TriviaQA  36.3   68.979722   69.297369   69.028374   \n",
       "                   MedMCQA   19.0   62.399935   65.441520   69.538012   \n",
       "                   MedQA     22.8   44.922621   50.461038   63.744489   \n",
       "\n",
       "                             Ours(LSIN)  Ours(MSSI)  Ours(LSSI)  \n",
       "Correctness Metric Dataset                                       \n",
       "rougel             SciQ       77.029050         0.0         0.0  \n",
       "                   CoQA       74.858526         0.0         0.0  \n",
       "                   TriviaQA   61.874546         0.0         0.0  \n",
       "                   MedMCQA    74.425396         0.0         0.0  \n",
       "                   MedQA      59.774888         0.0         0.0  \n",
       "sentsim            SciQ       66.438545         0.0         0.0  \n",
       "                   CoQA       67.227464         0.0         0.0  \n",
       "                   TriviaQA   69.411275         0.0         0.0  \n",
       "                   MedMCQA    51.403115         0.0         0.0  \n",
       "                   MedQA      50.636810         0.0         0.0  \n",
       "include            SciQ       76.292697         0.0         0.0  \n",
       "                   CoQA       62.625648         0.0         0.0  \n",
       "                   TriviaQA   66.081105         0.0         0.0  \n",
       "                   MedMCQA    64.716374         0.0         0.0  \n",
       "                   MedQA      54.267510         0.0         0.0  "
      ]
     },
     "metadata": {},
     "output_type": "display_data"
    },
    {
     "name": "stdout",
     "output_type": "stream",
     "text": [
      "Long Prompt Cross Correctness Metric Result:\n"
     ]
    },
    {
     "data": {
      "text/html": [
       "<div>\n",
       "<style scoped>\n",
       "    .dataframe tbody tr th:only-of-type {\n",
       "        vertical-align: middle;\n",
       "    }\n",
       "\n",
       "    .dataframe tbody tr th {\n",
       "        vertical-align: top;\n",
       "    }\n",
       "\n",
       "    .dataframe thead th {\n",
       "        text-align: right;\n",
       "    }\n",
       "</style>\n",
       "<table border=\"1\" class=\"dataframe\">\n",
       "  <thead>\n",
       "    <tr style=\"text-align: right;\">\n",
       "      <th></th>\n",
       "      <th></th>\n",
       "      <th>ACC</th>\n",
       "      <th>Ours(MSRL)</th>\n",
       "      <th>Ours(LSRL)</th>\n",
       "      <th>Ours(MSIN)</th>\n",
       "      <th>Ours(LSIN)</th>\n",
       "      <th>Ours(MSSI)</th>\n",
       "      <th>Ours(LSSI)</th>\n",
       "    </tr>\n",
       "    <tr>\n",
       "      <th>Correctness Metric</th>\n",
       "      <th>Dataset</th>\n",
       "      <th></th>\n",
       "      <th></th>\n",
       "      <th></th>\n",
       "      <th></th>\n",
       "      <th></th>\n",
       "      <th></th>\n",
       "      <th></th>\n",
       "    </tr>\n",
       "  </thead>\n",
       "  <tbody>\n",
       "    <tr>\n",
       "      <th rowspan=\"5\" valign=\"top\">rougel</th>\n",
       "      <th>SciQ</th>\n",
       "      <td>20.8</td>\n",
       "      <td>88.927739</td>\n",
       "      <td>86.360905</td>\n",
       "      <td>61.166958</td>\n",
       "      <td>67.436990</td>\n",
       "      <td>0.0</td>\n",
       "      <td>0.0</td>\n",
       "    </tr>\n",
       "    <tr>\n",
       "      <th>CoQA</th>\n",
       "      <td>38.6</td>\n",
       "      <td>78.890652</td>\n",
       "      <td>72.618184</td>\n",
       "      <td>66.377783</td>\n",
       "      <td>67.801387</td>\n",
       "      <td>0.0</td>\n",
       "      <td>0.0</td>\n",
       "    </tr>\n",
       "    <tr>\n",
       "      <th>TriviaQA</th>\n",
       "      <td>36.9</td>\n",
       "      <td>85.726833</td>\n",
       "      <td>87.194156</td>\n",
       "      <td>81.725785</td>\n",
       "      <td>76.094426</td>\n",
       "      <td>0.0</td>\n",
       "      <td>0.0</td>\n",
       "    </tr>\n",
       "    <tr>\n",
       "      <th>MedMCQA</th>\n",
       "      <td>16.5</td>\n",
       "      <td>80.601343</td>\n",
       "      <td>75.462529</td>\n",
       "      <td>58.014154</td>\n",
       "      <td>60.108510</td>\n",
       "      <td>0.0</td>\n",
       "      <td>0.0</td>\n",
       "    </tr>\n",
       "    <tr>\n",
       "      <th>MedQA</th>\n",
       "      <td>15.0</td>\n",
       "      <td>79.352549</td>\n",
       "      <td>76.653333</td>\n",
       "      <td>71.553333</td>\n",
       "      <td>66.163137</td>\n",
       "      <td>0.0</td>\n",
       "      <td>0.0</td>\n",
       "    </tr>\n",
       "    <tr>\n",
       "      <th rowspan=\"5\" valign=\"top\">sentsim</th>\n",
       "      <th>SciQ</th>\n",
       "      <td>83.1</td>\n",
       "      <td>73.070515</td>\n",
       "      <td>73.907889</td>\n",
       "      <td>76.483740</td>\n",
       "      <td>78.768006</td>\n",
       "      <td>0.0</td>\n",
       "      <td>0.0</td>\n",
       "    </tr>\n",
       "    <tr>\n",
       "      <th>CoQA</th>\n",
       "      <td>77.4</td>\n",
       "      <td>78.969152</td>\n",
       "      <td>72.891084</td>\n",
       "      <td>66.300793</td>\n",
       "      <td>70.418010</td>\n",
       "      <td>0.0</td>\n",
       "      <td>0.0</td>\n",
       "    </tr>\n",
       "    <tr>\n",
       "      <th>TriviaQA</th>\n",
       "      <td>63.3</td>\n",
       "      <td>88.677032</td>\n",
       "      <td>90.737632</td>\n",
       "      <td>89.708408</td>\n",
       "      <td>86.752026</td>\n",
       "      <td>0.0</td>\n",
       "      <td>0.0</td>\n",
       "    </tr>\n",
       "    <tr>\n",
       "      <th>MedMCQA</th>\n",
       "      <td>54.4</td>\n",
       "      <td>65.451658</td>\n",
       "      <td>62.038426</td>\n",
       "      <td>57.534951</td>\n",
       "      <td>58.685863</td>\n",
       "      <td>0.0</td>\n",
       "      <td>0.0</td>\n",
       "    </tr>\n",
       "    <tr>\n",
       "      <th>MedQA</th>\n",
       "      <td>56.5</td>\n",
       "      <td>68.231919</td>\n",
       "      <td>65.489777</td>\n",
       "      <td>68.148713</td>\n",
       "      <td>64.616824</td>\n",
       "      <td>0.0</td>\n",
       "      <td>0.0</td>\n",
       "    </tr>\n",
       "    <tr>\n",
       "      <th rowspan=\"5\" valign=\"top\">include</th>\n",
       "      <th>SciQ</th>\n",
       "      <td>66.4</td>\n",
       "      <td>67.327569</td>\n",
       "      <td>67.957769</td>\n",
       "      <td>74.628873</td>\n",
       "      <td>76.556001</td>\n",
       "      <td>0.0</td>\n",
       "      <td>0.0</td>\n",
       "    </tr>\n",
       "    <tr>\n",
       "      <th>CoQA</th>\n",
       "      <td>63.2</td>\n",
       "      <td>62.064873</td>\n",
       "      <td>63.187947</td>\n",
       "      <td>72.203495</td>\n",
       "      <td>67.323370</td>\n",
       "      <td>0.0</td>\n",
       "      <td>0.0</td>\n",
       "    </tr>\n",
       "    <tr>\n",
       "      <th>TriviaQA</th>\n",
       "      <td>31.0</td>\n",
       "      <td>69.380552</td>\n",
       "      <td>73.266947</td>\n",
       "      <td>77.067321</td>\n",
       "      <td>77.943198</td>\n",
       "      <td>0.0</td>\n",
       "      <td>0.0</td>\n",
       "    </tr>\n",
       "    <tr>\n",
       "      <th>MedMCQA</th>\n",
       "      <td>18.2</td>\n",
       "      <td>59.449475</td>\n",
       "      <td>57.264435</td>\n",
       "      <td>69.064859</td>\n",
       "      <td>64.900656</td>\n",
       "      <td>0.0</td>\n",
       "      <td>0.0</td>\n",
       "    </tr>\n",
       "    <tr>\n",
       "      <th>MedQA</th>\n",
       "      <td>21.5</td>\n",
       "      <td>66.795438</td>\n",
       "      <td>62.590727</td>\n",
       "      <td>73.482151</td>\n",
       "      <td>68.652348</td>\n",
       "      <td>0.0</td>\n",
       "      <td>0.0</td>\n",
       "    </tr>\n",
       "  </tbody>\n",
       "</table>\n",
       "</div>"
      ],
      "text/plain": [
       "                              ACC  Ours(MSRL)  Ours(LSRL)  Ours(MSIN)  \\\n",
       "Correctness Metric Dataset                                              \n",
       "rougel             SciQ      20.8   88.927739   86.360905   61.166958   \n",
       "                   CoQA      38.6   78.890652   72.618184   66.377783   \n",
       "                   TriviaQA  36.9   85.726833   87.194156   81.725785   \n",
       "                   MedMCQA   16.5   80.601343   75.462529   58.014154   \n",
       "                   MedQA     15.0   79.352549   76.653333   71.553333   \n",
       "sentsim            SciQ      83.1   73.070515   73.907889   76.483740   \n",
       "                   CoQA      77.4   78.969152   72.891084   66.300793   \n",
       "                   TriviaQA  63.3   88.677032   90.737632   89.708408   \n",
       "                   MedMCQA   54.4   65.451658   62.038426   57.534951   \n",
       "                   MedQA     56.5   68.231919   65.489777   68.148713   \n",
       "include            SciQ      66.4   67.327569   67.957769   74.628873   \n",
       "                   CoQA      63.2   62.064873   63.187947   72.203495   \n",
       "                   TriviaQA  31.0   69.380552   73.266947   77.067321   \n",
       "                   MedMCQA   18.2   59.449475   57.264435   69.064859   \n",
       "                   MedQA     21.5   66.795438   62.590727   73.482151   \n",
       "\n",
       "                             Ours(LSIN)  Ours(MSSI)  Ours(LSSI)  \n",
       "Correctness Metric Dataset                                       \n",
       "rougel             SciQ       67.436990         0.0         0.0  \n",
       "                   CoQA       67.801387         0.0         0.0  \n",
       "                   TriviaQA   76.094426         0.0         0.0  \n",
       "                   MedMCQA    60.108510         0.0         0.0  \n",
       "                   MedQA      66.163137         0.0         0.0  \n",
       "sentsim            SciQ       78.768006         0.0         0.0  \n",
       "                   CoQA       70.418010         0.0         0.0  \n",
       "                   TriviaQA   86.752026         0.0         0.0  \n",
       "                   MedMCQA    58.685863         0.0         0.0  \n",
       "                   MedQA      64.616824         0.0         0.0  \n",
       "include            SciQ       76.556001         0.0         0.0  \n",
       "                   CoQA       67.323370         0.0         0.0  \n",
       "                   TriviaQA   77.943198         0.0         0.0  \n",
       "                   MedMCQA    64.900656         0.0         0.0  \n",
       "                   MedQA      68.652348         0.0         0.0  "
      ]
     },
     "metadata": {},
     "output_type": "display_data"
    }
   ],
   "source": [
    "# Generalization2: Cross Correctness Metric Evaluation\n",
    "model_name = 'vicuna-7b-v1.1'\n",
    "c_th = 0.3\n",
    "\n",
    "c_metric_index = [name for name in c_metrics for i in range(len(dst_names))]\n",
    "print(c_metric_index)\n",
    "dst_names_index = [dst_names_alias[name] for name in dst_names] * len(c_metrics)\n",
    "print(dst_names_index)\n",
    "multi_index = pd.MultiIndex.from_tuples(zip(c_metric_index, dst_names_index), names=['Correctness Metric', 'Dataset'])\n",
    "columns=['ACC']+[u for u in u_metric_alias.values() if 'Ours' in u]\n",
    "print(columns)\n",
    "cross_c_metric_results_short = pd.DataFrame(columns=columns, index=multi_index).astype(float)\n",
    "cross_c_metric_results_long = deepcopy(cross_c_metric_results_short)\n",
    "\n",
    "for dst_type in dst_types:\n",
    "    result = cross_c_metric_results_short if dst_type == 'short' else cross_c_metric_results_long\n",
    "    for c_metric in c_metrics:\n",
    "        for dst_name in dst_names:\n",
    "            new_row = {k: 0. for k in columns}\n",
    "            result_path = get_eval_main_result_path(model_name, dst_name, dst_type)\n",
    "            if os.path.exists(result_path):\n",
    "                test_dst = Dataset.load_from_disk(result_path)\n",
    "                new_row['ACC'] = get_acc_by_c_th(test_dst, c_metric, c_th) * 100\n",
    "                for u_metric, u_metric_name in u_metric_alias.items():\n",
    "                    if u_metric_name in columns and u_metric in test_dst.column_names:\n",
    "                        new_row[u_metric_name] = get_auroc(test_dst, u_metric, c_metric, c_th) * 100\n",
    "            result.loc[(c_metric, dst_names_alias[dst_name])] = new_row\n",
    "\n",
    "print(\"Short Prompt Cross Correctness Metric Result:\")\n",
    "display(cross_c_metric_results_short)\n",
    "\n",
    "print(\"Long Prompt Cross Correctness Metric Result:\")\n",
    "display(cross_c_metric_results_long)\n"
   ]
  },
  {
   "cell_type": "code",
   "execution_count": null,
   "id": "95fd8d7aba27e1c5",
   "metadata": {
    "collapsed": false
   },
   "outputs": [],
   "source": [
    "# Efficiency: Get Efficiency Results\n",
    "model_name = 'vicuna-7b-v1.1'\n",
    "dst_name = 'sciq'\n",
    "dst_type = 'long'\n",
    "\n",
    "\n",
    "def plot_efficiency_results(model_name, dst_name, dst_type):\n",
    "    fig = go.Figure()\n",
    "    result_path = get_eval_main_result_path(model_name, dst_name, dst_type)"
   ]
  },
  {
   "cell_type": "code",
   "execution_count": null,
   "id": "a04b5388f4cdde32",
   "metadata": {
    "collapsed": false
   },
   "outputs": [],
   "source": [
    "# Ablation Study: Get Ablation Results"
   ]
  },
  {
   "cell_type": "code",
   "execution_count": null,
   "id": "e83f82d29861e8a8",
   "metadata": {
    "collapsed": false
   },
   "outputs": [],
   "source": [
    "# Sensitivity Analysis : Get Sensitivity Results"
   ]
  },
  {
   "cell_type": "code",
   "execution_count": null,
   "id": "c4db69225b79de49",
   "metadata": {
    "collapsed": false
   },
   "outputs": [],
   "source": [
    "# Case Study: show token level u_score\n",
    "example = test_dst.filter(lambda x: x['rougel'] < 0.1)[1]\n",
    "example = test_dst[2]\n",
    "print(f\"gt:{example['gt']}\")\n",
    "print(f\"options:{example['options']}\")\n",
    "\n",
    "str_tokens = model.to_str_tokens(f\":{example['washed_answer']}\", prepend_bos=False)[1:]\n",
    "fig = make_subplots(rows=2, cols=1, subplot_titles=(\"Token Level\", \"Sentence Level\"), row_heights=[0.5, 0.5])\n",
    "\n",
    "fig.add_trace(go.Scatter(x=list(range(len(str_tokens))), y=example['u_score_pe_all'], mode='lines+markers'), row=1, col=1)\n",
    "fig.update_xaxes(title_text='Token', tickvals=list(range(len(str_tokens))), ticktext=str_tokens, row=1, col=1)\n",
    "\n",
    "sentence_u_score_pe_all = []\n",
    "indices = [0] + [i for i, x in enumerate(str_tokens) if x == '.'] + [-1]\n",
    "spans = [(indices[i], indices[i + 1]) for i in range(len(indices) - 1)]\n",
    "print(len(indices))\n",
    "for span in spans:\n",
    "    sentence_score = sum(example['u_score_pe_all'][span[0]:span[1]]) / (span[1] - span[0])\n",
    "    sentence_u_score_pe_all.extend([sentence_score] * (span[1] - span[0]))\n",
    "sentence_u_score_pe_all.append(sentence_u_score_pe_all[-1])\n",
    "# print(str_tokens)\n",
    "for i, sentence in enumerate(example['washed_answer'].split(\".\")):\n",
    "    print(i + 1, sentence.replace(\"\\n\", ' ').strip())\n",
    "# print(len(example['u_score_pe_all']))\n",
    "# print(sentence_u_score_pe_all)\n",
    "# print(len(sentence_u_score_pe_all))\n",
    "\n",
    "fig.add_trace(go.Scatter(x=list(range(len(str_tokens))), y=sentence_u_score_pe_all, mode='lines+markers'), row=2, col=1)\n",
    "fig.update_xaxes(title_text='Sentence', tickvals=list(range(len(str_tokens))), ticktext=str_tokens, row=2, col=1)\n",
    "\n",
    "fig.update_layout(height=1000, width=2500, margin=dict(l=0, r=0, b=50, t=50), title_text=example['washed_answer'])\n",
    "fig.show()"
   ]
  }
 ],
 "metadata": {
  "kernelspec": {
   "display_name": "Python 3 (ipykernel)",
   "language": "python",
   "name": "python3"
  },
  "language_info": {
   "codemirror_mode": {
    "name": "ipython",
    "version": 3
   },
   "file_extension": ".py",
   "mimetype": "text/x-python",
   "name": "python",
   "nbconvert_exporter": "python",
   "pygments_lexer": "ipython3",
   "version": "3.9.18"
  }
 },
 "nbformat": 4,
 "nbformat_minor": 5
}
