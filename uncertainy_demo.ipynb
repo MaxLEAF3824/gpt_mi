{
 "cells": [
  {
   "cell_type": "markdown",
   "id": "2d3ad78fe71283d0",
   "metadata": {
    "collapsed": false
   },
   "source": [
    "# Inplementation of Internal State-based Uncertainty Estimation"
   ]
  },
  {
   "cell_type": "markdown",
   "id": "b278c24516568ba0",
   "metadata": {
    "collapsed": false
   },
   "source": [
    "1. 数据集预处理：将不同格式的数据集处理成input+gt的格式，方便判断模型的correctness，这一部分的采用固定不可调整的prompt，即Context: Question: Options: Answer:格式\n",
    "2. 生成回复，为每个模型确定一个prompt，一个max_new_tokens数，然后生成回复\n",
    "3. 计算回复部分的correctness指标，判断模型的回复是否正确\n",
    "4. 计算uncertainty指标，包括PE, LN-PE, SAR, Ours\n",
    "5. 计算AUROC，绘制AUROC/Correctness-Threshold曲线"
   ]
  },
  {
   "cell_type": "code",
   "execution_count": 1,
   "id": "initial_id",
   "metadata": {
    "ExecuteTime": {
     "end_time": "2024-04-03T06:10:51.497481Z",
     "start_time": "2024-04-03T06:10:39.843152Z"
    },
    "collapsed": true,
    "jupyter": {
     "outputs_hidden": true
    }
   },
   "outputs": [],
   "source": [
    "from utils import *\n",
    "\n",
    "datasets.disable_caching()\n",
    "torch.set_grad_enabled(False)\n",
    "\n",
    "# Eval Result Config\n",
    "model_names = [\n",
    "    \"vicuna-7b-v1.1\",\n",
    "    \"vicuna-13b-v1.1\",\n",
    "    \"vicuna-33b-v1.3\",\n",
    "]\n",
    "\n",
    "dst_names = [\n",
    "    \"sciq\",\n",
    "    \"coqa\",\n",
    "    \"triviaqa\",\n",
    "    \"medmcqa\",\n",
    "    \"MedQA-USMLE-4-options\",\n",
    "]\n",
    "\n",
    "c_metrics = [\n",
    "    'rougel'\n",
    "    'sentsim'\n",
    "    'include'\n",
    "]\n",
    "\n",
    "dst_types = [\n",
    "    \"short\",\n",
    "    \"long\",\n",
    "]\n",
    "\n",
    "acc_map = {\n",
    "    \"vicuna-7b-v1.1\": {\n",
    "        \"sciq\": 0.60,\n",
    "        \"coqa\": 0.8,\n",
    "        \"triviaqa\": 0.55,\n",
    "        \"medmcqa\": 0.30,\n",
    "        \"MedQA-USMLE-4-options\": 0.30\n",
    "    },\n",
    "    \"vicuna-13b-v1.1\": {\n",
    "        \"sciq\": 0.0,\n",
    "        \"coqa\": 0.0,\n",
    "        \"triviaqa\": 0.0,\n",
    "        \"medmcqa\": 0.0,\n",
    "        \"MedQA-USMLE-4-options\": 0.0\n",
    "    },\n",
    "    \"vicuna-33b-v1.3\": {\n",
    "        \"sciq\": 0.0,\n",
    "        \"coqa\": 0.0,\n",
    "        \"triviaqa\": 0.0,\n",
    "        \"medmcqa\": 0.0,\n",
    "        \"MedQA-USMLE-4-options\": 0.0\n",
    "    }\n",
    "}\n",
    "\n",
    "model_names_alias = {\n",
    "    \"vicuna-7b-v1.1\": \"Vicuna-7B\",\n",
    "    \"vicuna-13b-v1.1\": \"Vicuna-13B\",\n",
    "    \"vicuna-33b-v1.3\": \"Vicuna-33B\"\n",
    "}\n",
    "\n",
    "dst_names_alias = {\n",
    "    \"sciq\": \"SciQ\",\n",
    "    \"coqa\": \"CoQA\",\n",
    "    \"triviaqa\": \"TriviaQA\",\n",
    "    \"medmcqa\": \"MedMCQA\",\n",
    "    \"MedQA-USMLE-4-options\": \"MedQA\"\n",
    "}\n",
    "\n",
    "u_metric_alias = {\n",
    "    \"u_score_pe\": \"PE\",\n",
    "    \"u_score_ln_pe\": \"LN-PE\",\n",
    "    \"u_score_token_sar\": \"TokenSAR\",\n",
    "    \"u_score_sent_sar\": \"SentSAR\",\n",
    "    \"u_score_sar\": \"SAR\",\n",
    "    \"u_score_ls\": \"LS\",\n",
    "    \"u_score_se\": \"SE\",\n",
    "    \"u_score_ours_mean_soft\": \"Ours(MS)\",\n",
    "    \"u_score_ours_last_soft\": \"Ours(LS)\"\n",
    "}\n",
    "\n",
    "\n",
    "def get_eval_main_result_path(model_name, dst_name, dst_type):\n",
    "    return f\"eval_results/{model_name}/{dst_name}_{dst_type}\"\n",
    "\n",
    "\n",
    "def get_eval_cross_result_path(model_name, train_dst_name, train_dst_type, test_dst_name, test_dst_type):\n",
    "    return f\"cross_eval_results/{model_name}/rougel/v_c_{train_dst_name}_{train_dst_type}_mean_soft_best.pth/{test_dst_name}_{test_dst_type}\"\n",
    "\n",
    "\n",
    "def get_c_th_by_acc(test_dst, c_metric, acc):\n",
    "    sorted_c_scores = sorted(list(test_dst[c_metric]), reverse=True)\n",
    "    c_th = sorted_c_scores[int(len(sorted_c_scores) * acc)]\n",
    "    return c_th\n",
    "\n",
    "\n",
    "def get_acc_by_c_th(test_dst, c_metric, c_th):\n",
    "    return sum([1 if s > c_th else 0 for s in test_dst[c_metric]]) / len(test_dst)"
   ]
  },
  {
   "cell_type": "code",
   "execution_count": 15,
   "id": "17ba7314",
   "metadata": {
    "ExecuteTime": {
     "end_time": "2024-04-03T06:13:09.198447Z",
     "start_time": "2024-04-03T06:13:09.129675Z"
    }
   },
   "outputs": [
    {
     "name": "stdout",
     "output_type": "stream",
     "text": [
      "washed_answer: Darwin, Linnaeus, Scopes, Shaw\n",
      "gt: darwin\n",
      "options: ['Scopes', 'shaw', 'darwin', 'Linnaeus']\n",
      "include: 0\n",
      "\n",
      "washed_answer: hydrochloric, amino, lactic, fatty\n",
      "gt: amino\n",
      "options: ['hydrochloric', 'amino', 'lactic', 'fatty']\n",
      "include: 0\n",
      "\n",
      "washed_answer: genes\n",
      "gt: nucleotides\n",
      "options: ['carotenoids', 'proteins', 'genes', 'nucleotides']\n",
      "include: 0\n",
      "\n",
      "washed_answer: Wetland\n",
      "gt: wetland\n",
      "options: ['plains', 'wetland', 'grassland', 'tundra']\n",
      "include: 1\n",
      "\n",
      "washed_answer: gamma rays\n",
      "gt: the sun\n",
      "options: ['gamma rays', 'the sun', 'the moon', 'decomposition']\n",
      "include: 0\n",
      "\n",
      "washed_answer: blood vessels, organs, muscles, tissue\n",
      "gt: blood vessels\n",
      "options: ['blood vessels', 'organs', 'muscles', 'tissue']\n",
      "include: 0\n",
      "\n",
      "washed_answer: catabolic and anabolic\n",
      "\n",
      "Metabolic reactions can be broadly classified into two categories: catabolic and anabolic reactions.\n",
      "\n",
      "Catabolic reactions break down large molecules into smaller ones, releasing energy in the process. These reactions occur in the cytoplasm and the mitochondria of cells and are responsible for breaking down nutrients into smaller molecules that can be used for energy or for building new molecules. Examples of catabolic reactions include the breakdown of glucose to produce energy in the form of ATP, the\n",
      "gt: catabolic and anabolic\n",
      "options: ['catabolic and anabolic', 'discrete and telltale', 'innumerable and anabolic', 'telltale and anabolic']\n",
      "include: 1\n",
      "\n",
      "washed_answer: volcanic ash\n",
      "gt: volcanic ash\n",
      "options: ['volcanic ash', 'mineral ash', 'ground ash', 'volatile ash']\n",
      "include: 1\n",
      "\n",
      "washed_answer: brain. The brain is the organ that has four major regions: the cerebrum, the diencephalon, the stem, and the cerebellum. The cerebrum is the largest part of the brain and is divided into two hemispheres. It is responsible for controlling voluntary movements, sensory processing, and cognitive functions such as perception, attention, memory, and decision-making. The diencephalon is a region located between the cerebrum and the stem and is involved in the regulation of various bodily functions, including the sleep-wake cycle\n",
      "gt: brain\n",
      "options: ['liver', 'heart', 'lungs', 'brain']\n",
      "include: 1\n",
      "\n",
      "washed_answer: lariat, braid, noose, tourniquet\n",
      "gt: lariat\n",
      "options: ['lariat', 'braid', 'noose', 'tourniquet']\n",
      "include: 0\n",
      "\n",
      "0.7573804099227829\n"
     ]
    }
   ],
   "source": [
    "# Show Case\n",
    "test_dst = Dataset.load_from_disk(get_eval_main_result_path('vicuna-7b-v1.1', 'sciq', 'short'))\n",
    "for i in range(0, 10):\n",
    "    for k in ['washed_answer', 'gt', 'options', 'include']:\n",
    "        print(f\"{k}: {test_dst[i][k]}\")\n",
    "    print()\n",
    "print(get_auroc(test_dst, 'u_score_ours_mean_soft', 'include', 0.3))"
   ]
  },
  {
   "cell_type": "code",
   "execution_count": 16,
   "id": "7945d36b239e5914",
   "metadata": {
    "ExecuteTime": {
     "end_time": "2024-04-03T06:13:15.371215Z",
     "start_time": "2024-04-03T06:13:15.314126Z"
    },
    "collapsed": false
   },
   "outputs": [
    {
     "name": "stdout",
     "output_type": "stream",
     "text": [
      "washed_answer: Darwin, Linnaeus, Scopes, Shaw\n",
      "gt: darwin\n",
      "include: 0\n",
      "\n",
      "washed_answer: hydrochloric, amino, lactic, fatty\n",
      "gt: amino\n",
      "include: 0\n",
      "\n",
      "washed_answer: genes\n",
      "gt: nucleotides\n",
      "include: 0\n",
      "\n",
      "washed_answer: Wetland\n",
      "gt: wetland\n",
      "include: 1\n",
      "\n",
      "washed_answer: gamma rays\n",
      "gt: the sun\n",
      "include: 0\n",
      "\n",
      "washed_answer: blood vessels, organs, muscles, tissue\n",
      "gt: blood vessels\n",
      "include: 0\n",
      "\n",
      "washed_answer: catabolic and anabolic\n",
      "\n",
      "Metabolic reactions can be broadly classified into two categories: catabolic and anabolic reactions.\n",
      "\n",
      "Catabolic reactions break down large molecules into smaller ones, releasing energy in the process. These reactions occur in the cytoplasm and the mitochondria of cells and are responsible for breaking down nutrients into smaller molecules that can be used for energy or for building new molecules. Examples of catabolic reactions include the breakdown of glucose to produce energy in the form of ATP, the\n",
      "gt: catabolic and anabolic\n",
      "include: 1\n",
      "\n",
      "washed_answer: volcanic ash\n",
      "gt: volcanic ash\n",
      "include: 1\n",
      "\n",
      "washed_answer: brain. The brain is the organ that has four major regions: the cerebrum, the diencephalon, the stem, and the cerebellum. The cerebrum is the largest part of the brain and is divided into two hemispheres. It is responsible for controlling voluntary movements, sensory processing, and cognitive functions such as perception, attention, memory, and decision-making. The diencephalon is a region located between the cerebrum and the stem and is involved in the regulation of various bodily functions, including the sleep-wake cycle\n",
      "gt: brain\n",
      "include: 1\n",
      "\n",
      "washed_answer: lariat, braid, noose, tourniquet\n",
      "gt: lariat\n",
      "include: 0\n",
      "\n",
      "0.7573804099227829\n"
     ]
    }
   ],
   "source": [
    "# Show Case\n",
    "test_dst = Dataset.load_from_disk(get_eval_cross_result_path('vicuna-7b-v1.1', 'sciq', 'short', 'sciq', 'short'))\n",
    "for i in range(0, 10):\n",
    "    for k in ['washed_answer', 'gt', 'include']:\n",
    "        print(f\"{k}: {test_dst[i][k]}\")\n",
    "    print()\n",
    "print(get_auroc(test_dst, 'u_score_ours_mean_soft', 'include', 0.3))"
   ]
  },
  {
   "cell_type": "code",
   "execution_count": 8,
   "id": "61e02693",
   "metadata": {
    "ExecuteTime": {
     "end_time": "2024-04-03T06:11:45.543188Z",
     "start_time": "2024-04-03T06:11:43.706406Z"
    }
   },
   "outputs": [
    {
     "name": "stdout",
     "output_type": "stream",
     "text": [
      "Short Prompt Main Result:\n"
     ]
    },
    {
     "data": {
      "text/html": [
       "<div>\n",
       "<style scoped>\n",
       "    .dataframe tbody tr th:only-of-type {\n",
       "        vertical-align: middle;\n",
       "    }\n",
       "\n",
       "    .dataframe tbody tr th {\n",
       "        vertical-align: top;\n",
       "    }\n",
       "\n",
       "    .dataframe thead th {\n",
       "        text-align: right;\n",
       "    }\n",
       "</style>\n",
       "<table border=\"1\" class=\"dataframe\">\n",
       "  <thead>\n",
       "    <tr style=\"text-align: right;\">\n",
       "      <th></th>\n",
       "      <th></th>\n",
       "      <th>ACC</th>\n",
       "      <th>PE</th>\n",
       "      <th>LN-PE</th>\n",
       "      <th>TokenSAR</th>\n",
       "      <th>SentSAR</th>\n",
       "      <th>SAR</th>\n",
       "      <th>LS</th>\n",
       "      <th>SE</th>\n",
       "      <th>Ours(MS)</th>\n",
       "      <th>Ours(LS)</th>\n",
       "    </tr>\n",
       "    <tr>\n",
       "      <th>Model</th>\n",
       "      <th>Dataset</th>\n",
       "      <th></th>\n",
       "      <th></th>\n",
       "      <th></th>\n",
       "      <th></th>\n",
       "      <th></th>\n",
       "      <th></th>\n",
       "      <th></th>\n",
       "      <th></th>\n",
       "      <th></th>\n",
       "      <th></th>\n",
       "    </tr>\n",
       "  </thead>\n",
       "  <tbody>\n",
       "    <tr>\n",
       "      <th rowspan=\"5\" valign=\"top\">Vicuna-7B</th>\n",
       "      <th>SciQ</th>\n",
       "      <td>66.6</td>\n",
       "      <td>81.494444</td>\n",
       "      <td>57.313751</td>\n",
       "      <td>52.645610</td>\n",
       "      <td>75.829647</td>\n",
       "      <td>60.063881</td>\n",
       "      <td>74.565509</td>\n",
       "      <td>73.647974</td>\n",
       "      <td>86.126171</td>\n",
       "      <td>83.728714</td>\n",
       "    </tr>\n",
       "    <tr>\n",
       "      <th>CoQA</th>\n",
       "      <td>52.2</td>\n",
       "      <td>74.528287</td>\n",
       "      <td>51.025185</td>\n",
       "      <td>50.379134</td>\n",
       "      <td>72.138059</td>\n",
       "      <td>54.986454</td>\n",
       "      <td>66.491928</td>\n",
       "      <td>60.077911</td>\n",
       "      <td>83.330929</td>\n",
       "      <td>81.749467</td>\n",
       "    </tr>\n",
       "    <tr>\n",
       "      <th>TriviaQA</th>\n",
       "      <td>52.9</td>\n",
       "      <td>76.647041</td>\n",
       "      <td>76.537673</td>\n",
       "      <td>76.499344</td>\n",
       "      <td>76.850726</td>\n",
       "      <td>77.772426</td>\n",
       "      <td>73.753306</td>\n",
       "      <td>76.956281</td>\n",
       "      <td>72.515743</td>\n",
       "      <td>70.878836</td>\n",
       "    </tr>\n",
       "    <tr>\n",
       "      <th>MedMCQA</th>\n",
       "      <td>25.1</td>\n",
       "      <td>83.877840</td>\n",
       "      <td>62.722940</td>\n",
       "      <td>58.141267</td>\n",
       "      <td>72.434960</td>\n",
       "      <td>56.667323</td>\n",
       "      <td>70.130160</td>\n",
       "      <td>52.861451</td>\n",
       "      <td>88.772547</td>\n",
       "      <td>85.187687</td>\n",
       "    </tr>\n",
       "    <tr>\n",
       "      <th>MedQA</th>\n",
       "      <td>4.9</td>\n",
       "      <td>78.950192</td>\n",
       "      <td>62.209489</td>\n",
       "      <td>61.490590</td>\n",
       "      <td>80.293569</td>\n",
       "      <td>60.954098</td>\n",
       "      <td>63.866177</td>\n",
       "      <td>52.490397</td>\n",
       "      <td>92.167214</td>\n",
       "      <td>76.766669</td>\n",
       "    </tr>\n",
       "    <tr>\n",
       "      <th rowspan=\"5\" valign=\"top\">Vicuna-13B</th>\n",
       "      <th>SciQ</th>\n",
       "      <td>0.0</td>\n",
       "      <td>0.000000</td>\n",
       "      <td>0.000000</td>\n",
       "      <td>0.000000</td>\n",
       "      <td>0.000000</td>\n",
       "      <td>0.000000</td>\n",
       "      <td>0.000000</td>\n",
       "      <td>0.000000</td>\n",
       "      <td>0.000000</td>\n",
       "      <td>0.000000</td>\n",
       "    </tr>\n",
       "    <tr>\n",
       "      <th>CoQA</th>\n",
       "      <td>0.0</td>\n",
       "      <td>0.000000</td>\n",
       "      <td>0.000000</td>\n",
       "      <td>0.000000</td>\n",
       "      <td>0.000000</td>\n",
       "      <td>0.000000</td>\n",
       "      <td>0.000000</td>\n",
       "      <td>0.000000</td>\n",
       "      <td>0.000000</td>\n",
       "      <td>0.000000</td>\n",
       "    </tr>\n",
       "    <tr>\n",
       "      <th>TriviaQA</th>\n",
       "      <td>0.0</td>\n",
       "      <td>0.000000</td>\n",
       "      <td>0.000000</td>\n",
       "      <td>0.000000</td>\n",
       "      <td>0.000000</td>\n",
       "      <td>0.000000</td>\n",
       "      <td>0.000000</td>\n",
       "      <td>0.000000</td>\n",
       "      <td>0.000000</td>\n",
       "      <td>0.000000</td>\n",
       "    </tr>\n",
       "    <tr>\n",
       "      <th>MedMCQA</th>\n",
       "      <td>0.0</td>\n",
       "      <td>0.000000</td>\n",
       "      <td>0.000000</td>\n",
       "      <td>0.000000</td>\n",
       "      <td>0.000000</td>\n",
       "      <td>0.000000</td>\n",
       "      <td>0.000000</td>\n",
       "      <td>0.000000</td>\n",
       "      <td>0.000000</td>\n",
       "      <td>0.000000</td>\n",
       "    </tr>\n",
       "    <tr>\n",
       "      <th>MedQA</th>\n",
       "      <td>0.0</td>\n",
       "      <td>0.000000</td>\n",
       "      <td>0.000000</td>\n",
       "      <td>0.000000</td>\n",
       "      <td>0.000000</td>\n",
       "      <td>0.000000</td>\n",
       "      <td>0.000000</td>\n",
       "      <td>0.000000</td>\n",
       "      <td>0.000000</td>\n",
       "      <td>0.000000</td>\n",
       "    </tr>\n",
       "    <tr>\n",
       "      <th rowspan=\"5\" valign=\"top\">Vicuna-33B</th>\n",
       "      <th>SciQ</th>\n",
       "      <td>0.0</td>\n",
       "      <td>0.000000</td>\n",
       "      <td>0.000000</td>\n",
       "      <td>0.000000</td>\n",
       "      <td>0.000000</td>\n",
       "      <td>0.000000</td>\n",
       "      <td>0.000000</td>\n",
       "      <td>0.000000</td>\n",
       "      <td>0.000000</td>\n",
       "      <td>0.000000</td>\n",
       "    </tr>\n",
       "    <tr>\n",
       "      <th>CoQA</th>\n",
       "      <td>0.0</td>\n",
       "      <td>0.000000</td>\n",
       "      <td>0.000000</td>\n",
       "      <td>0.000000</td>\n",
       "      <td>0.000000</td>\n",
       "      <td>0.000000</td>\n",
       "      <td>0.000000</td>\n",
       "      <td>0.000000</td>\n",
       "      <td>0.000000</td>\n",
       "      <td>0.000000</td>\n",
       "    </tr>\n",
       "    <tr>\n",
       "      <th>TriviaQA</th>\n",
       "      <td>0.0</td>\n",
       "      <td>0.000000</td>\n",
       "      <td>0.000000</td>\n",
       "      <td>0.000000</td>\n",
       "      <td>0.000000</td>\n",
       "      <td>0.000000</td>\n",
       "      <td>0.000000</td>\n",
       "      <td>0.000000</td>\n",
       "      <td>0.000000</td>\n",
       "      <td>0.000000</td>\n",
       "    </tr>\n",
       "    <tr>\n",
       "      <th>MedMCQA</th>\n",
       "      <td>0.0</td>\n",
       "      <td>0.000000</td>\n",
       "      <td>0.000000</td>\n",
       "      <td>0.000000</td>\n",
       "      <td>0.000000</td>\n",
       "      <td>0.000000</td>\n",
       "      <td>0.000000</td>\n",
       "      <td>0.000000</td>\n",
       "      <td>0.000000</td>\n",
       "      <td>0.000000</td>\n",
       "    </tr>\n",
       "    <tr>\n",
       "      <th>MedQA</th>\n",
       "      <td>0.0</td>\n",
       "      <td>0.000000</td>\n",
       "      <td>0.000000</td>\n",
       "      <td>0.000000</td>\n",
       "      <td>0.000000</td>\n",
       "      <td>0.000000</td>\n",
       "      <td>0.000000</td>\n",
       "      <td>0.000000</td>\n",
       "      <td>0.000000</td>\n",
       "      <td>0.000000</td>\n",
       "    </tr>\n",
       "  </tbody>\n",
       "</table>\n",
       "</div>"
      ],
      "text/plain": [
       "                      ACC         PE      LN-PE   TokenSAR    SentSAR  \\\n",
       "Model      Dataset                                                      \n",
       "Vicuna-7B  SciQ      66.6  81.494444  57.313751  52.645610  75.829647   \n",
       "           CoQA      52.2  74.528287  51.025185  50.379134  72.138059   \n",
       "           TriviaQA  52.9  76.647041  76.537673  76.499344  76.850726   \n",
       "           MedMCQA   25.1  83.877840  62.722940  58.141267  72.434960   \n",
       "           MedQA      4.9  78.950192  62.209489  61.490590  80.293569   \n",
       "Vicuna-13B SciQ       0.0   0.000000   0.000000   0.000000   0.000000   \n",
       "           CoQA       0.0   0.000000   0.000000   0.000000   0.000000   \n",
       "           TriviaQA   0.0   0.000000   0.000000   0.000000   0.000000   \n",
       "           MedMCQA    0.0   0.000000   0.000000   0.000000   0.000000   \n",
       "           MedQA      0.0   0.000000   0.000000   0.000000   0.000000   \n",
       "Vicuna-33B SciQ       0.0   0.000000   0.000000   0.000000   0.000000   \n",
       "           CoQA       0.0   0.000000   0.000000   0.000000   0.000000   \n",
       "           TriviaQA   0.0   0.000000   0.000000   0.000000   0.000000   \n",
       "           MedMCQA    0.0   0.000000   0.000000   0.000000   0.000000   \n",
       "           MedQA      0.0   0.000000   0.000000   0.000000   0.000000   \n",
       "\n",
       "                           SAR         LS         SE   Ours(MS)   Ours(LS)  \n",
       "Model      Dataset                                                          \n",
       "Vicuna-7B  SciQ      60.063881  74.565509  73.647974  86.126171  83.728714  \n",
       "           CoQA      54.986454  66.491928  60.077911  83.330929  81.749467  \n",
       "           TriviaQA  77.772426  73.753306  76.956281  72.515743  70.878836  \n",
       "           MedMCQA   56.667323  70.130160  52.861451  88.772547  85.187687  \n",
       "           MedQA     60.954098  63.866177  52.490397  92.167214  76.766669  \n",
       "Vicuna-13B SciQ       0.000000   0.000000   0.000000   0.000000   0.000000  \n",
       "           CoQA       0.000000   0.000000   0.000000   0.000000   0.000000  \n",
       "           TriviaQA   0.000000   0.000000   0.000000   0.000000   0.000000  \n",
       "           MedMCQA    0.000000   0.000000   0.000000   0.000000   0.000000  \n",
       "           MedQA      0.000000   0.000000   0.000000   0.000000   0.000000  \n",
       "Vicuna-33B SciQ       0.000000   0.000000   0.000000   0.000000   0.000000  \n",
       "           CoQA       0.000000   0.000000   0.000000   0.000000   0.000000  \n",
       "           TriviaQA   0.000000   0.000000   0.000000   0.000000   0.000000  \n",
       "           MedMCQA    0.000000   0.000000   0.000000   0.000000   0.000000  \n",
       "           MedQA      0.000000   0.000000   0.000000   0.000000   0.000000  "
      ]
     },
     "metadata": {},
     "output_type": "display_data"
    },
    {
     "name": "stdout",
     "output_type": "stream",
     "text": [
      "Long Prompt Main Result:\n"
     ]
    },
    {
     "data": {
      "text/html": [
       "<div>\n",
       "<style scoped>\n",
       "    .dataframe tbody tr th:only-of-type {\n",
       "        vertical-align: middle;\n",
       "    }\n",
       "\n",
       "    .dataframe tbody tr th {\n",
       "        vertical-align: top;\n",
       "    }\n",
       "\n",
       "    .dataframe thead th {\n",
       "        text-align: right;\n",
       "    }\n",
       "</style>\n",
       "<table border=\"1\" class=\"dataframe\">\n",
       "  <thead>\n",
       "    <tr style=\"text-align: right;\">\n",
       "      <th></th>\n",
       "      <th></th>\n",
       "      <th>ACC</th>\n",
       "      <th>PE</th>\n",
       "      <th>LN-PE</th>\n",
       "      <th>TokenSAR</th>\n",
       "      <th>SentSAR</th>\n",
       "      <th>SAR</th>\n",
       "      <th>LS</th>\n",
       "      <th>SE</th>\n",
       "      <th>Ours(MS)</th>\n",
       "      <th>Ours(LS)</th>\n",
       "    </tr>\n",
       "    <tr>\n",
       "      <th>Model</th>\n",
       "      <th>Dataset</th>\n",
       "      <th></th>\n",
       "      <th></th>\n",
       "      <th></th>\n",
       "      <th></th>\n",
       "      <th></th>\n",
       "      <th></th>\n",
       "      <th></th>\n",
       "      <th></th>\n",
       "      <th></th>\n",
       "      <th></th>\n",
       "    </tr>\n",
       "  </thead>\n",
       "  <tbody>\n",
       "    <tr>\n",
       "      <th rowspan=\"5\" valign=\"top\">Vicuna-7B</th>\n",
       "      <th>SciQ</th>\n",
       "      <td>20.8</td>\n",
       "      <td>50.692623</td>\n",
       "      <td>77.468192</td>\n",
       "      <td>73.288474</td>\n",
       "      <td>52.062087</td>\n",
       "      <td>67.557789</td>\n",
       "      <td>58.036798</td>\n",
       "      <td>51.621382</td>\n",
       "      <td>88.927739</td>\n",
       "      <td>86.360905</td>\n",
       "    </tr>\n",
       "    <tr>\n",
       "      <th>CoQA</th>\n",
       "      <td>38.6</td>\n",
       "      <td>63.344079</td>\n",
       "      <td>59.224317</td>\n",
       "      <td>58.842889</td>\n",
       "      <td>62.571096</td>\n",
       "      <td>54.083475</td>\n",
       "      <td>62.267304</td>\n",
       "      <td>61.997266</td>\n",
       "      <td>78.890652</td>\n",
       "      <td>72.618184</td>\n",
       "    </tr>\n",
       "    <tr>\n",
       "      <th>TriviaQA</th>\n",
       "      <td>36.9</td>\n",
       "      <td>75.067536</td>\n",
       "      <td>67.876516</td>\n",
       "      <td>68.145371</td>\n",
       "      <td>71.897320</td>\n",
       "      <td>54.045499</td>\n",
       "      <td>77.248872</td>\n",
       "      <td>58.929776</td>\n",
       "      <td>85.726833</td>\n",
       "      <td>87.194156</td>\n",
       "    </tr>\n",
       "    <tr>\n",
       "      <th>MedMCQA</th>\n",
       "      <td>16.5</td>\n",
       "      <td>64.432589</td>\n",
       "      <td>50.808928</td>\n",
       "      <td>51.367084</td>\n",
       "      <td>62.763201</td>\n",
       "      <td>52.803484</td>\n",
       "      <td>55.372528</td>\n",
       "      <td>62.919978</td>\n",
       "      <td>80.601343</td>\n",
       "      <td>75.462529</td>\n",
       "    </tr>\n",
       "    <tr>\n",
       "      <th>MedQA</th>\n",
       "      <td>15.0</td>\n",
       "      <td>67.643922</td>\n",
       "      <td>52.041569</td>\n",
       "      <td>52.715294</td>\n",
       "      <td>65.254118</td>\n",
       "      <td>59.762745</td>\n",
       "      <td>63.347059</td>\n",
       "      <td>65.269804</td>\n",
       "      <td>79.352549</td>\n",
       "      <td>76.653333</td>\n",
       "    </tr>\n",
       "    <tr>\n",
       "      <th rowspan=\"5\" valign=\"top\">Vicuna-13B</th>\n",
       "      <th>SciQ</th>\n",
       "      <td>0.0</td>\n",
       "      <td>0.000000</td>\n",
       "      <td>0.000000</td>\n",
       "      <td>0.000000</td>\n",
       "      <td>0.000000</td>\n",
       "      <td>0.000000</td>\n",
       "      <td>0.000000</td>\n",
       "      <td>0.000000</td>\n",
       "      <td>0.000000</td>\n",
       "      <td>0.000000</td>\n",
       "    </tr>\n",
       "    <tr>\n",
       "      <th>CoQA</th>\n",
       "      <td>0.0</td>\n",
       "      <td>0.000000</td>\n",
       "      <td>0.000000</td>\n",
       "      <td>0.000000</td>\n",
       "      <td>0.000000</td>\n",
       "      <td>0.000000</td>\n",
       "      <td>0.000000</td>\n",
       "      <td>0.000000</td>\n",
       "      <td>0.000000</td>\n",
       "      <td>0.000000</td>\n",
       "    </tr>\n",
       "    <tr>\n",
       "      <th>TriviaQA</th>\n",
       "      <td>0.0</td>\n",
       "      <td>0.000000</td>\n",
       "      <td>0.000000</td>\n",
       "      <td>0.000000</td>\n",
       "      <td>0.000000</td>\n",
       "      <td>0.000000</td>\n",
       "      <td>0.000000</td>\n",
       "      <td>0.000000</td>\n",
       "      <td>0.000000</td>\n",
       "      <td>0.000000</td>\n",
       "    </tr>\n",
       "    <tr>\n",
       "      <th>MedMCQA</th>\n",
       "      <td>0.0</td>\n",
       "      <td>0.000000</td>\n",
       "      <td>0.000000</td>\n",
       "      <td>0.000000</td>\n",
       "      <td>0.000000</td>\n",
       "      <td>0.000000</td>\n",
       "      <td>0.000000</td>\n",
       "      <td>0.000000</td>\n",
       "      <td>0.000000</td>\n",
       "      <td>0.000000</td>\n",
       "    </tr>\n",
       "    <tr>\n",
       "      <th>MedQA</th>\n",
       "      <td>0.0</td>\n",
       "      <td>0.000000</td>\n",
       "      <td>0.000000</td>\n",
       "      <td>0.000000</td>\n",
       "      <td>0.000000</td>\n",
       "      <td>0.000000</td>\n",
       "      <td>0.000000</td>\n",
       "      <td>0.000000</td>\n",
       "      <td>0.000000</td>\n",
       "      <td>0.000000</td>\n",
       "    </tr>\n",
       "    <tr>\n",
       "      <th rowspan=\"5\" valign=\"top\">Vicuna-33B</th>\n",
       "      <th>SciQ</th>\n",
       "      <td>0.0</td>\n",
       "      <td>0.000000</td>\n",
       "      <td>0.000000</td>\n",
       "      <td>0.000000</td>\n",
       "      <td>0.000000</td>\n",
       "      <td>0.000000</td>\n",
       "      <td>0.000000</td>\n",
       "      <td>0.000000</td>\n",
       "      <td>0.000000</td>\n",
       "      <td>0.000000</td>\n",
       "    </tr>\n",
       "    <tr>\n",
       "      <th>CoQA</th>\n",
       "      <td>0.0</td>\n",
       "      <td>0.000000</td>\n",
       "      <td>0.000000</td>\n",
       "      <td>0.000000</td>\n",
       "      <td>0.000000</td>\n",
       "      <td>0.000000</td>\n",
       "      <td>0.000000</td>\n",
       "      <td>0.000000</td>\n",
       "      <td>0.000000</td>\n",
       "      <td>0.000000</td>\n",
       "    </tr>\n",
       "    <tr>\n",
       "      <th>TriviaQA</th>\n",
       "      <td>0.0</td>\n",
       "      <td>0.000000</td>\n",
       "      <td>0.000000</td>\n",
       "      <td>0.000000</td>\n",
       "      <td>0.000000</td>\n",
       "      <td>0.000000</td>\n",
       "      <td>0.000000</td>\n",
       "      <td>0.000000</td>\n",
       "      <td>0.000000</td>\n",
       "      <td>0.000000</td>\n",
       "    </tr>\n",
       "    <tr>\n",
       "      <th>MedMCQA</th>\n",
       "      <td>0.0</td>\n",
       "      <td>0.000000</td>\n",
       "      <td>0.000000</td>\n",
       "      <td>0.000000</td>\n",
       "      <td>0.000000</td>\n",
       "      <td>0.000000</td>\n",
       "      <td>0.000000</td>\n",
       "      <td>0.000000</td>\n",
       "      <td>0.000000</td>\n",
       "      <td>0.000000</td>\n",
       "    </tr>\n",
       "    <tr>\n",
       "      <th>MedQA</th>\n",
       "      <td>0.0</td>\n",
       "      <td>0.000000</td>\n",
       "      <td>0.000000</td>\n",
       "      <td>0.000000</td>\n",
       "      <td>0.000000</td>\n",
       "      <td>0.000000</td>\n",
       "      <td>0.000000</td>\n",
       "      <td>0.000000</td>\n",
       "      <td>0.000000</td>\n",
       "      <td>0.000000</td>\n",
       "    </tr>\n",
       "  </tbody>\n",
       "</table>\n",
       "</div>"
      ],
      "text/plain": [
       "                      ACC         PE      LN-PE   TokenSAR    SentSAR  \\\n",
       "Model      Dataset                                                      \n",
       "Vicuna-7B  SciQ      20.8  50.692623  77.468192  73.288474  52.062087   \n",
       "           CoQA      38.6  63.344079  59.224317  58.842889  62.571096   \n",
       "           TriviaQA  36.9  75.067536  67.876516  68.145371  71.897320   \n",
       "           MedMCQA   16.5  64.432589  50.808928  51.367084  62.763201   \n",
       "           MedQA     15.0  67.643922  52.041569  52.715294  65.254118   \n",
       "Vicuna-13B SciQ       0.0   0.000000   0.000000   0.000000   0.000000   \n",
       "           CoQA       0.0   0.000000   0.000000   0.000000   0.000000   \n",
       "           TriviaQA   0.0   0.000000   0.000000   0.000000   0.000000   \n",
       "           MedMCQA    0.0   0.000000   0.000000   0.000000   0.000000   \n",
       "           MedQA      0.0   0.000000   0.000000   0.000000   0.000000   \n",
       "Vicuna-33B SciQ       0.0   0.000000   0.000000   0.000000   0.000000   \n",
       "           CoQA       0.0   0.000000   0.000000   0.000000   0.000000   \n",
       "           TriviaQA   0.0   0.000000   0.000000   0.000000   0.000000   \n",
       "           MedMCQA    0.0   0.000000   0.000000   0.000000   0.000000   \n",
       "           MedQA      0.0   0.000000   0.000000   0.000000   0.000000   \n",
       "\n",
       "                           SAR         LS         SE   Ours(MS)   Ours(LS)  \n",
       "Model      Dataset                                                          \n",
       "Vicuna-7B  SciQ      67.557789  58.036798  51.621382  88.927739  86.360905  \n",
       "           CoQA      54.083475  62.267304  61.997266  78.890652  72.618184  \n",
       "           TriviaQA  54.045499  77.248872  58.929776  85.726833  87.194156  \n",
       "           MedMCQA   52.803484  55.372528  62.919978  80.601343  75.462529  \n",
       "           MedQA     59.762745  63.347059  65.269804  79.352549  76.653333  \n",
       "Vicuna-13B SciQ       0.000000   0.000000   0.000000   0.000000   0.000000  \n",
       "           CoQA       0.000000   0.000000   0.000000   0.000000   0.000000  \n",
       "           TriviaQA   0.000000   0.000000   0.000000   0.000000   0.000000  \n",
       "           MedMCQA    0.000000   0.000000   0.000000   0.000000   0.000000  \n",
       "           MedQA      0.000000   0.000000   0.000000   0.000000   0.000000  \n",
       "Vicuna-33B SciQ       0.000000   0.000000   0.000000   0.000000   0.000000  \n",
       "           CoQA       0.000000   0.000000   0.000000   0.000000   0.000000  \n",
       "           TriviaQA   0.000000   0.000000   0.000000   0.000000   0.000000  \n",
       "           MedMCQA    0.000000   0.000000   0.000000   0.000000   0.000000  \n",
       "           MedQA      0.000000   0.000000   0.000000   0.000000   0.000000  "
      ]
     },
     "metadata": {},
     "output_type": "display_data"
    },
    {
     "name": "stdout",
     "output_type": "stream",
     "text": [
      "\\begin{tabular}{llrrrrrrrrrr}\n",
      "\\toprule\n",
      " &  & ACC & PE & LN-PE & TokenSAR & SentSAR & SAR & LS & SE & Ours(MS) & Ours(LS) \\\\\n",
      "Model & Dataset &  &  &  &  &  &  &  &  &  &  \\\\\n",
      "\\midrule\n",
      "\\multirow[t]{5}{*}{Vicuna-7B} & SciQ & 66.60 & 81.49 & 57.31 & 52.65 & 75.83 & 60.06 & 74.57 & 73.65 & 86.13 & 83.73 \\\\\n",
      " & CoQA & 52.20 & 74.53 & 51.03 & 50.38 & 72.14 & 54.99 & 66.49 & 60.08 & 83.33 & 81.75 \\\\\n",
      " & TriviaQA & 52.90 & 76.65 & 76.54 & 76.50 & 76.85 & 77.77 & 73.75 & 76.96 & 72.52 & 70.88 \\\\\n",
      " & MedMCQA & 25.10 & 83.88 & 62.72 & 58.14 & 72.43 & 56.67 & 70.13 & 52.86 & 88.77 & 85.19 \\\\\n",
      " & MedQA & 4.90 & 78.95 & 62.21 & 61.49 & 80.29 & 60.95 & 63.87 & 52.49 & 92.17 & 76.77 \\\\\n",
      "\\cline{1-12}\n",
      "\\multirow[t]{5}{*}{Vicuna-13B} & SciQ & 0.00 & 0.00 & 0.00 & 0.00 & 0.00 & 0.00 & 0.00 & 0.00 & 0.00 & 0.00 \\\\\n",
      " & CoQA & 0.00 & 0.00 & 0.00 & 0.00 & 0.00 & 0.00 & 0.00 & 0.00 & 0.00 & 0.00 \\\\\n",
      " & TriviaQA & 0.00 & 0.00 & 0.00 & 0.00 & 0.00 & 0.00 & 0.00 & 0.00 & 0.00 & 0.00 \\\\\n",
      " & MedMCQA & 0.00 & 0.00 & 0.00 & 0.00 & 0.00 & 0.00 & 0.00 & 0.00 & 0.00 & 0.00 \\\\\n",
      " & MedQA & 0.00 & 0.00 & 0.00 & 0.00 & 0.00 & 0.00 & 0.00 & 0.00 & 0.00 & 0.00 \\\\\n",
      "\\cline{1-12}\n",
      "\\multirow[t]{5}{*}{Vicuna-33B} & SciQ & 0.00 & 0.00 & 0.00 & 0.00 & 0.00 & 0.00 & 0.00 & 0.00 & 0.00 & 0.00 \\\\\n",
      " & CoQA & 0.00 & 0.00 & 0.00 & 0.00 & 0.00 & 0.00 & 0.00 & 0.00 & 0.00 & 0.00 \\\\\n",
      " & TriviaQA & 0.00 & 0.00 & 0.00 & 0.00 & 0.00 & 0.00 & 0.00 & 0.00 & 0.00 & 0.00 \\\\\n",
      " & MedMCQA & 0.00 & 0.00 & 0.00 & 0.00 & 0.00 & 0.00 & 0.00 & 0.00 & 0.00 & 0.00 \\\\\n",
      " & MedQA & 0.00 & 0.00 & 0.00 & 0.00 & 0.00 & 0.00 & 0.00 & 0.00 & 0.00 & 0.00 \\\\\n",
      "\\cline{1-12}\n",
      "\\bottomrule\n",
      "\\end{tabular}\n",
      "\n",
      "\\begin{tabular}{llrrrrrrrrrr}\n",
      "\\toprule\n",
      " &  & ACC & PE & LN-PE & TokenSAR & SentSAR & SAR & LS & SE & Ours(MS) & Ours(LS) \\\\\n",
      "Model & Dataset &  &  &  &  &  &  &  &  &  &  \\\\\n",
      "\\midrule\n",
      "\\multirow[t]{5}{*}{Vicuna-7B} & SciQ & 20.80 & 50.69 & 77.47 & 73.29 & 52.06 & 67.56 & 58.04 & 51.62 & 88.93 & 86.36 \\\\\n",
      " & CoQA & 38.60 & 63.34 & 59.22 & 58.84 & 62.57 & 54.08 & 62.27 & 62.00 & 78.89 & 72.62 \\\\\n",
      " & TriviaQA & 36.90 & 75.07 & 67.88 & 68.15 & 71.90 & 54.05 & 77.25 & 58.93 & 85.73 & 87.19 \\\\\n",
      " & MedMCQA & 16.50 & 64.43 & 50.81 & 51.37 & 62.76 & 52.80 & 55.37 & 62.92 & 80.60 & 75.46 \\\\\n",
      " & MedQA & 15.00 & 67.64 & 52.04 & 52.72 & 65.25 & 59.76 & 63.35 & 65.27 & 79.35 & 76.65 \\\\\n",
      "\\cline{1-12}\n",
      "\\multirow[t]{5}{*}{Vicuna-13B} & SciQ & 0.00 & 0.00 & 0.00 & 0.00 & 0.00 & 0.00 & 0.00 & 0.00 & 0.00 & 0.00 \\\\\n",
      " & CoQA & 0.00 & 0.00 & 0.00 & 0.00 & 0.00 & 0.00 & 0.00 & 0.00 & 0.00 & 0.00 \\\\\n",
      " & TriviaQA & 0.00 & 0.00 & 0.00 & 0.00 & 0.00 & 0.00 & 0.00 & 0.00 & 0.00 & 0.00 \\\\\n",
      " & MedMCQA & 0.00 & 0.00 & 0.00 & 0.00 & 0.00 & 0.00 & 0.00 & 0.00 & 0.00 & 0.00 \\\\\n",
      " & MedQA & 0.00 & 0.00 & 0.00 & 0.00 & 0.00 & 0.00 & 0.00 & 0.00 & 0.00 & 0.00 \\\\\n",
      "\\cline{1-12}\n",
      "\\multirow[t]{5}{*}{Vicuna-33B} & SciQ & 0.00 & 0.00 & 0.00 & 0.00 & 0.00 & 0.00 & 0.00 & 0.00 & 0.00 & 0.00 \\\\\n",
      " & CoQA & 0.00 & 0.00 & 0.00 & 0.00 & 0.00 & 0.00 & 0.00 & 0.00 & 0.00 & 0.00 \\\\\n",
      " & TriviaQA & 0.00 & 0.00 & 0.00 & 0.00 & 0.00 & 0.00 & 0.00 & 0.00 & 0.00 & 0.00 \\\\\n",
      " & MedMCQA & 0.00 & 0.00 & 0.00 & 0.00 & 0.00 & 0.00 & 0.00 & 0.00 & 0.00 & 0.00 \\\\\n",
      " & MedQA & 0.00 & 0.00 & 0.00 & 0.00 & 0.00 & 0.00 & 0.00 & 0.00 & 0.00 & 0.00 \\\\\n",
      "\\cline{1-12}\n",
      "\\bottomrule\n",
      "\\end{tabular}\n"
     ]
    }
   ],
   "source": [
    "# Main Results: Get Main Results\n",
    "\n",
    "c_metric = 'rougel'\n",
    "default_c_th = 0.3\n",
    "\n",
    "model_names_index = [model_names_alias[name] for name in model_names for i in range(len(dst_names))]\n",
    "dst_names_index = [dst_names_alias[name] for name in dst_names] * len(model_names)\n",
    "multi_index = pd.MultiIndex.from_tuples(zip(model_names_index, dst_names_index), names=['Model', 'Dataset'])\n",
    "main_results_short = pd.DataFrame(columns=['ACC'] + list(u_metric_alias.values()), index=multi_index).astype(float)\n",
    "main_results_long = deepcopy(main_results_short)\n",
    "\n",
    "for model_name in model_names:\n",
    "    for dst_name in dst_names:\n",
    "        for dst_type in dst_types:\n",
    "            new_row = {k: 0. for k in main_results_short.columns}\n",
    "            result_path = get_eval_main_result_path(model_name, dst_name, dst_type)\n",
    "            if os.path.exists(result_path):\n",
    "                test_dst = Dataset.load_from_disk(result_path)\n",
    "                c_th = default_c_th\n",
    "                acc = get_acc_by_c_th(test_dst, c_metric, c_th)\n",
    "                new_row['ACC'] = acc * 100\n",
    "                for u_metric, u_metric_name, in u_metric_alias.items():\n",
    "                    if u_metric in test_dst.column_names:\n",
    "                        new_row[u_metric_name] = get_auroc(test_dst, u_metric, c_metric, c_th) * 100\n",
    "            result = main_results_short if dst_type == 'short' else main_results_long\n",
    "            result.loc[(model_names_alias[model_name], dst_names_alias[dst_name])] = new_row\n",
    "\n",
    "print(\"Short Prompt Main Result:\")\n",
    "display(main_results_short)\n",
    "\n",
    "print(\"Long Prompt Main Result:\")\n",
    "display(main_results_long)\n",
    "\n",
    "print(main_results_short.to_latex(index=True, float_format=\"%.2f\"))\n",
    "print(main_results_long.to_latex(index=True, float_format=\"%.2f\"))"
   ]
  },
  {
   "cell_type": "code",
   "execution_count": 50,
   "id": "635415cfed8278ee",
   "metadata": {
    "ExecuteTime": {
     "end_time": "2024-04-03T07:13:25.776893Z",
     "start_time": "2024-04-03T07:13:18.844518Z"
    },
    "collapsed": false
   },
   "outputs": [
    {
     "data": {
      "application/vnd.plotly.v1+json": {
       "config": {
        "plotlyServerURL": "https://plot.ly"
       },
       "data": [
        {
         "colorscale": [
          [
           0.0,
           "#000004"
          ],
          [
           0.1111111111111111,
           "#1b0c41"
          ],
          [
           0.2222222222222222,
           "#4a0c6b"
          ],
          [
           0.3333333333333333,
           "#781c6d"
          ],
          [
           0.4444444444444444,
           "#a52c60"
          ],
          [
           0.5555555555555556,
           "#cf4446"
          ],
          [
           0.6666666666666666,
           "#ed6925"
          ],
          [
           0.7777777777777778,
           "#fb9b06"
          ],
          [
           0.8888888888888888,
           "#f7d13d"
          ],
          [
           1.0,
           "#fcffa4"
          ]
         ],
         "type": "heatmap",
         "x": [
          "SciQ-short",
          "CoQA-short",
          "TriviaQA-short",
          "MedMCQA-short",
          "MedQA-short",
          "SciQ-long",
          "CoQA-long",
          "TriviaQA-long",
          "MedMCQA-long",
          "MedQA-long"
         ],
         "y": [
          "SciQ-short",
          "CoQA-short",
          "TriviaQA-short",
          "MedMCQA-short",
          "MedQA-short",
          "SciQ-long",
          "CoQA-long",
          "TriviaQA-long",
          "MedMCQA-long",
          "MedQA-long"
         ],
         "z": [
          [
           0.0,
           2.7952423095703125,
           4.687286376953125,
           -8.147979736328125,
           -17.607772827148438,
           -8.638771057128906,
           7.2355194091796875,
           -7.617729187011719,
           -7.832466125488281,
           -3.3716278076171875
          ],
          [
           -5.1029052734375,
           0.0,
           10.815185546875,
           -17.11621856689453,
           -24.5643310546875,
           -5.5968170166015625,
           4.440277099609375,
           -7.3294525146484375,
           -10.260360717773438,
           -8.064933776855469
          ],
          [
           -24.93431854248047,
           -27.269935607910156,
           0.0,
           -32.26264572143555,
           -37.49028015136719,
           -33.78564453125,
           -24.483821868896484,
           -21.880451202392578,
           -24.389244079589844,
           -24.912410736083984
          ],
          [
           -2.8164138793945312,
           -2.6648025512695312,
           16.256805419921875,
           0.0,
           -6.59149169921875,
           -6.9501800537109375,
           4.616180419921875,
           -15.362091064453125,
           6.664283752441406,
           7.8601531982421875
          ],
          [
           -2.3164291381835938,
           -7.933387756347656,
           -4.147315979003906,
           4.244476318359375,
           0.0,
           -6.1190948486328125,
           -0.01448822021484375,
           -28.60865020751953,
           9.173118591308594,
           10.140792846679688
          ],
          [
           -4.108879089355469,
           5.5968170166015625,
           -6.397224426269531,
           -7.0991363525390625,
           -25.059234619140625,
           0.0,
           10.037094116210938,
           -4.4501190185546875,
           -4.550872802734375,
           -3.0325546264648438
          ],
          [
           -12.951873779296875,
           -4.440277099609375,
           6.374908447265625,
           -22.40404510498047,
           -31.406211853027344,
           -21.324661254882812,
           0.0,
           -15.062202453613281,
           -13.670822143554688,
           -15.616912841796875
          ],
          [
           -4.4867095947265625,
           -2.734893798828125,
           13.211090087890625,
           -12.928939819335938,
           -25.073638916015625,
           -9.892440795898438,
           0.33405303955078125,
           0.0,
           -7.4827880859375,
           -8.157859802246094
          ],
          [
           -12.815696716308594,
           -15.22967529296875,
           -9.918025970458984,
           -6.97613525390625,
           -17.33142852783203,
           -19.636146545410156,
           -11.266624450683594,
           -5.12548828125,
           0.0,
           -4.07110595703125
          ],
          [
           -10.701850891113281,
           -10.606613159179688,
           -12.138092041015625,
           -9.0443115234375,
           -20.601722717285156,
           -11.401466369628906,
           -4.952606201171875,
           -25.18486785888672,
           -1.1942825317382812,
           0.0
          ]
         ]
        }
       ],
       "layout": {
        "annotations": [
         {
          "font": {
           "color": "white"
          },
          "showarrow": false,
          "text": "86.13",
          "x": 0,
          "y": 0
         },
         {
          "font": {
           "color": "white"
          },
          "showarrow": false,
          "text": "-5.10",
          "x": 0,
          "y": 1
         },
         {
          "font": {
           "color": "white"
          },
          "showarrow": false,
          "text": "-24.93",
          "x": 0,
          "y": 2
         },
         {
          "font": {
           "color": "white"
          },
          "showarrow": false,
          "text": "-2.82",
          "x": 0,
          "y": 3
         },
         {
          "font": {
           "color": "white"
          },
          "showarrow": false,
          "text": "-2.32",
          "x": 0,
          "y": 4
         },
         {
          "font": {
           "color": "white"
          },
          "showarrow": false,
          "text": "-4.11",
          "x": 0,
          "y": 5
         },
         {
          "font": {
           "color": "white"
          },
          "showarrow": false,
          "text": "-12.95",
          "x": 0,
          "y": 6
         },
         {
          "font": {
           "color": "white"
          },
          "showarrow": false,
          "text": "-4.49",
          "x": 0,
          "y": 7
         },
         {
          "font": {
           "color": "white"
          },
          "showarrow": false,
          "text": "-12.82",
          "x": 0,
          "y": 8
         },
         {
          "font": {
           "color": "white"
          },
          "showarrow": false,
          "text": "-10.70",
          "x": 0,
          "y": 9
         },
         {
          "font": {
           "color": "white"
          },
          "showarrow": false,
          "text": "83.33",
          "x": 1,
          "y": 1
         },
         {
          "font": {
           "color": "white"
          },
          "showarrow": false,
          "text": "2.80",
          "x": 1,
          "y": 0
         },
         {
          "font": {
           "color": "white"
          },
          "showarrow": false,
          "text": "-27.27",
          "x": 1,
          "y": 2
         },
         {
          "font": {
           "color": "white"
          },
          "showarrow": false,
          "text": "-2.66",
          "x": 1,
          "y": 3
         },
         {
          "font": {
           "color": "white"
          },
          "showarrow": false,
          "text": "-7.93",
          "x": 1,
          "y": 4
         },
         {
          "font": {
           "color": "white"
          },
          "showarrow": false,
          "text": "5.60",
          "x": 1,
          "y": 5
         },
         {
          "font": {
           "color": "white"
          },
          "showarrow": false,
          "text": "-4.44",
          "x": 1,
          "y": 6
         },
         {
          "font": {
           "color": "white"
          },
          "showarrow": false,
          "text": "-2.73",
          "x": 1,
          "y": 7
         },
         {
          "font": {
           "color": "white"
          },
          "showarrow": false,
          "text": "-15.23",
          "x": 1,
          "y": 8
         },
         {
          "font": {
           "color": "white"
          },
          "showarrow": false,
          "text": "-10.61",
          "x": 1,
          "y": 9
         },
         {
          "font": {
           "color": "white"
          },
          "showarrow": false,
          "text": "72.52",
          "x": 2,
          "y": 2
         },
         {
          "font": {
           "color": "white"
          },
          "showarrow": false,
          "text": "4.69",
          "x": 2,
          "y": 0
         },
         {
          "font": {
           "color": "white"
          },
          "showarrow": false,
          "text": "10.82",
          "x": 2,
          "y": 1
         },
         {
          "font": {
           "color": "white"
          },
          "showarrow": false,
          "text": "16.26",
          "x": 2,
          "y": 3
         },
         {
          "font": {
           "color": "white"
          },
          "showarrow": false,
          "text": "-4.15",
          "x": 2,
          "y": 4
         },
         {
          "font": {
           "color": "white"
          },
          "showarrow": false,
          "text": "-6.40",
          "x": 2,
          "y": 5
         },
         {
          "font": {
           "color": "white"
          },
          "showarrow": false,
          "text": "6.37",
          "x": 2,
          "y": 6
         },
         {
          "font": {
           "color": "white"
          },
          "showarrow": false,
          "text": "13.21",
          "x": 2,
          "y": 7
         },
         {
          "font": {
           "color": "white"
          },
          "showarrow": false,
          "text": "-9.92",
          "x": 2,
          "y": 8
         },
         {
          "font": {
           "color": "white"
          },
          "showarrow": false,
          "text": "-12.14",
          "x": 2,
          "y": 9
         },
         {
          "font": {
           "color": "white"
          },
          "showarrow": false,
          "text": "88.77",
          "x": 3,
          "y": 3
         },
         {
          "font": {
           "color": "white"
          },
          "showarrow": false,
          "text": "-8.15",
          "x": 3,
          "y": 0
         },
         {
          "font": {
           "color": "white"
          },
          "showarrow": false,
          "text": "-17.12",
          "x": 3,
          "y": 1
         },
         {
          "font": {
           "color": "white"
          },
          "showarrow": false,
          "text": "-32.26",
          "x": 3,
          "y": 2
         },
         {
          "font": {
           "color": "white"
          },
          "showarrow": false,
          "text": "4.24",
          "x": 3,
          "y": 4
         },
         {
          "font": {
           "color": "white"
          },
          "showarrow": false,
          "text": "-7.10",
          "x": 3,
          "y": 5
         },
         {
          "font": {
           "color": "white"
          },
          "showarrow": false,
          "text": "-22.40",
          "x": 3,
          "y": 6
         },
         {
          "font": {
           "color": "white"
          },
          "showarrow": false,
          "text": "-12.93",
          "x": 3,
          "y": 7
         },
         {
          "font": {
           "color": "white"
          },
          "showarrow": false,
          "text": "-6.98",
          "x": 3,
          "y": 8
         },
         {
          "font": {
           "color": "white"
          },
          "showarrow": false,
          "text": "-9.04",
          "x": 3,
          "y": 9
         },
         {
          "font": {
           "color": "white"
          },
          "showarrow": false,
          "text": "92.17",
          "x": 4,
          "y": 4
         },
         {
          "font": {
           "color": "white"
          },
          "showarrow": false,
          "text": "-17.61",
          "x": 4,
          "y": 0
         },
         {
          "font": {
           "color": "white"
          },
          "showarrow": false,
          "text": "-24.56",
          "x": 4,
          "y": 1
         },
         {
          "font": {
           "color": "white"
          },
          "showarrow": false,
          "text": "-37.49",
          "x": 4,
          "y": 2
         },
         {
          "font": {
           "color": "white"
          },
          "showarrow": false,
          "text": "-6.59",
          "x": 4,
          "y": 3
         },
         {
          "font": {
           "color": "white"
          },
          "showarrow": false,
          "text": "-25.06",
          "x": 4,
          "y": 5
         },
         {
          "font": {
           "color": "white"
          },
          "showarrow": false,
          "text": "-31.41",
          "x": 4,
          "y": 6
         },
         {
          "font": {
           "color": "white"
          },
          "showarrow": false,
          "text": "-25.07",
          "x": 4,
          "y": 7
         },
         {
          "font": {
           "color": "white"
          },
          "showarrow": false,
          "text": "-17.33",
          "x": 4,
          "y": 8
         },
         {
          "font": {
           "color": "white"
          },
          "showarrow": false,
          "text": "-20.60",
          "x": 4,
          "y": 9
         },
         {
          "font": {
           "color": "white"
          },
          "showarrow": false,
          "text": "88.93",
          "x": 5,
          "y": 5
         },
         {
          "font": {
           "color": "white"
          },
          "showarrow": false,
          "text": "-8.64",
          "x": 5,
          "y": 0
         },
         {
          "font": {
           "color": "white"
          },
          "showarrow": false,
          "text": "-5.60",
          "x": 5,
          "y": 1
         },
         {
          "font": {
           "color": "white"
          },
          "showarrow": false,
          "text": "-33.79",
          "x": 5,
          "y": 2
         },
         {
          "font": {
           "color": "white"
          },
          "showarrow": false,
          "text": "-6.95",
          "x": 5,
          "y": 3
         },
         {
          "font": {
           "color": "white"
          },
          "showarrow": false,
          "text": "-6.12",
          "x": 5,
          "y": 4
         },
         {
          "font": {
           "color": "white"
          },
          "showarrow": false,
          "text": "-21.32",
          "x": 5,
          "y": 6
         },
         {
          "font": {
           "color": "white"
          },
          "showarrow": false,
          "text": "-9.89",
          "x": 5,
          "y": 7
         },
         {
          "font": {
           "color": "white"
          },
          "showarrow": false,
          "text": "-19.64",
          "x": 5,
          "y": 8
         },
         {
          "font": {
           "color": "white"
          },
          "showarrow": false,
          "text": "-11.40",
          "x": 5,
          "y": 9
         },
         {
          "font": {
           "color": "white"
          },
          "showarrow": false,
          "text": "78.89",
          "x": 6,
          "y": 6
         },
         {
          "font": {
           "color": "white"
          },
          "showarrow": false,
          "text": "7.24",
          "x": 6,
          "y": 0
         },
         {
          "font": {
           "color": "white"
          },
          "showarrow": false,
          "text": "4.44",
          "x": 6,
          "y": 1
         },
         {
          "font": {
           "color": "white"
          },
          "showarrow": false,
          "text": "-24.48",
          "x": 6,
          "y": 2
         },
         {
          "font": {
           "color": "white"
          },
          "showarrow": false,
          "text": "4.62",
          "x": 6,
          "y": 3
         },
         {
          "font": {
           "color": "white"
          },
          "showarrow": false,
          "text": "-0.01",
          "x": 6,
          "y": 4
         },
         {
          "font": {
           "color": "white"
          },
          "showarrow": false,
          "text": "10.04",
          "x": 6,
          "y": 5
         },
         {
          "font": {
           "color": "white"
          },
          "showarrow": false,
          "text": "0.33",
          "x": 6,
          "y": 7
         },
         {
          "font": {
           "color": "white"
          },
          "showarrow": false,
          "text": "-11.27",
          "x": 6,
          "y": 8
         },
         {
          "font": {
           "color": "white"
          },
          "showarrow": false,
          "text": "-4.95",
          "x": 6,
          "y": 9
         },
         {
          "font": {
           "color": "white"
          },
          "showarrow": false,
          "text": "85.73",
          "x": 7,
          "y": 7
         },
         {
          "font": {
           "color": "white"
          },
          "showarrow": false,
          "text": "-7.62",
          "x": 7,
          "y": 0
         },
         {
          "font": {
           "color": "white"
          },
          "showarrow": false,
          "text": "-7.33",
          "x": 7,
          "y": 1
         },
         {
          "font": {
           "color": "white"
          },
          "showarrow": false,
          "text": "-21.88",
          "x": 7,
          "y": 2
         },
         {
          "font": {
           "color": "white"
          },
          "showarrow": false,
          "text": "-15.36",
          "x": 7,
          "y": 3
         },
         {
          "font": {
           "color": "white"
          },
          "showarrow": false,
          "text": "-28.61",
          "x": 7,
          "y": 4
         },
         {
          "font": {
           "color": "white"
          },
          "showarrow": false,
          "text": "-4.45",
          "x": 7,
          "y": 5
         },
         {
          "font": {
           "color": "white"
          },
          "showarrow": false,
          "text": "-15.06",
          "x": 7,
          "y": 6
         },
         {
          "font": {
           "color": "white"
          },
          "showarrow": false,
          "text": "-5.13",
          "x": 7,
          "y": 8
         },
         {
          "font": {
           "color": "white"
          },
          "showarrow": false,
          "text": "-25.18",
          "x": 7,
          "y": 9
         },
         {
          "font": {
           "color": "white"
          },
          "showarrow": false,
          "text": "80.60",
          "x": 8,
          "y": 8
         },
         {
          "font": {
           "color": "white"
          },
          "showarrow": false,
          "text": "-7.83",
          "x": 8,
          "y": 0
         },
         {
          "font": {
           "color": "white"
          },
          "showarrow": false,
          "text": "-10.26",
          "x": 8,
          "y": 1
         },
         {
          "font": {
           "color": "white"
          },
          "showarrow": false,
          "text": "-24.39",
          "x": 8,
          "y": 2
         },
         {
          "font": {
           "color": "white"
          },
          "showarrow": false,
          "text": "6.66",
          "x": 8,
          "y": 3
         },
         {
          "font": {
           "color": "white"
          },
          "showarrow": false,
          "text": "9.17",
          "x": 8,
          "y": 4
         },
         {
          "font": {
           "color": "white"
          },
          "showarrow": false,
          "text": "-4.55",
          "x": 8,
          "y": 5
         },
         {
          "font": {
           "color": "white"
          },
          "showarrow": false,
          "text": "-13.67",
          "x": 8,
          "y": 6
         },
         {
          "font": {
           "color": "white"
          },
          "showarrow": false,
          "text": "-7.48",
          "x": 8,
          "y": 7
         },
         {
          "font": {
           "color": "white"
          },
          "showarrow": false,
          "text": "-1.19",
          "x": 8,
          "y": 9
         },
         {
          "font": {
           "color": "white"
          },
          "showarrow": false,
          "text": "79.35",
          "x": 9,
          "y": 9
         },
         {
          "font": {
           "color": "white"
          },
          "showarrow": false,
          "text": "-3.37",
          "x": 9,
          "y": 0
         },
         {
          "font": {
           "color": "white"
          },
          "showarrow": false,
          "text": "-8.06",
          "x": 9,
          "y": 1
         },
         {
          "font": {
           "color": "white"
          },
          "showarrow": false,
          "text": "-24.91",
          "x": 9,
          "y": 2
         },
         {
          "font": {
           "color": "white"
          },
          "showarrow": false,
          "text": "7.86",
          "x": 9,
          "y": 3
         },
         {
          "font": {
           "color": "white"
          },
          "showarrow": false,
          "text": "10.14",
          "x": 9,
          "y": 4
         },
         {
          "font": {
           "color": "white"
          },
          "showarrow": false,
          "text": "-3.03",
          "x": 9,
          "y": 5
         },
         {
          "font": {
           "color": "white"
          },
          "showarrow": false,
          "text": "-15.62",
          "x": 9,
          "y": 6
         },
         {
          "font": {
           "color": "white"
          },
          "showarrow": false,
          "text": "-8.16",
          "x": 9,
          "y": 7
         },
         {
          "font": {
           "color": "white"
          },
          "showarrow": false,
          "text": "-4.07",
          "x": 9,
          "y": 8
         }
        ],
        "height": 1000,
        "template": {
         "data": {
          "bar": [
           {
            "error_x": {
             "color": "#2a3f5f"
            },
            "error_y": {
             "color": "#2a3f5f"
            },
            "marker": {
             "line": {
              "color": "#E5ECF6",
              "width": 0.5
             },
             "pattern": {
              "fillmode": "overlay",
              "size": 10,
              "solidity": 0.2
             }
            },
            "type": "bar"
           }
          ],
          "barpolar": [
           {
            "marker": {
             "line": {
              "color": "#E5ECF6",
              "width": 0.5
             },
             "pattern": {
              "fillmode": "overlay",
              "size": 10,
              "solidity": 0.2
             }
            },
            "type": "barpolar"
           }
          ],
          "carpet": [
           {
            "aaxis": {
             "endlinecolor": "#2a3f5f",
             "gridcolor": "white",
             "linecolor": "white",
             "minorgridcolor": "white",
             "startlinecolor": "#2a3f5f"
            },
            "baxis": {
             "endlinecolor": "#2a3f5f",
             "gridcolor": "white",
             "linecolor": "white",
             "minorgridcolor": "white",
             "startlinecolor": "#2a3f5f"
            },
            "type": "carpet"
           }
          ],
          "choropleth": [
           {
            "colorbar": {
             "outlinewidth": 0,
             "ticks": ""
            },
            "type": "choropleth"
           }
          ],
          "contour": [
           {
            "colorbar": {
             "outlinewidth": 0,
             "ticks": ""
            },
            "colorscale": [
             [
              0.0,
              "#0d0887"
             ],
             [
              0.1111111111111111,
              "#46039f"
             ],
             [
              0.2222222222222222,
              "#7201a8"
             ],
             [
              0.3333333333333333,
              "#9c179e"
             ],
             [
              0.4444444444444444,
              "#bd3786"
             ],
             [
              0.5555555555555556,
              "#d8576b"
             ],
             [
              0.6666666666666666,
              "#ed7953"
             ],
             [
              0.7777777777777778,
              "#fb9f3a"
             ],
             [
              0.8888888888888888,
              "#fdca26"
             ],
             [
              1.0,
              "#f0f921"
             ]
            ],
            "type": "contour"
           }
          ],
          "contourcarpet": [
           {
            "colorbar": {
             "outlinewidth": 0,
             "ticks": ""
            },
            "type": "contourcarpet"
           }
          ],
          "heatmap": [
           {
            "colorbar": {
             "outlinewidth": 0,
             "ticks": ""
            },
            "colorscale": [
             [
              0.0,
              "#0d0887"
             ],
             [
              0.1111111111111111,
              "#46039f"
             ],
             [
              0.2222222222222222,
              "#7201a8"
             ],
             [
              0.3333333333333333,
              "#9c179e"
             ],
             [
              0.4444444444444444,
              "#bd3786"
             ],
             [
              0.5555555555555556,
              "#d8576b"
             ],
             [
              0.6666666666666666,
              "#ed7953"
             ],
             [
              0.7777777777777778,
              "#fb9f3a"
             ],
             [
              0.8888888888888888,
              "#fdca26"
             ],
             [
              1.0,
              "#f0f921"
             ]
            ],
            "type": "heatmap"
           }
          ],
          "heatmapgl": [
           {
            "colorbar": {
             "outlinewidth": 0,
             "ticks": ""
            },
            "colorscale": [
             [
              0.0,
              "#0d0887"
             ],
             [
              0.1111111111111111,
              "#46039f"
             ],
             [
              0.2222222222222222,
              "#7201a8"
             ],
             [
              0.3333333333333333,
              "#9c179e"
             ],
             [
              0.4444444444444444,
              "#bd3786"
             ],
             [
              0.5555555555555556,
              "#d8576b"
             ],
             [
              0.6666666666666666,
              "#ed7953"
             ],
             [
              0.7777777777777778,
              "#fb9f3a"
             ],
             [
              0.8888888888888888,
              "#fdca26"
             ],
             [
              1.0,
              "#f0f921"
             ]
            ],
            "type": "heatmapgl"
           }
          ],
          "histogram": [
           {
            "marker": {
             "pattern": {
              "fillmode": "overlay",
              "size": 10,
              "solidity": 0.2
             }
            },
            "type": "histogram"
           }
          ],
          "histogram2d": [
           {
            "colorbar": {
             "outlinewidth": 0,
             "ticks": ""
            },
            "colorscale": [
             [
              0.0,
              "#0d0887"
             ],
             [
              0.1111111111111111,
              "#46039f"
             ],
             [
              0.2222222222222222,
              "#7201a8"
             ],
             [
              0.3333333333333333,
              "#9c179e"
             ],
             [
              0.4444444444444444,
              "#bd3786"
             ],
             [
              0.5555555555555556,
              "#d8576b"
             ],
             [
              0.6666666666666666,
              "#ed7953"
             ],
             [
              0.7777777777777778,
              "#fb9f3a"
             ],
             [
              0.8888888888888888,
              "#fdca26"
             ],
             [
              1.0,
              "#f0f921"
             ]
            ],
            "type": "histogram2d"
           }
          ],
          "histogram2dcontour": [
           {
            "colorbar": {
             "outlinewidth": 0,
             "ticks": ""
            },
            "colorscale": [
             [
              0.0,
              "#0d0887"
             ],
             [
              0.1111111111111111,
              "#46039f"
             ],
             [
              0.2222222222222222,
              "#7201a8"
             ],
             [
              0.3333333333333333,
              "#9c179e"
             ],
             [
              0.4444444444444444,
              "#bd3786"
             ],
             [
              0.5555555555555556,
              "#d8576b"
             ],
             [
              0.6666666666666666,
              "#ed7953"
             ],
             [
              0.7777777777777778,
              "#fb9f3a"
             ],
             [
              0.8888888888888888,
              "#fdca26"
             ],
             [
              1.0,
              "#f0f921"
             ]
            ],
            "type": "histogram2dcontour"
           }
          ],
          "mesh3d": [
           {
            "colorbar": {
             "outlinewidth": 0,
             "ticks": ""
            },
            "type": "mesh3d"
           }
          ],
          "parcoords": [
           {
            "line": {
             "colorbar": {
              "outlinewidth": 0,
              "ticks": ""
             }
            },
            "type": "parcoords"
           }
          ],
          "pie": [
           {
            "automargin": true,
            "type": "pie"
           }
          ],
          "scatter": [
           {
            "fillpattern": {
             "fillmode": "overlay",
             "size": 10,
             "solidity": 0.2
            },
            "type": "scatter"
           }
          ],
          "scatter3d": [
           {
            "line": {
             "colorbar": {
              "outlinewidth": 0,
              "ticks": ""
             }
            },
            "marker": {
             "colorbar": {
              "outlinewidth": 0,
              "ticks": ""
             }
            },
            "type": "scatter3d"
           }
          ],
          "scattercarpet": [
           {
            "marker": {
             "colorbar": {
              "outlinewidth": 0,
              "ticks": ""
             }
            },
            "type": "scattercarpet"
           }
          ],
          "scattergeo": [
           {
            "marker": {
             "colorbar": {
              "outlinewidth": 0,
              "ticks": ""
             }
            },
            "type": "scattergeo"
           }
          ],
          "scattergl": [
           {
            "marker": {
             "colorbar": {
              "outlinewidth": 0,
              "ticks": ""
             }
            },
            "type": "scattergl"
           }
          ],
          "scattermapbox": [
           {
            "marker": {
             "colorbar": {
              "outlinewidth": 0,
              "ticks": ""
             }
            },
            "type": "scattermapbox"
           }
          ],
          "scatterpolar": [
           {
            "marker": {
             "colorbar": {
              "outlinewidth": 0,
              "ticks": ""
             }
            },
            "type": "scatterpolar"
           }
          ],
          "scatterpolargl": [
           {
            "marker": {
             "colorbar": {
              "outlinewidth": 0,
              "ticks": ""
             }
            },
            "type": "scatterpolargl"
           }
          ],
          "scatterternary": [
           {
            "marker": {
             "colorbar": {
              "outlinewidth": 0,
              "ticks": ""
             }
            },
            "type": "scatterternary"
           }
          ],
          "surface": [
           {
            "colorbar": {
             "outlinewidth": 0,
             "ticks": ""
            },
            "colorscale": [
             [
              0.0,
              "#0d0887"
             ],
             [
              0.1111111111111111,
              "#46039f"
             ],
             [
              0.2222222222222222,
              "#7201a8"
             ],
             [
              0.3333333333333333,
              "#9c179e"
             ],
             [
              0.4444444444444444,
              "#bd3786"
             ],
             [
              0.5555555555555556,
              "#d8576b"
             ],
             [
              0.6666666666666666,
              "#ed7953"
             ],
             [
              0.7777777777777778,
              "#fb9f3a"
             ],
             [
              0.8888888888888888,
              "#fdca26"
             ],
             [
              1.0,
              "#f0f921"
             ]
            ],
            "type": "surface"
           }
          ],
          "table": [
           {
            "cells": {
             "fill": {
              "color": "#EBF0F8"
             },
             "line": {
              "color": "white"
             }
            },
            "header": {
             "fill": {
              "color": "#C8D4E3"
             },
             "line": {
              "color": "white"
             }
            },
            "type": "table"
           }
          ]
         },
         "layout": {
          "annotationdefaults": {
           "arrowcolor": "#2a3f5f",
           "arrowhead": 0,
           "arrowwidth": 1
          },
          "autotypenumbers": "strict",
          "coloraxis": {
           "colorbar": {
            "outlinewidth": 0,
            "ticks": ""
           }
          },
          "colorscale": {
           "diverging": [
            [
             0,
             "#8e0152"
            ],
            [
             0.1,
             "#c51b7d"
            ],
            [
             0.2,
             "#de77ae"
            ],
            [
             0.3,
             "#f1b6da"
            ],
            [
             0.4,
             "#fde0ef"
            ],
            [
             0.5,
             "#f7f7f7"
            ],
            [
             0.6,
             "#e6f5d0"
            ],
            [
             0.7,
             "#b8e186"
            ],
            [
             0.8,
             "#7fbc41"
            ],
            [
             0.9,
             "#4d9221"
            ],
            [
             1,
             "#276419"
            ]
           ],
           "sequential": [
            [
             0.0,
             "#0d0887"
            ],
            [
             0.1111111111111111,
             "#46039f"
            ],
            [
             0.2222222222222222,
             "#7201a8"
            ],
            [
             0.3333333333333333,
             "#9c179e"
            ],
            [
             0.4444444444444444,
             "#bd3786"
            ],
            [
             0.5555555555555556,
             "#d8576b"
            ],
            [
             0.6666666666666666,
             "#ed7953"
            ],
            [
             0.7777777777777778,
             "#fb9f3a"
            ],
            [
             0.8888888888888888,
             "#fdca26"
            ],
            [
             1.0,
             "#f0f921"
            ]
           ],
           "sequentialminus": [
            [
             0.0,
             "#0d0887"
            ],
            [
             0.1111111111111111,
             "#46039f"
            ],
            [
             0.2222222222222222,
             "#7201a8"
            ],
            [
             0.3333333333333333,
             "#9c179e"
            ],
            [
             0.4444444444444444,
             "#bd3786"
            ],
            [
             0.5555555555555556,
             "#d8576b"
            ],
            [
             0.6666666666666666,
             "#ed7953"
            ],
            [
             0.7777777777777778,
             "#fb9f3a"
            ],
            [
             0.8888888888888888,
             "#fdca26"
            ],
            [
             1.0,
             "#f0f921"
            ]
           ]
          },
          "colorway": [
           "#636efa",
           "#EF553B",
           "#00cc96",
           "#ab63fa",
           "#FFA15A",
           "#19d3f3",
           "#FF6692",
           "#B6E880",
           "#FF97FF",
           "#FECB52"
          ],
          "font": {
           "color": "#2a3f5f"
          },
          "geo": {
           "bgcolor": "white",
           "lakecolor": "white",
           "landcolor": "#E5ECF6",
           "showlakes": true,
           "showland": true,
           "subunitcolor": "white"
          },
          "hoverlabel": {
           "align": "left"
          },
          "hovermode": "closest",
          "mapbox": {
           "style": "light"
          },
          "paper_bgcolor": "white",
          "plot_bgcolor": "#E5ECF6",
          "polar": {
           "angularaxis": {
            "gridcolor": "white",
            "linecolor": "white",
            "ticks": ""
           },
           "bgcolor": "#E5ECF6",
           "radialaxis": {
            "gridcolor": "white",
            "linecolor": "white",
            "ticks": ""
           }
          },
          "scene": {
           "xaxis": {
            "backgroundcolor": "#E5ECF6",
            "gridcolor": "white",
            "gridwidth": 2,
            "linecolor": "white",
            "showbackground": true,
            "ticks": "",
            "zerolinecolor": "white"
           },
           "yaxis": {
            "backgroundcolor": "#E5ECF6",
            "gridcolor": "white",
            "gridwidth": 2,
            "linecolor": "white",
            "showbackground": true,
            "ticks": "",
            "zerolinecolor": "white"
           },
           "zaxis": {
            "backgroundcolor": "#E5ECF6",
            "gridcolor": "white",
            "gridwidth": 2,
            "linecolor": "white",
            "showbackground": true,
            "ticks": "",
            "zerolinecolor": "white"
           }
          },
          "shapedefaults": {
           "line": {
            "color": "#2a3f5f"
           }
          },
          "ternary": {
           "aaxis": {
            "gridcolor": "white",
            "linecolor": "white",
            "ticks": ""
           },
           "baxis": {
            "gridcolor": "white",
            "linecolor": "white",
            "ticks": ""
           },
           "bgcolor": "#E5ECF6",
           "caxis": {
            "gridcolor": "white",
            "linecolor": "white",
            "ticks": ""
           }
          },
          "title": {
           "x": 0.05
          },
          "xaxis": {
           "automargin": true,
           "gridcolor": "white",
           "linecolor": "white",
           "ticks": "",
           "title": {
            "standoff": 15
           },
           "zerolinecolor": "white",
           "zerolinewidth": 2
          },
          "yaxis": {
           "automargin": true,
           "gridcolor": "white",
           "linecolor": "white",
           "ticks": "",
           "title": {
            "standoff": 15
           },
           "zerolinecolor": "white",
           "zerolinewidth": 2
          }
         }
        },
        "title": {
         "text": "Vicuna-7B Cross Eval Results"
        },
        "width": 1000,
        "xaxis": {
         "title": {
          "text": "Train Dataset"
         }
        },
        "yaxis": {
         "title": {
          "text": "Test Dataset"
         }
        }
       }
      },
      "text/html": [
       "<div>                            <div id=\"af1ae3de-4702-410c-a605-8caa594ebc3a\" class=\"plotly-graph-div\" style=\"height:1000px; width:1000px;\"></div>            <script type=\"text/javascript\">                require([\"plotly\"], function(Plotly) {                    window.PLOTLYENV=window.PLOTLYENV || {};                                    if (document.getElementById(\"af1ae3de-4702-410c-a605-8caa594ebc3a\")) {                    Plotly.newPlot(                        \"af1ae3de-4702-410c-a605-8caa594ebc3a\",                        [{\"colorscale\":[[0.0,\"#000004\"],[0.1111111111111111,\"#1b0c41\"],[0.2222222222222222,\"#4a0c6b\"],[0.3333333333333333,\"#781c6d\"],[0.4444444444444444,\"#a52c60\"],[0.5555555555555556,\"#cf4446\"],[0.6666666666666666,\"#ed6925\"],[0.7777777777777778,\"#fb9b06\"],[0.8888888888888888,\"#f7d13d\"],[1.0,\"#fcffa4\"]],\"x\":[\"SciQ-short\",\"CoQA-short\",\"TriviaQA-short\",\"MedMCQA-short\",\"MedQA-short\",\"SciQ-long\",\"CoQA-long\",\"TriviaQA-long\",\"MedMCQA-long\",\"MedQA-long\"],\"y\":[\"SciQ-short\",\"CoQA-short\",\"TriviaQA-short\",\"MedMCQA-short\",\"MedQA-short\",\"SciQ-long\",\"CoQA-long\",\"TriviaQA-long\",\"MedMCQA-long\",\"MedQA-long\"],\"z\":[[0.0,2.7952423095703125,4.687286376953125,-8.147979736328125,-17.607772827148438,-8.638771057128906,7.2355194091796875,-7.617729187011719,-7.832466125488281,-3.3716278076171875],[-5.1029052734375,0.0,10.815185546875,-17.11621856689453,-24.5643310546875,-5.5968170166015625,4.440277099609375,-7.3294525146484375,-10.260360717773438,-8.064933776855469],[-24.93431854248047,-27.269935607910156,0.0,-32.26264572143555,-37.49028015136719,-33.78564453125,-24.483821868896484,-21.880451202392578,-24.389244079589844,-24.912410736083984],[-2.8164138793945312,-2.6648025512695312,16.256805419921875,0.0,-6.59149169921875,-6.9501800537109375,4.616180419921875,-15.362091064453125,6.664283752441406,7.8601531982421875],[-2.3164291381835938,-7.933387756347656,-4.147315979003906,4.244476318359375,0.0,-6.1190948486328125,-0.01448822021484375,-28.60865020751953,9.173118591308594,10.140792846679688],[-4.108879089355469,5.5968170166015625,-6.397224426269531,-7.0991363525390625,-25.059234619140625,0.0,10.037094116210938,-4.4501190185546875,-4.550872802734375,-3.0325546264648438],[-12.951873779296875,-4.440277099609375,6.374908447265625,-22.40404510498047,-31.406211853027344,-21.324661254882812,0.0,-15.062202453613281,-13.670822143554688,-15.616912841796875],[-4.4867095947265625,-2.734893798828125,13.211090087890625,-12.928939819335938,-25.073638916015625,-9.892440795898438,0.33405303955078125,0.0,-7.4827880859375,-8.157859802246094],[-12.815696716308594,-15.22967529296875,-9.918025970458984,-6.97613525390625,-17.33142852783203,-19.636146545410156,-11.266624450683594,-5.12548828125,0.0,-4.07110595703125],[-10.701850891113281,-10.606613159179688,-12.138092041015625,-9.0443115234375,-20.601722717285156,-11.401466369628906,-4.952606201171875,-25.18486785888672,-1.1942825317382812,0.0]],\"type\":\"heatmap\"}],                        {\"template\":{\"data\":{\"histogram2dcontour\":[{\"type\":\"histogram2dcontour\",\"colorbar\":{\"outlinewidth\":0,\"ticks\":\"\"},\"colorscale\":[[0.0,\"#0d0887\"],[0.1111111111111111,\"#46039f\"],[0.2222222222222222,\"#7201a8\"],[0.3333333333333333,\"#9c179e\"],[0.4444444444444444,\"#bd3786\"],[0.5555555555555556,\"#d8576b\"],[0.6666666666666666,\"#ed7953\"],[0.7777777777777778,\"#fb9f3a\"],[0.8888888888888888,\"#fdca26\"],[1.0,\"#f0f921\"]]}],\"choropleth\":[{\"type\":\"choropleth\",\"colorbar\":{\"outlinewidth\":0,\"ticks\":\"\"}}],\"histogram2d\":[{\"type\":\"histogram2d\",\"colorbar\":{\"outlinewidth\":0,\"ticks\":\"\"},\"colorscale\":[[0.0,\"#0d0887\"],[0.1111111111111111,\"#46039f\"],[0.2222222222222222,\"#7201a8\"],[0.3333333333333333,\"#9c179e\"],[0.4444444444444444,\"#bd3786\"],[0.5555555555555556,\"#d8576b\"],[0.6666666666666666,\"#ed7953\"],[0.7777777777777778,\"#fb9f3a\"],[0.8888888888888888,\"#fdca26\"],[1.0,\"#f0f921\"]]}],\"heatmap\":[{\"type\":\"heatmap\",\"colorbar\":{\"outlinewidth\":0,\"ticks\":\"\"},\"colorscale\":[[0.0,\"#0d0887\"],[0.1111111111111111,\"#46039f\"],[0.2222222222222222,\"#7201a8\"],[0.3333333333333333,\"#9c179e\"],[0.4444444444444444,\"#bd3786\"],[0.5555555555555556,\"#d8576b\"],[0.6666666666666666,\"#ed7953\"],[0.7777777777777778,\"#fb9f3a\"],[0.8888888888888888,\"#fdca26\"],[1.0,\"#f0f921\"]]}],\"heatmapgl\":[{\"type\":\"heatmapgl\",\"colorbar\":{\"outlinewidth\":0,\"ticks\":\"\"},\"colorscale\":[[0.0,\"#0d0887\"],[0.1111111111111111,\"#46039f\"],[0.2222222222222222,\"#7201a8\"],[0.3333333333333333,\"#9c179e\"],[0.4444444444444444,\"#bd3786\"],[0.5555555555555556,\"#d8576b\"],[0.6666666666666666,\"#ed7953\"],[0.7777777777777778,\"#fb9f3a\"],[0.8888888888888888,\"#fdca26\"],[1.0,\"#f0f921\"]]}],\"contourcarpet\":[{\"type\":\"contourcarpet\",\"colorbar\":{\"outlinewidth\":0,\"ticks\":\"\"}}],\"contour\":[{\"type\":\"contour\",\"colorbar\":{\"outlinewidth\":0,\"ticks\":\"\"},\"colorscale\":[[0.0,\"#0d0887\"],[0.1111111111111111,\"#46039f\"],[0.2222222222222222,\"#7201a8\"],[0.3333333333333333,\"#9c179e\"],[0.4444444444444444,\"#bd3786\"],[0.5555555555555556,\"#d8576b\"],[0.6666666666666666,\"#ed7953\"],[0.7777777777777778,\"#fb9f3a\"],[0.8888888888888888,\"#fdca26\"],[1.0,\"#f0f921\"]]}],\"surface\":[{\"type\":\"surface\",\"colorbar\":{\"outlinewidth\":0,\"ticks\":\"\"},\"colorscale\":[[0.0,\"#0d0887\"],[0.1111111111111111,\"#46039f\"],[0.2222222222222222,\"#7201a8\"],[0.3333333333333333,\"#9c179e\"],[0.4444444444444444,\"#bd3786\"],[0.5555555555555556,\"#d8576b\"],[0.6666666666666666,\"#ed7953\"],[0.7777777777777778,\"#fb9f3a\"],[0.8888888888888888,\"#fdca26\"],[1.0,\"#f0f921\"]]}],\"mesh3d\":[{\"type\":\"mesh3d\",\"colorbar\":{\"outlinewidth\":0,\"ticks\":\"\"}}],\"scatter\":[{\"fillpattern\":{\"fillmode\":\"overlay\",\"size\":10,\"solidity\":0.2},\"type\":\"scatter\"}],\"parcoords\":[{\"type\":\"parcoords\",\"line\":{\"colorbar\":{\"outlinewidth\":0,\"ticks\":\"\"}}}],\"scatterpolargl\":[{\"type\":\"scatterpolargl\",\"marker\":{\"colorbar\":{\"outlinewidth\":0,\"ticks\":\"\"}}}],\"bar\":[{\"error_x\":{\"color\":\"#2a3f5f\"},\"error_y\":{\"color\":\"#2a3f5f\"},\"marker\":{\"line\":{\"color\":\"#E5ECF6\",\"width\":0.5},\"pattern\":{\"fillmode\":\"overlay\",\"size\":10,\"solidity\":0.2}},\"type\":\"bar\"}],\"scattergeo\":[{\"type\":\"scattergeo\",\"marker\":{\"colorbar\":{\"outlinewidth\":0,\"ticks\":\"\"}}}],\"scatterpolar\":[{\"type\":\"scatterpolar\",\"marker\":{\"colorbar\":{\"outlinewidth\":0,\"ticks\":\"\"}}}],\"histogram\":[{\"marker\":{\"pattern\":{\"fillmode\":\"overlay\",\"size\":10,\"solidity\":0.2}},\"type\":\"histogram\"}],\"scattergl\":[{\"type\":\"scattergl\",\"marker\":{\"colorbar\":{\"outlinewidth\":0,\"ticks\":\"\"}}}],\"scatter3d\":[{\"type\":\"scatter3d\",\"line\":{\"colorbar\":{\"outlinewidth\":0,\"ticks\":\"\"}},\"marker\":{\"colorbar\":{\"outlinewidth\":0,\"ticks\":\"\"}}}],\"scattermapbox\":[{\"type\":\"scattermapbox\",\"marker\":{\"colorbar\":{\"outlinewidth\":0,\"ticks\":\"\"}}}],\"scatterternary\":[{\"type\":\"scatterternary\",\"marker\":{\"colorbar\":{\"outlinewidth\":0,\"ticks\":\"\"}}}],\"scattercarpet\":[{\"type\":\"scattercarpet\",\"marker\":{\"colorbar\":{\"outlinewidth\":0,\"ticks\":\"\"}}}],\"carpet\":[{\"aaxis\":{\"endlinecolor\":\"#2a3f5f\",\"gridcolor\":\"white\",\"linecolor\":\"white\",\"minorgridcolor\":\"white\",\"startlinecolor\":\"#2a3f5f\"},\"baxis\":{\"endlinecolor\":\"#2a3f5f\",\"gridcolor\":\"white\",\"linecolor\":\"white\",\"minorgridcolor\":\"white\",\"startlinecolor\":\"#2a3f5f\"},\"type\":\"carpet\"}],\"table\":[{\"cells\":{\"fill\":{\"color\":\"#EBF0F8\"},\"line\":{\"color\":\"white\"}},\"header\":{\"fill\":{\"color\":\"#C8D4E3\"},\"line\":{\"color\":\"white\"}},\"type\":\"table\"}],\"barpolar\":[{\"marker\":{\"line\":{\"color\":\"#E5ECF6\",\"width\":0.5},\"pattern\":{\"fillmode\":\"overlay\",\"size\":10,\"solidity\":0.2}},\"type\":\"barpolar\"}],\"pie\":[{\"automargin\":true,\"type\":\"pie\"}]},\"layout\":{\"autotypenumbers\":\"strict\",\"colorway\":[\"#636efa\",\"#EF553B\",\"#00cc96\",\"#ab63fa\",\"#FFA15A\",\"#19d3f3\",\"#FF6692\",\"#B6E880\",\"#FF97FF\",\"#FECB52\"],\"font\":{\"color\":\"#2a3f5f\"},\"hovermode\":\"closest\",\"hoverlabel\":{\"align\":\"left\"},\"paper_bgcolor\":\"white\",\"plot_bgcolor\":\"#E5ECF6\",\"polar\":{\"bgcolor\":\"#E5ECF6\",\"angularaxis\":{\"gridcolor\":\"white\",\"linecolor\":\"white\",\"ticks\":\"\"},\"radialaxis\":{\"gridcolor\":\"white\",\"linecolor\":\"white\",\"ticks\":\"\"}},\"ternary\":{\"bgcolor\":\"#E5ECF6\",\"aaxis\":{\"gridcolor\":\"white\",\"linecolor\":\"white\",\"ticks\":\"\"},\"baxis\":{\"gridcolor\":\"white\",\"linecolor\":\"white\",\"ticks\":\"\"},\"caxis\":{\"gridcolor\":\"white\",\"linecolor\":\"white\",\"ticks\":\"\"}},\"coloraxis\":{\"colorbar\":{\"outlinewidth\":0,\"ticks\":\"\"}},\"colorscale\":{\"sequential\":[[0.0,\"#0d0887\"],[0.1111111111111111,\"#46039f\"],[0.2222222222222222,\"#7201a8\"],[0.3333333333333333,\"#9c179e\"],[0.4444444444444444,\"#bd3786\"],[0.5555555555555556,\"#d8576b\"],[0.6666666666666666,\"#ed7953\"],[0.7777777777777778,\"#fb9f3a\"],[0.8888888888888888,\"#fdca26\"],[1.0,\"#f0f921\"]],\"sequentialminus\":[[0.0,\"#0d0887\"],[0.1111111111111111,\"#46039f\"],[0.2222222222222222,\"#7201a8\"],[0.3333333333333333,\"#9c179e\"],[0.4444444444444444,\"#bd3786\"],[0.5555555555555556,\"#d8576b\"],[0.6666666666666666,\"#ed7953\"],[0.7777777777777778,\"#fb9f3a\"],[0.8888888888888888,\"#fdca26\"],[1.0,\"#f0f921\"]],\"diverging\":[[0,\"#8e0152\"],[0.1,\"#c51b7d\"],[0.2,\"#de77ae\"],[0.3,\"#f1b6da\"],[0.4,\"#fde0ef\"],[0.5,\"#f7f7f7\"],[0.6,\"#e6f5d0\"],[0.7,\"#b8e186\"],[0.8,\"#7fbc41\"],[0.9,\"#4d9221\"],[1,\"#276419\"]]},\"xaxis\":{\"gridcolor\":\"white\",\"linecolor\":\"white\",\"ticks\":\"\",\"title\":{\"standoff\":15},\"zerolinecolor\":\"white\",\"automargin\":true,\"zerolinewidth\":2},\"yaxis\":{\"gridcolor\":\"white\",\"linecolor\":\"white\",\"ticks\":\"\",\"title\":{\"standoff\":15},\"zerolinecolor\":\"white\",\"automargin\":true,\"zerolinewidth\":2},\"scene\":{\"xaxis\":{\"backgroundcolor\":\"#E5ECF6\",\"gridcolor\":\"white\",\"linecolor\":\"white\",\"showbackground\":true,\"ticks\":\"\",\"zerolinecolor\":\"white\",\"gridwidth\":2},\"yaxis\":{\"backgroundcolor\":\"#E5ECF6\",\"gridcolor\":\"white\",\"linecolor\":\"white\",\"showbackground\":true,\"ticks\":\"\",\"zerolinecolor\":\"white\",\"gridwidth\":2},\"zaxis\":{\"backgroundcolor\":\"#E5ECF6\",\"gridcolor\":\"white\",\"linecolor\":\"white\",\"showbackground\":true,\"ticks\":\"\",\"zerolinecolor\":\"white\",\"gridwidth\":2}},\"shapedefaults\":{\"line\":{\"color\":\"#2a3f5f\"}},\"annotationdefaults\":{\"arrowcolor\":\"#2a3f5f\",\"arrowhead\":0,\"arrowwidth\":1},\"geo\":{\"bgcolor\":\"white\",\"landcolor\":\"#E5ECF6\",\"subunitcolor\":\"white\",\"showland\":true,\"showlakes\":true,\"lakecolor\":\"white\"},\"title\":{\"x\":0.05},\"mapbox\":{\"style\":\"light\"}}},\"title\":{\"text\":\"Vicuna-7B Cross Eval Results\"},\"xaxis\":{\"title\":{\"text\":\"Train Dataset\"}},\"yaxis\":{\"title\":{\"text\":\"Test Dataset\"}},\"width\":1000,\"height\":1000,\"annotations\":[{\"font\":{\"color\":\"white\"},\"showarrow\":false,\"text\":\"86.13\",\"x\":0,\"y\":0},{\"font\":{\"color\":\"white\"},\"showarrow\":false,\"text\":\"-5.10\",\"x\":0,\"y\":1},{\"font\":{\"color\":\"white\"},\"showarrow\":false,\"text\":\"-24.93\",\"x\":0,\"y\":2},{\"font\":{\"color\":\"white\"},\"showarrow\":false,\"text\":\"-2.82\",\"x\":0,\"y\":3},{\"font\":{\"color\":\"white\"},\"showarrow\":false,\"text\":\"-2.32\",\"x\":0,\"y\":4},{\"font\":{\"color\":\"white\"},\"showarrow\":false,\"text\":\"-4.11\",\"x\":0,\"y\":5},{\"font\":{\"color\":\"white\"},\"showarrow\":false,\"text\":\"-12.95\",\"x\":0,\"y\":6},{\"font\":{\"color\":\"white\"},\"showarrow\":false,\"text\":\"-4.49\",\"x\":0,\"y\":7},{\"font\":{\"color\":\"white\"},\"showarrow\":false,\"text\":\"-12.82\",\"x\":0,\"y\":8},{\"font\":{\"color\":\"white\"},\"showarrow\":false,\"text\":\"-10.70\",\"x\":0,\"y\":9},{\"font\":{\"color\":\"white\"},\"showarrow\":false,\"text\":\"83.33\",\"x\":1,\"y\":1},{\"font\":{\"color\":\"white\"},\"showarrow\":false,\"text\":\"2.80\",\"x\":1,\"y\":0},{\"font\":{\"color\":\"white\"},\"showarrow\":false,\"text\":\"-27.27\",\"x\":1,\"y\":2},{\"font\":{\"color\":\"white\"},\"showarrow\":false,\"text\":\"-2.66\",\"x\":1,\"y\":3},{\"font\":{\"color\":\"white\"},\"showarrow\":false,\"text\":\"-7.93\",\"x\":1,\"y\":4},{\"font\":{\"color\":\"white\"},\"showarrow\":false,\"text\":\"5.60\",\"x\":1,\"y\":5},{\"font\":{\"color\":\"white\"},\"showarrow\":false,\"text\":\"-4.44\",\"x\":1,\"y\":6},{\"font\":{\"color\":\"white\"},\"showarrow\":false,\"text\":\"-2.73\",\"x\":1,\"y\":7},{\"font\":{\"color\":\"white\"},\"showarrow\":false,\"text\":\"-15.23\",\"x\":1,\"y\":8},{\"font\":{\"color\":\"white\"},\"showarrow\":false,\"text\":\"-10.61\",\"x\":1,\"y\":9},{\"font\":{\"color\":\"white\"},\"showarrow\":false,\"text\":\"72.52\",\"x\":2,\"y\":2},{\"font\":{\"color\":\"white\"},\"showarrow\":false,\"text\":\"4.69\",\"x\":2,\"y\":0},{\"font\":{\"color\":\"white\"},\"showarrow\":false,\"text\":\"10.82\",\"x\":2,\"y\":1},{\"font\":{\"color\":\"white\"},\"showarrow\":false,\"text\":\"16.26\",\"x\":2,\"y\":3},{\"font\":{\"color\":\"white\"},\"showarrow\":false,\"text\":\"-4.15\",\"x\":2,\"y\":4},{\"font\":{\"color\":\"white\"},\"showarrow\":false,\"text\":\"-6.40\",\"x\":2,\"y\":5},{\"font\":{\"color\":\"white\"},\"showarrow\":false,\"text\":\"6.37\",\"x\":2,\"y\":6},{\"font\":{\"color\":\"white\"},\"showarrow\":false,\"text\":\"13.21\",\"x\":2,\"y\":7},{\"font\":{\"color\":\"white\"},\"showarrow\":false,\"text\":\"-9.92\",\"x\":2,\"y\":8},{\"font\":{\"color\":\"white\"},\"showarrow\":false,\"text\":\"-12.14\",\"x\":2,\"y\":9},{\"font\":{\"color\":\"white\"},\"showarrow\":false,\"text\":\"88.77\",\"x\":3,\"y\":3},{\"font\":{\"color\":\"white\"},\"showarrow\":false,\"text\":\"-8.15\",\"x\":3,\"y\":0},{\"font\":{\"color\":\"white\"},\"showarrow\":false,\"text\":\"-17.12\",\"x\":3,\"y\":1},{\"font\":{\"color\":\"white\"},\"showarrow\":false,\"text\":\"-32.26\",\"x\":3,\"y\":2},{\"font\":{\"color\":\"white\"},\"showarrow\":false,\"text\":\"4.24\",\"x\":3,\"y\":4},{\"font\":{\"color\":\"white\"},\"showarrow\":false,\"text\":\"-7.10\",\"x\":3,\"y\":5},{\"font\":{\"color\":\"white\"},\"showarrow\":false,\"text\":\"-22.40\",\"x\":3,\"y\":6},{\"font\":{\"color\":\"white\"},\"showarrow\":false,\"text\":\"-12.93\",\"x\":3,\"y\":7},{\"font\":{\"color\":\"white\"},\"showarrow\":false,\"text\":\"-6.98\",\"x\":3,\"y\":8},{\"font\":{\"color\":\"white\"},\"showarrow\":false,\"text\":\"-9.04\",\"x\":3,\"y\":9},{\"font\":{\"color\":\"white\"},\"showarrow\":false,\"text\":\"92.17\",\"x\":4,\"y\":4},{\"font\":{\"color\":\"white\"},\"showarrow\":false,\"text\":\"-17.61\",\"x\":4,\"y\":0},{\"font\":{\"color\":\"white\"},\"showarrow\":false,\"text\":\"-24.56\",\"x\":4,\"y\":1},{\"font\":{\"color\":\"white\"},\"showarrow\":false,\"text\":\"-37.49\",\"x\":4,\"y\":2},{\"font\":{\"color\":\"white\"},\"showarrow\":false,\"text\":\"-6.59\",\"x\":4,\"y\":3},{\"font\":{\"color\":\"white\"},\"showarrow\":false,\"text\":\"-25.06\",\"x\":4,\"y\":5},{\"font\":{\"color\":\"white\"},\"showarrow\":false,\"text\":\"-31.41\",\"x\":4,\"y\":6},{\"font\":{\"color\":\"white\"},\"showarrow\":false,\"text\":\"-25.07\",\"x\":4,\"y\":7},{\"font\":{\"color\":\"white\"},\"showarrow\":false,\"text\":\"-17.33\",\"x\":4,\"y\":8},{\"font\":{\"color\":\"white\"},\"showarrow\":false,\"text\":\"-20.60\",\"x\":4,\"y\":9},{\"font\":{\"color\":\"white\"},\"showarrow\":false,\"text\":\"88.93\",\"x\":5,\"y\":5},{\"font\":{\"color\":\"white\"},\"showarrow\":false,\"text\":\"-8.64\",\"x\":5,\"y\":0},{\"font\":{\"color\":\"white\"},\"showarrow\":false,\"text\":\"-5.60\",\"x\":5,\"y\":1},{\"font\":{\"color\":\"white\"},\"showarrow\":false,\"text\":\"-33.79\",\"x\":5,\"y\":2},{\"font\":{\"color\":\"white\"},\"showarrow\":false,\"text\":\"-6.95\",\"x\":5,\"y\":3},{\"font\":{\"color\":\"white\"},\"showarrow\":false,\"text\":\"-6.12\",\"x\":5,\"y\":4},{\"font\":{\"color\":\"white\"},\"showarrow\":false,\"text\":\"-21.32\",\"x\":5,\"y\":6},{\"font\":{\"color\":\"white\"},\"showarrow\":false,\"text\":\"-9.89\",\"x\":5,\"y\":7},{\"font\":{\"color\":\"white\"},\"showarrow\":false,\"text\":\"-19.64\",\"x\":5,\"y\":8},{\"font\":{\"color\":\"white\"},\"showarrow\":false,\"text\":\"-11.40\",\"x\":5,\"y\":9},{\"font\":{\"color\":\"white\"},\"showarrow\":false,\"text\":\"78.89\",\"x\":6,\"y\":6},{\"font\":{\"color\":\"white\"},\"showarrow\":false,\"text\":\"7.24\",\"x\":6,\"y\":0},{\"font\":{\"color\":\"white\"},\"showarrow\":false,\"text\":\"4.44\",\"x\":6,\"y\":1},{\"font\":{\"color\":\"white\"},\"showarrow\":false,\"text\":\"-24.48\",\"x\":6,\"y\":2},{\"font\":{\"color\":\"white\"},\"showarrow\":false,\"text\":\"4.62\",\"x\":6,\"y\":3},{\"font\":{\"color\":\"white\"},\"showarrow\":false,\"text\":\"-0.01\",\"x\":6,\"y\":4},{\"font\":{\"color\":\"white\"},\"showarrow\":false,\"text\":\"10.04\",\"x\":6,\"y\":5},{\"font\":{\"color\":\"white\"},\"showarrow\":false,\"text\":\"0.33\",\"x\":6,\"y\":7},{\"font\":{\"color\":\"white\"},\"showarrow\":false,\"text\":\"-11.27\",\"x\":6,\"y\":8},{\"font\":{\"color\":\"white\"},\"showarrow\":false,\"text\":\"-4.95\",\"x\":6,\"y\":9},{\"font\":{\"color\":\"white\"},\"showarrow\":false,\"text\":\"85.73\",\"x\":7,\"y\":7},{\"font\":{\"color\":\"white\"},\"showarrow\":false,\"text\":\"-7.62\",\"x\":7,\"y\":0},{\"font\":{\"color\":\"white\"},\"showarrow\":false,\"text\":\"-7.33\",\"x\":7,\"y\":1},{\"font\":{\"color\":\"white\"},\"showarrow\":false,\"text\":\"-21.88\",\"x\":7,\"y\":2},{\"font\":{\"color\":\"white\"},\"showarrow\":false,\"text\":\"-15.36\",\"x\":7,\"y\":3},{\"font\":{\"color\":\"white\"},\"showarrow\":false,\"text\":\"-28.61\",\"x\":7,\"y\":4},{\"font\":{\"color\":\"white\"},\"showarrow\":false,\"text\":\"-4.45\",\"x\":7,\"y\":5},{\"font\":{\"color\":\"white\"},\"showarrow\":false,\"text\":\"-15.06\",\"x\":7,\"y\":6},{\"font\":{\"color\":\"white\"},\"showarrow\":false,\"text\":\"-5.13\",\"x\":7,\"y\":8},{\"font\":{\"color\":\"white\"},\"showarrow\":false,\"text\":\"-25.18\",\"x\":7,\"y\":9},{\"font\":{\"color\":\"white\"},\"showarrow\":false,\"text\":\"80.60\",\"x\":8,\"y\":8},{\"font\":{\"color\":\"white\"},\"showarrow\":false,\"text\":\"-7.83\",\"x\":8,\"y\":0},{\"font\":{\"color\":\"white\"},\"showarrow\":false,\"text\":\"-10.26\",\"x\":8,\"y\":1},{\"font\":{\"color\":\"white\"},\"showarrow\":false,\"text\":\"-24.39\",\"x\":8,\"y\":2},{\"font\":{\"color\":\"white\"},\"showarrow\":false,\"text\":\"6.66\",\"x\":8,\"y\":3},{\"font\":{\"color\":\"white\"},\"showarrow\":false,\"text\":\"9.17\",\"x\":8,\"y\":4},{\"font\":{\"color\":\"white\"},\"showarrow\":false,\"text\":\"-4.55\",\"x\":8,\"y\":5},{\"font\":{\"color\":\"white\"},\"showarrow\":false,\"text\":\"-13.67\",\"x\":8,\"y\":6},{\"font\":{\"color\":\"white\"},\"showarrow\":false,\"text\":\"-7.48\",\"x\":8,\"y\":7},{\"font\":{\"color\":\"white\"},\"showarrow\":false,\"text\":\"-1.19\",\"x\":8,\"y\":9},{\"font\":{\"color\":\"white\"},\"showarrow\":false,\"text\":\"79.35\",\"x\":9,\"y\":9},{\"font\":{\"color\":\"white\"},\"showarrow\":false,\"text\":\"-3.37\",\"x\":9,\"y\":0},{\"font\":{\"color\":\"white\"},\"showarrow\":false,\"text\":\"-8.06\",\"x\":9,\"y\":1},{\"font\":{\"color\":\"white\"},\"showarrow\":false,\"text\":\"-24.91\",\"x\":9,\"y\":2},{\"font\":{\"color\":\"white\"},\"showarrow\":false,\"text\":\"7.86\",\"x\":9,\"y\":3},{\"font\":{\"color\":\"white\"},\"showarrow\":false,\"text\":\"10.14\",\"x\":9,\"y\":4},{\"font\":{\"color\":\"white\"},\"showarrow\":false,\"text\":\"-3.03\",\"x\":9,\"y\":5},{\"font\":{\"color\":\"white\"},\"showarrow\":false,\"text\":\"-15.62\",\"x\":9,\"y\":6},{\"font\":{\"color\":\"white\"},\"showarrow\":false,\"text\":\"-8.16\",\"x\":9,\"y\":7},{\"font\":{\"color\":\"white\"},\"showarrow\":false,\"text\":\"-4.07\",\"x\":9,\"y\":8}]},                        {\"responsive\": true}                    ).then(function(){\n",
       "                            \n",
       "var gd = document.getElementById('af1ae3de-4702-410c-a605-8caa594ebc3a');\n",
       "var x = new MutationObserver(function (mutations, observer) {{\n",
       "        var display = window.getComputedStyle(gd).display;\n",
       "        if (!display || display === 'none') {{\n",
       "            console.log([gd, 'removed!']);\n",
       "            Plotly.purge(gd);\n",
       "            observer.disconnect();\n",
       "        }}\n",
       "}});\n",
       "\n",
       "// Listen for the removal of the full notebook cells\n",
       "var notebookContainer = gd.closest('#notebook-container');\n",
       "if (notebookContainer) {{\n",
       "    x.observe(notebookContainer, {childList: true});\n",
       "}}\n",
       "\n",
       "// Listen for the clearing of the current output cell\n",
       "var outputEl = gd.closest('.output');\n",
       "if (outputEl) {{\n",
       "    x.observe(outputEl, {childList: true});\n",
       "}}\n",
       "\n",
       "                        })                };                });            </script>        </div>"
      ]
     },
     "metadata": {},
     "output_type": "display_data"
    },
    {
     "data": {
      "application/vnd.plotly.v1+json": {
       "config": {
        "plotlyServerURL": "https://plot.ly"
       },
       "data": [
        {
         "colorscale": [
          [
           0.0,
           "#000004"
          ],
          [
           0.1111111111111111,
           "#1b0c41"
          ],
          [
           0.2222222222222222,
           "#4a0c6b"
          ],
          [
           0.3333333333333333,
           "#781c6d"
          ],
          [
           0.4444444444444444,
           "#a52c60"
          ],
          [
           0.5555555555555556,
           "#cf4446"
          ],
          [
           0.6666666666666666,
           "#ed6925"
          ],
          [
           0.7777777777777778,
           "#fb9b06"
          ],
          [
           0.8888888888888888,
           "#f7d13d"
          ],
          [
           1.0,
           "#fcffa4"
          ]
         ],
         "type": "heatmap",
         "x": [
          "SciQ-short",
          "CoQA-short",
          "TriviaQA-short",
          "MedMCQA-short",
          "MedQA-short",
          "SciQ-long",
          "CoQA-long",
          "TriviaQA-long",
          "MedMCQA-long",
          "MedQA-long"
         ],
         "y": [
          "SciQ-short",
          "CoQA-short",
          "TriviaQA-short",
          "MedMCQA-short",
          "MedQA-short",
          "SciQ-long",
          "CoQA-long",
          "TriviaQA-long",
          "MedMCQA-long",
          "MedQA-long"
         ],
         "z": [
          [
           0.0,
           0.0,
           0.0,
           0.0,
           0.0,
           0.0,
           0.0,
           0.0,
           0.0,
           0.0
          ],
          [
           0.0,
           0.0,
           0.0,
           0.0,
           0.0,
           0.0,
           0.0,
           0.0,
           0.0,
           0.0
          ],
          [
           0.0,
           0.0,
           0.0,
           0.0,
           0.0,
           0.0,
           0.0,
           0.0,
           0.0,
           0.0
          ],
          [
           0.0,
           0.0,
           0.0,
           0.0,
           0.0,
           0.0,
           0.0,
           0.0,
           0.0,
           0.0
          ],
          [
           0.0,
           0.0,
           0.0,
           0.0,
           0.0,
           0.0,
           0.0,
           0.0,
           0.0,
           0.0
          ],
          [
           0.0,
           0.0,
           0.0,
           0.0,
           0.0,
           0.0,
           0.0,
           0.0,
           0.0,
           0.0
          ],
          [
           0.0,
           0.0,
           0.0,
           0.0,
           0.0,
           0.0,
           0.0,
           0.0,
           0.0,
           0.0
          ],
          [
           0.0,
           0.0,
           0.0,
           0.0,
           0.0,
           0.0,
           0.0,
           0.0,
           0.0,
           0.0
          ],
          [
           0.0,
           0.0,
           0.0,
           0.0,
           0.0,
           0.0,
           0.0,
           0.0,
           0.0,
           0.0
          ],
          [
           0.0,
           0.0,
           0.0,
           0.0,
           0.0,
           0.0,
           0.0,
           0.0,
           0.0,
           0.0
          ]
         ]
        }
       ],
       "layout": {
        "annotations": [
         {
          "font": {
           "color": "white"
          },
          "showarrow": false,
          "text": "0.00",
          "x": 0,
          "y": 1
         },
         {
          "font": {
           "color": "white"
          },
          "showarrow": false,
          "text": "0.00",
          "x": 0,
          "y": 2
         },
         {
          "font": {
           "color": "white"
          },
          "showarrow": false,
          "text": "0.00",
          "x": 0,
          "y": 3
         },
         {
          "font": {
           "color": "white"
          },
          "showarrow": false,
          "text": "0.00",
          "x": 0,
          "y": 4
         },
         {
          "font": {
           "color": "white"
          },
          "showarrow": false,
          "text": "0.00",
          "x": 0,
          "y": 5
         },
         {
          "font": {
           "color": "white"
          },
          "showarrow": false,
          "text": "0.00",
          "x": 0,
          "y": 6
         },
         {
          "font": {
           "color": "white"
          },
          "showarrow": false,
          "text": "0.00",
          "x": 0,
          "y": 7
         },
         {
          "font": {
           "color": "white"
          },
          "showarrow": false,
          "text": "0.00",
          "x": 0,
          "y": 8
         },
         {
          "font": {
           "color": "white"
          },
          "showarrow": false,
          "text": "0.00",
          "x": 0,
          "y": 9
         },
         {
          "font": {
           "color": "white"
          },
          "showarrow": false,
          "text": "0.00",
          "x": 1,
          "y": 0
         },
         {
          "font": {
           "color": "white"
          },
          "showarrow": false,
          "text": "0.00",
          "x": 1,
          "y": 2
         },
         {
          "font": {
           "color": "white"
          },
          "showarrow": false,
          "text": "0.00",
          "x": 1,
          "y": 3
         },
         {
          "font": {
           "color": "white"
          },
          "showarrow": false,
          "text": "0.00",
          "x": 1,
          "y": 4
         },
         {
          "font": {
           "color": "white"
          },
          "showarrow": false,
          "text": "0.00",
          "x": 1,
          "y": 5
         },
         {
          "font": {
           "color": "white"
          },
          "showarrow": false,
          "text": "0.00",
          "x": 1,
          "y": 6
         },
         {
          "font": {
           "color": "white"
          },
          "showarrow": false,
          "text": "0.00",
          "x": 1,
          "y": 7
         },
         {
          "font": {
           "color": "white"
          },
          "showarrow": false,
          "text": "0.00",
          "x": 1,
          "y": 8
         },
         {
          "font": {
           "color": "white"
          },
          "showarrow": false,
          "text": "0.00",
          "x": 1,
          "y": 9
         },
         {
          "font": {
           "color": "white"
          },
          "showarrow": false,
          "text": "0.00",
          "x": 2,
          "y": 0
         },
         {
          "font": {
           "color": "white"
          },
          "showarrow": false,
          "text": "0.00",
          "x": 2,
          "y": 1
         },
         {
          "font": {
           "color": "white"
          },
          "showarrow": false,
          "text": "0.00",
          "x": 2,
          "y": 3
         },
         {
          "font": {
           "color": "white"
          },
          "showarrow": false,
          "text": "0.00",
          "x": 2,
          "y": 4
         },
         {
          "font": {
           "color": "white"
          },
          "showarrow": false,
          "text": "0.00",
          "x": 2,
          "y": 5
         },
         {
          "font": {
           "color": "white"
          },
          "showarrow": false,
          "text": "0.00",
          "x": 2,
          "y": 6
         },
         {
          "font": {
           "color": "white"
          },
          "showarrow": false,
          "text": "0.00",
          "x": 2,
          "y": 7
         },
         {
          "font": {
           "color": "white"
          },
          "showarrow": false,
          "text": "0.00",
          "x": 2,
          "y": 8
         },
         {
          "font": {
           "color": "white"
          },
          "showarrow": false,
          "text": "0.00",
          "x": 2,
          "y": 9
         },
         {
          "font": {
           "color": "white"
          },
          "showarrow": false,
          "text": "0.00",
          "x": 3,
          "y": 0
         },
         {
          "font": {
           "color": "white"
          },
          "showarrow": false,
          "text": "0.00",
          "x": 3,
          "y": 1
         },
         {
          "font": {
           "color": "white"
          },
          "showarrow": false,
          "text": "0.00",
          "x": 3,
          "y": 2
         },
         {
          "font": {
           "color": "white"
          },
          "showarrow": false,
          "text": "0.00",
          "x": 3,
          "y": 4
         },
         {
          "font": {
           "color": "white"
          },
          "showarrow": false,
          "text": "0.00",
          "x": 3,
          "y": 5
         },
         {
          "font": {
           "color": "white"
          },
          "showarrow": false,
          "text": "0.00",
          "x": 3,
          "y": 6
         },
         {
          "font": {
           "color": "white"
          },
          "showarrow": false,
          "text": "0.00",
          "x": 3,
          "y": 7
         },
         {
          "font": {
           "color": "white"
          },
          "showarrow": false,
          "text": "0.00",
          "x": 3,
          "y": 8
         },
         {
          "font": {
           "color": "white"
          },
          "showarrow": false,
          "text": "0.00",
          "x": 3,
          "y": 9
         },
         {
          "font": {
           "color": "white"
          },
          "showarrow": false,
          "text": "0.00",
          "x": 4,
          "y": 0
         },
         {
          "font": {
           "color": "white"
          },
          "showarrow": false,
          "text": "0.00",
          "x": 4,
          "y": 1
         },
         {
          "font": {
           "color": "white"
          },
          "showarrow": false,
          "text": "0.00",
          "x": 4,
          "y": 2
         },
         {
          "font": {
           "color": "white"
          },
          "showarrow": false,
          "text": "0.00",
          "x": 4,
          "y": 3
         },
         {
          "font": {
           "color": "white"
          },
          "showarrow": false,
          "text": "0.00",
          "x": 4,
          "y": 5
         },
         {
          "font": {
           "color": "white"
          },
          "showarrow": false,
          "text": "0.00",
          "x": 4,
          "y": 6
         },
         {
          "font": {
           "color": "white"
          },
          "showarrow": false,
          "text": "0.00",
          "x": 4,
          "y": 7
         },
         {
          "font": {
           "color": "white"
          },
          "showarrow": false,
          "text": "0.00",
          "x": 4,
          "y": 8
         },
         {
          "font": {
           "color": "white"
          },
          "showarrow": false,
          "text": "0.00",
          "x": 4,
          "y": 9
         },
         {
          "font": {
           "color": "white"
          },
          "showarrow": false,
          "text": "0.00",
          "x": 5,
          "y": 0
         },
         {
          "font": {
           "color": "white"
          },
          "showarrow": false,
          "text": "0.00",
          "x": 5,
          "y": 1
         },
         {
          "font": {
           "color": "white"
          },
          "showarrow": false,
          "text": "0.00",
          "x": 5,
          "y": 2
         },
         {
          "font": {
           "color": "white"
          },
          "showarrow": false,
          "text": "0.00",
          "x": 5,
          "y": 3
         },
         {
          "font": {
           "color": "white"
          },
          "showarrow": false,
          "text": "0.00",
          "x": 5,
          "y": 4
         },
         {
          "font": {
           "color": "white"
          },
          "showarrow": false,
          "text": "0.00",
          "x": 5,
          "y": 6
         },
         {
          "font": {
           "color": "white"
          },
          "showarrow": false,
          "text": "0.00",
          "x": 5,
          "y": 7
         },
         {
          "font": {
           "color": "white"
          },
          "showarrow": false,
          "text": "0.00",
          "x": 5,
          "y": 8
         },
         {
          "font": {
           "color": "white"
          },
          "showarrow": false,
          "text": "0.00",
          "x": 5,
          "y": 9
         },
         {
          "font": {
           "color": "white"
          },
          "showarrow": false,
          "text": "0.00",
          "x": 6,
          "y": 0
         },
         {
          "font": {
           "color": "white"
          },
          "showarrow": false,
          "text": "0.00",
          "x": 6,
          "y": 1
         },
         {
          "font": {
           "color": "white"
          },
          "showarrow": false,
          "text": "0.00",
          "x": 6,
          "y": 2
         },
         {
          "font": {
           "color": "white"
          },
          "showarrow": false,
          "text": "0.00",
          "x": 6,
          "y": 3
         },
         {
          "font": {
           "color": "white"
          },
          "showarrow": false,
          "text": "0.00",
          "x": 6,
          "y": 4
         },
         {
          "font": {
           "color": "white"
          },
          "showarrow": false,
          "text": "0.00",
          "x": 6,
          "y": 5
         },
         {
          "font": {
           "color": "white"
          },
          "showarrow": false,
          "text": "0.00",
          "x": 6,
          "y": 7
         },
         {
          "font": {
           "color": "white"
          },
          "showarrow": false,
          "text": "0.00",
          "x": 6,
          "y": 8
         },
         {
          "font": {
           "color": "white"
          },
          "showarrow": false,
          "text": "0.00",
          "x": 6,
          "y": 9
         },
         {
          "font": {
           "color": "white"
          },
          "showarrow": false,
          "text": "0.00",
          "x": 7,
          "y": 0
         },
         {
          "font": {
           "color": "white"
          },
          "showarrow": false,
          "text": "0.00",
          "x": 7,
          "y": 1
         },
         {
          "font": {
           "color": "white"
          },
          "showarrow": false,
          "text": "0.00",
          "x": 7,
          "y": 2
         },
         {
          "font": {
           "color": "white"
          },
          "showarrow": false,
          "text": "0.00",
          "x": 7,
          "y": 3
         },
         {
          "font": {
           "color": "white"
          },
          "showarrow": false,
          "text": "0.00",
          "x": 7,
          "y": 4
         },
         {
          "font": {
           "color": "white"
          },
          "showarrow": false,
          "text": "0.00",
          "x": 7,
          "y": 5
         },
         {
          "font": {
           "color": "white"
          },
          "showarrow": false,
          "text": "0.00",
          "x": 7,
          "y": 6
         },
         {
          "font": {
           "color": "white"
          },
          "showarrow": false,
          "text": "0.00",
          "x": 7,
          "y": 8
         },
         {
          "font": {
           "color": "white"
          },
          "showarrow": false,
          "text": "0.00",
          "x": 7,
          "y": 9
         },
         {
          "font": {
           "color": "white"
          },
          "showarrow": false,
          "text": "0.00",
          "x": 8,
          "y": 0
         },
         {
          "font": {
           "color": "white"
          },
          "showarrow": false,
          "text": "0.00",
          "x": 8,
          "y": 1
         },
         {
          "font": {
           "color": "white"
          },
          "showarrow": false,
          "text": "0.00",
          "x": 8,
          "y": 2
         },
         {
          "font": {
           "color": "white"
          },
          "showarrow": false,
          "text": "0.00",
          "x": 8,
          "y": 3
         },
         {
          "font": {
           "color": "white"
          },
          "showarrow": false,
          "text": "0.00",
          "x": 8,
          "y": 4
         },
         {
          "font": {
           "color": "white"
          },
          "showarrow": false,
          "text": "0.00",
          "x": 8,
          "y": 5
         },
         {
          "font": {
           "color": "white"
          },
          "showarrow": false,
          "text": "0.00",
          "x": 8,
          "y": 6
         },
         {
          "font": {
           "color": "white"
          },
          "showarrow": false,
          "text": "0.00",
          "x": 8,
          "y": 7
         },
         {
          "font": {
           "color": "white"
          },
          "showarrow": false,
          "text": "0.00",
          "x": 8,
          "y": 9
         },
         {
          "font": {
           "color": "white"
          },
          "showarrow": false,
          "text": "0.00",
          "x": 9,
          "y": 0
         },
         {
          "font": {
           "color": "white"
          },
          "showarrow": false,
          "text": "0.00",
          "x": 9,
          "y": 1
         },
         {
          "font": {
           "color": "white"
          },
          "showarrow": false,
          "text": "0.00",
          "x": 9,
          "y": 2
         },
         {
          "font": {
           "color": "white"
          },
          "showarrow": false,
          "text": "0.00",
          "x": 9,
          "y": 3
         },
         {
          "font": {
           "color": "white"
          },
          "showarrow": false,
          "text": "0.00",
          "x": 9,
          "y": 4
         },
         {
          "font": {
           "color": "white"
          },
          "showarrow": false,
          "text": "0.00",
          "x": 9,
          "y": 5
         },
         {
          "font": {
           "color": "white"
          },
          "showarrow": false,
          "text": "0.00",
          "x": 9,
          "y": 6
         },
         {
          "font": {
           "color": "white"
          },
          "showarrow": false,
          "text": "0.00",
          "x": 9,
          "y": 7
         },
         {
          "font": {
           "color": "white"
          },
          "showarrow": false,
          "text": "0.00",
          "x": 9,
          "y": 8
         }
        ],
        "height": 1000,
        "template": {
         "data": {
          "bar": [
           {
            "error_x": {
             "color": "#2a3f5f"
            },
            "error_y": {
             "color": "#2a3f5f"
            },
            "marker": {
             "line": {
              "color": "#E5ECF6",
              "width": 0.5
             },
             "pattern": {
              "fillmode": "overlay",
              "size": 10,
              "solidity": 0.2
             }
            },
            "type": "bar"
           }
          ],
          "barpolar": [
           {
            "marker": {
             "line": {
              "color": "#E5ECF6",
              "width": 0.5
             },
             "pattern": {
              "fillmode": "overlay",
              "size": 10,
              "solidity": 0.2
             }
            },
            "type": "barpolar"
           }
          ],
          "carpet": [
           {
            "aaxis": {
             "endlinecolor": "#2a3f5f",
             "gridcolor": "white",
             "linecolor": "white",
             "minorgridcolor": "white",
             "startlinecolor": "#2a3f5f"
            },
            "baxis": {
             "endlinecolor": "#2a3f5f",
             "gridcolor": "white",
             "linecolor": "white",
             "minorgridcolor": "white",
             "startlinecolor": "#2a3f5f"
            },
            "type": "carpet"
           }
          ],
          "choropleth": [
           {
            "colorbar": {
             "outlinewidth": 0,
             "ticks": ""
            },
            "type": "choropleth"
           }
          ],
          "contour": [
           {
            "colorbar": {
             "outlinewidth": 0,
             "ticks": ""
            },
            "colorscale": [
             [
              0.0,
              "#0d0887"
             ],
             [
              0.1111111111111111,
              "#46039f"
             ],
             [
              0.2222222222222222,
              "#7201a8"
             ],
             [
              0.3333333333333333,
              "#9c179e"
             ],
             [
              0.4444444444444444,
              "#bd3786"
             ],
             [
              0.5555555555555556,
              "#d8576b"
             ],
             [
              0.6666666666666666,
              "#ed7953"
             ],
             [
              0.7777777777777778,
              "#fb9f3a"
             ],
             [
              0.8888888888888888,
              "#fdca26"
             ],
             [
              1.0,
              "#f0f921"
             ]
            ],
            "type": "contour"
           }
          ],
          "contourcarpet": [
           {
            "colorbar": {
             "outlinewidth": 0,
             "ticks": ""
            },
            "type": "contourcarpet"
           }
          ],
          "heatmap": [
           {
            "colorbar": {
             "outlinewidth": 0,
             "ticks": ""
            },
            "colorscale": [
             [
              0.0,
              "#0d0887"
             ],
             [
              0.1111111111111111,
              "#46039f"
             ],
             [
              0.2222222222222222,
              "#7201a8"
             ],
             [
              0.3333333333333333,
              "#9c179e"
             ],
             [
              0.4444444444444444,
              "#bd3786"
             ],
             [
              0.5555555555555556,
              "#d8576b"
             ],
             [
              0.6666666666666666,
              "#ed7953"
             ],
             [
              0.7777777777777778,
              "#fb9f3a"
             ],
             [
              0.8888888888888888,
              "#fdca26"
             ],
             [
              1.0,
              "#f0f921"
             ]
            ],
            "type": "heatmap"
           }
          ],
          "heatmapgl": [
           {
            "colorbar": {
             "outlinewidth": 0,
             "ticks": ""
            },
            "colorscale": [
             [
              0.0,
              "#0d0887"
             ],
             [
              0.1111111111111111,
              "#46039f"
             ],
             [
              0.2222222222222222,
              "#7201a8"
             ],
             [
              0.3333333333333333,
              "#9c179e"
             ],
             [
              0.4444444444444444,
              "#bd3786"
             ],
             [
              0.5555555555555556,
              "#d8576b"
             ],
             [
              0.6666666666666666,
              "#ed7953"
             ],
             [
              0.7777777777777778,
              "#fb9f3a"
             ],
             [
              0.8888888888888888,
              "#fdca26"
             ],
             [
              1.0,
              "#f0f921"
             ]
            ],
            "type": "heatmapgl"
           }
          ],
          "histogram": [
           {
            "marker": {
             "pattern": {
              "fillmode": "overlay",
              "size": 10,
              "solidity": 0.2
             }
            },
            "type": "histogram"
           }
          ],
          "histogram2d": [
           {
            "colorbar": {
             "outlinewidth": 0,
             "ticks": ""
            },
            "colorscale": [
             [
              0.0,
              "#0d0887"
             ],
             [
              0.1111111111111111,
              "#46039f"
             ],
             [
              0.2222222222222222,
              "#7201a8"
             ],
             [
              0.3333333333333333,
              "#9c179e"
             ],
             [
              0.4444444444444444,
              "#bd3786"
             ],
             [
              0.5555555555555556,
              "#d8576b"
             ],
             [
              0.6666666666666666,
              "#ed7953"
             ],
             [
              0.7777777777777778,
              "#fb9f3a"
             ],
             [
              0.8888888888888888,
              "#fdca26"
             ],
             [
              1.0,
              "#f0f921"
             ]
            ],
            "type": "histogram2d"
           }
          ],
          "histogram2dcontour": [
           {
            "colorbar": {
             "outlinewidth": 0,
             "ticks": ""
            },
            "colorscale": [
             [
              0.0,
              "#0d0887"
             ],
             [
              0.1111111111111111,
              "#46039f"
             ],
             [
              0.2222222222222222,
              "#7201a8"
             ],
             [
              0.3333333333333333,
              "#9c179e"
             ],
             [
              0.4444444444444444,
              "#bd3786"
             ],
             [
              0.5555555555555556,
              "#d8576b"
             ],
             [
              0.6666666666666666,
              "#ed7953"
             ],
             [
              0.7777777777777778,
              "#fb9f3a"
             ],
             [
              0.8888888888888888,
              "#fdca26"
             ],
             [
              1.0,
              "#f0f921"
             ]
            ],
            "type": "histogram2dcontour"
           }
          ],
          "mesh3d": [
           {
            "colorbar": {
             "outlinewidth": 0,
             "ticks": ""
            },
            "type": "mesh3d"
           }
          ],
          "parcoords": [
           {
            "line": {
             "colorbar": {
              "outlinewidth": 0,
              "ticks": ""
             }
            },
            "type": "parcoords"
           }
          ],
          "pie": [
           {
            "automargin": true,
            "type": "pie"
           }
          ],
          "scatter": [
           {
            "fillpattern": {
             "fillmode": "overlay",
             "size": 10,
             "solidity": 0.2
            },
            "type": "scatter"
           }
          ],
          "scatter3d": [
           {
            "line": {
             "colorbar": {
              "outlinewidth": 0,
              "ticks": ""
             }
            },
            "marker": {
             "colorbar": {
              "outlinewidth": 0,
              "ticks": ""
             }
            },
            "type": "scatter3d"
           }
          ],
          "scattercarpet": [
           {
            "marker": {
             "colorbar": {
              "outlinewidth": 0,
              "ticks": ""
             }
            },
            "type": "scattercarpet"
           }
          ],
          "scattergeo": [
           {
            "marker": {
             "colorbar": {
              "outlinewidth": 0,
              "ticks": ""
             }
            },
            "type": "scattergeo"
           }
          ],
          "scattergl": [
           {
            "marker": {
             "colorbar": {
              "outlinewidth": 0,
              "ticks": ""
             }
            },
            "type": "scattergl"
           }
          ],
          "scattermapbox": [
           {
            "marker": {
             "colorbar": {
              "outlinewidth": 0,
              "ticks": ""
             }
            },
            "type": "scattermapbox"
           }
          ],
          "scatterpolar": [
           {
            "marker": {
             "colorbar": {
              "outlinewidth": 0,
              "ticks": ""
             }
            },
            "type": "scatterpolar"
           }
          ],
          "scatterpolargl": [
           {
            "marker": {
             "colorbar": {
              "outlinewidth": 0,
              "ticks": ""
             }
            },
            "type": "scatterpolargl"
           }
          ],
          "scatterternary": [
           {
            "marker": {
             "colorbar": {
              "outlinewidth": 0,
              "ticks": ""
             }
            },
            "type": "scatterternary"
           }
          ],
          "surface": [
           {
            "colorbar": {
             "outlinewidth": 0,
             "ticks": ""
            },
            "colorscale": [
             [
              0.0,
              "#0d0887"
             ],
             [
              0.1111111111111111,
              "#46039f"
             ],
             [
              0.2222222222222222,
              "#7201a8"
             ],
             [
              0.3333333333333333,
              "#9c179e"
             ],
             [
              0.4444444444444444,
              "#bd3786"
             ],
             [
              0.5555555555555556,
              "#d8576b"
             ],
             [
              0.6666666666666666,
              "#ed7953"
             ],
             [
              0.7777777777777778,
              "#fb9f3a"
             ],
             [
              0.8888888888888888,
              "#fdca26"
             ],
             [
              1.0,
              "#f0f921"
             ]
            ],
            "type": "surface"
           }
          ],
          "table": [
           {
            "cells": {
             "fill": {
              "color": "#EBF0F8"
             },
             "line": {
              "color": "white"
             }
            },
            "header": {
             "fill": {
              "color": "#C8D4E3"
             },
             "line": {
              "color": "white"
             }
            },
            "type": "table"
           }
          ]
         },
         "layout": {
          "annotationdefaults": {
           "arrowcolor": "#2a3f5f",
           "arrowhead": 0,
           "arrowwidth": 1
          },
          "autotypenumbers": "strict",
          "coloraxis": {
           "colorbar": {
            "outlinewidth": 0,
            "ticks": ""
           }
          },
          "colorscale": {
           "diverging": [
            [
             0,
             "#8e0152"
            ],
            [
             0.1,
             "#c51b7d"
            ],
            [
             0.2,
             "#de77ae"
            ],
            [
             0.3,
             "#f1b6da"
            ],
            [
             0.4,
             "#fde0ef"
            ],
            [
             0.5,
             "#f7f7f7"
            ],
            [
             0.6,
             "#e6f5d0"
            ],
            [
             0.7,
             "#b8e186"
            ],
            [
             0.8,
             "#7fbc41"
            ],
            [
             0.9,
             "#4d9221"
            ],
            [
             1,
             "#276419"
            ]
           ],
           "sequential": [
            [
             0.0,
             "#0d0887"
            ],
            [
             0.1111111111111111,
             "#46039f"
            ],
            [
             0.2222222222222222,
             "#7201a8"
            ],
            [
             0.3333333333333333,
             "#9c179e"
            ],
            [
             0.4444444444444444,
             "#bd3786"
            ],
            [
             0.5555555555555556,
             "#d8576b"
            ],
            [
             0.6666666666666666,
             "#ed7953"
            ],
            [
             0.7777777777777778,
             "#fb9f3a"
            ],
            [
             0.8888888888888888,
             "#fdca26"
            ],
            [
             1.0,
             "#f0f921"
            ]
           ],
           "sequentialminus": [
            [
             0.0,
             "#0d0887"
            ],
            [
             0.1111111111111111,
             "#46039f"
            ],
            [
             0.2222222222222222,
             "#7201a8"
            ],
            [
             0.3333333333333333,
             "#9c179e"
            ],
            [
             0.4444444444444444,
             "#bd3786"
            ],
            [
             0.5555555555555556,
             "#d8576b"
            ],
            [
             0.6666666666666666,
             "#ed7953"
            ],
            [
             0.7777777777777778,
             "#fb9f3a"
            ],
            [
             0.8888888888888888,
             "#fdca26"
            ],
            [
             1.0,
             "#f0f921"
            ]
           ]
          },
          "colorway": [
           "#636efa",
           "#EF553B",
           "#00cc96",
           "#ab63fa",
           "#FFA15A",
           "#19d3f3",
           "#FF6692",
           "#B6E880",
           "#FF97FF",
           "#FECB52"
          ],
          "font": {
           "color": "#2a3f5f"
          },
          "geo": {
           "bgcolor": "white",
           "lakecolor": "white",
           "landcolor": "#E5ECF6",
           "showlakes": true,
           "showland": true,
           "subunitcolor": "white"
          },
          "hoverlabel": {
           "align": "left"
          },
          "hovermode": "closest",
          "mapbox": {
           "style": "light"
          },
          "paper_bgcolor": "white",
          "plot_bgcolor": "#E5ECF6",
          "polar": {
           "angularaxis": {
            "gridcolor": "white",
            "linecolor": "white",
            "ticks": ""
           },
           "bgcolor": "#E5ECF6",
           "radialaxis": {
            "gridcolor": "white",
            "linecolor": "white",
            "ticks": ""
           }
          },
          "scene": {
           "xaxis": {
            "backgroundcolor": "#E5ECF6",
            "gridcolor": "white",
            "gridwidth": 2,
            "linecolor": "white",
            "showbackground": true,
            "ticks": "",
            "zerolinecolor": "white"
           },
           "yaxis": {
            "backgroundcolor": "#E5ECF6",
            "gridcolor": "white",
            "gridwidth": 2,
            "linecolor": "white",
            "showbackground": true,
            "ticks": "",
            "zerolinecolor": "white"
           },
           "zaxis": {
            "backgroundcolor": "#E5ECF6",
            "gridcolor": "white",
            "gridwidth": 2,
            "linecolor": "white",
            "showbackground": true,
            "ticks": "",
            "zerolinecolor": "white"
           }
          },
          "shapedefaults": {
           "line": {
            "color": "#2a3f5f"
           }
          },
          "ternary": {
           "aaxis": {
            "gridcolor": "white",
            "linecolor": "white",
            "ticks": ""
           },
           "baxis": {
            "gridcolor": "white",
            "linecolor": "white",
            "ticks": ""
           },
           "bgcolor": "#E5ECF6",
           "caxis": {
            "gridcolor": "white",
            "linecolor": "white",
            "ticks": ""
           }
          },
          "title": {
           "x": 0.05
          },
          "xaxis": {
           "automargin": true,
           "gridcolor": "white",
           "linecolor": "white",
           "ticks": "",
           "title": {
            "standoff": 15
           },
           "zerolinecolor": "white",
           "zerolinewidth": 2
          },
          "yaxis": {
           "automargin": true,
           "gridcolor": "white",
           "linecolor": "white",
           "ticks": "",
           "title": {
            "standoff": 15
           },
           "zerolinecolor": "white",
           "zerolinewidth": 2
          }
         }
        },
        "title": {
         "text": "Vicuna-13B Cross Eval Results"
        },
        "width": 1000,
        "xaxis": {
         "title": {
          "text": "Train Dataset"
         }
        },
        "yaxis": {
         "title": {
          "text": "Test Dataset"
         }
        }
       }
      },
      "text/html": [
       "<div>                            <div id=\"512c7d2e-be66-49ba-a299-9a99f8247672\" class=\"plotly-graph-div\" style=\"height:1000px; width:1000px;\"></div>            <script type=\"text/javascript\">                require([\"plotly\"], function(Plotly) {                    window.PLOTLYENV=window.PLOTLYENV || {};                                    if (document.getElementById(\"512c7d2e-be66-49ba-a299-9a99f8247672\")) {                    Plotly.newPlot(                        \"512c7d2e-be66-49ba-a299-9a99f8247672\",                        [{\"colorscale\":[[0.0,\"#000004\"],[0.1111111111111111,\"#1b0c41\"],[0.2222222222222222,\"#4a0c6b\"],[0.3333333333333333,\"#781c6d\"],[0.4444444444444444,\"#a52c60\"],[0.5555555555555556,\"#cf4446\"],[0.6666666666666666,\"#ed6925\"],[0.7777777777777778,\"#fb9b06\"],[0.8888888888888888,\"#f7d13d\"],[1.0,\"#fcffa4\"]],\"x\":[\"SciQ-short\",\"CoQA-short\",\"TriviaQA-short\",\"MedMCQA-short\",\"MedQA-short\",\"SciQ-long\",\"CoQA-long\",\"TriviaQA-long\",\"MedMCQA-long\",\"MedQA-long\"],\"y\":[\"SciQ-short\",\"CoQA-short\",\"TriviaQA-short\",\"MedMCQA-short\",\"MedQA-short\",\"SciQ-long\",\"CoQA-long\",\"TriviaQA-long\",\"MedMCQA-long\",\"MedQA-long\"],\"z\":[[0.0,0.0,0.0,0.0,0.0,0.0,0.0,0.0,0.0,0.0],[0.0,0.0,0.0,0.0,0.0,0.0,0.0,0.0,0.0,0.0],[0.0,0.0,0.0,0.0,0.0,0.0,0.0,0.0,0.0,0.0],[0.0,0.0,0.0,0.0,0.0,0.0,0.0,0.0,0.0,0.0],[0.0,0.0,0.0,0.0,0.0,0.0,0.0,0.0,0.0,0.0],[0.0,0.0,0.0,0.0,0.0,0.0,0.0,0.0,0.0,0.0],[0.0,0.0,0.0,0.0,0.0,0.0,0.0,0.0,0.0,0.0],[0.0,0.0,0.0,0.0,0.0,0.0,0.0,0.0,0.0,0.0],[0.0,0.0,0.0,0.0,0.0,0.0,0.0,0.0,0.0,0.0],[0.0,0.0,0.0,0.0,0.0,0.0,0.0,0.0,0.0,0.0]],\"type\":\"heatmap\"}],                        {\"template\":{\"data\":{\"histogram2dcontour\":[{\"type\":\"histogram2dcontour\",\"colorbar\":{\"outlinewidth\":0,\"ticks\":\"\"},\"colorscale\":[[0.0,\"#0d0887\"],[0.1111111111111111,\"#46039f\"],[0.2222222222222222,\"#7201a8\"],[0.3333333333333333,\"#9c179e\"],[0.4444444444444444,\"#bd3786\"],[0.5555555555555556,\"#d8576b\"],[0.6666666666666666,\"#ed7953\"],[0.7777777777777778,\"#fb9f3a\"],[0.8888888888888888,\"#fdca26\"],[1.0,\"#f0f921\"]]}],\"choropleth\":[{\"type\":\"choropleth\",\"colorbar\":{\"outlinewidth\":0,\"ticks\":\"\"}}],\"histogram2d\":[{\"type\":\"histogram2d\",\"colorbar\":{\"outlinewidth\":0,\"ticks\":\"\"},\"colorscale\":[[0.0,\"#0d0887\"],[0.1111111111111111,\"#46039f\"],[0.2222222222222222,\"#7201a8\"],[0.3333333333333333,\"#9c179e\"],[0.4444444444444444,\"#bd3786\"],[0.5555555555555556,\"#d8576b\"],[0.6666666666666666,\"#ed7953\"],[0.7777777777777778,\"#fb9f3a\"],[0.8888888888888888,\"#fdca26\"],[1.0,\"#f0f921\"]]}],\"heatmap\":[{\"type\":\"heatmap\",\"colorbar\":{\"outlinewidth\":0,\"ticks\":\"\"},\"colorscale\":[[0.0,\"#0d0887\"],[0.1111111111111111,\"#46039f\"],[0.2222222222222222,\"#7201a8\"],[0.3333333333333333,\"#9c179e\"],[0.4444444444444444,\"#bd3786\"],[0.5555555555555556,\"#d8576b\"],[0.6666666666666666,\"#ed7953\"],[0.7777777777777778,\"#fb9f3a\"],[0.8888888888888888,\"#fdca26\"],[1.0,\"#f0f921\"]]}],\"heatmapgl\":[{\"type\":\"heatmapgl\",\"colorbar\":{\"outlinewidth\":0,\"ticks\":\"\"},\"colorscale\":[[0.0,\"#0d0887\"],[0.1111111111111111,\"#46039f\"],[0.2222222222222222,\"#7201a8\"],[0.3333333333333333,\"#9c179e\"],[0.4444444444444444,\"#bd3786\"],[0.5555555555555556,\"#d8576b\"],[0.6666666666666666,\"#ed7953\"],[0.7777777777777778,\"#fb9f3a\"],[0.8888888888888888,\"#fdca26\"],[1.0,\"#f0f921\"]]}],\"contourcarpet\":[{\"type\":\"contourcarpet\",\"colorbar\":{\"outlinewidth\":0,\"ticks\":\"\"}}],\"contour\":[{\"type\":\"contour\",\"colorbar\":{\"outlinewidth\":0,\"ticks\":\"\"},\"colorscale\":[[0.0,\"#0d0887\"],[0.1111111111111111,\"#46039f\"],[0.2222222222222222,\"#7201a8\"],[0.3333333333333333,\"#9c179e\"],[0.4444444444444444,\"#bd3786\"],[0.5555555555555556,\"#d8576b\"],[0.6666666666666666,\"#ed7953\"],[0.7777777777777778,\"#fb9f3a\"],[0.8888888888888888,\"#fdca26\"],[1.0,\"#f0f921\"]]}],\"surface\":[{\"type\":\"surface\",\"colorbar\":{\"outlinewidth\":0,\"ticks\":\"\"},\"colorscale\":[[0.0,\"#0d0887\"],[0.1111111111111111,\"#46039f\"],[0.2222222222222222,\"#7201a8\"],[0.3333333333333333,\"#9c179e\"],[0.4444444444444444,\"#bd3786\"],[0.5555555555555556,\"#d8576b\"],[0.6666666666666666,\"#ed7953\"],[0.7777777777777778,\"#fb9f3a\"],[0.8888888888888888,\"#fdca26\"],[1.0,\"#f0f921\"]]}],\"mesh3d\":[{\"type\":\"mesh3d\",\"colorbar\":{\"outlinewidth\":0,\"ticks\":\"\"}}],\"scatter\":[{\"fillpattern\":{\"fillmode\":\"overlay\",\"size\":10,\"solidity\":0.2},\"type\":\"scatter\"}],\"parcoords\":[{\"type\":\"parcoords\",\"line\":{\"colorbar\":{\"outlinewidth\":0,\"ticks\":\"\"}}}],\"scatterpolargl\":[{\"type\":\"scatterpolargl\",\"marker\":{\"colorbar\":{\"outlinewidth\":0,\"ticks\":\"\"}}}],\"bar\":[{\"error_x\":{\"color\":\"#2a3f5f\"},\"error_y\":{\"color\":\"#2a3f5f\"},\"marker\":{\"line\":{\"color\":\"#E5ECF6\",\"width\":0.5},\"pattern\":{\"fillmode\":\"overlay\",\"size\":10,\"solidity\":0.2}},\"type\":\"bar\"}],\"scattergeo\":[{\"type\":\"scattergeo\",\"marker\":{\"colorbar\":{\"outlinewidth\":0,\"ticks\":\"\"}}}],\"scatterpolar\":[{\"type\":\"scatterpolar\",\"marker\":{\"colorbar\":{\"outlinewidth\":0,\"ticks\":\"\"}}}],\"histogram\":[{\"marker\":{\"pattern\":{\"fillmode\":\"overlay\",\"size\":10,\"solidity\":0.2}},\"type\":\"histogram\"}],\"scattergl\":[{\"type\":\"scattergl\",\"marker\":{\"colorbar\":{\"outlinewidth\":0,\"ticks\":\"\"}}}],\"scatter3d\":[{\"type\":\"scatter3d\",\"line\":{\"colorbar\":{\"outlinewidth\":0,\"ticks\":\"\"}},\"marker\":{\"colorbar\":{\"outlinewidth\":0,\"ticks\":\"\"}}}],\"scattermapbox\":[{\"type\":\"scattermapbox\",\"marker\":{\"colorbar\":{\"outlinewidth\":0,\"ticks\":\"\"}}}],\"scatterternary\":[{\"type\":\"scatterternary\",\"marker\":{\"colorbar\":{\"outlinewidth\":0,\"ticks\":\"\"}}}],\"scattercarpet\":[{\"type\":\"scattercarpet\",\"marker\":{\"colorbar\":{\"outlinewidth\":0,\"ticks\":\"\"}}}],\"carpet\":[{\"aaxis\":{\"endlinecolor\":\"#2a3f5f\",\"gridcolor\":\"white\",\"linecolor\":\"white\",\"minorgridcolor\":\"white\",\"startlinecolor\":\"#2a3f5f\"},\"baxis\":{\"endlinecolor\":\"#2a3f5f\",\"gridcolor\":\"white\",\"linecolor\":\"white\",\"minorgridcolor\":\"white\",\"startlinecolor\":\"#2a3f5f\"},\"type\":\"carpet\"}],\"table\":[{\"cells\":{\"fill\":{\"color\":\"#EBF0F8\"},\"line\":{\"color\":\"white\"}},\"header\":{\"fill\":{\"color\":\"#C8D4E3\"},\"line\":{\"color\":\"white\"}},\"type\":\"table\"}],\"barpolar\":[{\"marker\":{\"line\":{\"color\":\"#E5ECF6\",\"width\":0.5},\"pattern\":{\"fillmode\":\"overlay\",\"size\":10,\"solidity\":0.2}},\"type\":\"barpolar\"}],\"pie\":[{\"automargin\":true,\"type\":\"pie\"}]},\"layout\":{\"autotypenumbers\":\"strict\",\"colorway\":[\"#636efa\",\"#EF553B\",\"#00cc96\",\"#ab63fa\",\"#FFA15A\",\"#19d3f3\",\"#FF6692\",\"#B6E880\",\"#FF97FF\",\"#FECB52\"],\"font\":{\"color\":\"#2a3f5f\"},\"hovermode\":\"closest\",\"hoverlabel\":{\"align\":\"left\"},\"paper_bgcolor\":\"white\",\"plot_bgcolor\":\"#E5ECF6\",\"polar\":{\"bgcolor\":\"#E5ECF6\",\"angularaxis\":{\"gridcolor\":\"white\",\"linecolor\":\"white\",\"ticks\":\"\"},\"radialaxis\":{\"gridcolor\":\"white\",\"linecolor\":\"white\",\"ticks\":\"\"}},\"ternary\":{\"bgcolor\":\"#E5ECF6\",\"aaxis\":{\"gridcolor\":\"white\",\"linecolor\":\"white\",\"ticks\":\"\"},\"baxis\":{\"gridcolor\":\"white\",\"linecolor\":\"white\",\"ticks\":\"\"},\"caxis\":{\"gridcolor\":\"white\",\"linecolor\":\"white\",\"ticks\":\"\"}},\"coloraxis\":{\"colorbar\":{\"outlinewidth\":0,\"ticks\":\"\"}},\"colorscale\":{\"sequential\":[[0.0,\"#0d0887\"],[0.1111111111111111,\"#46039f\"],[0.2222222222222222,\"#7201a8\"],[0.3333333333333333,\"#9c179e\"],[0.4444444444444444,\"#bd3786\"],[0.5555555555555556,\"#d8576b\"],[0.6666666666666666,\"#ed7953\"],[0.7777777777777778,\"#fb9f3a\"],[0.8888888888888888,\"#fdca26\"],[1.0,\"#f0f921\"]],\"sequentialminus\":[[0.0,\"#0d0887\"],[0.1111111111111111,\"#46039f\"],[0.2222222222222222,\"#7201a8\"],[0.3333333333333333,\"#9c179e\"],[0.4444444444444444,\"#bd3786\"],[0.5555555555555556,\"#d8576b\"],[0.6666666666666666,\"#ed7953\"],[0.7777777777777778,\"#fb9f3a\"],[0.8888888888888888,\"#fdca26\"],[1.0,\"#f0f921\"]],\"diverging\":[[0,\"#8e0152\"],[0.1,\"#c51b7d\"],[0.2,\"#de77ae\"],[0.3,\"#f1b6da\"],[0.4,\"#fde0ef\"],[0.5,\"#f7f7f7\"],[0.6,\"#e6f5d0\"],[0.7,\"#b8e186\"],[0.8,\"#7fbc41\"],[0.9,\"#4d9221\"],[1,\"#276419\"]]},\"xaxis\":{\"gridcolor\":\"white\",\"linecolor\":\"white\",\"ticks\":\"\",\"title\":{\"standoff\":15},\"zerolinecolor\":\"white\",\"automargin\":true,\"zerolinewidth\":2},\"yaxis\":{\"gridcolor\":\"white\",\"linecolor\":\"white\",\"ticks\":\"\",\"title\":{\"standoff\":15},\"zerolinecolor\":\"white\",\"automargin\":true,\"zerolinewidth\":2},\"scene\":{\"xaxis\":{\"backgroundcolor\":\"#E5ECF6\",\"gridcolor\":\"white\",\"linecolor\":\"white\",\"showbackground\":true,\"ticks\":\"\",\"zerolinecolor\":\"white\",\"gridwidth\":2},\"yaxis\":{\"backgroundcolor\":\"#E5ECF6\",\"gridcolor\":\"white\",\"linecolor\":\"white\",\"showbackground\":true,\"ticks\":\"\",\"zerolinecolor\":\"white\",\"gridwidth\":2},\"zaxis\":{\"backgroundcolor\":\"#E5ECF6\",\"gridcolor\":\"white\",\"linecolor\":\"white\",\"showbackground\":true,\"ticks\":\"\",\"zerolinecolor\":\"white\",\"gridwidth\":2}},\"shapedefaults\":{\"line\":{\"color\":\"#2a3f5f\"}},\"annotationdefaults\":{\"arrowcolor\":\"#2a3f5f\",\"arrowhead\":0,\"arrowwidth\":1},\"geo\":{\"bgcolor\":\"white\",\"landcolor\":\"#E5ECF6\",\"subunitcolor\":\"white\",\"showland\":true,\"showlakes\":true,\"lakecolor\":\"white\"},\"title\":{\"x\":0.05},\"mapbox\":{\"style\":\"light\"}}},\"title\":{\"text\":\"Vicuna-13B Cross Eval Results\"},\"xaxis\":{\"title\":{\"text\":\"Train Dataset\"}},\"yaxis\":{\"title\":{\"text\":\"Test Dataset\"}},\"width\":1000,\"height\":1000,\"annotations\":[{\"font\":{\"color\":\"white\"},\"showarrow\":false,\"text\":\"0.00\",\"x\":0,\"y\":1},{\"font\":{\"color\":\"white\"},\"showarrow\":false,\"text\":\"0.00\",\"x\":0,\"y\":2},{\"font\":{\"color\":\"white\"},\"showarrow\":false,\"text\":\"0.00\",\"x\":0,\"y\":3},{\"font\":{\"color\":\"white\"},\"showarrow\":false,\"text\":\"0.00\",\"x\":0,\"y\":4},{\"font\":{\"color\":\"white\"},\"showarrow\":false,\"text\":\"0.00\",\"x\":0,\"y\":5},{\"font\":{\"color\":\"white\"},\"showarrow\":false,\"text\":\"0.00\",\"x\":0,\"y\":6},{\"font\":{\"color\":\"white\"},\"showarrow\":false,\"text\":\"0.00\",\"x\":0,\"y\":7},{\"font\":{\"color\":\"white\"},\"showarrow\":false,\"text\":\"0.00\",\"x\":0,\"y\":8},{\"font\":{\"color\":\"white\"},\"showarrow\":false,\"text\":\"0.00\",\"x\":0,\"y\":9},{\"font\":{\"color\":\"white\"},\"showarrow\":false,\"text\":\"0.00\",\"x\":1,\"y\":0},{\"font\":{\"color\":\"white\"},\"showarrow\":false,\"text\":\"0.00\",\"x\":1,\"y\":2},{\"font\":{\"color\":\"white\"},\"showarrow\":false,\"text\":\"0.00\",\"x\":1,\"y\":3},{\"font\":{\"color\":\"white\"},\"showarrow\":false,\"text\":\"0.00\",\"x\":1,\"y\":4},{\"font\":{\"color\":\"white\"},\"showarrow\":false,\"text\":\"0.00\",\"x\":1,\"y\":5},{\"font\":{\"color\":\"white\"},\"showarrow\":false,\"text\":\"0.00\",\"x\":1,\"y\":6},{\"font\":{\"color\":\"white\"},\"showarrow\":false,\"text\":\"0.00\",\"x\":1,\"y\":7},{\"font\":{\"color\":\"white\"},\"showarrow\":false,\"text\":\"0.00\",\"x\":1,\"y\":8},{\"font\":{\"color\":\"white\"},\"showarrow\":false,\"text\":\"0.00\",\"x\":1,\"y\":9},{\"font\":{\"color\":\"white\"},\"showarrow\":false,\"text\":\"0.00\",\"x\":2,\"y\":0},{\"font\":{\"color\":\"white\"},\"showarrow\":false,\"text\":\"0.00\",\"x\":2,\"y\":1},{\"font\":{\"color\":\"white\"},\"showarrow\":false,\"text\":\"0.00\",\"x\":2,\"y\":3},{\"font\":{\"color\":\"white\"},\"showarrow\":false,\"text\":\"0.00\",\"x\":2,\"y\":4},{\"font\":{\"color\":\"white\"},\"showarrow\":false,\"text\":\"0.00\",\"x\":2,\"y\":5},{\"font\":{\"color\":\"white\"},\"showarrow\":false,\"text\":\"0.00\",\"x\":2,\"y\":6},{\"font\":{\"color\":\"white\"},\"showarrow\":false,\"text\":\"0.00\",\"x\":2,\"y\":7},{\"font\":{\"color\":\"white\"},\"showarrow\":false,\"text\":\"0.00\",\"x\":2,\"y\":8},{\"font\":{\"color\":\"white\"},\"showarrow\":false,\"text\":\"0.00\",\"x\":2,\"y\":9},{\"font\":{\"color\":\"white\"},\"showarrow\":false,\"text\":\"0.00\",\"x\":3,\"y\":0},{\"font\":{\"color\":\"white\"},\"showarrow\":false,\"text\":\"0.00\",\"x\":3,\"y\":1},{\"font\":{\"color\":\"white\"},\"showarrow\":false,\"text\":\"0.00\",\"x\":3,\"y\":2},{\"font\":{\"color\":\"white\"},\"showarrow\":false,\"text\":\"0.00\",\"x\":3,\"y\":4},{\"font\":{\"color\":\"white\"},\"showarrow\":false,\"text\":\"0.00\",\"x\":3,\"y\":5},{\"font\":{\"color\":\"white\"},\"showarrow\":false,\"text\":\"0.00\",\"x\":3,\"y\":6},{\"font\":{\"color\":\"white\"},\"showarrow\":false,\"text\":\"0.00\",\"x\":3,\"y\":7},{\"font\":{\"color\":\"white\"},\"showarrow\":false,\"text\":\"0.00\",\"x\":3,\"y\":8},{\"font\":{\"color\":\"white\"},\"showarrow\":false,\"text\":\"0.00\",\"x\":3,\"y\":9},{\"font\":{\"color\":\"white\"},\"showarrow\":false,\"text\":\"0.00\",\"x\":4,\"y\":0},{\"font\":{\"color\":\"white\"},\"showarrow\":false,\"text\":\"0.00\",\"x\":4,\"y\":1},{\"font\":{\"color\":\"white\"},\"showarrow\":false,\"text\":\"0.00\",\"x\":4,\"y\":2},{\"font\":{\"color\":\"white\"},\"showarrow\":false,\"text\":\"0.00\",\"x\":4,\"y\":3},{\"font\":{\"color\":\"white\"},\"showarrow\":false,\"text\":\"0.00\",\"x\":4,\"y\":5},{\"font\":{\"color\":\"white\"},\"showarrow\":false,\"text\":\"0.00\",\"x\":4,\"y\":6},{\"font\":{\"color\":\"white\"},\"showarrow\":false,\"text\":\"0.00\",\"x\":4,\"y\":7},{\"font\":{\"color\":\"white\"},\"showarrow\":false,\"text\":\"0.00\",\"x\":4,\"y\":8},{\"font\":{\"color\":\"white\"},\"showarrow\":false,\"text\":\"0.00\",\"x\":4,\"y\":9},{\"font\":{\"color\":\"white\"},\"showarrow\":false,\"text\":\"0.00\",\"x\":5,\"y\":0},{\"font\":{\"color\":\"white\"},\"showarrow\":false,\"text\":\"0.00\",\"x\":5,\"y\":1},{\"font\":{\"color\":\"white\"},\"showarrow\":false,\"text\":\"0.00\",\"x\":5,\"y\":2},{\"font\":{\"color\":\"white\"},\"showarrow\":false,\"text\":\"0.00\",\"x\":5,\"y\":3},{\"font\":{\"color\":\"white\"},\"showarrow\":false,\"text\":\"0.00\",\"x\":5,\"y\":4},{\"font\":{\"color\":\"white\"},\"showarrow\":false,\"text\":\"0.00\",\"x\":5,\"y\":6},{\"font\":{\"color\":\"white\"},\"showarrow\":false,\"text\":\"0.00\",\"x\":5,\"y\":7},{\"font\":{\"color\":\"white\"},\"showarrow\":false,\"text\":\"0.00\",\"x\":5,\"y\":8},{\"font\":{\"color\":\"white\"},\"showarrow\":false,\"text\":\"0.00\",\"x\":5,\"y\":9},{\"font\":{\"color\":\"white\"},\"showarrow\":false,\"text\":\"0.00\",\"x\":6,\"y\":0},{\"font\":{\"color\":\"white\"},\"showarrow\":false,\"text\":\"0.00\",\"x\":6,\"y\":1},{\"font\":{\"color\":\"white\"},\"showarrow\":false,\"text\":\"0.00\",\"x\":6,\"y\":2},{\"font\":{\"color\":\"white\"},\"showarrow\":false,\"text\":\"0.00\",\"x\":6,\"y\":3},{\"font\":{\"color\":\"white\"},\"showarrow\":false,\"text\":\"0.00\",\"x\":6,\"y\":4},{\"font\":{\"color\":\"white\"},\"showarrow\":false,\"text\":\"0.00\",\"x\":6,\"y\":5},{\"font\":{\"color\":\"white\"},\"showarrow\":false,\"text\":\"0.00\",\"x\":6,\"y\":7},{\"font\":{\"color\":\"white\"},\"showarrow\":false,\"text\":\"0.00\",\"x\":6,\"y\":8},{\"font\":{\"color\":\"white\"},\"showarrow\":false,\"text\":\"0.00\",\"x\":6,\"y\":9},{\"font\":{\"color\":\"white\"},\"showarrow\":false,\"text\":\"0.00\",\"x\":7,\"y\":0},{\"font\":{\"color\":\"white\"},\"showarrow\":false,\"text\":\"0.00\",\"x\":7,\"y\":1},{\"font\":{\"color\":\"white\"},\"showarrow\":false,\"text\":\"0.00\",\"x\":7,\"y\":2},{\"font\":{\"color\":\"white\"},\"showarrow\":false,\"text\":\"0.00\",\"x\":7,\"y\":3},{\"font\":{\"color\":\"white\"},\"showarrow\":false,\"text\":\"0.00\",\"x\":7,\"y\":4},{\"font\":{\"color\":\"white\"},\"showarrow\":false,\"text\":\"0.00\",\"x\":7,\"y\":5},{\"font\":{\"color\":\"white\"},\"showarrow\":false,\"text\":\"0.00\",\"x\":7,\"y\":6},{\"font\":{\"color\":\"white\"},\"showarrow\":false,\"text\":\"0.00\",\"x\":7,\"y\":8},{\"font\":{\"color\":\"white\"},\"showarrow\":false,\"text\":\"0.00\",\"x\":7,\"y\":9},{\"font\":{\"color\":\"white\"},\"showarrow\":false,\"text\":\"0.00\",\"x\":8,\"y\":0},{\"font\":{\"color\":\"white\"},\"showarrow\":false,\"text\":\"0.00\",\"x\":8,\"y\":1},{\"font\":{\"color\":\"white\"},\"showarrow\":false,\"text\":\"0.00\",\"x\":8,\"y\":2},{\"font\":{\"color\":\"white\"},\"showarrow\":false,\"text\":\"0.00\",\"x\":8,\"y\":3},{\"font\":{\"color\":\"white\"},\"showarrow\":false,\"text\":\"0.00\",\"x\":8,\"y\":4},{\"font\":{\"color\":\"white\"},\"showarrow\":false,\"text\":\"0.00\",\"x\":8,\"y\":5},{\"font\":{\"color\":\"white\"},\"showarrow\":false,\"text\":\"0.00\",\"x\":8,\"y\":6},{\"font\":{\"color\":\"white\"},\"showarrow\":false,\"text\":\"0.00\",\"x\":8,\"y\":7},{\"font\":{\"color\":\"white\"},\"showarrow\":false,\"text\":\"0.00\",\"x\":8,\"y\":9},{\"font\":{\"color\":\"white\"},\"showarrow\":false,\"text\":\"0.00\",\"x\":9,\"y\":0},{\"font\":{\"color\":\"white\"},\"showarrow\":false,\"text\":\"0.00\",\"x\":9,\"y\":1},{\"font\":{\"color\":\"white\"},\"showarrow\":false,\"text\":\"0.00\",\"x\":9,\"y\":2},{\"font\":{\"color\":\"white\"},\"showarrow\":false,\"text\":\"0.00\",\"x\":9,\"y\":3},{\"font\":{\"color\":\"white\"},\"showarrow\":false,\"text\":\"0.00\",\"x\":9,\"y\":4},{\"font\":{\"color\":\"white\"},\"showarrow\":false,\"text\":\"0.00\",\"x\":9,\"y\":5},{\"font\":{\"color\":\"white\"},\"showarrow\":false,\"text\":\"0.00\",\"x\":9,\"y\":6},{\"font\":{\"color\":\"white\"},\"showarrow\":false,\"text\":\"0.00\",\"x\":9,\"y\":7},{\"font\":{\"color\":\"white\"},\"showarrow\":false,\"text\":\"0.00\",\"x\":9,\"y\":8}]},                        {\"responsive\": true}                    ).then(function(){\n",
       "                            \n",
       "var gd = document.getElementById('512c7d2e-be66-49ba-a299-9a99f8247672');\n",
       "var x = new MutationObserver(function (mutations, observer) {{\n",
       "        var display = window.getComputedStyle(gd).display;\n",
       "        if (!display || display === 'none') {{\n",
       "            console.log([gd, 'removed!']);\n",
       "            Plotly.purge(gd);\n",
       "            observer.disconnect();\n",
       "        }}\n",
       "}});\n",
       "\n",
       "// Listen for the removal of the full notebook cells\n",
       "var notebookContainer = gd.closest('#notebook-container');\n",
       "if (notebookContainer) {{\n",
       "    x.observe(notebookContainer, {childList: true});\n",
       "}}\n",
       "\n",
       "// Listen for the clearing of the current output cell\n",
       "var outputEl = gd.closest('.output');\n",
       "if (outputEl) {{\n",
       "    x.observe(outputEl, {childList: true});\n",
       "}}\n",
       "\n",
       "                        })                };                });            </script>        </div>"
      ]
     },
     "metadata": {},
     "output_type": "display_data"
    },
    {
     "data": {
      "application/vnd.plotly.v1+json": {
       "config": {
        "plotlyServerURL": "https://plot.ly"
       },
       "data": [
        {
         "colorscale": [
          [
           0.0,
           "#000004"
          ],
          [
           0.1111111111111111,
           "#1b0c41"
          ],
          [
           0.2222222222222222,
           "#4a0c6b"
          ],
          [
           0.3333333333333333,
           "#781c6d"
          ],
          [
           0.4444444444444444,
           "#a52c60"
          ],
          [
           0.5555555555555556,
           "#cf4446"
          ],
          [
           0.6666666666666666,
           "#ed6925"
          ],
          [
           0.7777777777777778,
           "#fb9b06"
          ],
          [
           0.8888888888888888,
           "#f7d13d"
          ],
          [
           1.0,
           "#fcffa4"
          ]
         ],
         "type": "heatmap",
         "x": [
          "SciQ-short",
          "CoQA-short",
          "TriviaQA-short",
          "MedMCQA-short",
          "MedQA-short",
          "SciQ-long",
          "CoQA-long",
          "TriviaQA-long",
          "MedMCQA-long",
          "MedQA-long"
         ],
         "y": [
          "SciQ-short",
          "CoQA-short",
          "TriviaQA-short",
          "MedMCQA-short",
          "MedQA-short",
          "SciQ-long",
          "CoQA-long",
          "TriviaQA-long",
          "MedMCQA-long",
          "MedQA-long"
         ],
         "z": [
          [
           0.0,
           0.0,
           0.0,
           0.0,
           0.0,
           0.0,
           0.0,
           0.0,
           0.0,
           0.0
          ],
          [
           0.0,
           0.0,
           0.0,
           0.0,
           0.0,
           0.0,
           0.0,
           0.0,
           0.0,
           0.0
          ],
          [
           0.0,
           0.0,
           0.0,
           0.0,
           0.0,
           0.0,
           0.0,
           0.0,
           0.0,
           0.0
          ],
          [
           0.0,
           0.0,
           0.0,
           0.0,
           0.0,
           0.0,
           0.0,
           0.0,
           0.0,
           0.0
          ],
          [
           0.0,
           0.0,
           0.0,
           0.0,
           0.0,
           0.0,
           0.0,
           0.0,
           0.0,
           0.0
          ],
          [
           0.0,
           0.0,
           0.0,
           0.0,
           0.0,
           0.0,
           0.0,
           0.0,
           0.0,
           0.0
          ],
          [
           0.0,
           0.0,
           0.0,
           0.0,
           0.0,
           0.0,
           0.0,
           0.0,
           0.0,
           0.0
          ],
          [
           0.0,
           0.0,
           0.0,
           0.0,
           0.0,
           0.0,
           0.0,
           0.0,
           0.0,
           0.0
          ],
          [
           0.0,
           0.0,
           0.0,
           0.0,
           0.0,
           0.0,
           0.0,
           0.0,
           0.0,
           0.0
          ],
          [
           0.0,
           0.0,
           0.0,
           0.0,
           0.0,
           0.0,
           0.0,
           0.0,
           0.0,
           0.0
          ]
         ]
        }
       ],
       "layout": {
        "annotations": [
         {
          "font": {
           "color": "white"
          },
          "showarrow": false,
          "text": "0.00",
          "x": 0,
          "y": 1
         },
         {
          "font": {
           "color": "white"
          },
          "showarrow": false,
          "text": "0.00",
          "x": 0,
          "y": 2
         },
         {
          "font": {
           "color": "white"
          },
          "showarrow": false,
          "text": "0.00",
          "x": 0,
          "y": 3
         },
         {
          "font": {
           "color": "white"
          },
          "showarrow": false,
          "text": "0.00",
          "x": 0,
          "y": 4
         },
         {
          "font": {
           "color": "white"
          },
          "showarrow": false,
          "text": "0.00",
          "x": 0,
          "y": 5
         },
         {
          "font": {
           "color": "white"
          },
          "showarrow": false,
          "text": "0.00",
          "x": 0,
          "y": 6
         },
         {
          "font": {
           "color": "white"
          },
          "showarrow": false,
          "text": "0.00",
          "x": 0,
          "y": 7
         },
         {
          "font": {
           "color": "white"
          },
          "showarrow": false,
          "text": "0.00",
          "x": 0,
          "y": 8
         },
         {
          "font": {
           "color": "white"
          },
          "showarrow": false,
          "text": "0.00",
          "x": 0,
          "y": 9
         },
         {
          "font": {
           "color": "white"
          },
          "showarrow": false,
          "text": "0.00",
          "x": 1,
          "y": 0
         },
         {
          "font": {
           "color": "white"
          },
          "showarrow": false,
          "text": "0.00",
          "x": 1,
          "y": 2
         },
         {
          "font": {
           "color": "white"
          },
          "showarrow": false,
          "text": "0.00",
          "x": 1,
          "y": 3
         },
         {
          "font": {
           "color": "white"
          },
          "showarrow": false,
          "text": "0.00",
          "x": 1,
          "y": 4
         },
         {
          "font": {
           "color": "white"
          },
          "showarrow": false,
          "text": "0.00",
          "x": 1,
          "y": 5
         },
         {
          "font": {
           "color": "white"
          },
          "showarrow": false,
          "text": "0.00",
          "x": 1,
          "y": 6
         },
         {
          "font": {
           "color": "white"
          },
          "showarrow": false,
          "text": "0.00",
          "x": 1,
          "y": 7
         },
         {
          "font": {
           "color": "white"
          },
          "showarrow": false,
          "text": "0.00",
          "x": 1,
          "y": 8
         },
         {
          "font": {
           "color": "white"
          },
          "showarrow": false,
          "text": "0.00",
          "x": 1,
          "y": 9
         },
         {
          "font": {
           "color": "white"
          },
          "showarrow": false,
          "text": "0.00",
          "x": 2,
          "y": 0
         },
         {
          "font": {
           "color": "white"
          },
          "showarrow": false,
          "text": "0.00",
          "x": 2,
          "y": 1
         },
         {
          "font": {
           "color": "white"
          },
          "showarrow": false,
          "text": "0.00",
          "x": 2,
          "y": 3
         },
         {
          "font": {
           "color": "white"
          },
          "showarrow": false,
          "text": "0.00",
          "x": 2,
          "y": 4
         },
         {
          "font": {
           "color": "white"
          },
          "showarrow": false,
          "text": "0.00",
          "x": 2,
          "y": 5
         },
         {
          "font": {
           "color": "white"
          },
          "showarrow": false,
          "text": "0.00",
          "x": 2,
          "y": 6
         },
         {
          "font": {
           "color": "white"
          },
          "showarrow": false,
          "text": "0.00",
          "x": 2,
          "y": 7
         },
         {
          "font": {
           "color": "white"
          },
          "showarrow": false,
          "text": "0.00",
          "x": 2,
          "y": 8
         },
         {
          "font": {
           "color": "white"
          },
          "showarrow": false,
          "text": "0.00",
          "x": 2,
          "y": 9
         },
         {
          "font": {
           "color": "white"
          },
          "showarrow": false,
          "text": "0.00",
          "x": 3,
          "y": 0
         },
         {
          "font": {
           "color": "white"
          },
          "showarrow": false,
          "text": "0.00",
          "x": 3,
          "y": 1
         },
         {
          "font": {
           "color": "white"
          },
          "showarrow": false,
          "text": "0.00",
          "x": 3,
          "y": 2
         },
         {
          "font": {
           "color": "white"
          },
          "showarrow": false,
          "text": "0.00",
          "x": 3,
          "y": 4
         },
         {
          "font": {
           "color": "white"
          },
          "showarrow": false,
          "text": "0.00",
          "x": 3,
          "y": 5
         },
         {
          "font": {
           "color": "white"
          },
          "showarrow": false,
          "text": "0.00",
          "x": 3,
          "y": 6
         },
         {
          "font": {
           "color": "white"
          },
          "showarrow": false,
          "text": "0.00",
          "x": 3,
          "y": 7
         },
         {
          "font": {
           "color": "white"
          },
          "showarrow": false,
          "text": "0.00",
          "x": 3,
          "y": 8
         },
         {
          "font": {
           "color": "white"
          },
          "showarrow": false,
          "text": "0.00",
          "x": 3,
          "y": 9
         },
         {
          "font": {
           "color": "white"
          },
          "showarrow": false,
          "text": "0.00",
          "x": 4,
          "y": 0
         },
         {
          "font": {
           "color": "white"
          },
          "showarrow": false,
          "text": "0.00",
          "x": 4,
          "y": 1
         },
         {
          "font": {
           "color": "white"
          },
          "showarrow": false,
          "text": "0.00",
          "x": 4,
          "y": 2
         },
         {
          "font": {
           "color": "white"
          },
          "showarrow": false,
          "text": "0.00",
          "x": 4,
          "y": 3
         },
         {
          "font": {
           "color": "white"
          },
          "showarrow": false,
          "text": "0.00",
          "x": 4,
          "y": 5
         },
         {
          "font": {
           "color": "white"
          },
          "showarrow": false,
          "text": "0.00",
          "x": 4,
          "y": 6
         },
         {
          "font": {
           "color": "white"
          },
          "showarrow": false,
          "text": "0.00",
          "x": 4,
          "y": 7
         },
         {
          "font": {
           "color": "white"
          },
          "showarrow": false,
          "text": "0.00",
          "x": 4,
          "y": 8
         },
         {
          "font": {
           "color": "white"
          },
          "showarrow": false,
          "text": "0.00",
          "x": 4,
          "y": 9
         },
         {
          "font": {
           "color": "white"
          },
          "showarrow": false,
          "text": "0.00",
          "x": 5,
          "y": 0
         },
         {
          "font": {
           "color": "white"
          },
          "showarrow": false,
          "text": "0.00",
          "x": 5,
          "y": 1
         },
         {
          "font": {
           "color": "white"
          },
          "showarrow": false,
          "text": "0.00",
          "x": 5,
          "y": 2
         },
         {
          "font": {
           "color": "white"
          },
          "showarrow": false,
          "text": "0.00",
          "x": 5,
          "y": 3
         },
         {
          "font": {
           "color": "white"
          },
          "showarrow": false,
          "text": "0.00",
          "x": 5,
          "y": 4
         },
         {
          "font": {
           "color": "white"
          },
          "showarrow": false,
          "text": "0.00",
          "x": 5,
          "y": 6
         },
         {
          "font": {
           "color": "white"
          },
          "showarrow": false,
          "text": "0.00",
          "x": 5,
          "y": 7
         },
         {
          "font": {
           "color": "white"
          },
          "showarrow": false,
          "text": "0.00",
          "x": 5,
          "y": 8
         },
         {
          "font": {
           "color": "white"
          },
          "showarrow": false,
          "text": "0.00",
          "x": 5,
          "y": 9
         },
         {
          "font": {
           "color": "white"
          },
          "showarrow": false,
          "text": "0.00",
          "x": 6,
          "y": 0
         },
         {
          "font": {
           "color": "white"
          },
          "showarrow": false,
          "text": "0.00",
          "x": 6,
          "y": 1
         },
         {
          "font": {
           "color": "white"
          },
          "showarrow": false,
          "text": "0.00",
          "x": 6,
          "y": 2
         },
         {
          "font": {
           "color": "white"
          },
          "showarrow": false,
          "text": "0.00",
          "x": 6,
          "y": 3
         },
         {
          "font": {
           "color": "white"
          },
          "showarrow": false,
          "text": "0.00",
          "x": 6,
          "y": 4
         },
         {
          "font": {
           "color": "white"
          },
          "showarrow": false,
          "text": "0.00",
          "x": 6,
          "y": 5
         },
         {
          "font": {
           "color": "white"
          },
          "showarrow": false,
          "text": "0.00",
          "x": 6,
          "y": 7
         },
         {
          "font": {
           "color": "white"
          },
          "showarrow": false,
          "text": "0.00",
          "x": 6,
          "y": 8
         },
         {
          "font": {
           "color": "white"
          },
          "showarrow": false,
          "text": "0.00",
          "x": 6,
          "y": 9
         },
         {
          "font": {
           "color": "white"
          },
          "showarrow": false,
          "text": "0.00",
          "x": 7,
          "y": 0
         },
         {
          "font": {
           "color": "white"
          },
          "showarrow": false,
          "text": "0.00",
          "x": 7,
          "y": 1
         },
         {
          "font": {
           "color": "white"
          },
          "showarrow": false,
          "text": "0.00",
          "x": 7,
          "y": 2
         },
         {
          "font": {
           "color": "white"
          },
          "showarrow": false,
          "text": "0.00",
          "x": 7,
          "y": 3
         },
         {
          "font": {
           "color": "white"
          },
          "showarrow": false,
          "text": "0.00",
          "x": 7,
          "y": 4
         },
         {
          "font": {
           "color": "white"
          },
          "showarrow": false,
          "text": "0.00",
          "x": 7,
          "y": 5
         },
         {
          "font": {
           "color": "white"
          },
          "showarrow": false,
          "text": "0.00",
          "x": 7,
          "y": 6
         },
         {
          "font": {
           "color": "white"
          },
          "showarrow": false,
          "text": "0.00",
          "x": 7,
          "y": 8
         },
         {
          "font": {
           "color": "white"
          },
          "showarrow": false,
          "text": "0.00",
          "x": 7,
          "y": 9
         },
         {
          "font": {
           "color": "white"
          },
          "showarrow": false,
          "text": "0.00",
          "x": 8,
          "y": 0
         },
         {
          "font": {
           "color": "white"
          },
          "showarrow": false,
          "text": "0.00",
          "x": 8,
          "y": 1
         },
         {
          "font": {
           "color": "white"
          },
          "showarrow": false,
          "text": "0.00",
          "x": 8,
          "y": 2
         },
         {
          "font": {
           "color": "white"
          },
          "showarrow": false,
          "text": "0.00",
          "x": 8,
          "y": 3
         },
         {
          "font": {
           "color": "white"
          },
          "showarrow": false,
          "text": "0.00",
          "x": 8,
          "y": 4
         },
         {
          "font": {
           "color": "white"
          },
          "showarrow": false,
          "text": "0.00",
          "x": 8,
          "y": 5
         },
         {
          "font": {
           "color": "white"
          },
          "showarrow": false,
          "text": "0.00",
          "x": 8,
          "y": 6
         },
         {
          "font": {
           "color": "white"
          },
          "showarrow": false,
          "text": "0.00",
          "x": 8,
          "y": 7
         },
         {
          "font": {
           "color": "white"
          },
          "showarrow": false,
          "text": "0.00",
          "x": 8,
          "y": 9
         },
         {
          "font": {
           "color": "white"
          },
          "showarrow": false,
          "text": "0.00",
          "x": 9,
          "y": 0
         },
         {
          "font": {
           "color": "white"
          },
          "showarrow": false,
          "text": "0.00",
          "x": 9,
          "y": 1
         },
         {
          "font": {
           "color": "white"
          },
          "showarrow": false,
          "text": "0.00",
          "x": 9,
          "y": 2
         },
         {
          "font": {
           "color": "white"
          },
          "showarrow": false,
          "text": "0.00",
          "x": 9,
          "y": 3
         },
         {
          "font": {
           "color": "white"
          },
          "showarrow": false,
          "text": "0.00",
          "x": 9,
          "y": 4
         },
         {
          "font": {
           "color": "white"
          },
          "showarrow": false,
          "text": "0.00",
          "x": 9,
          "y": 5
         },
         {
          "font": {
           "color": "white"
          },
          "showarrow": false,
          "text": "0.00",
          "x": 9,
          "y": 6
         },
         {
          "font": {
           "color": "white"
          },
          "showarrow": false,
          "text": "0.00",
          "x": 9,
          "y": 7
         },
         {
          "font": {
           "color": "white"
          },
          "showarrow": false,
          "text": "0.00",
          "x": 9,
          "y": 8
         }
        ],
        "height": 1000,
        "template": {
         "data": {
          "bar": [
           {
            "error_x": {
             "color": "#2a3f5f"
            },
            "error_y": {
             "color": "#2a3f5f"
            },
            "marker": {
             "line": {
              "color": "#E5ECF6",
              "width": 0.5
             },
             "pattern": {
              "fillmode": "overlay",
              "size": 10,
              "solidity": 0.2
             }
            },
            "type": "bar"
           }
          ],
          "barpolar": [
           {
            "marker": {
             "line": {
              "color": "#E5ECF6",
              "width": 0.5
             },
             "pattern": {
              "fillmode": "overlay",
              "size": 10,
              "solidity": 0.2
             }
            },
            "type": "barpolar"
           }
          ],
          "carpet": [
           {
            "aaxis": {
             "endlinecolor": "#2a3f5f",
             "gridcolor": "white",
             "linecolor": "white",
             "minorgridcolor": "white",
             "startlinecolor": "#2a3f5f"
            },
            "baxis": {
             "endlinecolor": "#2a3f5f",
             "gridcolor": "white",
             "linecolor": "white",
             "minorgridcolor": "white",
             "startlinecolor": "#2a3f5f"
            },
            "type": "carpet"
           }
          ],
          "choropleth": [
           {
            "colorbar": {
             "outlinewidth": 0,
             "ticks": ""
            },
            "type": "choropleth"
           }
          ],
          "contour": [
           {
            "colorbar": {
             "outlinewidth": 0,
             "ticks": ""
            },
            "colorscale": [
             [
              0.0,
              "#0d0887"
             ],
             [
              0.1111111111111111,
              "#46039f"
             ],
             [
              0.2222222222222222,
              "#7201a8"
             ],
             [
              0.3333333333333333,
              "#9c179e"
             ],
             [
              0.4444444444444444,
              "#bd3786"
             ],
             [
              0.5555555555555556,
              "#d8576b"
             ],
             [
              0.6666666666666666,
              "#ed7953"
             ],
             [
              0.7777777777777778,
              "#fb9f3a"
             ],
             [
              0.8888888888888888,
              "#fdca26"
             ],
             [
              1.0,
              "#f0f921"
             ]
            ],
            "type": "contour"
           }
          ],
          "contourcarpet": [
           {
            "colorbar": {
             "outlinewidth": 0,
             "ticks": ""
            },
            "type": "contourcarpet"
           }
          ],
          "heatmap": [
           {
            "colorbar": {
             "outlinewidth": 0,
             "ticks": ""
            },
            "colorscale": [
             [
              0.0,
              "#0d0887"
             ],
             [
              0.1111111111111111,
              "#46039f"
             ],
             [
              0.2222222222222222,
              "#7201a8"
             ],
             [
              0.3333333333333333,
              "#9c179e"
             ],
             [
              0.4444444444444444,
              "#bd3786"
             ],
             [
              0.5555555555555556,
              "#d8576b"
             ],
             [
              0.6666666666666666,
              "#ed7953"
             ],
             [
              0.7777777777777778,
              "#fb9f3a"
             ],
             [
              0.8888888888888888,
              "#fdca26"
             ],
             [
              1.0,
              "#f0f921"
             ]
            ],
            "type": "heatmap"
           }
          ],
          "heatmapgl": [
           {
            "colorbar": {
             "outlinewidth": 0,
             "ticks": ""
            },
            "colorscale": [
             [
              0.0,
              "#0d0887"
             ],
             [
              0.1111111111111111,
              "#46039f"
             ],
             [
              0.2222222222222222,
              "#7201a8"
             ],
             [
              0.3333333333333333,
              "#9c179e"
             ],
             [
              0.4444444444444444,
              "#bd3786"
             ],
             [
              0.5555555555555556,
              "#d8576b"
             ],
             [
              0.6666666666666666,
              "#ed7953"
             ],
             [
              0.7777777777777778,
              "#fb9f3a"
             ],
             [
              0.8888888888888888,
              "#fdca26"
             ],
             [
              1.0,
              "#f0f921"
             ]
            ],
            "type": "heatmapgl"
           }
          ],
          "histogram": [
           {
            "marker": {
             "pattern": {
              "fillmode": "overlay",
              "size": 10,
              "solidity": 0.2
             }
            },
            "type": "histogram"
           }
          ],
          "histogram2d": [
           {
            "colorbar": {
             "outlinewidth": 0,
             "ticks": ""
            },
            "colorscale": [
             [
              0.0,
              "#0d0887"
             ],
             [
              0.1111111111111111,
              "#46039f"
             ],
             [
              0.2222222222222222,
              "#7201a8"
             ],
             [
              0.3333333333333333,
              "#9c179e"
             ],
             [
              0.4444444444444444,
              "#bd3786"
             ],
             [
              0.5555555555555556,
              "#d8576b"
             ],
             [
              0.6666666666666666,
              "#ed7953"
             ],
             [
              0.7777777777777778,
              "#fb9f3a"
             ],
             [
              0.8888888888888888,
              "#fdca26"
             ],
             [
              1.0,
              "#f0f921"
             ]
            ],
            "type": "histogram2d"
           }
          ],
          "histogram2dcontour": [
           {
            "colorbar": {
             "outlinewidth": 0,
             "ticks": ""
            },
            "colorscale": [
             [
              0.0,
              "#0d0887"
             ],
             [
              0.1111111111111111,
              "#46039f"
             ],
             [
              0.2222222222222222,
              "#7201a8"
             ],
             [
              0.3333333333333333,
              "#9c179e"
             ],
             [
              0.4444444444444444,
              "#bd3786"
             ],
             [
              0.5555555555555556,
              "#d8576b"
             ],
             [
              0.6666666666666666,
              "#ed7953"
             ],
             [
              0.7777777777777778,
              "#fb9f3a"
             ],
             [
              0.8888888888888888,
              "#fdca26"
             ],
             [
              1.0,
              "#f0f921"
             ]
            ],
            "type": "histogram2dcontour"
           }
          ],
          "mesh3d": [
           {
            "colorbar": {
             "outlinewidth": 0,
             "ticks": ""
            },
            "type": "mesh3d"
           }
          ],
          "parcoords": [
           {
            "line": {
             "colorbar": {
              "outlinewidth": 0,
              "ticks": ""
             }
            },
            "type": "parcoords"
           }
          ],
          "pie": [
           {
            "automargin": true,
            "type": "pie"
           }
          ],
          "scatter": [
           {
            "fillpattern": {
             "fillmode": "overlay",
             "size": 10,
             "solidity": 0.2
            },
            "type": "scatter"
           }
          ],
          "scatter3d": [
           {
            "line": {
             "colorbar": {
              "outlinewidth": 0,
              "ticks": ""
             }
            },
            "marker": {
             "colorbar": {
              "outlinewidth": 0,
              "ticks": ""
             }
            },
            "type": "scatter3d"
           }
          ],
          "scattercarpet": [
           {
            "marker": {
             "colorbar": {
              "outlinewidth": 0,
              "ticks": ""
             }
            },
            "type": "scattercarpet"
           }
          ],
          "scattergeo": [
           {
            "marker": {
             "colorbar": {
              "outlinewidth": 0,
              "ticks": ""
             }
            },
            "type": "scattergeo"
           }
          ],
          "scattergl": [
           {
            "marker": {
             "colorbar": {
              "outlinewidth": 0,
              "ticks": ""
             }
            },
            "type": "scattergl"
           }
          ],
          "scattermapbox": [
           {
            "marker": {
             "colorbar": {
              "outlinewidth": 0,
              "ticks": ""
             }
            },
            "type": "scattermapbox"
           }
          ],
          "scatterpolar": [
           {
            "marker": {
             "colorbar": {
              "outlinewidth": 0,
              "ticks": ""
             }
            },
            "type": "scatterpolar"
           }
          ],
          "scatterpolargl": [
           {
            "marker": {
             "colorbar": {
              "outlinewidth": 0,
              "ticks": ""
             }
            },
            "type": "scatterpolargl"
           }
          ],
          "scatterternary": [
           {
            "marker": {
             "colorbar": {
              "outlinewidth": 0,
              "ticks": ""
             }
            },
            "type": "scatterternary"
           }
          ],
          "surface": [
           {
            "colorbar": {
             "outlinewidth": 0,
             "ticks": ""
            },
            "colorscale": [
             [
              0.0,
              "#0d0887"
             ],
             [
              0.1111111111111111,
              "#46039f"
             ],
             [
              0.2222222222222222,
              "#7201a8"
             ],
             [
              0.3333333333333333,
              "#9c179e"
             ],
             [
              0.4444444444444444,
              "#bd3786"
             ],
             [
              0.5555555555555556,
              "#d8576b"
             ],
             [
              0.6666666666666666,
              "#ed7953"
             ],
             [
              0.7777777777777778,
              "#fb9f3a"
             ],
             [
              0.8888888888888888,
              "#fdca26"
             ],
             [
              1.0,
              "#f0f921"
             ]
            ],
            "type": "surface"
           }
          ],
          "table": [
           {
            "cells": {
             "fill": {
              "color": "#EBF0F8"
             },
             "line": {
              "color": "white"
             }
            },
            "header": {
             "fill": {
              "color": "#C8D4E3"
             },
             "line": {
              "color": "white"
             }
            },
            "type": "table"
           }
          ]
         },
         "layout": {
          "annotationdefaults": {
           "arrowcolor": "#2a3f5f",
           "arrowhead": 0,
           "arrowwidth": 1
          },
          "autotypenumbers": "strict",
          "coloraxis": {
           "colorbar": {
            "outlinewidth": 0,
            "ticks": ""
           }
          },
          "colorscale": {
           "diverging": [
            [
             0,
             "#8e0152"
            ],
            [
             0.1,
             "#c51b7d"
            ],
            [
             0.2,
             "#de77ae"
            ],
            [
             0.3,
             "#f1b6da"
            ],
            [
             0.4,
             "#fde0ef"
            ],
            [
             0.5,
             "#f7f7f7"
            ],
            [
             0.6,
             "#e6f5d0"
            ],
            [
             0.7,
             "#b8e186"
            ],
            [
             0.8,
             "#7fbc41"
            ],
            [
             0.9,
             "#4d9221"
            ],
            [
             1,
             "#276419"
            ]
           ],
           "sequential": [
            [
             0.0,
             "#0d0887"
            ],
            [
             0.1111111111111111,
             "#46039f"
            ],
            [
             0.2222222222222222,
             "#7201a8"
            ],
            [
             0.3333333333333333,
             "#9c179e"
            ],
            [
             0.4444444444444444,
             "#bd3786"
            ],
            [
             0.5555555555555556,
             "#d8576b"
            ],
            [
             0.6666666666666666,
             "#ed7953"
            ],
            [
             0.7777777777777778,
             "#fb9f3a"
            ],
            [
             0.8888888888888888,
             "#fdca26"
            ],
            [
             1.0,
             "#f0f921"
            ]
           ],
           "sequentialminus": [
            [
             0.0,
             "#0d0887"
            ],
            [
             0.1111111111111111,
             "#46039f"
            ],
            [
             0.2222222222222222,
             "#7201a8"
            ],
            [
             0.3333333333333333,
             "#9c179e"
            ],
            [
             0.4444444444444444,
             "#bd3786"
            ],
            [
             0.5555555555555556,
             "#d8576b"
            ],
            [
             0.6666666666666666,
             "#ed7953"
            ],
            [
             0.7777777777777778,
             "#fb9f3a"
            ],
            [
             0.8888888888888888,
             "#fdca26"
            ],
            [
             1.0,
             "#f0f921"
            ]
           ]
          },
          "colorway": [
           "#636efa",
           "#EF553B",
           "#00cc96",
           "#ab63fa",
           "#FFA15A",
           "#19d3f3",
           "#FF6692",
           "#B6E880",
           "#FF97FF",
           "#FECB52"
          ],
          "font": {
           "color": "#2a3f5f"
          },
          "geo": {
           "bgcolor": "white",
           "lakecolor": "white",
           "landcolor": "#E5ECF6",
           "showlakes": true,
           "showland": true,
           "subunitcolor": "white"
          },
          "hoverlabel": {
           "align": "left"
          },
          "hovermode": "closest",
          "mapbox": {
           "style": "light"
          },
          "paper_bgcolor": "white",
          "plot_bgcolor": "#E5ECF6",
          "polar": {
           "angularaxis": {
            "gridcolor": "white",
            "linecolor": "white",
            "ticks": ""
           },
           "bgcolor": "#E5ECF6",
           "radialaxis": {
            "gridcolor": "white",
            "linecolor": "white",
            "ticks": ""
           }
          },
          "scene": {
           "xaxis": {
            "backgroundcolor": "#E5ECF6",
            "gridcolor": "white",
            "gridwidth": 2,
            "linecolor": "white",
            "showbackground": true,
            "ticks": "",
            "zerolinecolor": "white"
           },
           "yaxis": {
            "backgroundcolor": "#E5ECF6",
            "gridcolor": "white",
            "gridwidth": 2,
            "linecolor": "white",
            "showbackground": true,
            "ticks": "",
            "zerolinecolor": "white"
           },
           "zaxis": {
            "backgroundcolor": "#E5ECF6",
            "gridcolor": "white",
            "gridwidth": 2,
            "linecolor": "white",
            "showbackground": true,
            "ticks": "",
            "zerolinecolor": "white"
           }
          },
          "shapedefaults": {
           "line": {
            "color": "#2a3f5f"
           }
          },
          "ternary": {
           "aaxis": {
            "gridcolor": "white",
            "linecolor": "white",
            "ticks": ""
           },
           "baxis": {
            "gridcolor": "white",
            "linecolor": "white",
            "ticks": ""
           },
           "bgcolor": "#E5ECF6",
           "caxis": {
            "gridcolor": "white",
            "linecolor": "white",
            "ticks": ""
           }
          },
          "title": {
           "x": 0.05
          },
          "xaxis": {
           "automargin": true,
           "gridcolor": "white",
           "linecolor": "white",
           "ticks": "",
           "title": {
            "standoff": 15
           },
           "zerolinecolor": "white",
           "zerolinewidth": 2
          },
          "yaxis": {
           "automargin": true,
           "gridcolor": "white",
           "linecolor": "white",
           "ticks": "",
           "title": {
            "standoff": 15
           },
           "zerolinecolor": "white",
           "zerolinewidth": 2
          }
         }
        },
        "title": {
         "text": "Vicuna-33B Cross Eval Results"
        },
        "width": 1000,
        "xaxis": {
         "title": {
          "text": "Train Dataset"
         }
        },
        "yaxis": {
         "title": {
          "text": "Test Dataset"
         }
        }
       }
      },
      "text/html": [
       "<div>                            <div id=\"7dff924a-d7e4-4ec9-a4d8-377a1e16d95d\" class=\"plotly-graph-div\" style=\"height:1000px; width:1000px;\"></div>            <script type=\"text/javascript\">                require([\"plotly\"], function(Plotly) {                    window.PLOTLYENV=window.PLOTLYENV || {};                                    if (document.getElementById(\"7dff924a-d7e4-4ec9-a4d8-377a1e16d95d\")) {                    Plotly.newPlot(                        \"7dff924a-d7e4-4ec9-a4d8-377a1e16d95d\",                        [{\"colorscale\":[[0.0,\"#000004\"],[0.1111111111111111,\"#1b0c41\"],[0.2222222222222222,\"#4a0c6b\"],[0.3333333333333333,\"#781c6d\"],[0.4444444444444444,\"#a52c60\"],[0.5555555555555556,\"#cf4446\"],[0.6666666666666666,\"#ed6925\"],[0.7777777777777778,\"#fb9b06\"],[0.8888888888888888,\"#f7d13d\"],[1.0,\"#fcffa4\"]],\"x\":[\"SciQ-short\",\"CoQA-short\",\"TriviaQA-short\",\"MedMCQA-short\",\"MedQA-short\",\"SciQ-long\",\"CoQA-long\",\"TriviaQA-long\",\"MedMCQA-long\",\"MedQA-long\"],\"y\":[\"SciQ-short\",\"CoQA-short\",\"TriviaQA-short\",\"MedMCQA-short\",\"MedQA-short\",\"SciQ-long\",\"CoQA-long\",\"TriviaQA-long\",\"MedMCQA-long\",\"MedQA-long\"],\"z\":[[0.0,0.0,0.0,0.0,0.0,0.0,0.0,0.0,0.0,0.0],[0.0,0.0,0.0,0.0,0.0,0.0,0.0,0.0,0.0,0.0],[0.0,0.0,0.0,0.0,0.0,0.0,0.0,0.0,0.0,0.0],[0.0,0.0,0.0,0.0,0.0,0.0,0.0,0.0,0.0,0.0],[0.0,0.0,0.0,0.0,0.0,0.0,0.0,0.0,0.0,0.0],[0.0,0.0,0.0,0.0,0.0,0.0,0.0,0.0,0.0,0.0],[0.0,0.0,0.0,0.0,0.0,0.0,0.0,0.0,0.0,0.0],[0.0,0.0,0.0,0.0,0.0,0.0,0.0,0.0,0.0,0.0],[0.0,0.0,0.0,0.0,0.0,0.0,0.0,0.0,0.0,0.0],[0.0,0.0,0.0,0.0,0.0,0.0,0.0,0.0,0.0,0.0]],\"type\":\"heatmap\"}],                        {\"template\":{\"data\":{\"histogram2dcontour\":[{\"type\":\"histogram2dcontour\",\"colorbar\":{\"outlinewidth\":0,\"ticks\":\"\"},\"colorscale\":[[0.0,\"#0d0887\"],[0.1111111111111111,\"#46039f\"],[0.2222222222222222,\"#7201a8\"],[0.3333333333333333,\"#9c179e\"],[0.4444444444444444,\"#bd3786\"],[0.5555555555555556,\"#d8576b\"],[0.6666666666666666,\"#ed7953\"],[0.7777777777777778,\"#fb9f3a\"],[0.8888888888888888,\"#fdca26\"],[1.0,\"#f0f921\"]]}],\"choropleth\":[{\"type\":\"choropleth\",\"colorbar\":{\"outlinewidth\":0,\"ticks\":\"\"}}],\"histogram2d\":[{\"type\":\"histogram2d\",\"colorbar\":{\"outlinewidth\":0,\"ticks\":\"\"},\"colorscale\":[[0.0,\"#0d0887\"],[0.1111111111111111,\"#46039f\"],[0.2222222222222222,\"#7201a8\"],[0.3333333333333333,\"#9c179e\"],[0.4444444444444444,\"#bd3786\"],[0.5555555555555556,\"#d8576b\"],[0.6666666666666666,\"#ed7953\"],[0.7777777777777778,\"#fb9f3a\"],[0.8888888888888888,\"#fdca26\"],[1.0,\"#f0f921\"]]}],\"heatmap\":[{\"type\":\"heatmap\",\"colorbar\":{\"outlinewidth\":0,\"ticks\":\"\"},\"colorscale\":[[0.0,\"#0d0887\"],[0.1111111111111111,\"#46039f\"],[0.2222222222222222,\"#7201a8\"],[0.3333333333333333,\"#9c179e\"],[0.4444444444444444,\"#bd3786\"],[0.5555555555555556,\"#d8576b\"],[0.6666666666666666,\"#ed7953\"],[0.7777777777777778,\"#fb9f3a\"],[0.8888888888888888,\"#fdca26\"],[1.0,\"#f0f921\"]]}],\"heatmapgl\":[{\"type\":\"heatmapgl\",\"colorbar\":{\"outlinewidth\":0,\"ticks\":\"\"},\"colorscale\":[[0.0,\"#0d0887\"],[0.1111111111111111,\"#46039f\"],[0.2222222222222222,\"#7201a8\"],[0.3333333333333333,\"#9c179e\"],[0.4444444444444444,\"#bd3786\"],[0.5555555555555556,\"#d8576b\"],[0.6666666666666666,\"#ed7953\"],[0.7777777777777778,\"#fb9f3a\"],[0.8888888888888888,\"#fdca26\"],[1.0,\"#f0f921\"]]}],\"contourcarpet\":[{\"type\":\"contourcarpet\",\"colorbar\":{\"outlinewidth\":0,\"ticks\":\"\"}}],\"contour\":[{\"type\":\"contour\",\"colorbar\":{\"outlinewidth\":0,\"ticks\":\"\"},\"colorscale\":[[0.0,\"#0d0887\"],[0.1111111111111111,\"#46039f\"],[0.2222222222222222,\"#7201a8\"],[0.3333333333333333,\"#9c179e\"],[0.4444444444444444,\"#bd3786\"],[0.5555555555555556,\"#d8576b\"],[0.6666666666666666,\"#ed7953\"],[0.7777777777777778,\"#fb9f3a\"],[0.8888888888888888,\"#fdca26\"],[1.0,\"#f0f921\"]]}],\"surface\":[{\"type\":\"surface\",\"colorbar\":{\"outlinewidth\":0,\"ticks\":\"\"},\"colorscale\":[[0.0,\"#0d0887\"],[0.1111111111111111,\"#46039f\"],[0.2222222222222222,\"#7201a8\"],[0.3333333333333333,\"#9c179e\"],[0.4444444444444444,\"#bd3786\"],[0.5555555555555556,\"#d8576b\"],[0.6666666666666666,\"#ed7953\"],[0.7777777777777778,\"#fb9f3a\"],[0.8888888888888888,\"#fdca26\"],[1.0,\"#f0f921\"]]}],\"mesh3d\":[{\"type\":\"mesh3d\",\"colorbar\":{\"outlinewidth\":0,\"ticks\":\"\"}}],\"scatter\":[{\"fillpattern\":{\"fillmode\":\"overlay\",\"size\":10,\"solidity\":0.2},\"type\":\"scatter\"}],\"parcoords\":[{\"type\":\"parcoords\",\"line\":{\"colorbar\":{\"outlinewidth\":0,\"ticks\":\"\"}}}],\"scatterpolargl\":[{\"type\":\"scatterpolargl\",\"marker\":{\"colorbar\":{\"outlinewidth\":0,\"ticks\":\"\"}}}],\"bar\":[{\"error_x\":{\"color\":\"#2a3f5f\"},\"error_y\":{\"color\":\"#2a3f5f\"},\"marker\":{\"line\":{\"color\":\"#E5ECF6\",\"width\":0.5},\"pattern\":{\"fillmode\":\"overlay\",\"size\":10,\"solidity\":0.2}},\"type\":\"bar\"}],\"scattergeo\":[{\"type\":\"scattergeo\",\"marker\":{\"colorbar\":{\"outlinewidth\":0,\"ticks\":\"\"}}}],\"scatterpolar\":[{\"type\":\"scatterpolar\",\"marker\":{\"colorbar\":{\"outlinewidth\":0,\"ticks\":\"\"}}}],\"histogram\":[{\"marker\":{\"pattern\":{\"fillmode\":\"overlay\",\"size\":10,\"solidity\":0.2}},\"type\":\"histogram\"}],\"scattergl\":[{\"type\":\"scattergl\",\"marker\":{\"colorbar\":{\"outlinewidth\":0,\"ticks\":\"\"}}}],\"scatter3d\":[{\"type\":\"scatter3d\",\"line\":{\"colorbar\":{\"outlinewidth\":0,\"ticks\":\"\"}},\"marker\":{\"colorbar\":{\"outlinewidth\":0,\"ticks\":\"\"}}}],\"scattermapbox\":[{\"type\":\"scattermapbox\",\"marker\":{\"colorbar\":{\"outlinewidth\":0,\"ticks\":\"\"}}}],\"scatterternary\":[{\"type\":\"scatterternary\",\"marker\":{\"colorbar\":{\"outlinewidth\":0,\"ticks\":\"\"}}}],\"scattercarpet\":[{\"type\":\"scattercarpet\",\"marker\":{\"colorbar\":{\"outlinewidth\":0,\"ticks\":\"\"}}}],\"carpet\":[{\"aaxis\":{\"endlinecolor\":\"#2a3f5f\",\"gridcolor\":\"white\",\"linecolor\":\"white\",\"minorgridcolor\":\"white\",\"startlinecolor\":\"#2a3f5f\"},\"baxis\":{\"endlinecolor\":\"#2a3f5f\",\"gridcolor\":\"white\",\"linecolor\":\"white\",\"minorgridcolor\":\"white\",\"startlinecolor\":\"#2a3f5f\"},\"type\":\"carpet\"}],\"table\":[{\"cells\":{\"fill\":{\"color\":\"#EBF0F8\"},\"line\":{\"color\":\"white\"}},\"header\":{\"fill\":{\"color\":\"#C8D4E3\"},\"line\":{\"color\":\"white\"}},\"type\":\"table\"}],\"barpolar\":[{\"marker\":{\"line\":{\"color\":\"#E5ECF6\",\"width\":0.5},\"pattern\":{\"fillmode\":\"overlay\",\"size\":10,\"solidity\":0.2}},\"type\":\"barpolar\"}],\"pie\":[{\"automargin\":true,\"type\":\"pie\"}]},\"layout\":{\"autotypenumbers\":\"strict\",\"colorway\":[\"#636efa\",\"#EF553B\",\"#00cc96\",\"#ab63fa\",\"#FFA15A\",\"#19d3f3\",\"#FF6692\",\"#B6E880\",\"#FF97FF\",\"#FECB52\"],\"font\":{\"color\":\"#2a3f5f\"},\"hovermode\":\"closest\",\"hoverlabel\":{\"align\":\"left\"},\"paper_bgcolor\":\"white\",\"plot_bgcolor\":\"#E5ECF6\",\"polar\":{\"bgcolor\":\"#E5ECF6\",\"angularaxis\":{\"gridcolor\":\"white\",\"linecolor\":\"white\",\"ticks\":\"\"},\"radialaxis\":{\"gridcolor\":\"white\",\"linecolor\":\"white\",\"ticks\":\"\"}},\"ternary\":{\"bgcolor\":\"#E5ECF6\",\"aaxis\":{\"gridcolor\":\"white\",\"linecolor\":\"white\",\"ticks\":\"\"},\"baxis\":{\"gridcolor\":\"white\",\"linecolor\":\"white\",\"ticks\":\"\"},\"caxis\":{\"gridcolor\":\"white\",\"linecolor\":\"white\",\"ticks\":\"\"}},\"coloraxis\":{\"colorbar\":{\"outlinewidth\":0,\"ticks\":\"\"}},\"colorscale\":{\"sequential\":[[0.0,\"#0d0887\"],[0.1111111111111111,\"#46039f\"],[0.2222222222222222,\"#7201a8\"],[0.3333333333333333,\"#9c179e\"],[0.4444444444444444,\"#bd3786\"],[0.5555555555555556,\"#d8576b\"],[0.6666666666666666,\"#ed7953\"],[0.7777777777777778,\"#fb9f3a\"],[0.8888888888888888,\"#fdca26\"],[1.0,\"#f0f921\"]],\"sequentialminus\":[[0.0,\"#0d0887\"],[0.1111111111111111,\"#46039f\"],[0.2222222222222222,\"#7201a8\"],[0.3333333333333333,\"#9c179e\"],[0.4444444444444444,\"#bd3786\"],[0.5555555555555556,\"#d8576b\"],[0.6666666666666666,\"#ed7953\"],[0.7777777777777778,\"#fb9f3a\"],[0.8888888888888888,\"#fdca26\"],[1.0,\"#f0f921\"]],\"diverging\":[[0,\"#8e0152\"],[0.1,\"#c51b7d\"],[0.2,\"#de77ae\"],[0.3,\"#f1b6da\"],[0.4,\"#fde0ef\"],[0.5,\"#f7f7f7\"],[0.6,\"#e6f5d0\"],[0.7,\"#b8e186\"],[0.8,\"#7fbc41\"],[0.9,\"#4d9221\"],[1,\"#276419\"]]},\"xaxis\":{\"gridcolor\":\"white\",\"linecolor\":\"white\",\"ticks\":\"\",\"title\":{\"standoff\":15},\"zerolinecolor\":\"white\",\"automargin\":true,\"zerolinewidth\":2},\"yaxis\":{\"gridcolor\":\"white\",\"linecolor\":\"white\",\"ticks\":\"\",\"title\":{\"standoff\":15},\"zerolinecolor\":\"white\",\"automargin\":true,\"zerolinewidth\":2},\"scene\":{\"xaxis\":{\"backgroundcolor\":\"#E5ECF6\",\"gridcolor\":\"white\",\"linecolor\":\"white\",\"showbackground\":true,\"ticks\":\"\",\"zerolinecolor\":\"white\",\"gridwidth\":2},\"yaxis\":{\"backgroundcolor\":\"#E5ECF6\",\"gridcolor\":\"white\",\"linecolor\":\"white\",\"showbackground\":true,\"ticks\":\"\",\"zerolinecolor\":\"white\",\"gridwidth\":2},\"zaxis\":{\"backgroundcolor\":\"#E5ECF6\",\"gridcolor\":\"white\",\"linecolor\":\"white\",\"showbackground\":true,\"ticks\":\"\",\"zerolinecolor\":\"white\",\"gridwidth\":2}},\"shapedefaults\":{\"line\":{\"color\":\"#2a3f5f\"}},\"annotationdefaults\":{\"arrowcolor\":\"#2a3f5f\",\"arrowhead\":0,\"arrowwidth\":1},\"geo\":{\"bgcolor\":\"white\",\"landcolor\":\"#E5ECF6\",\"subunitcolor\":\"white\",\"showland\":true,\"showlakes\":true,\"lakecolor\":\"white\"},\"title\":{\"x\":0.05},\"mapbox\":{\"style\":\"light\"}}},\"title\":{\"text\":\"Vicuna-33B Cross Eval Results\"},\"xaxis\":{\"title\":{\"text\":\"Train Dataset\"}},\"yaxis\":{\"title\":{\"text\":\"Test Dataset\"}},\"width\":1000,\"height\":1000,\"annotations\":[{\"font\":{\"color\":\"white\"},\"showarrow\":false,\"text\":\"0.00\",\"x\":0,\"y\":1},{\"font\":{\"color\":\"white\"},\"showarrow\":false,\"text\":\"0.00\",\"x\":0,\"y\":2},{\"font\":{\"color\":\"white\"},\"showarrow\":false,\"text\":\"0.00\",\"x\":0,\"y\":3},{\"font\":{\"color\":\"white\"},\"showarrow\":false,\"text\":\"0.00\",\"x\":0,\"y\":4},{\"font\":{\"color\":\"white\"},\"showarrow\":false,\"text\":\"0.00\",\"x\":0,\"y\":5},{\"font\":{\"color\":\"white\"},\"showarrow\":false,\"text\":\"0.00\",\"x\":0,\"y\":6},{\"font\":{\"color\":\"white\"},\"showarrow\":false,\"text\":\"0.00\",\"x\":0,\"y\":7},{\"font\":{\"color\":\"white\"},\"showarrow\":false,\"text\":\"0.00\",\"x\":0,\"y\":8},{\"font\":{\"color\":\"white\"},\"showarrow\":false,\"text\":\"0.00\",\"x\":0,\"y\":9},{\"font\":{\"color\":\"white\"},\"showarrow\":false,\"text\":\"0.00\",\"x\":1,\"y\":0},{\"font\":{\"color\":\"white\"},\"showarrow\":false,\"text\":\"0.00\",\"x\":1,\"y\":2},{\"font\":{\"color\":\"white\"},\"showarrow\":false,\"text\":\"0.00\",\"x\":1,\"y\":3},{\"font\":{\"color\":\"white\"},\"showarrow\":false,\"text\":\"0.00\",\"x\":1,\"y\":4},{\"font\":{\"color\":\"white\"},\"showarrow\":false,\"text\":\"0.00\",\"x\":1,\"y\":5},{\"font\":{\"color\":\"white\"},\"showarrow\":false,\"text\":\"0.00\",\"x\":1,\"y\":6},{\"font\":{\"color\":\"white\"},\"showarrow\":false,\"text\":\"0.00\",\"x\":1,\"y\":7},{\"font\":{\"color\":\"white\"},\"showarrow\":false,\"text\":\"0.00\",\"x\":1,\"y\":8},{\"font\":{\"color\":\"white\"},\"showarrow\":false,\"text\":\"0.00\",\"x\":1,\"y\":9},{\"font\":{\"color\":\"white\"},\"showarrow\":false,\"text\":\"0.00\",\"x\":2,\"y\":0},{\"font\":{\"color\":\"white\"},\"showarrow\":false,\"text\":\"0.00\",\"x\":2,\"y\":1},{\"font\":{\"color\":\"white\"},\"showarrow\":false,\"text\":\"0.00\",\"x\":2,\"y\":3},{\"font\":{\"color\":\"white\"},\"showarrow\":false,\"text\":\"0.00\",\"x\":2,\"y\":4},{\"font\":{\"color\":\"white\"},\"showarrow\":false,\"text\":\"0.00\",\"x\":2,\"y\":5},{\"font\":{\"color\":\"white\"},\"showarrow\":false,\"text\":\"0.00\",\"x\":2,\"y\":6},{\"font\":{\"color\":\"white\"},\"showarrow\":false,\"text\":\"0.00\",\"x\":2,\"y\":7},{\"font\":{\"color\":\"white\"},\"showarrow\":false,\"text\":\"0.00\",\"x\":2,\"y\":8},{\"font\":{\"color\":\"white\"},\"showarrow\":false,\"text\":\"0.00\",\"x\":2,\"y\":9},{\"font\":{\"color\":\"white\"},\"showarrow\":false,\"text\":\"0.00\",\"x\":3,\"y\":0},{\"font\":{\"color\":\"white\"},\"showarrow\":false,\"text\":\"0.00\",\"x\":3,\"y\":1},{\"font\":{\"color\":\"white\"},\"showarrow\":false,\"text\":\"0.00\",\"x\":3,\"y\":2},{\"font\":{\"color\":\"white\"},\"showarrow\":false,\"text\":\"0.00\",\"x\":3,\"y\":4},{\"font\":{\"color\":\"white\"},\"showarrow\":false,\"text\":\"0.00\",\"x\":3,\"y\":5},{\"font\":{\"color\":\"white\"},\"showarrow\":false,\"text\":\"0.00\",\"x\":3,\"y\":6},{\"font\":{\"color\":\"white\"},\"showarrow\":false,\"text\":\"0.00\",\"x\":3,\"y\":7},{\"font\":{\"color\":\"white\"},\"showarrow\":false,\"text\":\"0.00\",\"x\":3,\"y\":8},{\"font\":{\"color\":\"white\"},\"showarrow\":false,\"text\":\"0.00\",\"x\":3,\"y\":9},{\"font\":{\"color\":\"white\"},\"showarrow\":false,\"text\":\"0.00\",\"x\":4,\"y\":0},{\"font\":{\"color\":\"white\"},\"showarrow\":false,\"text\":\"0.00\",\"x\":4,\"y\":1},{\"font\":{\"color\":\"white\"},\"showarrow\":false,\"text\":\"0.00\",\"x\":4,\"y\":2},{\"font\":{\"color\":\"white\"},\"showarrow\":false,\"text\":\"0.00\",\"x\":4,\"y\":3},{\"font\":{\"color\":\"white\"},\"showarrow\":false,\"text\":\"0.00\",\"x\":4,\"y\":5},{\"font\":{\"color\":\"white\"},\"showarrow\":false,\"text\":\"0.00\",\"x\":4,\"y\":6},{\"font\":{\"color\":\"white\"},\"showarrow\":false,\"text\":\"0.00\",\"x\":4,\"y\":7},{\"font\":{\"color\":\"white\"},\"showarrow\":false,\"text\":\"0.00\",\"x\":4,\"y\":8},{\"font\":{\"color\":\"white\"},\"showarrow\":false,\"text\":\"0.00\",\"x\":4,\"y\":9},{\"font\":{\"color\":\"white\"},\"showarrow\":false,\"text\":\"0.00\",\"x\":5,\"y\":0},{\"font\":{\"color\":\"white\"},\"showarrow\":false,\"text\":\"0.00\",\"x\":5,\"y\":1},{\"font\":{\"color\":\"white\"},\"showarrow\":false,\"text\":\"0.00\",\"x\":5,\"y\":2},{\"font\":{\"color\":\"white\"},\"showarrow\":false,\"text\":\"0.00\",\"x\":5,\"y\":3},{\"font\":{\"color\":\"white\"},\"showarrow\":false,\"text\":\"0.00\",\"x\":5,\"y\":4},{\"font\":{\"color\":\"white\"},\"showarrow\":false,\"text\":\"0.00\",\"x\":5,\"y\":6},{\"font\":{\"color\":\"white\"},\"showarrow\":false,\"text\":\"0.00\",\"x\":5,\"y\":7},{\"font\":{\"color\":\"white\"},\"showarrow\":false,\"text\":\"0.00\",\"x\":5,\"y\":8},{\"font\":{\"color\":\"white\"},\"showarrow\":false,\"text\":\"0.00\",\"x\":5,\"y\":9},{\"font\":{\"color\":\"white\"},\"showarrow\":false,\"text\":\"0.00\",\"x\":6,\"y\":0},{\"font\":{\"color\":\"white\"},\"showarrow\":false,\"text\":\"0.00\",\"x\":6,\"y\":1},{\"font\":{\"color\":\"white\"},\"showarrow\":false,\"text\":\"0.00\",\"x\":6,\"y\":2},{\"font\":{\"color\":\"white\"},\"showarrow\":false,\"text\":\"0.00\",\"x\":6,\"y\":3},{\"font\":{\"color\":\"white\"},\"showarrow\":false,\"text\":\"0.00\",\"x\":6,\"y\":4},{\"font\":{\"color\":\"white\"},\"showarrow\":false,\"text\":\"0.00\",\"x\":6,\"y\":5},{\"font\":{\"color\":\"white\"},\"showarrow\":false,\"text\":\"0.00\",\"x\":6,\"y\":7},{\"font\":{\"color\":\"white\"},\"showarrow\":false,\"text\":\"0.00\",\"x\":6,\"y\":8},{\"font\":{\"color\":\"white\"},\"showarrow\":false,\"text\":\"0.00\",\"x\":6,\"y\":9},{\"font\":{\"color\":\"white\"},\"showarrow\":false,\"text\":\"0.00\",\"x\":7,\"y\":0},{\"font\":{\"color\":\"white\"},\"showarrow\":false,\"text\":\"0.00\",\"x\":7,\"y\":1},{\"font\":{\"color\":\"white\"},\"showarrow\":false,\"text\":\"0.00\",\"x\":7,\"y\":2},{\"font\":{\"color\":\"white\"},\"showarrow\":false,\"text\":\"0.00\",\"x\":7,\"y\":3},{\"font\":{\"color\":\"white\"},\"showarrow\":false,\"text\":\"0.00\",\"x\":7,\"y\":4},{\"font\":{\"color\":\"white\"},\"showarrow\":false,\"text\":\"0.00\",\"x\":7,\"y\":5},{\"font\":{\"color\":\"white\"},\"showarrow\":false,\"text\":\"0.00\",\"x\":7,\"y\":6},{\"font\":{\"color\":\"white\"},\"showarrow\":false,\"text\":\"0.00\",\"x\":7,\"y\":8},{\"font\":{\"color\":\"white\"},\"showarrow\":false,\"text\":\"0.00\",\"x\":7,\"y\":9},{\"font\":{\"color\":\"white\"},\"showarrow\":false,\"text\":\"0.00\",\"x\":8,\"y\":0},{\"font\":{\"color\":\"white\"},\"showarrow\":false,\"text\":\"0.00\",\"x\":8,\"y\":1},{\"font\":{\"color\":\"white\"},\"showarrow\":false,\"text\":\"0.00\",\"x\":8,\"y\":2},{\"font\":{\"color\":\"white\"},\"showarrow\":false,\"text\":\"0.00\",\"x\":8,\"y\":3},{\"font\":{\"color\":\"white\"},\"showarrow\":false,\"text\":\"0.00\",\"x\":8,\"y\":4},{\"font\":{\"color\":\"white\"},\"showarrow\":false,\"text\":\"0.00\",\"x\":8,\"y\":5},{\"font\":{\"color\":\"white\"},\"showarrow\":false,\"text\":\"0.00\",\"x\":8,\"y\":6},{\"font\":{\"color\":\"white\"},\"showarrow\":false,\"text\":\"0.00\",\"x\":8,\"y\":7},{\"font\":{\"color\":\"white\"},\"showarrow\":false,\"text\":\"0.00\",\"x\":8,\"y\":9},{\"font\":{\"color\":\"white\"},\"showarrow\":false,\"text\":\"0.00\",\"x\":9,\"y\":0},{\"font\":{\"color\":\"white\"},\"showarrow\":false,\"text\":\"0.00\",\"x\":9,\"y\":1},{\"font\":{\"color\":\"white\"},\"showarrow\":false,\"text\":\"0.00\",\"x\":9,\"y\":2},{\"font\":{\"color\":\"white\"},\"showarrow\":false,\"text\":\"0.00\",\"x\":9,\"y\":3},{\"font\":{\"color\":\"white\"},\"showarrow\":false,\"text\":\"0.00\",\"x\":9,\"y\":4},{\"font\":{\"color\":\"white\"},\"showarrow\":false,\"text\":\"0.00\",\"x\":9,\"y\":5},{\"font\":{\"color\":\"white\"},\"showarrow\":false,\"text\":\"0.00\",\"x\":9,\"y\":6},{\"font\":{\"color\":\"white\"},\"showarrow\":false,\"text\":\"0.00\",\"x\":9,\"y\":7},{\"font\":{\"color\":\"white\"},\"showarrow\":false,\"text\":\"0.00\",\"x\":9,\"y\":8}]},                        {\"responsive\": true}                    ).then(function(){\n",
       "                            \n",
       "var gd = document.getElementById('7dff924a-d7e4-4ec9-a4d8-377a1e16d95d');\n",
       "var x = new MutationObserver(function (mutations, observer) {{\n",
       "        var display = window.getComputedStyle(gd).display;\n",
       "        if (!display || display === 'none') {{\n",
       "            console.log([gd, 'removed!']);\n",
       "            Plotly.purge(gd);\n",
       "            observer.disconnect();\n",
       "        }}\n",
       "}});\n",
       "\n",
       "// Listen for the removal of the full notebook cells\n",
       "var notebookContainer = gd.closest('#notebook-container');\n",
       "if (notebookContainer) {{\n",
       "    x.observe(notebookContainer, {childList: true});\n",
       "}}\n",
       "\n",
       "// Listen for the clearing of the current output cell\n",
       "var outputEl = gd.closest('.output');\n",
       "if (outputEl) {{\n",
       "    x.observe(outputEl, {childList: true});\n",
       "}}\n",
       "\n",
       "                        })                };                });            </script>        </div>"
      ]
     },
     "metadata": {},
     "output_type": "display_data"
    }
   ],
   "source": [
    "# Generalization: Get Cross Eval Results\n",
    "u_metric = 'u_score_ours_mean_soft'\n",
    "c_metric = 'rougel'\n",
    "c_th = 0.3\n",
    "\n",
    "fig_index = [(name, type) for type in dst_types for name in dst_names]\n",
    "fig_axis = list(map(lambda idx: f\"{dst_names_alias[idx[0]]}-{idx[1]}\", fig_index))\n",
    "for model_name in model_names:\n",
    "    cross_eval_matrix = torch.zeros(len(dst_types) * len(dst_names), len(dst_types) * len(dst_names))\n",
    "    fig = go.Figure()\n",
    "    annotations = []\n",
    "    for i, (train_dst_name, train_dst_type) in enumerate(fig_index):\n",
    "        for j, (test_dst_name, test_dst_type) in enumerate(fig_index):\n",
    "            result_path = get_eval_cross_result_path(model_name, train_dst_name, train_dst_type, test_dst_name, test_dst_type)\n",
    "            if os.path.exists(f\"{result_path}/dataset_info.json\"):\n",
    "                cross_eval_result = Dataset.load_from_disk(result_path)\n",
    "                cross_eval_matrix[j][i] = get_auroc(cross_eval_result, u_metric, c_metric, c_th) * 100\n",
    "                if i == j:\n",
    "                    annotations.append(dict(\n",
    "                        x=i,\n",
    "                        y=j,\n",
    "                        text=f\"{cross_eval_matrix[j][i].item():.2f}\",\n",
    "                        showarrow=False,\n",
    "                        font=dict(\n",
    "                            color='white'\n",
    "                        )\n",
    "                    ))\n",
    "        center_auroc = cross_eval_matrix[i][i].item()\n",
    "        for j, (test_dst_name, test_dst_type) in enumerate(fig_index):\n",
    "            cross_eval_matrix[j][i] -= center_auroc\n",
    "            if i != j:\n",
    "                annotations.append(dict(\n",
    "                    x=i,\n",
    "                    y=j,\n",
    "                    text=f\"{cross_eval_matrix[j][i].item():.2f}\",\n",
    "                    showarrow=False,\n",
    "                    font=dict(\n",
    "                        color='white'\n",
    "                    )\n",
    "                ))\n",
    "    fig.add_trace(go.Heatmap(z=cross_eval_matrix, x=fig_axis, y=fig_axis, colorscale='Inferno'))\n",
    "    fig.update_layout(\n",
    "        title_text=f\"{model_names_alias[model_name]} Cross Eval Results\",\n",
    "        xaxis_title=\"Train Dataset\",\n",
    "        yaxis_title=\"Test Dataset\",\n",
    "        width=1000,\n",
    "        height=1000,\n",
    "        annotations=annotations\n",
    "    )\n",
    "    fig.show()"
   ]
  },
  {
   "cell_type": "code",
   "execution_count": null,
   "id": "95fd8d7aba27e1c5",
   "metadata": {
    "collapsed": false
   },
   "outputs": [],
   "source": [
    "# Efficiency: Get Efficiency Results"
   ]
  },
  {
   "cell_type": "code",
   "execution_count": null,
   "id": "a04b5388f4cdde32",
   "metadata": {
    "collapsed": false
   },
   "outputs": [],
   "source": [
    "# Ablation Study: Get Ablation Results"
   ]
  },
  {
   "cell_type": "code",
   "execution_count": 0,
   "id": "e83f82d29861e8a8",
   "metadata": {
    "collapsed": false
   },
   "outputs": [],
   "source": [
    "# Sensitivity Analysis : Get Sensitivity Results"
   ]
  },
  {
   "cell_type": "code",
   "execution_count": null,
   "id": "c4db69225b79de49",
   "metadata": {
    "collapsed": false
   },
   "outputs": [],
   "source": [
    "# Case Study: show token level u_score\n",
    "example = test_dst.filter(lambda x: x['rougel'] < 0.1)[1]\n",
    "example = test_dst[2]\n",
    "print(f\"gt:{example['gt']}\")\n",
    "print(f\"options:{example['options']}\")\n",
    "\n",
    "str_tokens = model.to_str_tokens(f\":{example['washed_answer']}\", prepend_bos=False)[1:]\n",
    "fig = make_subplots(rows=2, cols=1, subplot_titles=(\"Token Level\", \"Sentence Level\"), row_heights=[0.5, 0.5])\n",
    "\n",
    "fig.add_trace(go.Scatter(x=list(range(len(str_tokens))), y=example['u_score_pe_all'], mode='lines+markers'), row=1, col=1)\n",
    "fig.update_xaxes(title_text='Token', tickvals=list(range(len(str_tokens))), ticktext=str_tokens, row=1, col=1)\n",
    "\n",
    "sentence_u_score_pe_all = []\n",
    "indices = [0] + [i for i, x in enumerate(str_tokens) if x == '.'] + [-1]\n",
    "spans = [(indices[i], indices[i + 1]) for i in range(len(indices) - 1)]\n",
    "print(len(indices))\n",
    "for span in spans:\n",
    "    sentence_score = sum(example['u_score_pe_all'][span[0]:span[1]]) / (span[1] - span[0])\n",
    "    sentence_u_score_pe_all.extend([sentence_score] * (span[1] - span[0]))\n",
    "sentence_u_score_pe_all.append(sentence_u_score_pe_all[-1])\n",
    "# print(str_tokens)\n",
    "for i, sentence in enumerate(example['washed_answer'].split(\".\")):\n",
    "    print(i + 1, sentence.replace(\"\\n\", ' ').strip())\n",
    "# print(len(example['u_score_pe_all']))\n",
    "# print(sentence_u_score_pe_all)\n",
    "# print(len(sentence_u_score_pe_all))\n",
    "\n",
    "fig.add_trace(go.Scatter(x=list(range(len(str_tokens))), y=sentence_u_score_pe_all, mode='lines+markers'), row=2, col=1)\n",
    "fig.update_xaxes(title_text='Sentence', tickvals=list(range(len(str_tokens))), ticktext=str_tokens, row=2, col=1)\n",
    "\n",
    "fig.update_layout(height=1000, width=2500, margin=dict(l=0, r=0, b=50, t=50), title_text=example['washed_answer'])\n",
    "fig.show()"
   ]
  }
 ],
 "metadata": {
  "kernelspec": {
   "display_name": "Python 3 (ipykernel)",
   "language": "python",
   "name": "python3"
  },
  "language_info": {
   "codemirror_mode": {
    "name": "ipython",
    "version": 3
   },
   "file_extension": ".py",
   "mimetype": "text/x-python",
   "name": "python",
   "nbconvert_exporter": "python",
   "pygments_lexer": "ipython3",
   "version": "3.9.18"
  }
 },
 "nbformat": 4,
 "nbformat_minor": 5
}
