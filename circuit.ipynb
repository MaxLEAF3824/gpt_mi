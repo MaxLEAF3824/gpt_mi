{
 "cells": [
  {
   "cell_type": "code",
   "execution_count": 1,
   "metadata": {
    "ExecuteTime": {
     "end_time": "2024-02-26T07:17:10.406232Z",
     "start_time": "2024-02-26T07:17:00.060983Z"
    }
   },
   "outputs": [],
   "source": [
    "import transformer_lens\n",
    "import transformer_lens.utils as utils\n",
    "from transformer_lens.hook_points import (\n",
    "    HookPoint,\n",
    ")  # Hooking utilities\n",
    "from transformer_lens import HookedTransformer, FactoredMatrix\n",
    "import torch\n",
    "import torch.nn as nn\n",
    "import einops\n",
    "from fancy_einsum import einsum\n",
    "import tqdm.auto as tqdm\n",
    "import plotly.express as px\n",
    "import torch\n",
    "import torch.nn as nn\n",
    "import torch.nn.functional as F\n",
    "from jaxtyping import Float\n",
    "from functools import partial\n",
    "from transformers import AutoModelForCausalLM, AutoTokenizer\n",
    "from datasets import load_dataset\n",
    "from typing import List, Tuple\n",
    "import os\n",
    "import socket\n",
    "import gpustat"
   ]
  },
  {
   "cell_type": "code",
   "execution_count": 1,
   "metadata": {
    "ExecuteTime": {
     "end_time": "2024-02-26T07:01:55.919385Z",
     "start_time": "2024-02-26T07:01:54.963939Z"
    }
   },
   "outputs": [
    {
     "name": "stdout",
     "output_type": "stream",
     "text": [
      "SH-IDC1-10-140-1-42       Mon Feb 26 15:01:55 2024  525.60.13\n",
      "[0] NVIDIA A100-SXM4-80GB | 59°C,  99 % | 74975 / 81920 MB | limo(74972M)\n",
      "[1] NVIDIA A100-SXM4-80GB | 44°C,  75 % | 19717 / 81920 MB | limo(19714M)\n",
      "[2] NVIDIA A100-SXM4-80GB | 51°C,  99 % | 74975 / 81920 MB | limo(74972M)\n",
      "[3] NVIDIA A100-SXM4-80GB | 57°C,  42 % | 35831 / 81920 MB | limo(35828M)\n",
      "[4] NVIDIA A100-SXM4-80GB | 39°C,   0 % |     0 / 81920 MB |\n",
      "[5] NVIDIA A100-SXM4-80GB | 42°C,  44 % | 37987 / 81920 MB | limo(37984M)\n",
      "[6] NVIDIA A100-SXM4-80GB | 42°C,  48 % | 38085 / 81920 MB | limo(38082M)\n",
      "[7] NVIDIA A100-SXM4-80GB | 50°C,  42 % | 35995 / 81920 MB | limo(35992M)\n",
      "print gpustat successfully\n"
     ]
    }
   ],
   "source": [
    "print(f\"当前主机名是:{socket.gethostname()}\")\n",
    "gpustat.print_gpustat()\n",
    "import "
   ]
  }
 ],
 "metadata": {
  "kernelspec": {
   "display_name": "Python 3 (ipykernel)",
   "language": "python",
   "name": "python3"
  },
  "language_info": {
   "codemirror_mode": {
    "name": "ipython",
    "version": 3
   },
   "file_extension": ".py",
   "mimetype": "text/x-python",
   "name": "python",
   "nbconvert_exporter": "python",
   "pygments_lexer": "ipython3",
   "version": "3.9.18"
  }
 },
 "nbformat": 4,
 "nbformat_minor": 4
}
